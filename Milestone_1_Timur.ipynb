{
 "cells": [
  {
   "cell_type": "markdown",
   "metadata": {
    "deletable": true,
    "editable": true
   },
   "source": [
    "# Final Project - Predicting Movie Genres!\n",
    "\n",
    "![Movie genre header](genre_header.jpg)\n",
    "\n",
    "Welcome to the final project of CS109b. \n",
    "\n",
    "The overall theme of the final project is movie data with a focus on movie genre prediction, because it is an area where we all are more or less application domain experts. First, you will explore your data and the challenges of the problem by exploratory data analysis. Use visualizations to find features that correlate with movie genres. These can be extracted from the movie posters, or meta data, or other data you gather, for example plot summaries or even movie transcripts. You will then compare traditional statistical or machine learning methods like generalized additive models, random forest, Bayesian prediction methods, boosting, and SVM, to deep learning models for movie genre prediction. \n",
    "\n",
    "For this project you will work in teams of 3-4 people and there are weekly milestones to guide you along the way. Even though the milestones are graded, they are mainly in place to make sure you stay in contact with your TF and make progress with the project. Throughout the project you also have room for creativity and to pursue your own ideas. While you need to hand in the milestones at the appropriate due date, there is nothing preventing you from working on a later milestone ahead of time. We suggest that you read through the whole project and all milestones in the beginning to be able to plan ahead. The project is pretty open ended, so you can be creative and let your data science knowledge shine! \n",
    "\n",
    "For each milestone you will submit a notebook, in raw (`.ipynb`) and PDF formats, containing the deliverables of that week and the extra work you did so far. The notebooks need to contain your code, comments, explanations, thoughts, and visualizations. The final deliverables are a two-minute screencast, a report in paper style for a general data science audience, and all your data and code that you developed throughout the project. \n",
    "\n",
    "Below is a description of the data and the milestones with their due dates. All work is due by 11:59PM on the due date unless otherwise specified. We expect you to have the mandatory parts finished by the milestone due dates, and there will be no extensions. However, we strongly encourage you to plan ahead. For example, you need to think about the classification task early on to plan how you want to assemble your training data, and it is beneficial to start the deep learning work as early as possible. There is nothing hindering you to already train a model in the EDA phase to get a better feel for what challenges might lay ahead with the data. You should also see the milestone requirements as a basis for your own creativity, and we expect that most of you will go beyond the mandatory deliverables. For example, if you have a great idea about an interesting question that has to do with movie genre, but cannot be answered with the data from TMDb or IMDb, feel free to gather more data from somewhere else. \n",
    "\n",
    "We provide a data interface in Python, because it is convenient for IMDb, and we will use Python for the deep learning part. Specifically we will use Keras, a deep learning library that provides a high level interface to Google's Tensorflow framework for deep learning. However, if you feel that you prefer to do some of the work, e.g., visualizations or data cleanup, in R then feel free to use it. You can also use Spark to preprocess your data, especially if you collect large amounts of it from other sources. \n",
    "\n",
    "*Important:* Your grade for a milestone will depend on the required deliverables you submit at the due date for that milestone. But every milestone, especially the final project submission, can contain additional cool work you did that goes beyond the deliverables spelled out below. \n"
   ]
  },
  {
   "cell_type": "markdown",
   "metadata": {
    "collapsed": true,
    "deletable": true,
    "editable": true
   },
   "source": [
    "### Logistics \n",
    "\n",
    "Please adhere to the following guidelines for all submissions:\n",
    "- one submission per team\n",
    "- notebooks should be submitted as PDF and as raw (`.ipynb`) version\n",
    "- all notebooks should be executed so they contain relevant visualizations, and other results\n",
    "- try to make it as easy as possible for the TFs to get all relevant information about your work\n",
    "- do not submit big data sets, please provide a readme file with a link instead\n",
    "- the final report should also be submitted as pdf"
   ]
  },
  {
   "cell_type": "markdown",
   "metadata": {
    "deletable": true,
    "editable": true
   },
   "source": [
    "### Movie Data:\n",
    "\n",
    "The project is based on two different sources of movie data: [IMDb](http://www.imdb.com/) and [TMDb](https://www.themoviedb.org/). TMDb is great, because it provides the movie posters in addition to the metadata. This is crucial for the deep learning part, in which you will try to predict movie genres from posters. IMDb has more metadata available and will supplement the TMDb data you have. \n",
    "\n",
    "TMDb provides an easy to use [API](https://www.themoviedb.org/documentation/api) that allows you to download the data selectively. IMDb does not provide an API, but there is a Python interface available to access the metadata. We will use [IMDbPY](http://imdbpy.sourceforge.net/), which is already installed on the AMI and virtual box images for your convenience.\n",
    "\n",
    "*Important*: Please remember to limit your data rate when obtaining the data. Play nicely and do not just spam servers as fast as you can. This will prevent your IP from getting banned. The easiest way to do is is to use the [sleep](http://stackoverflow.com/questions/510348/how-can-i-make-a-time-delay-in-python) function in Python.\n"
   ]
  },
  {
   "cell_type": "markdown",
   "metadata": {
    "deletable": true,
    "editable": true
   },
   "source": [
    "### Milestone 1: Getting to know your data, due Wednesday, April 5, 2017\n",
    "\n",
    "In the beginning you should get acquainted with the data sources and do some EDA. Sign up for the TMDb [API](https://www.themoviedb.org/documentation/api), and try to download the poster of your favorite movie from within your notebook. Compare the genre entries of IMDb and TMDb for this movie and see if they are the same. Think about and write down some questions that you would like to answer in the following weeks. Keep the storytelling aspect of your final report in mind and do some pen and paper sketches about the visualizations you would like to produce. Include photographs of those sketches in your notebook. \n",
    "\n",
    "Most of the time a data scientist spends on a project is spend on cleaning the data. We are lucky that the data we have is already pretty clean. The Python interface to the IMDb ftp files does a lot of the additional work of cleaning as well. However, you will notice that the genre list for each movie from both databases can have different lengths. This needs to be changed in order to train a model to predict the movie genre. It is up to you to think about possible ways to address this problem and to implement one of them. There is no absolute right answer here. It depends on your interests and which questions you have in mind for the project. \n",
    "\n",
    "Optionally, you could also scrape additional data sources, such as Wikipedia, to obtain plot summaries. That data may give you additional useful features for genera classification. \n",
    "\n",
    "To guide your decision process, provide at least one visualization of how often genres are mentioned together in pairs. Your visualization should clearly show if a horror romance is more likely to occur in the data than a drama romance.\n",
    "\n",
    "The notebook to submit for this milestone needs to at least include:\n",
    "\n",
    "- API code to access the genre and movie poster path of your favorite movie\n",
    "- Genre for this movie listed by TMDb and IMDb\n",
    "- A list of the 10 most popular movies of 2016 from TMDb and their genre obtained via the API\n",
    "- Comments on what challenges you see for predicting movie genre based on the data you have, and how to address them \n",
    "- Code to generate the movie genre pairs and a suitable visualization of the result\n",
    "- Additional visualization sketches and EDA with a focus on movie genres\n",
    "- A list of questions you could answer with this and related data. Get creative here!\n",
    "\n",
    "The EDA questions do not necessarily have to tie into the modeling part later on. Think freely about things that might be interesting, like which actors are very specific to a genre? Are action movies more prone to producing sequels than romances? However, as you keep the focus on movie genres, think also about correlations you might discover that can help building features from the metadata for prediction. Is the length of a movie title correlated with genre?\n"
   ]
  },
  {
   "cell_type": "code",
   "execution_count": 4,
   "metadata": {
    "collapsed": false
   },
   "outputs": [],
   "source": [
    "from IPython.display import Image\n",
    "from IPython.core.display import HTML \n",
    "import tmdbsimple as tmdb\n",
    "from imdb import IMDb"
   ]
  },
  {
   "cell_type": "code",
   "execution_count": 25,
   "metadata": {
    "collapsed": false
   },
   "outputs": [
    {
     "name": "stdout",
     "output_type": "stream",
     "text": [
      "\n"
     ]
    }
   ],
   "source": [
    "tmdb.API_KEY = 'a995a7fe53e021d77d82b99428850ff1'"
   ]
  },
  {
   "cell_type": "code",
   "execution_count": 26,
   "metadata": {
    "collapsed": false
   },
   "outputs": [],
   "source": [
    "conf = tmdb.Configuration()\n",
    "c_info = conf.info()"
   ]
  },
  {
   "cell_type": "markdown",
   "metadata": {},
   "source": [
    "Complete list of the poster sizes from TMDB"
   ]
  },
  {
   "cell_type": "code",
   "execution_count": 27,
   "metadata": {
    "collapsed": false
   },
   "outputs": [
    {
     "data": {
      "text/plain": [
       "[u'w92', u'w154', u'w185', u'w342', u'w500', u'w780', u'original']"
      ]
     },
     "execution_count": 27,
     "metadata": {},
     "output_type": "execute_result"
    }
   ],
   "source": [
    "img_conf = c_info['images']\n",
    "img_conf['poster_sizes']"
   ]
  },
  {
   "cell_type": "markdown",
   "metadata": {},
   "source": [
    "Complete list of the genres from TMDB"
   ]
  },
  {
   "cell_type": "code",
   "execution_count": 28,
   "metadata": {
    "collapsed": false
   },
   "outputs": [
    {
     "data": {
      "text/plain": [
       "[u'Action',\n",
       " u'Adventure',\n",
       " u'Animation',\n",
       " u'Comedy',\n",
       " u'Crime',\n",
       " u'Documentary',\n",
       " u'Drama',\n",
       " u'Family',\n",
       " u'Fantasy',\n",
       " u'History',\n",
       " u'Horror',\n",
       " u'Music',\n",
       " u'Mystery',\n",
       " u'Romance',\n",
       " u'Science Fiction',\n",
       " u'TV Movie',\n",
       " u'Thriller',\n",
       " u'War',\n",
       " u'Western']"
      ]
     },
     "execution_count": 28,
     "metadata": {},
     "output_type": "execute_result"
    }
   ],
   "source": [
    "genres = tmdb.Genres().list()\n",
    "tmdb_genres = [g['name'] for g in genres['genres'] ]\n",
    "tmdb_genres"
   ]
  },
  {
   "cell_type": "markdown",
   "metadata": {},
   "source": [
    "Complete list of the genres from IMDB (copied from the site)"
   ]
  },
  {
   "cell_type": "code",
   "execution_count": 29,
   "metadata": {
    "collapsed": false
   },
   "outputs": [
    {
     "data": {
      "text/plain": [
       "['Action',\n",
       " 'Adventure',\n",
       " 'Animation',\n",
       " 'Biography',\n",
       " 'Comedy',\n",
       " 'Crime',\n",
       " 'Documentary',\n",
       " 'Drama',\n",
       " 'Family',\n",
       " 'Fantasy',\n",
       " 'Game',\n",
       " 'Show',\n",
       " 'History',\n",
       " 'Horror',\n",
       " 'Music',\n",
       " 'Musical',\n",
       " 'Mystery',\n",
       " 'News',\n",
       " 'Reality-TV',\n",
       " 'Romance',\n",
       " 'Sci-Fi',\n",
       " 'Sitcom',\n",
       " 'Sport',\n",
       " 'Talk-Show',\n",
       " 'Thriller',\n",
       " 'War',\n",
       " 'Western']"
      ]
     },
     "execution_count": 29,
     "metadata": {},
     "output_type": "execute_result"
    }
   ],
   "source": [
    "imdb_genres = ['Action','Adventure','Animation','Biography','Comedy','Crime','Documentary','Drama','Family','Fantasy','Game','Show','History','Horror','Music','Musical','Mystery','News','Reality-TV','Romance','Sci-Fi','Sitcom','Sport','Talk-Show','Thriller','War','Western']\n",
    "imdb_genres"
   ]
  },
  {
   "cell_type": "code",
   "execution_count": 30,
   "metadata": {
    "collapsed": false
   },
   "outputs": [
    {
     "name": "stdout",
     "output_type": "stream",
     "text": [
      "(u'Ghost in the Shell', 315837, u'2017-03-29', 26.89069)\n",
      "(u'Ghost in the Shell', 9323, u'1995-11-18', 6.321133)\n",
      "(u'Ghost in the Shell 2.0', 14092, u'2008-07-12', 2.533509)\n",
      "(u'Ghost in the Shell 2: Innocence', 12140, u'2004-03-06', 2.448352)\n",
      "(u'Ghost in the Shell: The New Movie', 334376, u'2015-06-20', 2.363331)\n",
      "(u'Ghost in the Shell Arise - Border 5: Pyrophoric Cult', 381519, u'2015-08-26', 1.799039)\n",
      "(u'Ghost in the Shell: Stand Alone Complex - The Laughing Man', 18839, u'2005-01-01', 1.502803)\n",
      "(u'Ghost in the Shell: Stand Alone Complex - Solid State Society', 18874, u'2007-02-23', 1.999548)\n",
      "(u'Ghost In The Shell: The Movie Virtual Reality Diver', 384217, u'2016-02-02', 1.20422)\n",
      "(u'Ghost in the Shell Arise - Border 4: Ghost Stands Alone', 279254, u'2014-09-06', 1.753889)\n",
      "(u'Ghost in the Shell Arise - Border 1: Ghost Pain', 196750, u'2013-06-22', 1.448153)\n",
      "(u'Pandora in the Crimson Shell: Ghost Urn', 377885, u'2015-12-05', 1.047304)\n",
      "(u'Ghost in the Shell Arise - Border 2: Ghost Whispers', 212168, u'2013-11-29', 1.468239)\n",
      "(u'Ghost in the Shell Arise - Border 3: Ghost Tears', 240341, u'2014-06-28', 1.488237)\n",
      "(u'Ghost in the Shell: Stand Alone Complex - Individual Eleven', 111224, u'2006-01-27', 1.379045)\n",
      "(u'K\\xf4kaku kid\\xf4tai Stand Alone Complex - Solid State Society 3D', 446699, u'2011-03-26', 1.001594)\n"
     ]
    }
   ],
   "source": [
    "search = tmdb.Search()\n",
    "response = search.movie(query=\"ghost in the shell\")\n",
    "for s in search.results:\n",
    "    print(s['title'], s['id'], s['release_date'], s['popularity'])                        "
   ]
  },
  {
   "cell_type": "code",
   "execution_count": 31,
   "metadata": {
    "collapsed": false
   },
   "outputs": [
    {
     "data": {
      "text/plain": [
       "u'Ghost in the Shell'"
      ]
     },
     "execution_count": 31,
     "metadata": {},
     "output_type": "execute_result"
    }
   ],
   "source": [
    "tmdb_movie_id = 315837\n",
    "tmdb_movie = tmdb.Movies(tmdb_movie_id)\n",
    "info = tmdb_movie.info()\n",
    "info['title']"
   ]
  },
  {
   "cell_type": "markdown",
   "metadata": {},
   "source": [
    "The movie genres from TMDB"
   ]
  },
  {
   "cell_type": "code",
   "execution_count": 32,
   "metadata": {
    "collapsed": false
   },
   "outputs": [
    {
     "name": "stdout",
     "output_type": "stream",
     "text": [
      "Action\n",
      "Drama\n",
      "Science Fiction\n"
     ]
    }
   ],
   "source": [
    "for tmdb_genre in info['genres']:\n",
    "    print tmdb_genre['name']"
   ]
  },
  {
   "cell_type": "markdown",
   "metadata": {},
   "source": [
    "The movie poster image from TMDB"
   ]
  },
  {
   "cell_type": "code",
   "execution_count": 33,
   "metadata": {
    "collapsed": false
   },
   "outputs": [
    {
     "data": {
      "text/html": [
       "<img src=\"http://image.tmdb.org/t/p/w154/myRzRzCxdfUWjkJWgpHHZ1oGkJd.jpg\"/>"
      ],
      "text/plain": [
       "<IPython.core.display.Image object>"
      ]
     },
     "execution_count": 33,
     "metadata": {},
     "output_type": "execute_result"
    }
   ],
   "source": [
    "Image(url= img_conf['base_url'] + img_conf['poster_sizes'][1] + tmdb_movie.poster_path)"
   ]
  },
  {
   "cell_type": "code",
   "execution_count": 34,
   "metadata": {
    "collapsed": false
   },
   "outputs": [],
   "source": [
    "imdb_service = IMDb()\n",
    "imdb_movie_id = info['imdb_id'][2:]\n",
    "imdb_movie = imdb_service.get_movie(imdb_movie_id)"
   ]
  },
  {
   "cell_type": "markdown",
   "metadata": {},
   "source": [
    "The movie genres from IMDB"
   ]
  },
  {
   "cell_type": "code",
   "execution_count": 35,
   "metadata": {
    "collapsed": false
   },
   "outputs": [
    {
     "name": "stdout",
     "output_type": "stream",
     "text": [
      "Action\n",
      "Crime\n",
      "Drama\n",
      "Mystery\n",
      "Sci-Fi\n",
      "Thriller\n"
     ]
    }
   ],
   "source": [
    "for imdb_genres in imdb_movie.data['genres']:\n",
    "    print imdb_genres"
   ]
  },
  {
   "cell_type": "markdown",
   "metadata": {},
   "source": [
    "IMDB has a comprehensive list of genres, we use IMDB as the main source"
   ]
  },
  {
   "cell_type": "code",
   "execution_count": 42,
   "metadata": {
    "collapsed": false
   },
   "outputs": [],
   "source": [
    "def imdbGenres(imdb_movie):\n",
    "    return imdb_movie.data['genres']\n",
    "\n",
    "def tmdbGenres(tmdb_movie):\n",
    "    tmdb_movie_genres = [g['name'] for g in tmdb_movie['genres']]\n",
    "    tmdb_movie_genres = [g.replace('Science Fiction', 'Sci-Fi') for g in tmdb_movie_genres]\n",
    "    return tmdb_movie_genres\n",
    "\n",
    "def combinedGenres(imdb_movie, tmdb_movie):\n",
    "    return list(set(imdbGenres(imdb_movie)) | set(tmdbGenres(tmdb_movie)))"
   ]
  },
  {
   "cell_type": "code",
   "execution_count": 43,
   "metadata": {
    "collapsed": false
   },
   "outputs": [],
   "source": [
    "discover = tmdb.Discover()\n",
    "disc_result_2016 = discover.movie(query = 'primary_release_year=2016&sort_by=popularity.desc')"
   ]
  },
  {
   "cell_type": "markdown",
   "metadata": {},
   "source": [
    "A list of the 10 most popular movies of 2016 from TMDb.\n",
    "\n",
    "We can see differences in IMDB and TMDB genres. If we look at \"Beauty and the Beast\" we would probably agree more with TMDb genres (Fantasy, Music and Romance) than IMDB (Sci-Fi (?), Crime (?))."
   ]
  },
  {
   "cell_type": "code",
   "execution_count": 47,
   "metadata": {
    "collapsed": false
   },
   "outputs": [
    {
     "name": "stdout",
     "output_type": "stream",
     "text": [
      "321612 Beauty and the Beast\n",
      "combined:  [u'Mystery', u'Drama', u'Music', u'Sci-Fi', u'Fantasy', u'Action', u'Romance', u'Thriller', u'Crime']\n",
      "imdb:  [u'Action', u'Crime', u'Drama', u'Mystery', u'Sci-Fi', u'Thriller']\n",
      "tmdb:  [u'Fantasy', u'Music', u'Romance']\n",
      "--------------\n",
      "263115 Logan\n",
      "combined:  [u'Mystery', u'Drama', u'Sci-Fi', u'Action', u'Thriller', u'Crime']\n",
      "imdb:  [u'Action', u'Crime', u'Drama', u'Mystery', u'Sci-Fi', u'Thriller']\n",
      "tmdb:  [u'Action', u'Drama', u'Sci-Fi']\n",
      "--------------\n",
      "335797 Sing\n",
      "combined:  [u'Mystery', u'Sci-Fi', u'Family', u'Crime', u'Drama', u'Animation', u'Music', u'Action', u'Comedy', u'Thriller']\n",
      "imdb:  [u'Action', u'Crime', u'Drama', u'Mystery', u'Sci-Fi', u'Thriller']\n",
      "tmdb:  [u'Animation', u'Comedy', u'Drama', u'Family', u'Music']\n",
      "--------------\n",
      "293167 Kong: Skull Island\n",
      "combined:  [u'Mystery', u'Drama', u'Sci-Fi', u'Fantasy', u'Action', u'Adventure', u'Thriller', u'Crime']\n",
      "imdb:  [u'Action', u'Crime', u'Drama', u'Mystery', u'Sci-Fi', u'Thriller']\n",
      "tmdb:  [u'Sci-Fi', u'Action', u'Adventure', u'Fantasy']\n",
      "--------------\n",
      "135397 Jurassic World\n",
      "combined:  [u'Mystery', u'Drama', u'Sci-Fi', u'Action', u'Adventure', u'Thriller', u'Crime']\n",
      "imdb:  [u'Action', u'Crime', u'Drama', u'Mystery', u'Sci-Fi', u'Thriller']\n",
      "tmdb:  [u'Action', u'Adventure', u'Sci-Fi', u'Thriller']\n",
      "--------------\n",
      "259316 Fantastic Beasts and Where to Find Them\n",
      "combined:  [u'Mystery', u'Drama', u'Sci-Fi', u'Fantasy', u'Action', u'Adventure', u'Thriller', u'Crime']\n",
      "imdb:  [u'Action', u'Crime', u'Drama', u'Mystery', u'Sci-Fi', u'Thriller']\n",
      "tmdb:  [u'Adventure', u'Action', u'Fantasy']\n",
      "--------------\n",
      "127380 Finding Dory\n",
      "combined:  [u'Mystery', u'Drama', u'Animation', u'Sci-Fi', u'Family', u'Action', u'Adventure', u'Comedy', u'Thriller', u'Crime']\n",
      "imdb:  [u'Action', u'Crime', u'Drama', u'Mystery', u'Sci-Fi', u'Thriller']\n",
      "tmdb:  [u'Adventure', u'Animation', u'Comedy', u'Family']\n",
      "--------------\n",
      "157336 Interstellar\n",
      "combined:  [u'Mystery', u'Drama', u'Sci-Fi', u'Action', u'Adventure', u'Thriller', u'Crime']\n",
      "imdb:  [u'Action', u'Crime', u'Drama', u'Mystery', u'Sci-Fi', u'Thriller']\n",
      "tmdb:  [u'Adventure', u'Drama', u'Sci-Fi']\n",
      "--------------\n",
      "395992 Life\n",
      "combined:  [u'Mystery', u'Drama', u'Sci-Fi', u'Action', u'Horror', u'Thriller', u'Crime']\n",
      "imdb:  [u'Action', u'Crime', u'Drama', u'Mystery', u'Sci-Fi', u'Thriller']\n",
      "tmdb:  [u'Horror', u'Sci-Fi', u'Thriller']\n",
      "--------------\n",
      "76341 Mad Max: Fury Road\n",
      "combined:  [u'Mystery', u'Drama', u'Sci-Fi', u'Action', u'Adventure', u'Thriller', u'Crime']\n",
      "imdb:  [u'Action', u'Crime', u'Drama', u'Mystery', u'Sci-Fi', u'Thriller']\n",
      "tmdb:  [u'Action', u'Adventure', u'Sci-Fi', u'Thriller']\n",
      "--------------\n"
     ]
    }
   ],
   "source": [
    "top_movies_2016 = disc_result_2016['results']\n",
    "for top_movie in top_movies_2016[:10]:\n",
    "    tmdb_movie = tmdb.Movies(top_movie['id']).info()\n",
    "    imdb_movie = imdb_service.get_movie(info['imdb_id'][2:])\n",
    "    print top_movie['id'], top_movie['title']\n",
    "    print 'combined: ', combinedGenres(imdb_movie, tmdb_movie)\n",
    "    print 'imdb: ', imdbGenres(imdb_movie)\n",
    "    print 'tmdb: ', tmdbGenres(tmdb_movie)\n",
    "    print '--------------'"
   ]
  },
  {
   "cell_type": "markdown",
   "metadata": {},
   "source": [
    "#### Comments on what challenges you see for predicting movie genre based on the data you have, and how to address them\n",
    "\n",
    "One problem that we see with predicting movie genres is that in most cases there are multiple different genres attached to each movie.\n",
    "\n",
    "1) One way to solve this is we can consider one genre at any given moment. For example, we can try to predict for all the movies  in the dataset whether they belong to Action genre (yes or no, 1 or 0). We can apply a Logistic regression (for example) and evaluate the accuracy.\n",
    "\n",
    "2) Another possible approach is to consider all possible genre combinations that we see in the dataset. For example, Action + Fantasy + Adventure. We can treat each unique combination as an indidual separate class. One possible problem with this approach is that we could have a lot of unique genre combinations. A variation of this approach could be considering only pairs or tuples of three of genres."
   ]
  },
  {
   "cell_type": "markdown",
   "metadata": {
    "deletable": true,
    "editable": true
   },
   "source": [
    "### Milestone 2: Assembling training data, due Wednesday, April 12, 2017\n",
    "\n",
    "We are aware that you have little time this week, due to the midterm. So this milestone a bit easier to achieve than the others. The goal for this week is to prepare the data for the modeling phase of the project. You should end up with a typical data setup of training data X and data labels Y.\n",
    "\n",
    "The exact form of X and Y depends on the ideas you had previously. In general though Y should involve the genre of a movie, and X the features you want to include to predict the genre. Remember from the lecture that more features does not necessarily equal better prediction performance. Use your application knowledge and the insight you gathered from your genre pair analysis and additional EDA to design Y. Do you want to include all genres? Are there genres that you assume to be easier to separate than others? Are there genres that could be grouped together? There is no one right answer here. We are looking for your insight, so be sure to describe your decision process in your notebook. \n",
    "\n",
    "In preparation for the deep learning part we strongly encourage you to have two sets of training data X, one with the metadata and one with the movie posters. Make sure to have a common key, like the movie ID, to be able to link the two sets together. Also be mindful of the data rate when you obtain the posters. Time your requests and choose which poster resolution you need. In most cases w500 should be sufficient, and probably a lower resolution will be fine.\n",
    "\n",
    "The notebook to submit this week should at least include:\n",
    "\n",
    "- Discussion about the imbalanced nature of the data and how you want to address it\n",
    "- Description of your data\n",
    "- What does your choice of Y look like?\n",
    "- Which features do you choose for X and why? \n",
    "- How do you sample your data, how many samples, and why?\n",
    "\n",
    "*Important*: You do not need to upload the data itself to Canvas."
   ]
  },
  {
   "cell_type": "markdown",
   "metadata": {
    "deletable": true,
    "editable": true
   },
   "source": [
    "### Milestone 3: Traditional statistical and machine learning methods, due Wednesday, April 19, 2017\n",
    "\n",
    "Think about how you would address the genre prediction problem with traditional statistical or machine learning methods. This includes everything you learned about modeling in this course before the deep learning part. Implement your ideas and compare different classifiers. Report your results and discuss what challenges you faced and how you overcame them. What works and what does not? If there are parts that do not work as expected, make sure to discuss briefly what you think is the cause and how you would address this if you would have more time and resources. \n",
    "\n",
    "You do not necessarily need to use the movie posters for this step, but even without a background in computer vision, there are very simple features you can extract from the posters to help guide a traditional machine learning model. Think about the PCA lecture for example, or how to use clustering to extract color information. In addition to considering the movie posters it would be worthwhile to have a look at the metadata that IMDb provides. \n",
    "\n",
    "You could use Spark and the [ML library](https://spark.apache.org/docs/latest/ml-features.html#word2vec) to build your model features from the data. This may be especially beneficial if you use additional data, e.g., in text form.\n",
    "\n",
    "You also need to think about how you are going to evaluate your classifier. Which metrics or scores will you report to show how good the performance is?\n",
    "\n",
    "The notebook to submit this week should at least include:\n",
    "\n",
    "- Detailed description and implementation of two different models\n",
    "- Description of your performance metrics\n",
    "- Careful performance evaluations for both models\n",
    "- Visualizations of the metrics for performance evaluation\n",
    "- Discussion of the differences between the models, their strengths, weaknesses, etc. \n",
    "- Discussion of the performances you achieved, and how you might be able to improve them in the future\n",
    "\n",
    "#### Preliminary Peer Assessment\n",
    "\n",
    "It is important to provide positive feedback to people who truly worked hard for the good of the team and to also make suggestions to those you perceived not to be working as effectively on team tasks. We ask you to provide an honest assessment of the contributions of the members of your team, including yourself. The feedback you provide should reflect your judgment of each team member’s:\n",
    "\n",
    "- Preparation – were they prepared during team meetings?\n",
    "- Contribution – did they contribute productively to the team discussion and work?\n",
    "- Respect for others’ ideas – did they encourage others to contribute their ideas?\n",
    "- Flexibility – were they flexible when disagreements occurred?\n",
    "\n",
    "Your teammate’s assessment of your contributions and the accuracy of your self-assessment will be considered as part of your overall project score.\n",
    "\n",
    "Preliminary Peer Assessment: [https://goo.gl/forms/WOYC7pwRCSU0yV3l1](https://goo.gl/forms/WOYC7pwRCSU0yV3l1)"
   ]
  },
  {
   "cell_type": "markdown",
   "metadata": {
    "deletable": true,
    "editable": true
   },
   "source": [
    "### Milestone 4: Deep learning, due Wednesday, April 26, 2017\n",
    "\n",
    "For this milestone you will (finally) use deep learning to predict movie genres. You will train one small network from scratch on the posters only, and compare this one to a pre-trained network that you finetune. [Here](https://keras.io/getting-started/faq/#how-can-i-use-pre-trained-models-in-keras) is a description of how to use pretrained models in Keras.\n",
    "\n",
    "You can try different architectures, initializations, parameter settings, optimization methods, etc. Be adventurous and explore deep learning! It can be fun to combine the features learned by the deep learning model with a SVM, or incorporate meta data into your deep learning model. \n",
    "\n",
    "**Note:** Be mindful of the longer training times for deep models. Not only for training time, but also for the parameter tuning efforts. You need time to develop a feel for the different parameters and which settings work, which normalization you want to use, which model architecture you choose, etc. \n",
    "\n",
    "It is great that we have GPU's via AWS to speed up the actual computation time, but you need to be mindful of your AWS credits. The GPU instances are not cheap and can accumulate costs rather quickly. Think about your model first and do some quick dry runs with a larger learning rate or large batch size on your local machine. \n",
    "\n",
    "The notebook to submit this week should at least include:\n",
    "\n",
    "- Complete description of the deep network you trained from scratch, including parameter settings, performance, features learned, etc. \n",
    "- Complete description of the pre-trained network that you fine tuned, including parameter settings, performance, features learned, etc. \n",
    "- Discussion of the results, how much improvement you gained with fine tuning, etc. \n",
    "- Discussion of at least one additional exploratory idea you pursued"
   ]
  },
  {
   "cell_type": "markdown",
   "metadata": {
    "deletable": true,
    "editable": true
   },
   "source": [
    "### Milestone 5: Final submission, report and screencast, due Wednesday, May 3, 2017\n",
    "\n",
    "The grand finale! Gather all your experiences, ideas, results, and discussions into one coherent final report that tells a compelling story and produce a 2 minute screencast that summarizes it. \n",
    "\n",
    "Your report needs to be max. 6 pages long (no more!) and include text and visualizations. Your audience are data scientists who did not spend any time pondering movie genre classification problems. Those data scientists do have the same background as you (e.g., you do not need to explain what PCA means) but they are not familiar with your data and the specific problems and questions you faced. Make sure to use good storytelling principles to write your reports. \n",
    "\n",
    "The screencast is for the same audience and needs to be max. 2 minutes long (no longer!). Do not just scroll through your notebook while talking--that is boring and confusing. You can extract visualizations from your notebook or produce new visuals and slides for a narrated presentation. Please use a good microphone and test the sound quality. Do not underestimate the time it takes to do a good job on your screencast. Start early, write a script, and collect additional materials that you might want to show. \n",
    "\n",
    "[Upload](https://support.google.com/youtube/answer/57407?co=GENIE.Platform%3DDesktop&hl=en) your screenscast to YouTube.\n",
    "\n",
    "What to submit this week:\n",
    "\n",
    "- Up to date versions of all your notebooks\n",
    "- README to go with the notebooks that explains how much the notebooks changed since the milestone submissions. This is to guide your TF to find the relevant updates\n",
    "- The 6 page final report as a PDF\n",
    "- The link to your 2 minute screencast on YouTube\n",
    "- A link to a .zip file with all your cleaned data\n",
    "\n",
    "#### Final Peer Assessment\n",
    "\n",
    "It is important to provide positive feedback to people who truly worked hard for the good of the team and to also make suggestions to those you perceived not to be working as effectively on team tasks. We ask you to provide an honest assessment of the contributions of the members of your team, including yourself. The feedback you provide should reflect your judgment of each team member’s:\n",
    "\n",
    "- Preparation – were they prepared during team meetings?\n",
    "- Contribution – did they contribute productively to the team discussion and work?\n",
    "- Respect for others’ ideas – did they encourage others to contribute their ideas?\n",
    "- Flexibility – were they flexible when disagreements occurred?\n",
    "\n",
    "Your teammate’s assessment of your contributions and the accuracy of your self-assessment will be considered as part of your overall project score.\n",
    "\n",
    "Final Peer Assessment: [https://goo.gl/forms/YYFqGbDEfFWeNaSC2](https://goo.gl/forms/YYFqGbDEfFWeNaSC2)"
   ]
  },
  {
   "cell_type": "code",
   "execution_count": null,
   "metadata": {
    "collapsed": true,
    "deletable": true,
    "editable": true
   },
   "outputs": [],
   "source": []
  }
 ],
 "metadata": {
  "anaconda-cloud": {},
  "kernelspec": {
   "display_name": "Python 2",
   "language": "python",
   "name": "python2"
  },
  "language_info": {
   "codemirror_mode": {
    "name": "ipython",
    "version": 2
   },
   "file_extension": ".py",
   "mimetype": "text/x-python",
   "name": "python",
   "nbconvert_exporter": "python",
   "pygments_lexer": "ipython2",
   "version": "2.7.12"
  }
 },
 "nbformat": 4,
 "nbformat_minor": 0
}
