{
 "cells": [
  {
   "cell_type": "markdown",
   "metadata": {},
   "source": [
    "### Milestone 3: Traditional statistical and machine learning methods, due Wednesday, April 19, 2017\n",
    "\n",
    "Think about how you would address the genre prediction problem with traditional statistical or machine learning methods. This includes everything you learned about modeling in this course before the deep learning part. Implement your ideas and compare different classifiers. Report your results and discuss what challenges you faced and how you overcame them. What works and what does not? If there are parts that do not work as expected, make sure to discuss briefly what you think is the cause and how you would address this if you would have more time and resources. \n",
    "\n",
    "You do not necessarily need to use the movie posters for this step, but even without a background in computer vision, there are very simple features you can extract from the posters to help guide a traditional machine learning model. Think about the PCA lecture for example, or how to use clustering to extract color information. In addition to considering the movie posters it would be worthwhile to have a look at the metadata that IMDb provides. \n",
    "\n",
    "You could use Spark and the [ML library](https://spark.apache.org/docs/latest/ml-features.html#word2vec) to build your model features from the data. This may be especially beneficial if you use additional data, e.g., in text form.\n",
    "\n",
    "You also need to think about how you are going to evaluate your classifier. Which metrics or scores will you report to show how good the performance is?\n",
    "\n",
    "The notebook to submit this week should at least include:\n",
    "\n",
    "- Detailed description and implementation of two different models\n",
    "- Description of your performance metrics\n",
    "- Careful performance evaluations for both models\n",
    "- Visualizations of the metrics for performance evaluation\n",
    "- Discussion of the differences between the models, their strengths, weaknesses, etc. \n",
    "- Discussion of the performances you achieved, and how you might be able to improve them in the future\n",
    "\n",
    "#### Preliminary Peer Assessment\n",
    "\n",
    "It is important to provide positive feedback to people who truly worked hard for the good of the team and to also make suggestions to those you perceived not to be working as effectively on team tasks. We ask you to provide an honest assessment of the contributions of the members of your team, including yourself. The feedback you provide should reflect your judgment of each team member’s:\n",
    "\n",
    "- Preparation – were they prepared during team meetings?\n",
    "- Contribution – did they contribute productively to the team discussion and work?\n",
    "- Respect for others’ ideas – did they encourage others to contribute their ideas?\n",
    "- Flexibility – were they flexible when disagreements occurred?\n",
    "\n",
    "Your teammate’s assessment of your contributions and the accuracy of your self-assessment will be considered as part of your overall project score.\n",
    "\n",
    "Preliminary Peer Assessment: [https://goo.gl/forms/WOYC7pwRCSU0yV3l1](https://goo.gl/forms/WOYC7pwRCSU0yV3l1)"
   ]
  },
  {
   "cell_type": "markdown",
   "metadata": {},
   "source": [
    "### Description of your performance metrics"
   ]
  },
  {
   "cell_type": "markdown",
   "metadata": {},
   "source": [
    "First we can look at the proportion of the correctly classified cases. We'll use one-vs-all and then take the mean of the scores."
   ]
  },
  {
   "cell_type": "code",
   "execution_count": 3,
   "metadata": {
    "collapsed": false
   },
   "outputs": [
    {
     "name": "stdout",
     "output_type": "stream",
     "text": [
      "load: 0.6 secs\n",
      "DummyClassifier(constant=None, random_state=None, strategy='most_frequent')\n",
      "train: 0.975, test: 0.982 (genre_TV Movie)\n",
      "train: 0.966, test: 0.964 (genre_Mystery)\n",
      "train: 0.960, test: 0.960 (genre_Fantasy)\n",
      "train: 0.939, test: 0.936 (genre_Family)\n",
      "train: 0.911, test: 0.916 (genre_Horror)\n",
      "train: 0.935, test: 0.933 (genre_Crime)\n",
      "train: 0.945, test: 0.939 (genre_Adventure)\n",
      "train: 0.923, test: 0.927 (genre_Music)\n",
      "train: 0.975, test: 0.967 (genre_History)\n",
      "train: 0.904, test: 0.921 (genre_Thriller)\n",
      "train: 0.894, test: 0.891 (genre_Romance)\n",
      "train: 0.958, test: 0.962 (genre_Science Fiction)\n",
      "train: 0.635, test: 0.639 (genre_Drama)\n",
      "train: 0.975, test: 0.980 (genre_Western)\n",
      "train: 0.967, test: 0.968 (genre_Foreign)\n",
      "train: 0.755, test: 0.747 (genre_Comedy)\n",
      "train: 0.890, test: 0.906 (genre_Action)\n",
      "train: 0.936, test: 0.928 (genre_Animation)\n",
      "train: 0.861, test: 0.854 (genre_Documentary)\n",
      "train: 0.978, test: 0.978 (genre_War)\n",
      "train: 0.914, test: 0.915\n"
     ]
    }
   ],
   "source": [
    "import cPickle\n",
    "import time\n",
    "from collections import defaultdict\n",
    "\n",
    "import numpy as np\n",
    "from sklearn.dummy import DummyClassifier\n",
    "from sklearn.model_selection import train_test_split\n",
    "from sklearn.svm import SVC\n",
    "\n",
    "\n",
    "def load_movie_df():\n",
    "    start = time.time()\n",
    "    with open(r\"../data/tmdb_df_5k.pickle\", \"rb\") as input_file:\n",
    "        movie_df = cPickle.load(input_file)\n",
    "    elapsed = time.time() - start\n",
    "    print \"load: %.1f secs\" % elapsed\n",
    "    return movie_df\n",
    "\n",
    "\n",
    "def get_reduced_movie_df(movie_df):\n",
    "    movie_attribute_name_list = [\n",
    "        'popularity',\n",
    "        'genres',\n",
    "    ]\n",
    "    return movie_df[movie_attribute_name_list]\n",
    "\n",
    "\n",
    "def prepare_genre_columns(movie_df):\n",
    "    num_movies = len(movie_df)\n",
    "    genre_df_dict = defaultdict(lambda: np.zeros((num_movies,), dtype=np.uint8))\n",
    "\n",
    "    for i, genre_list in enumerate(movie_df['genres']):\n",
    "        for genre in genre_list:\n",
    "            genre_name = genre['name']\n",
    "            genre_df_dict['genre_' + genre_name][i] = 1\n",
    "\n",
    "    new_movie_df = movie_df.drop(\"genres\", axis=1)\n",
    "\n",
    "    for key, column in genre_df_dict.iteritems():\n",
    "        new_movie_df[key] = column\n",
    "\n",
    "    return new_movie_df\n",
    "\n",
    "\n",
    "def prepare_movie_df(movie_df):\n",
    "    reduced_movie_df = get_reduced_movie_df(movie_df)\n",
    "    reduced_movie_df = prepare_genre_columns(reduced_movie_df)\n",
    "    return reduced_movie_df\n",
    "\n",
    "\n",
    "def run_model_one_y(genre, X_train, X_test, y_train, y_test, classifier):\n",
    "    classifier.fit(X_train, y_train)\n",
    "\n",
    "    train_score = classifier.score(X_train, y_train)\n",
    "    test_score = classifier.score(X_test, y_test)\n",
    "\n",
    "    print \"train: %.3f, test: %.3f (%s)\" % (train_score, test_score, genre)\n",
    "\n",
    "    return train_score, test_score\n",
    "\n",
    "\n",
    "def run_model(train_df, test_df, classifier):\n",
    "    X_columns = [column for column in train_df.columns if not column.startswith('genre_')]\n",
    "    y_columns = [column for column in train_df.columns if column.startswith('genre_')]\n",
    "\n",
    "    X_train = train_df[X_columns]\n",
    "    X_test = test_df[X_columns]\n",
    "\n",
    "    train_score_list = []\n",
    "    test_score_list = []\n",
    "\n",
    "    print classifier\n",
    "\n",
    "    for y_column in y_columns:\n",
    "        y_train = train_df[y_column]\n",
    "        y_test = test_df[y_column]\n",
    "\n",
    "        train_score, test_score = run_model_one_y(y_column, X_train, X_test, y_train, y_test, classifier)\n",
    "        train_score_list.append(train_score)\n",
    "        test_score_list.append(test_score)\n",
    "\n",
    "    print \"train: %.3f, test: %.3f\" % (np.mean(train_score_list), np.mean(test_score_list))\n",
    "\n",
    "    \n",
    "movie_df = load_movie_df()\n",
    "\n",
    "reduced_movie_df = prepare_movie_df(movie_df)\n",
    "train_df, test_df = train_test_split(reduced_movie_df, random_state=109)\n",
    "\n",
    "run_model(train_df, test_df, classifier=DummyClassifier(strategy=\"most_frequent\"))"
   ]
  },
  {
   "cell_type": "markdown",
   "metadata": {},
   "source": [
    "As we can see we have 91.5% mean accuracy (over all genres) using a dummy classifier that choose the most frequent label.\n",
    "So overall accuracy is not a good performance measure because of the unbalanced data."
   ]
  },
  {
   "cell_type": "code",
   "execution_count": null,
   "metadata": {
    "collapsed": true
   },
   "outputs": [],
   "source": [
    ""
   ]
  }
 ],
 "metadata": {
  "anaconda-cloud": {},
  "kernelspec": {
   "display_name": "Python 2",
   "language": "python",
   "name": "python2"
  },
  "language_info": {
   "codemirror_mode": {
    "name": "ipython",
    "version": 2.0
   },
   "file_extension": ".py",
   "mimetype": "text/x-python",
   "name": "python",
   "nbconvert_exporter": "python",
   "pygments_lexer": "ipython2",
   "version": "2.7.12"
  }
 },
 "nbformat": 4,
 "nbformat_minor": 0
}