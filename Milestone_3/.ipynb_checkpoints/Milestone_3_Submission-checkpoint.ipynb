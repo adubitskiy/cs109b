{
 "cells": [
  {
   "cell_type": "markdown",
   "metadata": {},
   "source": [
    "### Milestone 3: Traditional statistical and machine learning methods, due Wednesday, April 19, 2017\n",
    "\n",
    "Think about how you would address the genre prediction problem with traditional statistical or machine learning methods. This includes everything you learned about modeling in this course before the deep learning part. Implement your ideas and compare different classifiers. Report your results and discuss what challenges you faced and how you overcame them. What works and what does not? If there are parts that do not work as expected, make sure to discuss briefly what you think is the cause and how you would address this if you would have more time and resources. \n",
    "\n",
    "You do not necessarily need to use the movie posters for this step, but even without a background in computer vision, there are very simple features you can extract from the posters to help guide a traditional machine learning model. Think about the PCA lecture for example, or how to use clustering to extract color information. In addition to considering the movie posters it would be worthwhile to have a look at the metadata that IMDb provides. \n",
    "\n",
    "You could use Spark and the [ML library](https://spark.apache.org/docs/latest/ml-features.html#word2vec) to build your model features from the data. This may be especially beneficial if you use additional data, e.g., in text form.\n",
    "\n",
    "You also need to think about how you are going to evaluate your classifier. Which metrics or scores will you report to show how good the performance is?\n",
    "\n",
    "The notebook to submit this week should at least include:\n",
    "\n",
    "- Detailed description and implementation of two different models\n",
    "- Description of your performance metrics\n",
    "- Careful performance evaluations for both models\n",
    "- Visualizations of the metrics for performance evaluation\n",
    "- Discussion of the differences between the models, their strengths, weaknesses, etc. \n",
    "- Discussion of the performances you achieved, and how you might be able to improve them in the future\n",
    "\n",
    "#### Preliminary Peer Assessment\n",
    "\n",
    "It is important to provide positive feedback to people who truly worked hard for the good of the team and to also make suggestions to those you perceived not to be working as effectively on team tasks. We ask you to provide an honest assessment of the contributions of the members of your team, including yourself. The feedback you provide should reflect your judgment of each team member’s:\n",
    "\n",
    "- Preparation – were they prepared during team meetings?\n",
    "- Contribution – did they contribute productively to the team discussion and work?\n",
    "- Respect for others’ ideas – did they encourage others to contribute their ideas?\n",
    "- Flexibility – were they flexible when disagreements occurred?\n",
    "\n",
    "Your teammate’s assessment of your contributions and the accuracy of your self-assessment will be considered as part of your overall project score.\n",
    "\n",
    "Preliminary Peer Assessment: [https://goo.gl/forms/WOYC7pwRCSU0yV3l1](https://goo.gl/forms/WOYC7pwRCSU0yV3l1)"
   ]
  },
  {
   "cell_type": "markdown",
   "metadata": {},
   "source": [
    "## Below is code to implement our models. After its implementation, we describe the purpose and functionalities of the 2 models chosen applied to 2 datasets for now.\n",
    "\n",
    "We implemented both a SGD and Random forest once on a dataset consisting of a traditional feature set holding predictors such as crew, director, actors, etc. We also implemented the same models after creating a vectorization of each movies overview description using most frequent words for classification. Below is the code to create and tune all 4 models."
   ]
  },
  {
   "cell_type": "code",
   "execution_count": 1,
   "metadata": {
    "collapsed": true
   },
   "outputs": [],
   "source": [
    "import cPickle\n",
    "import numpy as np\n",
    "import pandas as pd\n",
    "from nltk.corpus import stopwords\n",
    "from sklearn.ensemble import RandomForestClassifier\n",
    "from sklearn.feature_extraction.text import TfidfVectorizer\n",
    "from sklearn.feature_extraction.text import CountVectorizer\n",
    "from sklearn.linear_model import SGDClassifier\n",
    "from sklearn.metrics import make_scorer, hamming_loss, classification_report\n",
    "from sklearn.model_selection import train_test_split, GridSearchCV\n",
    "from sklearn.multiclass import OneVsRestClassifier\n",
    "from sklearn.preprocessing import MultiLabelBinarizer\n",
    "import matplotlib.pyplot as plt\n",
    "import re\n",
    "from scipy import sparse"
   ]
  },
  {
   "cell_type": "code",
   "execution_count": 2,
   "metadata": {
    "collapsed": true
   },
   "outputs": [],
   "source": [
    "def load_part(file_name):\n",
    "    with open(file_name, 'rb') as handle:\n",
    "        return cPickle.load(handle)"
   ]
  },
  {
   "cell_type": "code",
   "execution_count": 3,
   "metadata": {
    "collapsed": true
   },
   "outputs": [],
   "source": [
    "def cutoff_labels(labels, cutoff):\n",
    "    mlb = MultiLabelBinarizer()\n",
    "    label_df = pd.DataFrame(mlb.fit_transform(labels))\n",
    "    label_df.columns = mlb.classes_\n",
    "    label_number_df = pd.DataFrame({'cnt': label_df.sum(axis=0)})\n",
    "    major_genres = set(label_number_df[label_number_df['cnt'] > cutoff].index)\n",
    "    return major_genres\n",
    "\n",
    "\n",
    "def get_major_genres(plot_dict):\n",
    "    labels = np.array([d['genres'] for d in plot_dict.values() if 'genres' in d and 'plot' in d])\n",
    "    # only leave genres mentioned in 2000 movies or more\n",
    "    major_genres = cutoff_labels(labels, 2000)\n",
    "    return major_genres"
   ]
  },
  {
   "cell_type": "code",
   "execution_count": 4,
   "metadata": {
    "collapsed": true
   },
   "outputs": [],
   "source": [
    "root_folder = '..'"
   ]
  },
  {
   "cell_type": "code",
   "execution_count": 5,
   "metadata": {
    "collapsed": false
   },
   "outputs": [
    {
     "name": "stdout",
     "output_type": "stream",
     "text": [
      "7669\n"
     ]
    }
   ],
   "source": [
    "# load TMDB movies dataset\n",
    "tmdb_movies = load_part(root_folder + '/data/tmdb_info.pickle')\n",
    "\n",
    "plot_dict = load_part(root_folder + '/data/plot.pickle')\n",
    "\n",
    "cast_dict = load_part(root_folder + '/data/cast10K.pickle')\n",
    "\n",
    "major_genres = get_major_genres(plot_dict)\n",
    "\n",
    "sample_tmdb_ids = np.array([tmdb_id for tmdb_id, d in cast_dict.items() if\n",
    "                            'genres' in d and 'genres' in plot_dict[tmdb_id] and tmdb_id in plot_dict and 'plot' in\n",
    "                            plot_dict[tmdb_id]])\n",
    "print len(sample_tmdb_ids)"
   ]
  },
  {
   "cell_type": "code",
   "execution_count": 6,
   "metadata": {
    "collapsed": false
   },
   "outputs": [],
   "source": [
    "def prepare_text_data(tmdb_dict, plot_dict, major_genres, sample_tmdb_ids):\n",
    "    # add 'overview' from TMDB to 'plot' from IMDB (it is a list)\n",
    "    for tmdb_id, imdb_movie in plot_dict.iteritems():\n",
    "        if ('plot' in imdb_movie and tmdb_id in tmdb_dict and 'overview' in tmdb_dict[tmdb_id].__dict__ and\n",
    "                    tmdb_dict[tmdb_id].__dict__['overview'] is not None):\n",
    "            imdb_movie['plot'].append(tmdb_dict[tmdb_id].__dict__['overview'])\n",
    "\n",
    "    labels = np.array(\n",
    "        [major_genres.intersection(plot_dict[tmdb_id]['genres']) for tmdb_id in sample_tmdb_ids if\n",
    "         'genres' in plot_dict[tmdb_id] and 'plot' in plot_dict[tmdb_id]])\n",
    "    print len(labels)\n",
    "\n",
    "    # create the labels vector with only major genres\n",
    "    mlb = MultiLabelBinarizer()\n",
    "    y = mlb.fit_transform(labels)\n",
    "    # the plot consists of a few parts, join them together\n",
    "    features = np.array([''.join(plot_dict[tmdb_id]['plot']) for tmdb_id in sample_tmdb_ids if\n",
    "                         'genres' in plot_dict[tmdb_id] and 'plot' in plot_dict[tmdb_id]])\n",
    "\n",
    "    vectorizer = TfidfVectorizer(\n",
    "        stop_words=stopwords.words(\"english\"),\n",
    "        token_pattern='[a-zA-Z]+[0-9]*',\n",
    "        max_df=0.9,\n",
    "        min_df=0.0001,\n",
    "        dtype=np.float32,\n",
    "    )\n",
    "    return features, y, mlb.classes_, vectorizer\n"
   ]
  },
  {
   "cell_type": "code",
   "execution_count": 7,
   "metadata": {
    "collapsed": false
   },
   "outputs": [],
   "source": [
    "def prepare_cast_data(tmdb_dict, cast_dict, major_genres, sample_tmdb_ids):\n",
    "    columns = [\n",
    "        'director',\n",
    "        'cast',\n",
    "        'casting director',\n",
    "        'miscellaneous crew',\n",
    "        'original music',\n",
    "        'producer',\n",
    "        'cinematographer',\n",
    "        'costume designer',\n",
    "        'art direction']\n",
    "\n",
    "    labels = np.array(\n",
    "        [major_genres.intersection(cast_dict[tmdb_id]['genres']) for tmdb_id in sample_tmdb_ids if\n",
    "         'genres' in cast_dict[tmdb_id]])\n",
    "    # create the labels vector with only major genres\n",
    "    mlb = MultiLabelBinarizer()\n",
    "    y = mlb.fit_transform(labels)\n",
    "\n",
    "    # combine all names separated by '|'\n",
    "    features = []\n",
    "    for tmdb_id in sample_tmdb_ids:\n",
    "        imdb_movie = cast_dict[tmdb_id]\n",
    "        if 'genres' not in imdb_movie:\n",
    "            continue\n",
    "        l = []\n",
    "        for c in columns:\n",
    "            if (c in imdb_movie):\n",
    "                l = l + [c['name'].encode('utf-8') for c in imdb_movie[c]]\n",
    "        # add crew and cast from TMDB\n",
    "        if (tmdb_id in tmdb_dict):\n",
    "            tmdb_movie = tmdb_dict[tmdb_id].__dict__\n",
    "            if ('crew' in tmdb_movie):\n",
    "                l = l + [c['name'].encode('utf-8') for c in tmdb_movie['crew']]\n",
    "            if ('cast' in tmdb_movie):\n",
    "                l = l + [c['name'].encode('utf-8') for c in tmdb_movie['cast']]\n",
    "        # remove duplicates before joiniing\n",
    "        features.append('|'.join(set(l)))\n",
    "\n",
    "    vectorizer = CountVectorizer(\n",
    "        max_df=0.99,\n",
    "        min_df=0.0002,\n",
    "        stop_words=stopwords.words(\"english\"),\n",
    "        tokenizer=lambda x: x.split('|'),\n",
    "        dtype=np.float32)\n",
    "\n",
    "    return features, y, mlb.classes_, vectorizer\n"
   ]
  },
  {
   "cell_type": "code",
   "execution_count": 8,
   "metadata": {
    "collapsed": false
   },
   "outputs": [
    {
     "name": "stdout",
     "output_type": "stream",
     "text": [
      "(7669L,)\n",
      "(7669L, 15L)\n",
      "15\n",
      "7669\n",
      "(7669L,)\n",
      "(7669L, 15L)\n",
      "15\n"
     ]
    }
   ],
   "source": [
    "# get labels / features from the cast / crew data\n",
    "cast_features, cast_y, cast_mlb_classes, cast_vectorizer = prepare_cast_data(tmdb_movies, cast_dict, major_genres,\n",
    "                                                                             sample_tmdb_ids)\n",
    "\n",
    "print np.shape(cast_features)\n",
    "print np.shape(cast_y)\n",
    "print len(cast_mlb_classes)\n",
    "\n",
    "mlb_classes = cast_mlb_classes\n",
    "\n",
    "# get labels / features from the text data\n",
    "text_features, text_y, text_mlb_classes, text_vectorizer = prepare_text_data(tmdb_movies, plot_dict, major_genres,\n",
    "                                                                             sample_tmdb_ids)\n",
    "\n",
    "print np.shape(text_features)\n",
    "print np.shape(text_y)\n",
    "print len(text_mlb_classes)"
   ]
  },
  {
   "cell_type": "code",
   "execution_count": 9,
   "metadata": {
    "collapsed": true
   },
   "outputs": [],
   "source": [
    "def get_values(uni, genres):\n",
    "    ret_dic = {}\n",
    "    for dex, gen in enumerate(genres):\n",
    "        loc = uni.find(gen)\n",
    "        if dex < len(genres)-1:\n",
    "            next_loc = uni.find(genres[dex+1])\n",
    "            nums = re.findall(r'\\d+', uni[loc+len(gen):next_loc])\n",
    "            ap_dic = {'precision':float(nums[1])*.01, 'recall':float(nums[3])*.01, 'f1-score':float(nums[5])*.01, 'support':float(nums[6])}\n",
    "            ret_dic[gen] = ap_dic \n",
    "    return ret_dic\n",
    "def to_df(dic):\n",
    "    ret_df = pd.DataFrame(columns = ['title','precision', 'recall', 'f1-score', 'support'])\n",
    "    for k, v in dic.items():\n",
    "        ret_df = ret_df.append({'title':k, 'precision':v['precision'], 'recall':v['recall'], 'f1-score':v['f1-score'], 'support':v['support']}, ignore_index=True)\n",
    "    return ret_df"
   ]
  },
  {
   "cell_type": "code",
   "execution_count": 10,
   "metadata": {
    "collapsed": false,
    "scrolled": false
   },
   "outputs": [
    {
     "name": "stdout",
     "output_type": "stream",
     "text": [
      "(5751, 31278)\n",
      "(1918, 31278)\n",
      "(5751, 35210)\n",
      "(1918, 35210)\n",
      "(5751, 66488)\n",
      "(1918, 66488)\n"
     ]
    }
   ],
   "source": [
    "# split into test / train data\n",
    "cast_F_train, cast_F_test, text_F_train, text_F_test, y_train, y_test = train_test_split(cast_features,\n",
    "                                                                                         text_features, cast_y,\n",
    "                                                                                         test_size=0.25,\n",
    "                                                                                         random_state=42)\n",
    "\n",
    "cast_X_train = cast_vectorizer.fit_transform(cast_F_train)\n",
    "cast_X_test = cast_vectorizer.transform(cast_F_test)\n",
    "\n",
    "print np.shape(cast_X_train)\n",
    "print np.shape(cast_X_test)\n",
    "\n",
    "text_X_train = text_vectorizer.fit_transform(text_F_train)\n",
    "text_X_test = text_vectorizer.transform(text_F_test)\n",
    "\n",
    "print np.shape(text_X_train)\n",
    "print np.shape(text_X_test)\n",
    "\n",
    "X_train = sparse.hstack((cast_X_train, text_X_train))\n",
    "X_test = sparse.hstack((cast_X_test, text_X_test))\n",
    "\n",
    "print np.shape(X_train)\n",
    "print np.shape(X_test)\n"
   ]
  },
  {
   "cell_type": "code",
   "execution_count": 34,
   "metadata": {
    "collapsed": false
   },
   "outputs": [],
   "source": [
    "def sgd(X_train, X_test, y_train, y_test, mlb_classes):\n",
    "    param_grid = {\n",
    "        'estimator__alpha': np.logspace(-5, -1, num=50),\n",
    "    }\n",
    "    model = OneVsRestClassifier(SGDClassifier(class_weight='balanced', random_state=761))\n",
    "    model_tuning = GridSearchCV(\n",
    "        model,\n",
    "        param_grid=param_grid,\n",
    "        scoring=make_scorer(hamming_loss, greater_is_better=False),\n",
    "        cv=3,\n",
    "        n_jobs=2,\n",
    "        verbose=1,\n",
    "    )\n",
    "    model_tuning.fit(X_train, y_train)\n",
    "    y_test_pred = model_tuning.predict(X_test)\n",
    "\n",
    "    print model_tuning.best_params_\n",
    "    print 'hamming loss: %.3f' % hamming_loss(y_test, y_test_pred)\n",
    "    print classification_report(y_train, model_tuning.predict(X_train), target_names=mlb_classes, digits=3)\n",
    "    print classification_report(y_test, y_test_pred, target_names=mlb_classes, digits=3)\n",
    "    \n",
    "    return(classification_report(y_train, model_tuning.predict(X_train), target_names=mlb_classes), classification_report(y_test, model_tuning.predict(X_test), target_names=mlb_classes))\n",
    "    \n",
    "#sgd_model_analysis = sgd(X_test, X_train, y_test, y_train, mlb_classes)"
   ]
  },
  {
   "cell_type": "code",
   "execution_count": 35,
   "metadata": {
    "collapsed": false
   },
   "outputs": [
    {
     "name": "stdout",
     "output_type": "stream",
     "text": [
      "Fitting 3 folds for each of 50 candidates, totalling 150 fits\n"
     ]
    },
    {
     "name": "stderr",
     "output_type": "stream",
     "text": [
      "[Parallel(n_jobs=2)]: Done  48 tasks      | elapsed:    6.0s\n",
      "[Parallel(n_jobs=2)]: Done 150 out of 150 | elapsed:   10.6s finished\n"
     ]
    },
    {
     "name": "stdout",
     "output_type": "stream",
     "text": [
      "{'estimator__alpha': 0.0071968567300115137}\n",
      "hamming loss: 0.115\n",
      "             precision    recall  f1-score   support\n",
      "\n",
      "     Action      0.979     0.920     0.948       200\n",
      "  Adventure      1.000     0.906     0.950       159\n",
      "  Animation      0.992     0.836     0.907       146\n",
      "     Comedy      0.989     0.874     0.928       525\n",
      "      Crime      0.988     0.901     0.942       181\n",
      "Documentary      0.948     0.974     0.961       227\n",
      "      Drama      0.971     0.970     0.971       837\n",
      "     Family      0.937     0.899     0.918       149\n",
      "    Fantasy      0.981     0.990     0.986       105\n",
      "     Horror      0.965     0.933     0.949       178\n",
      "    Mystery      0.939     1.000     0.969        93\n",
      "    Romance      1.000     0.864     0.927       295\n",
      "     Sci-Fi      0.979     0.989     0.984        94\n",
      "      Short      0.988     0.820     0.896       200\n",
      "   Thriller      0.976     0.924     0.949       264\n",
      "\n",
      "avg / total      0.977     0.919     0.946      3653\n",
      "\n",
      "             precision    recall  f1-score   support\n",
      "\n",
      "     Action      0.466     0.142     0.218       682\n",
      "  Adventure      0.378     0.120     0.182       451\n",
      "  Animation      0.926     0.434     0.591       373\n",
      "     Comedy      0.617     0.257     0.363      1609\n",
      "      Crime      0.383     0.091     0.147       561\n",
      "Documentary      0.763     0.556     0.643       655\n",
      "      Drama      0.641     0.571     0.604      2490\n",
      "     Family      0.684     0.271     0.388       399\n",
      "    Fantasy      0.270     0.077     0.120       311\n",
      "     Horror      0.553     0.137     0.220       606\n",
      "    Mystery      0.196     0.034     0.058       322\n",
      "    Romance      0.386     0.098     0.156       796\n",
      "     Sci-Fi      0.440     0.138     0.211       318\n",
      "      Short      0.822     0.216     0.342       621\n",
      "   Thriller      0.393     0.141     0.208       793\n",
      "\n",
      "avg / total      0.561     0.287     0.360     10987\n",
      "\n"
     ]
    }
   ],
   "source": [
    "train, test = sgd(X_test, X_train, y_test, y_train, mlb_classes)\n",
    "#this makes our sgd classification report for the crew/actor/director and overview data\n",
    "crew_test_sgd_model_analysis_df = to_df(get_values(test, mlb_classes))\n",
    "crew_train_sgd_model_analysis_df = to_df(get_values(train, mlb_classes))"
   ]
  },
  {
   "cell_type": "code",
   "execution_count": 12,
   "metadata": {
    "collapsed": false
   },
   "outputs": [],
   "source": [
    "def random_forest(X_test, X_train, y_test, y_train, mlb_classes):\n",
    "    param_grid = {\n",
    "        'min_samples_leaf': (1, 2, 50),\n",
    "        'max_features': ('auto', 'sqrt', 'log2', 0.2),\n",
    "    }\n",
    "    model = RandomForestClassifier(n_estimators=50, random_state=761,class_weight='balanced')\n",
    "    model_tuning = GridSearchCV(\n",
    "        model,\n",
    "        param_grid=param_grid,\n",
    "        scoring=make_scorer(hamming_loss, greater_is_better=False),\n",
    "        cv=3,\n",
    "        n_jobs=-1,\n",
    "        verbose=3,\n",
    "    )\n",
    "    model_tuning.fit(X_train, y_train)\n",
    "    #print model_tuning.best_params_\n",
    "    #print classification_report(y_train, model_tuning.predict(X_train), target_names=mlb_classes)\n",
    "    #print classification_report(y_test, model_tuning.predict(X_test), target_names=mlb_classes)\n",
    "    return(classification_report(y_train, model_tuning.predict(X_train), target_names=mlb_classes), classification_report(y_test, model_tuning.predict(X_test), target_names=mlb_classes))\n",
    "    \n",
    "#forest_model_analysis = random_forest(X_test, X_train, y_test, y_train, mlb_classes)"
   ]
  },
  {
   "cell_type": "code",
   "execution_count": null,
   "metadata": {
    "collapsed": false
   },
   "outputs": [
    {
     "name": "stdout",
     "output_type": "stream",
     "text": [
      "Fitting 3 folds for each of 12 candidates, totalling 36 fits\n"
     ]
    },
    {
     "name": "stderr",
     "output_type": "stream",
     "text": [
      "[Parallel(n_jobs=-1)]: Done  16 tasks      | elapsed:   47.9s\n"
     ]
    }
   ],
   "source": [
    "train, test = random_forest(X_test, X_train, y_test, y_train, mlb_classes)\n",
    "#this makes our forest classification report for the crew/actor/director and overview data\n",
    "crew_test_forest_model_analysis_df = to_df(get_values(test, mlb_classes))\n",
    "crew_train_forest_model_analysis_df = to_df(get_values(train, mlb_classes))"
   ]
  },
  {
   "cell_type": "markdown",
   "metadata": {
    "collapsed": true
   },
   "source": [
    "# Detailed description and implementation of two different models"
   ]
  },
  {
   "cell_type": "markdown",
   "metadata": {},
   "source": []
  },
  {
   "cell_type": "markdown",
   "metadata": {},
   "source": [
    "# Description of your performance metrics"
   ]
  },
  {
   "cell_type": "markdown",
   "metadata": {},
   "source": [
    "As we described in our last milestone, we will be using a multilabel classification approach. Some movies have one genres while most have multiple genres.  This naturally creates a problem in classification as some observations fall under multiple classes. Further, making a class for every possible combination of genres is infeasible as it result in drastic class imbalances and under representation (the highly specific combinations will only have one or two corresponding movies). However, multilabel classification also has limitations, particularly when implementing and observing performance metrics. As we described previously, to run an SGD (or logistic regression, and other classifier models), we had to use an onevsrest classifier. A random forest can handle multilabel classification natively and we wanted to express the pros and cons of each model.\n",
    "\n",
    "To analyze the models, we decided to use 3 accuracy/error based measures. Using the classification_report function in sklearn, we returned precision, recall and the f-1 score of our models across genres. In this context, precision is the fraction of correct results divided by the number of all returned results while recall is the number of correct results divided by the number of results that should have been returned. Finally, the f1-score is a measure of the model's accuracy, it considers both precision and recall to compute a score. We decided to use the f-1 score to compare the accuracy across models; we did this for several reasons, mainly because of massive class imbalance, we describe below. We considered using a roc or auc curve, but it is traditionally used in binary classification. It can adapt to the multilabel classification methodology, but it would be necessary to binarize the output of the model. Lastly, we applied the same performance metrics to the two used datasets (crew/actor/director dataset vs overview dataset). Cross comparing accuracy across datasets isn't as helpful as comparing accuracy within a dataset across models. The f1-score allows us to analyze the performance of our models which both use very different algorithms. Our visualizations reflect the differences in performance between models across both datasets."
   ]
  },
  {
   "cell_type": "markdown",
   "metadata": {},
   "source": [
    "# Careful performance evaluations for both models"
   ]
  },
  {
   "cell_type": "markdown",
   "metadata": {},
   "source": [
    "#### Baseline classifier (dummy classifier) and metrics"
   ]
  },
  {
   "cell_type": "code",
   "execution_count": 14,
   "metadata": {
    "collapsed": false
   },
   "outputs": [
    {
     "name": "stdout",
     "output_type": "stream",
     "text": [
      "stratified\n",
      "accuracy score: 0.026\n",
      "jaccard similarity score: 0.136\n",
      "hamming loss: 0.205\n",
      "zero one loss: 0.974\n",
      "             precision    recall  f1-score   support\n",
      "\n",
      "     Action       0.09      0.10      0.09       200\n",
      "  Adventure       0.10      0.09      0.10       159\n",
      "  Animation       0.04      0.03      0.04       146\n",
      "     Comedy       0.28      0.30      0.29       525\n",
      "      Crime       0.08      0.09      0.08       181\n",
      "Documentary       0.13      0.13      0.13       227\n",
      "      Drama       0.43      0.43      0.43       837\n",
      "     Family       0.08      0.08      0.08       149\n",
      "    Fantasy       0.06      0.05      0.05       105\n",
      "     Horror       0.09      0.11      0.10       178\n",
      "    Mystery       0.03      0.04      0.04        93\n",
      "    Romance       0.14      0.13      0.13       295\n",
      "     Sci-Fi       0.07      0.07      0.07        94\n",
      "      Short       0.14      0.14      0.14       200\n",
      "   Thriller       0.15      0.16      0.15       264\n",
      "\n",
      "avg / total       0.20      0.21      0.20      3653\n",
      "\n",
      "uniform\n",
      "accuracy score: 0.000\n",
      "jaccard similarity score: 0.111\n",
      "hamming loss: 0.499\n",
      "zero one loss: 1.000\n",
      "             precision    recall  f1-score   support\n",
      "\n",
      "     Action       0.11      0.51      0.17       200\n",
      "  Adventure       0.09      0.55      0.16       159\n",
      "  Animation       0.07      0.48      0.12       146\n",
      "     Comedy       0.27      0.48      0.35       525\n",
      "      Crime       0.09      0.49      0.16       181\n",
      "Documentary       0.12      0.51      0.20       227\n",
      "      Drama       0.43      0.47      0.45       837\n",
      "     Family       0.08      0.51      0.14       149\n",
      "    Fantasy       0.06      0.58      0.11       105\n",
      "     Horror       0.10      0.56      0.17       178\n",
      "    Mystery       0.05      0.56      0.10        93\n",
      "    Romance       0.14      0.46      0.22       295\n",
      "     Sci-Fi       0.05      0.48      0.09        94\n",
      "      Short       0.08      0.39      0.14       200\n",
      "   Thriller       0.13      0.48      0.21       264\n",
      "\n",
      "avg / total       0.20      0.49      0.26      3653\n",
      "\n",
      "most_frequent\n",
      "accuracy score: 0.029\n",
      "jaccard similarity score: 0.029\n",
      "hamming loss: 0.127\n",
      "zero one loss: 0.971\n",
      "             precision    recall  f1-score   support\n",
      "\n",
      "     Action       0.00      0.00      0.00       200\n",
      "  Adventure       0.00      0.00      0.00       159\n",
      "  Animation       0.00      0.00      0.00       146\n",
      "     Comedy       0.00      0.00      0.00       525\n",
      "      Crime       0.00      0.00      0.00       181\n",
      "Documentary       0.00      0.00      0.00       227\n",
      "      Drama       0.00      0.00      0.00       837\n",
      "     Family       0.00      0.00      0.00       149\n",
      "    Fantasy       0.00      0.00      0.00       105\n",
      "     Horror       0.00      0.00      0.00       178\n",
      "    Mystery       0.00      0.00      0.00        93\n",
      "    Romance       0.00      0.00      0.00       295\n",
      "     Sci-Fi       0.00      0.00      0.00        94\n",
      "      Short       0.00      0.00      0.00       200\n",
      "   Thriller       0.00      0.00      0.00       264\n",
      "\n",
      "avg / total       0.00      0.00      0.00      3653\n",
      "\n"
     ]
    },
    {
     "name": "stderr",
     "output_type": "stream",
     "text": [
      "C:\\Users\\Keenan\\Anaconda2\\lib\\site-packages\\sklearn\\metrics\\classification.py:1113: UndefinedMetricWarning: Precision and F-score are ill-defined and being set to 0.0 in labels with no predicted samples.\n",
      "  'precision', 'predicted', average, warn_for)\n"
     ]
    }
   ],
   "source": [
    "from sklearn.dummy import DummyClassifier\n",
    "from sklearn.metrics import classification_report, accuracy_score, hamming_loss, zero_one_loss, jaccard_similarity_score\n",
    "\n",
    "\n",
    "def evaluate_baseline(X_train, X_test, y_train, y_test, mlb_classes, strategy):\n",
    "    print strategy\n",
    "\n",
    "    num_y_columns = y_train.shape[1]\n",
    "\n",
    "    y_test_pred_list = []\n",
    "    for i in xrange(num_y_columns):\n",
    "        one_y_train = y_train[:, i]\n",
    "        model = DummyClassifier(strategy=strategy)\n",
    "        model.fit(X_train, one_y_train)\n",
    "        one_y_test_pred = model.predict(X_test)\n",
    "        y_test_pred_list.append(one_y_test_pred)\n",
    "\n",
    "    y_test_pred = np.array(y_test_pred_list).T\n",
    "\n",
    "    print 'accuracy score: %.3f' % accuracy_score(y_test, y_test_pred)\n",
    "    print 'jaccard similarity score: %.3f' % jaccard_similarity_score(y_test, y_test_pred)\n",
    "    print 'hamming loss: %.3f' % hamming_loss(y_test, y_test_pred)\n",
    "    print 'zero one loss: %.3f' % zero_one_loss(y_test, y_test_pred)\n",
    "    print classification_report(y_test, y_test_pred, target_names=mlb_classes)\n",
    "\n",
    "\n",
    "evaluate_baseline(X_train, X_test, y_train, y_test, cast_mlb_classes, 'stratified')\n",
    "evaluate_baseline(X_train, X_test, y_train, y_test, cast_mlb_classes, 'uniform')\n",
    "evaluate_baseline(X_train, X_test, y_train, y_test, cast_mlb_classes, 'most_frequent')"
   ]
  },
  {
   "cell_type": "code",
   "execution_count": 26,
   "metadata": {
    "collapsed": false
   },
   "outputs": [
    {
     "name": "stdout",
     "output_type": "stream",
     "text": [
      "Forest model run on crew/director/actor dataset\n",
      "          title  precision  recall  f1-score  support\n",
      "0       Mystery       0.00    0.00      0.00     93.0\n",
      "1       Romance       0.55    0.02      0.04    295.0\n",
      "2         Short       0.82    0.14      0.23    200.0\n",
      "3        Sci-Fi       0.00    0.00      0.00     94.0\n",
      "4        Family       0.83    0.13      0.22    149.0\n",
      "5        Horror       0.00    0.01      0.01    178.0\n",
      "6         Crime       0.67    0.01      0.02    181.0\n",
      "7         Drama       0.61    0.65      0.63    837.0\n",
      "8       Fantasy       0.00    0.00      0.00    105.0\n",
      "9     Animation       0.85    0.16      0.27    146.0\n",
      "10    Adventure       0.00    0.00      0.00    159.0\n",
      "11       Action       0.00    0.00      0.00    200.0\n",
      "12       Comedy       0.80    0.12      0.20    525.0\n",
      "13  Documentary       0.91    0.34      0.49    227.0\n",
      "SGD model run on crew/director/actor dataset\n",
      "          title  precision  recall  f1-score  support\n",
      "0       Mystery       0.22    0.24      0.23     93.0\n",
      "1       Romance       0.46    0.24      0.32    295.0\n",
      "2         Short       0.45    0.74      0.56    200.0\n",
      "3        Sci-Fi       0.42    0.37      0.40     94.0\n",
      "4        Family       0.70    0.40      0.51    149.0\n",
      "5        Horror       0.57    0.38      0.46    178.0\n",
      "6         Crime       0.35    0.24      0.28    181.0\n",
      "7         Drama       0.70    0.52      0.60    837.0\n",
      "8       Fantasy       0.25    0.19      0.22    105.0\n",
      "9     Animation       0.86    0.58      0.69    146.0\n",
      "10    Adventure       0.38    0.27      0.32    159.0\n",
      "11       Action       0.49    0.26      0.34    200.0\n",
      "12       Comedy       0.71    0.32      0.44    525.0\n",
      "13  Documentary       0.64    0.87      0.73    227.0\n"
     ]
    }
   ],
   "source": [
    "print 'Forest model run on crew/director/actor dataset'\n",
    "print crew_test_forest_model_analysis_df\n",
    "print 'SGD model run on crew/director/actor dataset'\n",
    "print crew_test_sgd_model_analysis_df"
   ]
  },
  {
   "cell_type": "markdown",
   "metadata": {},
   "source": [
    "Here I will discuss why the f1-score is best for class imbalanced data."
   ]
  },
  {
   "cell_type": "markdown",
   "metadata": {},
   "source": [
    "# Visualizations of the metrics for performance evaluation"
   ]
  },
  {
   "cell_type": "markdown",
   "metadata": {},
   "source": [
    "### Models based on crew/director/feature set data"
   ]
  },
  {
   "cell_type": "code",
   "execution_count": 36,
   "metadata": {
    "collapsed": false
   },
   "outputs": [
    {
     "data": {
      "image/png": "[encoded data removed]",
      "text/plain": [
       "<matplotlib.figure.Figure at 0x16004e1d0>"
      ]
     },
     "metadata": {},
     "output_type": "display_data"
    },
    {
     "data": {
      "image/png": "[encoded data removed]",
      "text/plain": [
       "<matplotlib.figure.Figure at 0x115a2aa58>"
      ]
     },
     "metadata": {},
     "output_type": "display_data"
    }
   ],
   "source": [
    "plt.scatter(crew_test_forest_model_analysis_df['f1-score'], crew_test_sgd_model_analysis_df['f1-score'])\n",
    "plt.ylabel('SGD Model')\n",
    "plt.xlabel('Random Forest')\n",
    "plt.title('SGD vs Random Forest f1-score-Test Set (crew_data)')\n",
    "plt.show()\n",
    "plt.scatter(crew_train_forest_model_analysis_df['f1-score'], crew_train_sgd_model_analysis_df['f1-score'])\n",
    "plt.ylabel('SGD Model')\n",
    "plt.xlabel('Random Forest')\n",
    "plt.title('SGD vs Random Forest f1-score-Train Set (crew_data)')\n",
    "plt.show()"
   ]
  },
  {
   "cell_type": "markdown",
   "metadata": {},
   "source": []
  },
  {
   "cell_type": "markdown",
   "metadata": {
    "collapsed": true
   },
   "source": [
    "# Discussion of the differences between the models, their strengths, weaknesses, etc."
   ]
  },
  {
   "cell_type": "markdown",
   "metadata": {},
   "source": []
  },
  {
   "cell_type": "markdown",
   "metadata": {},
   "source": [
    "# Discussion of the performances you achieved, and how you might be able to improve them in the future"
   ]
  },
  {
   "cell_type": "markdown",
   "metadata": {},
   "source": []
  }
 ],
 "metadata": {
  "anaconda-cloud": {},
  "kernelspec": {
   "display_name": "Python 2",
   "language": "python",
   "name": "python2"
  },
  "language_info": {
   "codemirror_mode": {
    "name": "ipython",
    "version": 2
   },
   "file_extension": ".py",
   "mimetype": "text/x-python",
   "name": "python",
   "nbconvert_exporter": "python",
   "pygments_lexer": "ipython2",
   "version": "2.7.12"
  }
 },
 "nbformat": 4,
 "nbformat_minor": 0
}
