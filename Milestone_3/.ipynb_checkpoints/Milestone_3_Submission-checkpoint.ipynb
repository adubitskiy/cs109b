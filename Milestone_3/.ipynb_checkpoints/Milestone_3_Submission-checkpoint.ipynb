{
 "cells": [
  {
   "cell_type": "markdown",
   "metadata": {},
   "source": [
    "### Milestone 3: Traditional statistical and machine learning methods, due Wednesday, April 19, 2017\n",
    "\n",
    "Think about how you would address the genre prediction problem with traditional statistical or machine learning methods. This includes everything you learned about modeling in this course before the deep learning part. Implement your ideas and compare different classifiers. Report your results and discuss what challenges you faced and how you overcame them. What works and what does not? If there are parts that do not work as expected, make sure to discuss briefly what you think is the cause and how you would address this if you would have more time and resources. \n",
    "\n",
    "You do not necessarily need to use the movie posters for this step, but even without a background in computer vision, there are very simple features you can extract from the posters to help guide a traditional machine learning model. Think about the PCA lecture for example, or how to use clustering to extract color information. In addition to considering the movie posters it would be worthwhile to have a look at the metadata that IMDb provides. \n",
    "\n",
    "You could use Spark and the [ML library](https://spark.apache.org/docs/latest/ml-features.html#word2vec) to build your model features from the data. This may be especially beneficial if you use additional data, e.g., in text form.\n",
    "\n",
    "You also need to think about how you are going to evaluate your classifier. Which metrics or scores will you report to show how good the performance is?\n",
    "\n",
    "The notebook to submit this week should at least include:\n",
    "\n",
    "- Detailed description and implementation of two different models\n",
    "- Description of your performance metrics\n",
    "- Careful performance evaluations for both models\n",
    "- Visualizations of the metrics for performance evaluation\n",
    "- Discussion of the differences between the models, their strengths, weaknesses, etc. \n",
    "- Discussion of the performances you achieved, and how you might be able to improve them in the future\n",
    "\n",
    "#### Preliminary Peer Assessment\n",
    "\n",
    "It is important to provide positive feedback to people who truly worked hard for the good of the team and to also make suggestions to those you perceived not to be working as effectively on team tasks. We ask you to provide an honest assessment of the contributions of the members of your team, including yourself. The feedback you provide should reflect your judgment of each team member’s:\n",
    "\n",
    "- Preparation – were they prepared during team meetings?\n",
    "- Contribution – did they contribute productively to the team discussion and work?\n",
    "- Respect for others’ ideas – did they encourage others to contribute their ideas?\n",
    "- Flexibility – were they flexible when disagreements occurred?\n",
    "\n",
    "Your teammate’s assessment of your contributions and the accuracy of your self-assessment will be considered as part of your overall project score.\n",
    "\n",
    "Preliminary Peer Assessment: [https://goo.gl/forms/WOYC7pwRCSU0yV3l1](https://goo.gl/forms/WOYC7pwRCSU0yV3l1)"
   ]
  },
  {
   "cell_type": "markdown",
   "metadata": {},
   "source": [
    "## Below is code to implement our models. After its implementation, we describe the purpose and functionalities of the 2 models chosen applied to 2 datasets for now.\n",
    "\n",
    "We implemented both a linear SVM and Random forest once on a dataset consisting of a traditional feature set holding predictors such as crew, director, actors, etc. We also implemented the same models after creating a vectorization of each movies overview description using most frequent words for classification. Below is the code to create and tune all 4 models."
   ]
  },
  {
   "cell_type": "code",
   "execution_count": 1,
   "metadata": {
    "collapsed": true
   },
   "outputs": [],
   "source": [
    "import cPickle\n",
    "import numpy as np\n",
    "import pandas as pd\n",
    "from nltk.corpus import stopwords\n",
    "from sklearn.ensemble import RandomForestClassifier\n",
    "from sklearn.feature_extraction.text import TfidfVectorizer\n",
    "from sklearn.feature_extraction.text import CountVectorizer\n",
    "from sklearn.linear_model import SGDClassifier\n",
    "from sklearn.metrics import make_scorer, hamming_loss, classification_report\n",
    "from sklearn.model_selection import train_test_split, GridSearchCV\n",
    "from sklearn.multiclass import OneVsRestClassifier\n",
    "from sklearn.preprocessing import MultiLabelBinarizer\n",
    "import matplotlib.pyplot as plt\n",
    "import re"
   ]
  },
  {
   "cell_type": "code",
   "execution_count": 2,
   "metadata": {
    "collapsed": true
   },
   "outputs": [],
   "source": [
    "def load_part(file_name):\n",
    "    with open(file_name, 'rb') as handle:\n",
    "        return cPickle.load(handle)"
   ]
  },
  {
   "cell_type": "code",
   "execution_count": 3,
   "metadata": {
    "collapsed": true
   },
   "outputs": [],
   "source": [
    "def get_sample(text_features, y):\n",
    "    n_elements = len(text_features)\n",
    "\n",
    "    np.random.seed(109)\n",
    "    sample_indices = np.random.choice(n_elements, size=10000, replace=False)\n",
    "\n",
    "    text_features_sample = text_features[sample_indices]\n",
    "    y_sample = y[sample_indices]\n",
    "\n",
    "    return text_features_sample, y_sample\n",
    "\n",
    "def cutoff_labels(labels, cutoff):\n",
    "    mlb = MultiLabelBinarizer()\n",
    "    label_df = pd.DataFrame(mlb.fit_transform(labels))\n",
    "    label_df.columns = mlb.classes_\n",
    "    label_number_df = pd.DataFrame({'cnt': label_df.sum(axis=0)})\n",
    "    major_genres = set(label_number_df[label_number_df['cnt'] > cutoff].index)\n",
    "    return major_genres"
   ]
  },
  {
   "cell_type": "code",
   "execution_count": 4,
   "metadata": {
    "collapsed": true
   },
   "outputs": [],
   "source": [
    "root_folder = '..'"
   ]
  },
  {
   "cell_type": "code",
   "execution_count": 5,
   "metadata": {
    "collapsed": true
   },
   "outputs": [],
   "source": [
    "# load TMDB movies dataset\n",
    "tmdb_movies = load_part(root_folder + '/data/tmdb_info.pickle')"
   ]
  },
  {
   "cell_type": "code",
   "execution_count": 6,
   "metadata": {
    "collapsed": false
   },
   "outputs": [],
   "source": [
    "def prepare_text_data(tmdb_dict):\n",
    "    plot_dict = load_part(root_folder + '/data/plot.pickle')\n",
    "\n",
    "    # add 'overview' from TMDB to 'plot' from IMDB (it is a list)\n",
    "    for tmdb_id, imdb_movie in plot_dict.iteritems():\n",
    "        if ('plot' in imdb_movie and tmdb_id in tmdb_dict and 'overview' in tmdb_dict[tmdb_id].__dict__ and\n",
    "                    tmdb_dict[tmdb_id].__dict__['overview'] is not None):\n",
    "            imdb_movie['plot'].append(tmdb_dict[tmdb_id].__dict__['overview'])\n",
    "\n",
    "    labels = np.array([d['genres'] for d in plot_dict.values() if 'genres' in d and 'plot' in d])\n",
    "    # only leave generes mentioned in 2000 movies or more\n",
    "    major_genres = cutoff_labels(labels, 2000)\n",
    "    labels = np.array(\n",
    "        [major_genres.intersection(d['genres']) for d in plot_dict.values() if 'genres' in d and 'plot' in d])    \n",
    "    # create the labels vector with only major genres\n",
    "    mlb = MultiLabelBinarizer()\n",
    "    y = mlb.fit_transform(labels)\n",
    "    # the plot consists of a few parts, join them together\n",
    "    features = np.array([''.join(d['plot']) for d in plot_dict.values() if 'genres' in d and 'plot' in d])\n",
    "    features_sample, y_sample = get_sample(features, y)\n",
    "    \n",
    "    vectorizer = TfidfVectorizer(\n",
    "        stop_words=stopwords.words(\"english\"),\n",
    "        token_pattern='[a-zA-Z]+[0-9]*',\n",
    "        max_df=0.9,\n",
    "        min_df=0.0001,\n",
    "        dtype=np.float32,\n",
    "    )\n",
    "    return (features_sample, y_sample, mlb.classes_, vectorizer)"
   ]
  },
  {
   "cell_type": "code",
   "execution_count": 7,
   "metadata": {
    "collapsed": false
   },
   "outputs": [],
   "source": [
    "def prepare_cast_data(tmdb_dict):\n",
    "    columns = [\n",
    "        'director',\n",
    "        'cast',\n",
    "        'casting director',\n",
    "        'miscellaneous crew',\n",
    "        'original music',\n",
    "        'producer',\n",
    "        'cinematographer',\n",
    "        'costume designer',\n",
    "        'art direction']\n",
    "    \n",
    "    cast_dict = load_part(root_folder + '/data/cast10K.pickle')\n",
    "    \n",
    "    # array of list of genres for every movie\n",
    "    labels = np.array([d['genres'] for d in cast_dict.values() if 'genres' in d])\n",
    "    # only leave generes mentioned in 100 movies or more\n",
    "    major_genres = cutoff_labels(labels, 100)\n",
    "    labels = np.array(\n",
    "        [major_genres.intersection(d['genres']) for d in cast_dict.values() if 'genres' in d])    \n",
    "    # create the labels vector with only major genres\n",
    "    mlb = MultiLabelBinarizer()\n",
    "    y = mlb.fit_transform(labels)\n",
    "\n",
    "    # combine all names separated by '|'\n",
    "    features = []\n",
    "    for tmdb_id, imdb_movie in cast_dict.iteritems():\n",
    "        if 'genres' not in imdb_movie:\n",
    "            continue\n",
    "        l = []\n",
    "        for c in columns:\n",
    "            if(c in imdb_movie):\n",
    "                l = l + [ c['name'].encode('utf-8') for c in imdb_movie[c]]\n",
    "        # add crew and cast from TMDB\n",
    "        if(tmdb_id in tmdb_dict):\n",
    "            tmdb_movie = tmdb_dict[tmdb_id].__dict__\n",
    "            if('crew' in tmdb_movie):\n",
    "                l = l + [c['name'].encode('utf-8') for c in tmdb_movie['crew']]\n",
    "            if('cast' in tmdb_movie):\n",
    "                l = l + [c['name'].encode('utf-8') for c in tmdb_movie['cast']]\n",
    "        # remove duplicates before joiniing\n",
    "        features.append('|'.join(set(l)))\n",
    "        \n",
    "    vectorizer = CountVectorizer( \n",
    "        max_df = 0.99,\n",
    "        min_df = 0.0002,\n",
    "        stop_words = stopwords.words(\"english\"), \n",
    "        tokenizer = lambda x: x.split('|'),\n",
    "        dtype = np.float32)\n",
    "        \n",
    "    return features, y, mlb.classes_, vectorizer"
   ]
  },
  {
   "cell_type": "code",
   "execution_count": 8,
   "metadata": {
    "collapsed": true
   },
   "outputs": [],
   "source": [
    "def get_values(uni, genres):\n",
    "    ret_dic = {}\n",
    "    for dex, gen in enumerate(genres):\n",
    "        loc = uni.find(gen)\n",
    "        if dex < len(genres)-1:\n",
    "            next_loc = uni.find(genres[dex+1])\n",
    "            nums = re.findall(r'\\d+', uni[loc+len(gen):next_loc])\n",
    "            ap_dic = {'precision':float(nums[1])*.01, 'recall':float(nums[3])*.01, 'f1-score':float(nums[5])*.01, 'support':float(nums[6])}\n",
    "            ret_dic[gen] = ap_dic \n",
    "    return ret_dic\n",
    "def to_df(dic):\n",
    "    ret_df = pd.DataFrame(columns = ['title','precision', 'recall', 'f1-score', 'support'])\n",
    "    for k, v in dic.items():\n",
    "        ret_df = ret_df.append({'title':k, 'precision':v['precision'], 'recall':v['recall'], 'f1-score':v['f1-score'], 'support':v['support']}, ignore_index=True)\n",
    "    return ret_df"
   ]
  },
  {
   "cell_type": "code",
   "execution_count": 9,
   "metadata": {
    "collapsed": false
   },
   "outputs": [],
   "source": [
    "# get labes / features from the cast / crew data\n",
    "features, y, mlb_classes, vectorizer = prepare_cast_data(tmdb_movies)"
   ]
  },
  {
   "cell_type": "code",
   "execution_count": 11,
   "metadata": {
    "collapsed": false,
    "scrolled": false
   },
   "outputs": [
    {
     "name": "stdout",
     "output_type": "stream",
     "text": [
      "Train label matrix shape: (7286L, 22L)\n",
      "Train predictor matrix shape: (7286, 37282)\n",
      "Test label matrix shape: (2429L, 22L)\n",
      "Test predictor matrix shape: (2429, 37282)\n"
     ]
    }
   ],
   "source": [
    "# split into test / train data\n",
    "F_train, F_test, y_train, y_test = train_test_split(features, y, test_size=0.25, random_state=42)\n",
    "# convert into bag of words\n",
    "X_train = vectorizer.fit_transform(F_train)\n",
    "X_test = vectorizer.transform(F_test)\n",
    "#print 'Train label matrix shape:', y_train.shape\n",
    "#print 'Train predictor matrix shape:', X_train.shape\n",
    "#print 'Test label matrix shape:', y_test.shape\n",
    "#print 'Test predictor matrix shape:', X_test.shape"
   ]
  },
  {
   "cell_type": "code",
   "execution_count": 56,
   "metadata": {
    "collapsed": false
   },
   "outputs": [],
   "source": [
    "def sgd(X_test, X_train, y_test, y_train, mlb_classes):\n",
    "    param_grid = {\n",
    "        'estimator__alpha': np.logspace(-5, -3, num=30),\n",
    "    }\n",
    "    model = OneVsRestClassifier(SGDClassifier(random_state=761, class_weight='balanced'))\n",
    "    model_tuning = GridSearchCV(\n",
    "        model,\n",
    "        param_grid=param_grid,\n",
    "        scoring=make_scorer(hamming_loss, greater_is_better=False),\n",
    "        n_jobs=-1,\n",
    "        verbose=1,\n",
    "    )\n",
    "    model_tuning.fit(X_train, y_train)\n",
    "    #print model_tuning.best_params_\n",
    "    #print classification_report(y_train, model_tuning.predict(X_train), target_names=mlb_classes)\n",
    "    #print classification_report(y_test, model_tuning.predict(X_test), target_names=mlb_classes)\n",
    "    return(classification_report(y_train, model_tuning.predict(X_train), target_names=mlb_classes), classification_report(y_test, model_tuning.predict(X_test), target_names=mlb_classes))\n",
    "    \n",
    "#sgd_model_analysis = sgd(X_test, X_train, y_test, y_train, mlb_classes)"
   ]
  },
  {
   "cell_type": "code",
   "execution_count": 63,
   "metadata": {
    "collapsed": false
   },
   "outputs": [
    {
     "name": "stdout",
     "output_type": "stream",
     "text": [
      "Fitting 3 folds for each of 30 candidates, totalling 90 fits\n"
     ]
    },
    {
     "name": "stderr",
     "output_type": "stream",
     "text": [
      "[Parallel(n_jobs=-1)]: Done  34 tasks      | elapsed:    4.4s\n",
      "[Parallel(n_jobs=-1)]: Done  90 out of  90 | elapsed:    9.7s finished\n"
     ]
    }
   ],
   "source": [
    "train, test = sgd(X_test, X_train, y_test, y_train, mlb_classes)\n",
    "#this makes our linear svm classification report for the crew/actor/director data\n",
    "crew_test_sgd_model_analysis_df = to_df(get_values(test, mlb_classes))\n",
    "crew_train_sgd_model_analysis_df = to_df(get_values(train, mlb_classes))"
   ]
  },
  {
   "cell_type": "code",
   "execution_count": 38,
   "metadata": {
    "collapsed": false
   },
   "outputs": [],
   "source": [
    "def random_forest(X_test, X_train, y_test, y_train, mlb_classes):\n",
    "    param_grid = {\n",
    "        'min_samples_leaf': (1, 2, 50),\n",
    "        'max_features': ('auto', 'sqrt', 'log2', 0.2),\n",
    "    }\n",
    "    model = RandomForestClassifier(n_estimators=50, random_state=761,class_weight='balanced')\n",
    "    model_tuning = GridSearchCV(\n",
    "        model,\n",
    "        param_grid=param_grid,\n",
    "        scoring=make_scorer(hamming_loss, greater_is_better=False),\n",
    "        cv=3,\n",
    "        n_jobs=-1,\n",
    "        verbose=3,\n",
    "    )\n",
    "    model_tuning.fit(X_train, y_train)\n",
    "    #print model_tuning.best_params_\n",
    "    #print classification_report(y_train, model_tuning.predict(X_train), target_names=mlb_classes)\n",
    "    #print classification_report(y_test, model_tuning.predict(X_test), target_names=mlb_classes)\n",
    "    return(classification_report(y_train, model_tuning.predict(X_train), target_names=mlb_classes), classification_report(y_test, model_tuning.predict(X_test), target_names=mlb_classes))\n",
    "    \n",
    "#forest_model_analysis = random_forest(X_test, X_train, y_test, y_train, mlb_classes)"
   ]
  },
  {
   "cell_type": "code",
   "execution_count": 39,
   "metadata": {
    "collapsed": false
   },
   "outputs": [
    {
     "name": "stdout",
     "output_type": "stream",
     "text": [
      "Fitting 3 folds for each of 12 candidates, totalling 36 fits\n"
     ]
    },
    {
     "name": "stderr",
     "output_type": "stream",
     "text": [
      "[Parallel(n_jobs=-1)]: Done  16 tasks      | elapsed:   48.8s\n",
      "[Parallel(n_jobs=-1)]: Done  34 out of  36 | elapsed:  5.5min remaining:   19.2s\n",
      "[Parallel(n_jobs=-1)]: Done  36 out of  36 | elapsed:  5.6min finished\n"
     ]
    }
   ],
   "source": [
    "train, test = random_forest(X_test, X_train, y_test, y_train, mlb_classes)\n",
    "#this makes our forest classification report for the crew/actor/director data\n",
    "crew_test_forest_model_analysis_df = to_df(get_values(test, mlb_classes))\n",
    "crew_train_forest_model_analysis_df = to_df(get_values(train, mlb_classes))"
   ]
  },
  {
   "cell_type": "markdown",
   "metadata": {},
   "source": [
    "### Now to create the textual model based on overview data"
   ]
  },
  {
   "cell_type": "code",
   "execution_count": 65,
   "metadata": {
    "collapsed": true
   },
   "outputs": [],
   "source": [
    "# get labes / features from the text data\n",
    "features, y, mlb_classes, vectorizer = prepare_text_data(tmdb_movies)"
   ]
  },
  {
   "cell_type": "code",
   "execution_count": 66,
   "metadata": {
    "collapsed": false
   },
   "outputs": [],
   "source": [
    "# split into test / train data\n",
    "F_train, F_test, y_train, y_test = train_test_split(features, y, test_size=0.25, random_state=42)\n",
    "# convert into bag of words\n",
    "X_train = vectorizer.fit_transform(F_train)\n",
    "X_test = vectorizer.transform(F_test)"
   ]
  },
  {
   "cell_type": "code",
   "execution_count": 67,
   "metadata": {
    "collapsed": false
   },
   "outputs": [
    {
     "name": "stdout",
     "output_type": "stream",
     "text": [
      "Fitting 3 folds for each of 30 candidates, totalling 90 fits\n"
     ]
    },
    {
     "name": "stderr",
     "output_type": "stream",
     "text": [
      "[Parallel(n_jobs=-1)]: Done  34 tasks      | elapsed:    4.5s\n",
      "[Parallel(n_jobs=-1)]: Done  90 out of  90 | elapsed:   10.0s finished\n"
     ]
    }
   ],
   "source": [
    "train, test = sgd(X_test, X_train, y_test, y_train, mlb_classes)\n",
    "#this makes our linear svm classification report for the overview textual analysis\n",
    "overview_test_sgd_model_analysis_df = to_df(get_values(test, mlb_classes))\n",
    "overview_train_sgd_model_analysis_df = to_df(get_values(train, mlb_classes))"
   ]
  },
  {
   "cell_type": "code",
   "execution_count": 41,
   "metadata": {
    "collapsed": false
   },
   "outputs": [
    {
     "name": "stdout",
     "output_type": "stream",
     "text": [
      "Fitting 3 folds for each of 12 candidates, totalling 36 fits\n"
     ]
    },
    {
     "name": "stderr",
     "output_type": "stream",
     "text": [
      "[Parallel(n_jobs=-1)]: Done  16 tasks      | elapsed:   57.0s\n",
      "[Parallel(n_jobs=-1)]: Done  34 out of  36 | elapsed:  5.6min remaining:   19.5s\n",
      "[Parallel(n_jobs=-1)]: Done  36 out of  36 | elapsed:  5.7min finished\n"
     ]
    }
   ],
   "source": [
    "train, test = random_forest(X_test, X_train, y_test, y_train, mlb_classes)\n",
    "#this makes our forest classification report for the overview textual analysis\n",
    "overview_test_forest_model_analysis_df = to_df(get_values(test, mlb_classes))\n",
    "overview_train_forest_model_analysis_df = to_df(get_values(train, mlb_classes))"
   ]
  },
  {
   "cell_type": "markdown",
   "metadata": {
    "collapsed": true
   },
   "source": [
    "# Detailed description and implementation of two different models"
   ]
  },
  {
   "cell_type": "markdown",
   "metadata": {},
   "source": []
  },
  {
   "cell_type": "markdown",
   "metadata": {},
   "source": [
    "# Description of your performance metrics"
   ]
  },
  {
   "cell_type": "markdown",
   "metadata": {},
   "source": [
    "As we described in our last milestone, we will be using a multilabel classification approach. Some movies have one genres while most have multiple genres.  This naturally creates a problem in classification as some observations fall under multiple classes. Further, making a class for every possible combination of genres is infeasible as it result in drastic class imbalances and under representation (the highly specific combinations will only have one or two corresponding movies). However, multilabel classification also has limitations, particularly when implementing and observing performance metrics. As we described previously, to run an SVM (or logistic regression, and other classifier models), we had to use an onevsrest classifier. A random forest can handle multilabel classification natively and we wanted to express the pros and cons of each model.\n",
    "\n",
    "To analyze the models, we decided to use 3 accuracy/error based measures. Using the classification_report function in sklearn, we returned precision, recall and the f-1 score of our models across genres. In this context, precision is the fraction of correct results divided by the number of all returned results while recall is the number of correct results divided by the number of results that should have been returned. Finally, the f1-score is a measure of the model's accuracy, it considers both precision and recall to compute a score. We decided to use the f-1 score to compare the accuracy across models; we did this for several reasons, mainly because of massive class imbalance, we describe below. We considered using a roc or auc curve, but it is traditionally used in binary classification. It can adapt to the multilabel classification methodology, but it would be necessary to binarize the output of the model. Lastly, we applied the same performance metrics to the two used datasets (crew/actor/director dataset vs overview dataset). Cross comparing accuracy across datasets isn't as helpful as comparing accuracy within a dataset across models. The f1-score allows us to analyze the performance of our models which both use very different algorithms. Our visualizations reflect the differences in performance between models across both datasets."
   ]
  },
  {
   "cell_type": "markdown",
   "metadata": {},
   "source": [
    "# Careful performance evaluations for both models"
   ]
  },
  {
   "cell_type": "code",
   "execution_count": 68,
   "metadata": {
    "collapsed": false
   },
   "outputs": [
    {
     "name": "stdout",
     "output_type": "stream",
     "text": [
      "Forest model run on crew/director/actor dataset\n",
      "          title  precision  recall  f1-score  support\n",
      "0       Mystery       0.00    0.00      0.00    131.0\n",
      "1       Romance       0.71    0.01      0.03    339.0\n",
      "2         Short       0.91    0.04      0.08    246.0\n",
      "3        Sci-Fi       0.00    0.01      0.02    124.0\n",
      "4        Family       0.00    0.02      0.05    168.0\n",
      "5        Horror       0.40    0.02      0.03    253.0\n",
      "6      Thriller       0.00    0.00      0.00    337.0\n",
      "7         Sport       0.00    0.00      0.00      0.0\n",
      "8         Crime       0.17    0.00      0.01    260.0\n",
      "9         Drama       0.61    0.52      0.56   1120.0\n",
      "10      Fantasy       0.00    0.00      0.00    126.0\n",
      "11          War       0.00    0.00      0.00      0.0\n",
      "12    Animation       0.00    0.04      0.08    158.0\n",
      "13        Music       0.00    0.00      0.00      0.0\n",
      "14    Adventure       0.00    0.00      0.00    195.0\n",
      "15       Action       0.00    0.00      0.00    300.0\n",
      "16       Comedy       0.70    0.10      0.17    673.0\n",
      "17  Documentary       0.83    0.30      0.44    287.0\n",
      "18      Musical       0.00    0.00      0.00      0.0\n",
      "19    Biography       0.00    0.00      0.00      0.0\n",
      "20      History       0.00    0.00      0.00      0.0\n",
      "Linear SVM model run on crew/director/actor dataset\n",
      "          title  precision  recall  f1-score  support\n",
      "0       Mystery       0.33    0.50      0.39    131.0\n",
      "1       Romance       0.35    0.54      0.43    339.0\n",
      "2         Short       0.41    0.50      0.45    246.0\n",
      "3        Sci-Fi       0.53    0.59      0.56    124.0\n",
      "4        Family       0.47    0.52      0.49    168.0\n",
      "5        Horror       0.59    0.72      0.65    253.0\n",
      "6         Crime       0.45    0.58      0.51    260.0\n",
      "7         Drama       0.65    0.72      0.68   1120.0\n",
      "8       Fantasy       0.40    0.48      0.43    126.0\n",
      "9     Animation       0.57    0.54      0.55    158.0\n",
      "10    Adventure       0.35    0.44      0.39    195.0\n",
      "11       Action       0.43    0.54      0.48    300.0\n",
      "12       Comedy       0.53    0.68      0.60    673.0\n",
      "13  Documentary       0.70    0.77      0.74    287.0\n",
      "Forest model run on overview dataset\n",
      "          title  precision  recall  f1-score  support\n",
      "0       Mystery       0.00    0.00      0.00    131.0\n",
      "1       Romance       0.71    0.01      0.03    339.0\n",
      "2         Short       0.91    0.04      0.08    246.0\n",
      "3        Sci-Fi       0.00    0.01      0.02    124.0\n",
      "4        Family       0.00    0.02      0.05    168.0\n",
      "5        Horror       0.40    0.02      0.03    253.0\n",
      "6      Thriller       0.00    0.00      0.00    337.0\n",
      "7         Sport       0.00    0.00      0.00      0.0\n",
      "8         Crime       0.17    0.00      0.01    260.0\n",
      "9         Drama       0.61    0.52      0.56   1120.0\n",
      "10      Fantasy       0.00    0.00      0.00    126.0\n",
      "11          War       0.00    0.00      0.00      0.0\n",
      "12    Animation       0.00    0.04      0.08    158.0\n",
      "13        Music       0.00    0.00      0.00      0.0\n",
      "14    Adventure       0.00    0.00      0.00    195.0\n",
      "15       Action       0.00    0.00      0.00    300.0\n",
      "16       Comedy       0.70    0.10      0.17    673.0\n",
      "17  Documentary       0.83    0.30      0.44    287.0\n",
      "18      Musical       0.00    0.00      0.00      0.0\n",
      "19    Biography       0.00    0.00      0.00      0.0\n",
      "20      History       0.00    0.00      0.00      0.0\n",
      "Linear SVM model run on overview dataset\n",
      "          title  precision  recall  f1-score  support\n",
      "0       Mystery       0.33    0.50      0.39    131.0\n",
      "1       Romance       0.35    0.54      0.43    339.0\n",
      "2         Short       0.41    0.50      0.45    246.0\n",
      "3        Sci-Fi       0.53    0.59      0.56    124.0\n",
      "4        Family       0.47    0.52      0.49    168.0\n",
      "5        Horror       0.59    0.72      0.65    253.0\n",
      "6         Crime       0.45    0.58      0.51    260.0\n",
      "7         Drama       0.65    0.72      0.68   1120.0\n",
      "8       Fantasy       0.40    0.48      0.43    126.0\n",
      "9     Animation       0.57    0.54      0.55    158.0\n",
      "10    Adventure       0.35    0.44      0.39    195.0\n",
      "11       Action       0.43    0.54      0.48    300.0\n",
      "12       Comedy       0.53    0.68      0.60    673.0\n",
      "13  Documentary       0.70    0.77      0.74    287.0\n"
     ]
    }
   ],
   "source": [
    "print 'Forest model run on crew/director/actor dataset'\n",
    "print crew_test_forest_model_analysis_df\n",
    "print 'Linear SVM model run on crew/director/actor dataset'\n",
    "print crew_test_sgd_model_analysis_df\n",
    "print 'Forest model run on overview dataset'\n",
    "print overview_test_forest_model_analysis_df\n",
    "print 'Linear SVM model run on overview dataset'\n",
    "print overview_test_sgd_model_analysis_df"
   ]
  },
  {
   "cell_type": "markdown",
   "metadata": {},
   "source": [
    "Here I will discuss why the f1-score is best for class imbalanced data."
   ]
  },
  {
   "cell_type": "markdown",
   "metadata": {},
   "source": [
    "# Visualizations of the metrics for performance evaluation"
   ]
  },
  {
   "cell_type": "markdown",
   "metadata": {},
   "source": [
    "### Models based on crew/director/feature set data"
   ]
  },
  {
   "cell_type": "code",
   "execution_count": 43,
   "metadata": {
    "collapsed": false
   },
   "outputs": [
    {
     "data": {
      "image/png": "[encoded data removed]",
      "text/plain": [
       "<matplotlib.figure.Figure at 0x1187112b0>"
      ]
     },
     "metadata": {},
     "output_type": "display_data"
    },
    {
     "data": {
      "image/png": "[encoded data removed]",
      "text/plain": [
       "<matplotlib.figure.Figure at 0x8fd2e828>"
      ]
     },
     "metadata": {},
     "output_type": "display_data"
    }
   ],
   "source": [
    "plt.scatter(crew_test_forest_model_analysis_df['precision'], crew_test_sgd_model_analysis_df['precision'])\n",
    "plt.ylabel('SGD Model')\n",
    "plt.xlabel('Random Forest')\n",
    "plt.title('SGD vs Random Forest Precision-Test Set (crew data)')\n",
    "plt.show()\n",
    "plt.scatter(crew_train_forest_model_analysis_df['precision'], crew_train_sgd_model_analysis_df['precision'])\n",
    "plt.ylabel('SGD Model')\n",
    "plt.xlabel('Random Forest')\n",
    "plt.title('SGD vs Random Forest Precision-Train Set (crew data)')\n",
    "plt.show()"
   ]
  },
  {
   "cell_type": "code",
   "execution_count": 44,
   "metadata": {
    "collapsed": false
   },
   "outputs": [
    {
     "data": {
      "image/png": "[encoded data removed]",
      "text/plain": [
       "<matplotlib.figure.Figure at 0xa89c1630>"
      ]
     },
     "metadata": {},
     "output_type": "display_data"
    },
    {
     "data": {
      "image/png": "[encoded data removed]",
      "text/plain": [
       "<matplotlib.figure.Figure at 0x760dbd30>"
      ]
     },
     "metadata": {},
     "output_type": "display_data"
    }
   ],
   "source": [
    "plt.scatter(crew_test_forest_model_analysis_df['recall'], crew_test_sgd_model_analysis_df['recall'])\n",
    "plt.ylabel('SGD Model')\n",
    "plt.xlabel('Random Forest')\n",
    "plt.title('SGD vs Random Forest recall-Test Set (crew_data)')\n",
    "plt.show()\n",
    "plt.scatter(crew_train_forest_model_analysis_df['recall'], crew_train_sgd_model_analysis_df['recall'])\n",
    "plt.ylabel('SGD Model')\n",
    "plt.xlabel('Random Forest')\n",
    "plt.title('SGD vs Random Forest recall-Train Set (crew_data)')\n",
    "plt.show()"
   ]
  },
  {
   "cell_type": "code",
   "execution_count": 45,
   "metadata": {
    "collapsed": false
   },
   "outputs": [
    {
     "data": {
      "image/png": "[encoded data removed]",
      "text/plain": [
       "<matplotlib.figure.Figure at 0x7bc5c128>"
      ]
     },
     "metadata": {},
     "output_type": "display_data"
    },
    {
     "data": {
      "image/png": "[encoded data removed]",
      "text/plain": [
       "<matplotlib.figure.Figure at 0xa89a7940>"
      ]
     },
     "metadata": {},
     "output_type": "display_data"
    }
   ],
   "source": [
    "plt.scatter(crew_test_forest_model_analysis_df['f1-score'], crew_test_sgd_model_analysis_df['f1-score'])\n",
    "plt.ylabel('SGD Model')\n",
    "plt.xlabel('Random Forest')\n",
    "plt.title('SGD vs Random Forest f1-score-Test Set (crew_data)')\n",
    "plt.show()\n",
    "plt.scatter(crew_train_forest_model_analysis_df['f1-score'], crew_train_sgd_model_analysis_df['f1-score'])\n",
    "plt.ylabel('SGD Model')\n",
    "plt.xlabel('Random Forest')\n",
    "plt.title('SGD vs Random Forest f1-score-Train Set (crew_data)')\n",
    "plt.show()"
   ]
  },
  {
   "cell_type": "markdown",
   "metadata": {},
   "source": [
    "### Models based on textual overview dataset"
   ]
  },
  {
   "cell_type": "code",
   "execution_count": 46,
   "metadata": {
    "collapsed": false
   },
   "outputs": [
    {
     "data": {
      "image/png": "[encoded data removed]",
      "text/plain": [
       "<matplotlib.figure.Figure at 0xa89ddcf8>"
      ]
     },
     "metadata": {},
     "output_type": "display_data"
    },
    {
     "data": {
      "image/png": "[encoded data removed]",
      "text/plain": [
       "<matplotlib.figure.Figure at 0x760e7748>"
      ]
     },
     "metadata": {},
     "output_type": "display_data"
    }
   ],
   "source": [
    "plt.scatter(overview_test_forest_model_analysis_df['precision'], overview_test_sgd_model_analysis_df['precision'])\n",
    "plt.ylabel('SGD Model')\n",
    "plt.xlabel('Random Forest')\n",
    "plt.title('SGD vs Random Forest Precision-Test Set (overview textual data)')\n",
    "plt.show()\n",
    "plt.scatter(overview_train_forest_model_analysis_df['precision'], overview_train_sgd_model_analysis_df['precision'])\n",
    "plt.ylabel('SGD Model')\n",
    "plt.xlabel('Random Forest')\n",
    "plt.title('SGD vs Random Forest Precision-Train Set (overview textual  data)')\n",
    "plt.show()"
   ]
  },
  {
   "cell_type": "code",
   "execution_count": 47,
   "metadata": {
    "collapsed": false
   },
   "outputs": [
    {
     "data": {
      "image/png": "[encoded data removed]",
      "text/plain": [
       "<matplotlib.figure.Figure at 0x118bd3550>"
      ]
     },
     "metadata": {},
     "output_type": "display_data"
    },
    {
     "data": {
      "image/png": "[encoded data removed]",
      "text/plain": [
       "<matplotlib.figure.Figure at 0x475c6f60>"
      ]
     },
     "metadata": {},
     "output_type": "display_data"
    }
   ],
   "source": [
    "plt.scatter(overview_test_forest_model_analysis_df['recall'], overview_test_sgd_model_analysis_df['recall'])\n",
    "plt.ylabel('SGD Model')\n",
    "plt.xlabel('Random Forest')\n",
    "plt.title('SGD vs Random Forest recall-Test Set (overview textual data)')\n",
    "plt.show()\n",
    "plt.scatter(overview_train_forest_model_analysis_df['recall'], overview_train_sgd_model_analysis_df['recall'])\n",
    "plt.ylabel('SGD Model')\n",
    "plt.xlabel('Random Forest')\n",
    "plt.title('SGD vs Random Forest recall-Train Set (overview textual data)')\n",
    "plt.show()"
   ]
  },
  {
   "cell_type": "code",
   "execution_count": 48,
   "metadata": {
    "collapsed": false
   },
   "outputs": [
    {
     "data": {
      "image/png": "[encoded data removed]",
      "text/plain": [
       "<matplotlib.figure.Figure at 0x1171db2b0>"
      ]
     },
     "metadata": {},
     "output_type": "display_data"
    },
    {
     "data": {
      "image/png": "[encoded data removed]",
      "text/plain": [
       "<matplotlib.figure.Figure at 0x118a65ef0>"
      ]
     },
     "metadata": {},
     "output_type": "display_data"
    }
   ],
   "source": [
    "plt.scatter(overview_test_forest_model_analysis_df['f1-score'], overview_test_sgd_model_analysis_df['f1-score'])\n",
    "plt.ylabel('SGD Model')\n",
    "plt.xlabel('Random Forest')\n",
    "plt.title('SGD vs Random Forest f1-score-Test Set (overview textual data)')\n",
    "plt.show()\n",
    "plt.scatter(overview_train_forest_model_analysis_df['f1-score'], overview_train_sgd_model_analysis_df['f1-score'])\n",
    "plt.ylabel('SGD Model')\n",
    "plt.xlabel('Random Forest')\n",
    "plt.title('SGD vs Random Forest f1-score-Train Set (overview textual data)')\n",
    "plt.show()"
   ]
  },
  {
   "cell_type": "markdown",
   "metadata": {
    "collapsed": true
   },
   "source": [
    "# Discussion of the differences between the models, their strengths, weaknesses, etc."
   ]
  },
  {
   "cell_type": "markdown",
   "metadata": {},
   "source": []
  },
  {
   "cell_type": "markdown",
   "metadata": {},
   "source": [
    "# Discussion of the performances you achieved, and how you might be able to improve them in the future"
   ]
  },
  {
   "cell_type": "markdown",
   "metadata": {},
   "source": []
  }
 ],
 "metadata": {
  "anaconda-cloud": {},
  "kernelspec": {
   "display_name": "Python 2",
   "language": "python",
   "name": "python2"
  },
  "language_info": {
   "codemirror_mode": {
    "name": "ipython",
    "version": 2
   },
   "file_extension": ".py",
   "mimetype": "text/x-python",
   "name": "python",
   "nbconvert_exporter": "python",
   "pygments_lexer": "ipython2",
   "version": "2.7.13"
  }
 },
 "nbformat": 4,
 "nbformat_minor": 0
}
