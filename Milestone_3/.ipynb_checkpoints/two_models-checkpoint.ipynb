{
 "cells": [
  {
   "cell_type": "markdown",
   "metadata": {},
   "source": [
    "### Milestone 3: Traditional statistical and machine learning methods, due Wednesday, April 19, 2017\n",
    "\n",
    "Think about how you would address the genre prediction problem with traditional statistical or machine learning methods. This includes everything you learned about modeling in this course before the deep learning part. Implement your ideas and compare different classifiers. Report your results and discuss what challenges you faced and how you overcame them. What works and what does not? If there are parts that do not work as expected, make sure to discuss briefly what you think is the cause and how you would address this if you would have more time and resources. \n",
    "\n",
    "You do not necessarily need to use the movie posters for this step, but even without a background in computer vision, there are very simple features you can extract from the posters to help guide a traditional machine learning model. Think about the PCA lecture for example, or how to use clustering to extract color information. In addition to considering the movie posters it would be worthwhile to have a look at the metadata that IMDb provides. \n",
    "\n",
    "You could use Spark and the [ML library](https://spark.apache.org/docs/latest/ml-features.html#word2vec) to build your model features from the data. This may be especially beneficial if you use additional data, e.g., in text form.\n",
    "\n",
    "You also need to think about how you are going to evaluate your classifier. Which metrics or scores will you report to show how good the performance is?\n",
    "\n",
    "The notebook to submit this week should at least include:\n",
    "\n",
    "- Detailed description and implementation of two different models\n",
    "- Description of your performance metrics\n",
    "- Careful performance evaluations for both models\n",
    "- Visualizations of the metrics for performance evaluation\n",
    "- Discussion of the differences between the models, their strengths, weaknesses, etc. \n",
    "- Discussion of the performances you achieved, and how you might be able to improve them in the future\n",
    "\n",
    "#### Preliminary Peer Assessment\n",
    "\n",
    "It is important to provide positive feedback to people who truly worked hard for the good of the team and to also make suggestions to those you perceived not to be working as effectively on team tasks. We ask you to provide an honest assessment of the contributions of the members of your team, including yourself. The feedback you provide should reflect your judgment of each team member’s:\n",
    "\n",
    "- Preparation – were they prepared during team meetings?\n",
    "- Contribution – did they contribute productively to the team discussion and work?\n",
    "- Respect for others’ ideas – did they encourage others to contribute their ideas?\n",
    "- Flexibility – were they flexible when disagreements occurred?\n",
    "\n",
    "Your teammate’s assessment of your contributions and the accuracy of your self-assessment will be considered as part of your overall project score.\n",
    "\n",
    "Preliminary Peer Assessment: [https://goo.gl/forms/WOYC7pwRCSU0yV3l1](https://goo.gl/forms/WOYC7pwRCSU0yV3l1)"
   ]
  },
  {
   "cell_type": "code",
   "execution_count": 4,
   "metadata": {
    "collapsed": false
   },
   "outputs": [],
   "source": [
    "import cPickle\n",
    "\n",
    "import numpy as np\n",
    "import pandas as pd\n",
    "from nltk.corpus import stopwords\n",
    "from sklearn.ensemble import RandomForestClassifier\n",
    "from sklearn.feature_extraction.text import TfidfVectorizer\n",
    "from sklearn.linear_model import SGDClassifier\n",
    "from sklearn.metrics import make_scorer, hamming_loss, classification_report\n",
    "from sklearn.model_selection import train_test_split, GridSearchCV\n",
    "from sklearn.multiclass import OneVsRestClassifier\n",
    "from sklearn.preprocessing import MultiLabelBinarizer\n",
    "\n",
    "\n",
    "def load_part(file_name):\n",
    "    with open(file_name, 'rb') as handle:\n",
    "        return cPickle.load(handle)\n",
    "\n",
    "\n",
    "def prepare_data():\n",
    "    root_folder = '..'\n",
    "\n",
    "    plot_dict = load_part(root_folder + '/data/plot.pickle')\n",
    "    # imdb_dict = load_part(root_folder + '/data/cast.pickle')\n",
    "\n",
    "    # load TMDB\n",
    "    tmdb_dict = load_part(root_folder + '/data/tmdb_info.pickle')\n",
    "    columns = [\n",
    "        'director',\n",
    "        'cast',\n",
    "        'casting director',\n",
    "        'miscellaneous crew',\n",
    "        'original music',\n",
    "        'producer',\n",
    "        'cinematographer',\n",
    "        'costume designer',\n",
    "        'art direction',\n",
    "    ]\n",
    "\n",
    "    # add 'overview' from TMDB to 'plot' from IMDB (it is a list)\n",
    "    for tmdb_id, imdb_movie in plot_dict.iteritems():\n",
    "        if ('plot' in imdb_movie and tmdb_id in tmdb_dict and 'overview' in tmdb_dict[tmdb_id].__dict__ and\n",
    "                    tmdb_dict[tmdb_id].__dict__['overview'] is not None):\n",
    "            imdb_movie['plot'].append(tmdb_dict[tmdb_id].__dict__['overview'])\n",
    "\n",
    "    labels = np.array([d['genres'] for d in plot_dict.values() if 'genres' in d and 'plot' in d])\n",
    "\n",
    "    mlb = MultiLabelBinarizer()\n",
    "    label_df = pd.DataFrame(mlb.fit_transform(labels))\n",
    "    label_df.columns = mlb.classes_\n",
    "    label_number_df = pd.DataFrame({'cnt': label_df.sum(axis=0)})\n",
    "\n",
    "    # only leave genres mentioned in 2000 movies or more\n",
    "    cutoff = 2000\n",
    "    major_genres = set(label_number_df[label_number_df['cnt'] > cutoff].index)\n",
    "\n",
    "    # find labels only for the major genres\n",
    "    labels = np.array(\n",
    "        [major_genres.intersection(d['genres']) for d in plot_dict.values() if 'genres' in d and 'plot' in d])\n",
    "\n",
    "    # create the labels vector with only major genres\n",
    "    mlb = MultiLabelBinarizer()\n",
    "    y = mlb.fit_transform(labels)\n",
    "\n",
    "    # the plot consists of a few parts, join them together\n",
    "    text_features = np.array([''.join(d['plot']) for d in plot_dict.values() if 'genres' in d and 'plot' in d])\n",
    "\n",
    "    return text_features, y, mlb.classes_\n",
    "\n",
    "\n",
    "def get_sample(text_features, y):\n",
    "    n_elements = len(text_features)\n",
    "\n",
    "    np.random.seed(109)\n",
    "    sample_indices = np.random.choice(n_elements, size=10000, replace=False)\n",
    "\n",
    "    text_features_sample = text_features[sample_indices]\n",
    "    y_sample = y[sample_indices]\n",
    "\n",
    "    return text_features_sample, y_sample\n",
    "\n",
    "\n",
    "text_features, y, mlb_classes = prepare_data()\n",
    "text_features_sample, y_sample = get_sample(text_features, y)"
   ]
  },
  {
   "cell_type": "code",
   "execution_count": 5,
   "metadata": {
    "collapsed": false,
    "scrolled": false
   },
   "outputs": [
    {
     "name": "stdout",
     "output_type": "stream",
     "text": [
      "Train label matrix shape: (7500L, 15L)\n",
      "Train predictor matrix shape: (7500, 44082)\n",
      "Test label matrix shape: (2500L, 15L)\n",
      "Test predictor matrix shape: (2500, 44082)\n"
     ]
    }
   ],
   "source": [
    "# split into test / train data\n",
    "F_train, F_test, y_train, y_test = train_test_split(text_features_sample, y_sample, test_size=0.25, random_state=42)\n",
    "# convert into bag of words\n",
    "vectorizer = TfidfVectorizer(\n",
    "    stop_words=stopwords.words(\"english\"),\n",
    "    token_pattern='[a-zA-Z]+[0-9]*',\n",
    "    max_df=0.9,\n",
    "    min_df=0.0001,\n",
    "    dtype=np.float32,\n",
    ")\n",
    "X_train = vectorizer.fit_transform(F_train)\n",
    "X_test = vectorizer.transform(F_test)\n",
    "print 'Train label matrix shape:', y_train.shape\n",
    "print 'Train predictor matrix shape:', X_train.shape\n",
    "print 'Test label matrix shape:', y_test.shape\n",
    "print 'Test predictor matrix shape:', X_test.shape"
   ]
  },
  {
   "cell_type": "code",
   "execution_count": 6,
   "metadata": {
    "collapsed": false
   },
   "outputs": [
    {
     "name": "stdout",
     "output_type": "stream",
     "text": [
      "Fitting 3 folds for each of 30 candidates, totalling 90 fits\n"
     ]
    },
    {
     "name": "stderr",
     "output_type": "stream",
     "text": [
      "[Parallel(n_jobs=2)]: Done  46 tasks      | elapsed:    8.6s\n",
      "[Parallel(n_jobs=2)]: Done  90 out of  90 | elapsed:   13.3s finished\n"
     ]
    },
    {
     "name": "stdout",
     "output_type": "stream",
     "text": [
      "{'estimator__alpha': 0.00010826367338740541}\n",
      "             precision    recall  f1-score   support\n",
      "\n",
      "     Action       0.99      0.75      0.85       826\n",
      "  Adventure       1.00      0.61      0.76       588\n",
      "  Animation       1.00      0.82      0.90       528\n",
      "     Comedy       0.99      0.88      0.93      2182\n",
      "      Crime       1.00      0.68      0.81       732\n",
      "Documentary       0.99      0.95      0.97       878\n",
      "      Drama       0.96      0.93      0.94      3139\n",
      "     Family       1.00      0.65      0.79       573\n",
      "    Fantasy       1.00      0.54      0.70       431\n",
      "     Horror       0.99      0.87      0.93       806\n",
      "    Mystery       1.00      0.51      0.68       448\n",
      "    Romance       0.99      0.71      0.83      1080\n",
      "     Sci-Fi       1.00      0.82      0.90       460\n",
      "      Short       1.00      0.73      0.85       830\n",
      "   Thriller       0.99      0.69      0.81      1035\n",
      "\n",
      "avg / total       0.99      0.80      0.87     14536\n",
      "\n",
      "             precision    recall  f1-score   support\n",
      "\n",
      "     Action       0.75      0.18      0.29       300\n",
      "  Adventure       0.79      0.10      0.17       195\n",
      "  Animation       0.96      0.28      0.44       158\n",
      "     Comedy       0.68      0.47      0.55       673\n",
      "      Crime       0.63      0.20      0.30       260\n",
      "Documentary       0.91      0.57      0.70       287\n",
      "      Drama       0.70      0.62      0.66      1120\n",
      "     Family       0.82      0.17      0.28       168\n",
      "    Fantasy       0.83      0.08      0.14       126\n",
      "     Horror       0.84      0.45      0.58       253\n",
      "    Mystery       0.61      0.08      0.15       131\n",
      "    Romance       0.53      0.17      0.26       339\n",
      "     Sci-Fi       0.79      0.33      0.47       124\n",
      "      Short       0.87      0.21      0.34       246\n",
      "   Thriller       0.50      0.15      0.23       337\n",
      "\n",
      "avg / total       0.72      0.36      0.45      4717\n",
      "\n"
     ]
    }
   ],
   "source": [
    "def sgd(X_test, X_train, y_test, y_train, mlb_classes):\n",
    "    param_grid = {\n",
    "        'estimator__alpha': np.logspace(-5, -3, num=30),\n",
    "    }\n",
    "    model = OneVsRestClassifier(SGDClassifier(random_state=761))\n",
    "    model_tuning = GridSearchCV(\n",
    "        model,\n",
    "        param_grid=param_grid,\n",
    "        scoring=make_scorer(hamming_loss, greater_is_better=False),\n",
    "        n_jobs=2,\n",
    "        verbose=1,\n",
    "    )\n",
    "    model_tuning.fit(X_train, y_train)\n",
    "    print model_tuning.best_params_\n",
    "    print classification_report(y_train, model_tuning.predict(X_train), target_names=mlb_classes)\n",
    "    print classification_report(y_test, model_tuning.predict(X_test), target_names=mlb_classes)\n",
    "\n",
    "    \n",
    "sgd(X_test, X_train, y_test, y_train, mlb_classes)"
   ]
  },
  {
   "cell_type": "code",
   "execution_count": 7,
   "metadata": {
    "collapsed": false
   },
   "outputs": [
    {
     "name": "stdout",
     "output_type": "stream",
     "text": [
      "Fitting 3 folds for each of 12 candidates, totalling 36 fits\n"
     ]
    },
    {
     "name": "stderr",
     "output_type": "stream",
     "text": [
      "[Parallel(n_jobs=2)]: Done  28 tasks      | elapsed:  3.1min\n",
      "[Parallel(n_jobs=2)]: Done  36 out of  36 | elapsed:  5.5min finished\n"
     ]
    },
    {
     "name": "stdout",
     "output_type": "stream",
     "text": [
      "{'max_features': 0.2, 'min_samples_leaf': 2}\n",
      "             precision    recall  f1-score   support\n",
      "\n",
      "     Action       1.00      0.51      0.68       826\n",
      "  Adventure       1.00      0.32      0.48       588\n",
      "  Animation       1.00      0.48      0.65       528\n",
      "     Comedy       0.99      0.87      0.93      2182\n",
      "      Crime       1.00      0.56      0.71       732\n",
      "Documentary       0.98      0.82      0.89       878\n",
      "      Drama       0.99      0.97      0.98      3139\n",
      "     Family       1.00      0.40      0.57       573\n",
      "    Fantasy       1.00      0.26      0.41       431\n",
      "     Horror       1.00      0.64      0.78       806\n",
      "    Mystery       1.00      0.34      0.51       448\n",
      "    Romance       1.00      0.67      0.80      1080\n",
      "     Sci-Fi       1.00      0.45      0.62       460\n",
      "      Short       0.99      0.47      0.64       830\n",
      "   Thriller       1.00      0.61      0.76      1035\n",
      "\n",
      "avg / total       0.99      0.68      0.78     14536\n",
      "\n",
      "             precision    recall  f1-score   support\n",
      "\n",
      "     Action       1.00      0.01      0.01       300\n",
      "  Adventure       1.00      0.01      0.01       195\n",
      "  Animation       0.90      0.18      0.30       158\n",
      "     Comedy       0.73      0.19      0.30       673\n",
      "      Crime       0.53      0.06      0.11       260\n",
      "Documentary       0.90      0.50      0.64       287\n",
      "      Drama       0.61      0.62      0.61      1120\n",
      "     Family       0.91      0.06      0.11       168\n",
      "    Fantasy       0.00      0.00      0.00       126\n",
      "     Horror       0.70      0.17      0.28       253\n",
      "    Mystery       0.00      0.00      0.00       131\n",
      "    Romance       0.65      0.13      0.22       339\n",
      "     Sci-Fi       0.93      0.11      0.20       124\n",
      "      Short       0.82      0.13      0.22       246\n",
      "   Thriller       0.45      0.04      0.08       337\n",
      "\n",
      "avg / total       0.68      0.25      0.30      4717\n",
      "\n"
     ]
    },
    {
     "name": "stderr",
     "output_type": "stream",
     "text": [
      "C:\\Users\\Timur\\Miniconda3\\envs\\py27\\lib\\site-packages\\sklearn\\metrics\\classification.py:1113: UndefinedMetricWarning: Precision and F-score are ill-defined and being set to 0.0 in labels with no predicted samples.\n",
      "  'precision', 'predicted', average, warn_for)\n"
     ]
    }
   ],
   "source": [
    "def random_forest(X_test, X_train, y_test, y_train, mlb_classes):\n",
    "    param_grid = {\n",
    "        'min_samples_leaf': (1, 2, 50),\n",
    "        'max_features': ('auto', 'sqrt', 'log2', 0.2),\n",
    "    }\n",
    "    model = RandomForestClassifier(n_estimators=50, random_state=761)\n",
    "    model_tuning = GridSearchCV(\n",
    "        model,\n",
    "        param_grid=param_grid,\n",
    "        scoring=make_scorer(hamming_loss, greater_is_better=False),\n",
    "        cv=3,\n",
    "        n_jobs=2,\n",
    "        verbose=3,\n",
    "    )\n",
    "    model_tuning.fit(X_train, y_train)\n",
    "    print model_tuning.best_params_\n",
    "    print classification_report(y_train, model_tuning.predict(X_train), target_names=mlb_classes)\n",
    "    print classification_report(y_test, model_tuning.predict(X_test), target_names=mlb_classes)\n",
    "\n",
    "    \n",
    "random_forest(X_test, X_train, y_test, y_train, mlb_classes)"
   ]
  },
  {
   "cell_type": "code",
   "execution_count": null,
   "metadata": {
    "collapsed": true
   },
   "outputs": [],
   "source": [
    ""
   ]
  }
 ],
 "metadata": {
  "anaconda-cloud": {},
  "kernelspec": {
   "display_name": "Python 2",
   "language": "python",
   "name": "python2"
  },
  "language_info": {
   "codemirror_mode": {
    "name": "ipython",
    "version": 2.0
   },
   "file_extension": ".py",
   "mimetype": "text/x-python",
   "name": "python",
   "nbconvert_exporter": "python",
   "pygments_lexer": "ipython2",
   "version": "2.7.12"
  }
 },
 "nbformat": 4,
 "nbformat_minor": 0
}