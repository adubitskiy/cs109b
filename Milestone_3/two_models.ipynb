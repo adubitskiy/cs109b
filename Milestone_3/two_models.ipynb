{
 "cells": [
  {
   "cell_type": "markdown",
   "metadata": {},
   "source": [
    "### Milestone 3: Traditional statistical and machine learning methods, due Wednesday, April 19, 2017\n",
    "\n",
    "Think about how you would address the genre prediction problem with traditional statistical or machine learning methods. This includes everything you learned about modeling in this course before the deep learning part. Implement your ideas and compare different classifiers. Report your results and discuss what challenges you faced and how you overcame them. What works and what does not? If there are parts that do not work as expected, make sure to discuss briefly what you think is the cause and how you would address this if you would have more time and resources. \n",
    "\n",
    "You do not necessarily need to use the movie posters for this step, but even without a background in computer vision, there are very simple features you can extract from the posters to help guide a traditional machine learning model. Think about the PCA lecture for example, or how to use clustering to extract color information. In addition to considering the movie posters it would be worthwhile to have a look at the metadata that IMDb provides. \n",
    "\n",
    "You could use Spark and the [ML library](https://spark.apache.org/docs/latest/ml-features.html#word2vec) to build your model features from the data. This may be especially beneficial if you use additional data, e.g., in text form.\n",
    "\n",
    "You also need to think about how you are going to evaluate your classifier. Which metrics or scores will you report to show how good the performance is?\n",
    "\n",
    "The notebook to submit this week should at least include:\n",
    "\n",
    "- Detailed description and implementation of two different models\n",
    "- Description of your performance metrics\n",
    "- Careful performance evaluations for both models\n",
    "- Visualizations of the metrics for performance evaluation\n",
    "- Discussion of the differences between the models, their strengths, weaknesses, etc. \n",
    "- Discussion of the performances you achieved, and how you might be able to improve them in the future\n",
    "\n",
    "#### Preliminary Peer Assessment\n",
    "\n",
    "It is important to provide positive feedback to people who truly worked hard for the good of the team and to also make suggestions to those you perceived not to be working as effectively on team tasks. We ask you to provide an honest assessment of the contributions of the members of your team, including yourself. The feedback you provide should reflect your judgment of each team member’s:\n",
    "\n",
    "- Preparation – were they prepared during team meetings?\n",
    "- Contribution – did they contribute productively to the team discussion and work?\n",
    "- Respect for others’ ideas – did they encourage others to contribute their ideas?\n",
    "- Flexibility – were they flexible when disagreements occurred?\n",
    "\n",
    "Your teammate’s assessment of your contributions and the accuracy of your self-assessment will be considered as part of your overall project score.\n",
    "\n",
    "Preliminary Peer Assessment: [https://goo.gl/forms/WOYC7pwRCSU0yV3l1](https://goo.gl/forms/WOYC7pwRCSU0yV3l1)"
   ]
  },
  {
   "cell_type": "code",
   "execution_count": 1,
   "metadata": {
    "collapsed": true
   },
   "outputs": [],
   "source": [
    "import cPickle\n",
    "\n",
    "import numpy as np\n",
    "import pandas as pd\n",
    "from nltk.corpus import stopwords\n",
    "from sklearn.ensemble import RandomForestClassifier\n",
    "from sklearn.feature_extraction.text import TfidfVectorizer\n",
    "from sklearn.feature_extraction.text import CountVectorizer\n",
    "from sklearn.linear_model import SGDClassifier\n",
    "from sklearn.metrics import make_scorer, hamming_loss, classification_report\n",
    "from sklearn.model_selection import train_test_split, GridSearchCV\n",
    "from sklearn.multiclass import OneVsRestClassifier\n",
    "from sklearn.preprocessing import MultiLabelBinarizer"
   ]
  },
  {
   "cell_type": "code",
   "execution_count": 2,
   "metadata": {
    "collapsed": true
   },
   "outputs": [],
   "source": [
    "def load_part(file_name):\n",
    "    with open(file_name, 'rb') as handle:\n",
    "        return cPickle.load(handle)"
   ]
  },
  {
   "cell_type": "code",
   "execution_count": 3,
   "metadata": {
    "collapsed": true
   },
   "outputs": [],
   "source": [
    "def get_sample(text_features, y):\n",
    "    n_elements = len(text_features)\n",
    "\n",
    "    np.random.seed(109)\n",
    "    sample_indices = np.random.choice(n_elements, size=10000, replace=False)\n",
    "\n",
    "    text_features_sample = text_features[sample_indices]\n",
    "    y_sample = y[sample_indices]\n",
    "\n",
    "    return text_features_sample, y_sample\n",
    "\n",
    "def cutoff_labels(labels, cutoff):\n",
    "    mlb = MultiLabelBinarizer()\n",
    "    label_df = pd.DataFrame(mlb.fit_transform(labels))\n",
    "    label_df.columns = mlb.classes_\n",
    "    label_number_df = pd.DataFrame({'cnt': label_df.sum(axis=0)})\n",
    "    major_genres = set(label_number_df[label_number_df['cnt'] > cutoff].index)\n",
    "    return major_genres"
   ]
  },
  {
   "cell_type": "code",
   "execution_count": 4,
   "metadata": {
    "collapsed": true
   },
   "outputs": [],
   "source": [
    "root_folder = '..'"
   ]
  },
  {
   "cell_type": "code",
   "execution_count": 5,
   "metadata": {
    "collapsed": true
   },
   "outputs": [],
   "source": [
    "# load TMDB movies dataset\n",
    "tmdb_movies = load_part(root_folder + '/data/tmdb_info.pickle')"
   ]
  },
  {
   "cell_type": "code",
   "execution_count": 6,
   "metadata": {
    "collapsed": false
   },
   "outputs": [],
   "source": [
    "def prepare_text_data(tmdb_dict):\n",
    "    plot_dict = load_part(root_folder + '/data/plot.pickle')\n",
    "\n",
    "    # add 'overview' from TMDB to 'plot' from IMDB (it is a list)\n",
    "    for tmdb_id, imdb_movie in plot_dict.iteritems():\n",
    "        if ('plot' in imdb_movie and tmdb_id in tmdb_dict and 'overview' in tmdb_dict[tmdb_id].__dict__ and\n",
    "                    tmdb_dict[tmdb_id].__dict__['overview'] is not None):\n",
    "            imdb_movie['plot'].append(tmdb_dict[tmdb_id].__dict__['overview'])\n",
    "\n",
    "    labels = np.array([d['genres'] for d in plot_dict.values() if 'genres' in d and 'plot' in d])\n",
    "    # only leave generes mentioned in 2000 movies or more\n",
    "    major_genres = cutoff_labels(labels, 2000)\n",
    "    labels = np.array(\n",
    "        [major_genres.intersection(d['genres']) for d in plot_dict.values() if 'genres' in d and 'plot' in d])    \n",
    "    # create the labels vector with only major genres\n",
    "    mlb = MultiLabelBinarizer()\n",
    "    y = mlb.fit_transform(labels)\n",
    "    # the plot consists of a few parts, join them together\n",
    "    features = np.array([''.join(d['plot']) for d in plot_dict.values() if 'genres' in d and 'plot' in d])\n",
    "    features_sample, y_sample = get_sample(features, y)\n",
    "    \n",
    "    vectorizer = TfidfVectorizer(\n",
    "        stop_words=stopwords.words(\"english\"),\n",
    "        token_pattern='[a-zA-Z]+[0-9]*',\n",
    "        max_df=0.9,\n",
    "        min_df=0.0001,\n",
    "        dtype=np.float32,\n",
    "    )\n",
    "    return (features_sample, y_sample, mlb.classes_, vectorizer)"
   ]
  },
  {
   "cell_type": "code",
   "execution_count": 7,
   "metadata": {
    "collapsed": false
   },
   "outputs": [],
   "source": [
    "def prepare_cast_data(tmdb_dict):\n",
    "    columns = [\n",
    "        'director',\n",
    "        'cast',\n",
    "        'casting director',\n",
    "        'miscellaneous crew',\n",
    "        'original music',\n",
    "        'producer',\n",
    "        'cinematographer',\n",
    "        'costume designer',\n",
    "        'art direction']\n",
    "    \n",
    "    cast_dict = load_part(root_folder + '/data/cast10K.pickle')\n",
    "    \n",
    "    # array of list of genres for every movie\n",
    "    labels = np.array([d['genres'] for d in cast_dict.values() if 'genres' in d])\n",
    "    # only leave generes mentioned in 100 movies or more\n",
    "    major_genres = cutoff_labels(labels, 100)\n",
    "    labels = np.array(\n",
    "        [major_genres.intersection(d['genres']) for d in cast_dict.values() if 'genres' in d])    \n",
    "    # create the labels vector with only major genres\n",
    "    mlb = MultiLabelBinarizer()\n",
    "    y = mlb.fit_transform(labels)\n",
    "\n",
    "    # combine all names separated by '|'\n",
    "    features = []\n",
    "    for tmdb_id, imdb_movie in cast_dict.iteritems():\n",
    "        if 'genres' not in imdb_movie:\n",
    "            continue\n",
    "        l = []\n",
    "        for c in columns:\n",
    "            if(c in imdb_movie):\n",
    "                l = l + [ c['name'].encode('utf-8') for c in imdb_movie[c]]\n",
    "        # add crew and cast from TMDB\n",
    "        if(tmdb_id in tmdb_dict):\n",
    "            tmdb_movie = tmdb_dict[tmdb_id].__dict__\n",
    "            if('crew' in tmdb_movie):\n",
    "                l = l + [c['name'].encode('utf-8') for c in tmdb_movie['crew']]\n",
    "            if('cast' in tmdb_movie):\n",
    "                l = l + [c['name'].encode('utf-8') for c in tmdb_movie['cast']]\n",
    "        # remove duplicates before joiniing\n",
    "        features.append('|'.join(set(l)))\n",
    "        \n",
    "    vectorizer = CountVectorizer( \n",
    "        max_df = 0.99,\n",
    "        min_df = 0.0002,\n",
    "        stop_words = stopwords.words(\"english\"), \n",
    "        tokenizer = lambda x: x.split('|'),\n",
    "        dtype = np.float32)\n",
    "        \n",
    "    return features, y, mlb.classes_, vectorizer"
   ]
  },
  {
   "cell_type": "code",
   "execution_count": 8,
   "metadata": {
    "collapsed": false
   },
   "outputs": [],
   "source": [
    "# get labes / features from the cast / crew data\n",
    "features, y, mlb_classes, vectorizer = prepare_cast_data(tmdb_movies)"
   ]
  },
  {
   "cell_type": "code",
   "execution_count": 9,
   "metadata": {
    "collapsed": false
   },
   "outputs": [],
   "source": [
    "# get labes / features from the text data\n",
    "#features, y, mlb_classes, vectorizer = prepare_text_data(tmdb_movies)"
   ]
  },
  {
   "cell_type": "code",
   "execution_count": 10,
   "metadata": {
    "collapsed": false,
    "scrolled": false
   },
   "outputs": [
    {
     "name": "stdout",
     "output_type": "stream",
     "text": [
      "Train label matrix shape: (7286L, 22L)\n",
      "Train predictor matrix shape: (7286, 39143)\n",
      "Test label matrix shape: (2429L, 22L)\n",
      "Test predictor matrix shape: (2429, 39143)\n"
     ]
    }
   ],
   "source": [
    "# split into test / train data\n",
    "F_train, F_test, y_train, y_test = train_test_split(features, y, test_size=0.25, random_state=42)\n",
    "# convert into bag of words\n",
    "X_train = vectorizer.fit_transform(F_train)\n",
    "X_test = vectorizer.transform(F_test)\n",
    "print 'Train label matrix shape:', y_train.shape\n",
    "print 'Train predictor matrix shape:', X_train.shape\n",
    "print 'Test label matrix shape:', y_test.shape\n",
    "print 'Test predictor matrix shape:', X_test.shape"
   ]
  },
  {
   "cell_type": "code",
   "execution_count": null,
   "metadata": {
    "collapsed": false
   },
   "outputs": [
    {
     "name": "stdout",
     "output_type": "stream",
     "text": [
      "Fitting 3 folds for each of 30 candidates, totalling 90 fits\n"
     ]
    },
    {
     "name": "stderr",
     "output_type": "stream",
     "text": [
      "[Parallel(n_jobs=-1)]: Done  34 tasks      | elapsed:   42.5s\n",
      "[Parallel(n_jobs=-1)]: Done  90 out of  90 | elapsed:  1.8min finished\n"
     ]
    },
    {
     "name": "stdout",
     "output_type": "stream",
     "text": [
      "{'estimator__alpha': 0.001}\n",
      "             precision    recall  f1-score   support\n",
      "\n",
      "     Action       0.95      0.95      0.95       797\n",
      "  Adventure       0.93      0.94      0.93       524\n",
      "  Animation       0.96      0.85      0.90       471\n",
      "  Biography       0.76      0.91      0.83       255\n",
      "     Comedy       0.99      0.88      0.93      2023\n",
      "      Crime       0.97      0.96      0.96       656\n",
      "Documentary       0.52      1.00      0.68       880\n",
      "      Drama       1.00      0.87      0.93      3006\n",
      "     Family       0.94      0.95      0.94       499\n",
      "    Fantasy       0.84      0.93      0.88       340\n",
      "    History       0.72      0.91      0.81       211\n",
      "     Horror       0.92      0.92      0.92       632\n",
      "      Music       0.86      0.90      0.88       305\n",
      "    Musical       0.68      0.96      0.79       218\n",
      "    Mystery       0.87      0.94      0.90       338\n",
      "    Romance       0.96      0.93      0.95       915\n",
      "     Sci-Fi       0.85      0.94      0.90       325\n",
      "      Short       0.53      1.00      0.69       803\n",
      "      Sport       0.62      0.92      0.74       139\n",
      "   Thriller       0.97      0.94      0.96       850\n",
      "        War       0.68      0.96      0.79       208\n",
      "    Western       0.80      1.00      0.89       220\n",
      "\n",
      "avg / total       0.89      0.92      0.89     14615\n",
      "\n",
      "             precision    recall  f1-score   support\n",
      "\n",
      "     Action       0.44      0.24      0.31       239\n",
      "  Adventure       0.32      0.22      0.26       166\n",
      "  Animation       0.83      0.49      0.61       175\n",
      "  Biography       0.14      0.18      0.16        71\n",
      "     Comedy       0.66      0.25      0.36       700\n",
      "      Crime       0.30      0.11      0.16       216\n",
      "Documentary       0.27      0.93      0.42       288\n",
      "      Drama       0.67      0.29      0.41       987\n",
      "     Family       0.61      0.34      0.44       158\n",
      "    Fantasy       0.25      0.15      0.18       129\n",
      "    History       0.09      0.14      0.11        70\n",
      "     Horror       0.40      0.14      0.20       249\n",
      "      Music       0.22      0.21      0.21        82\n",
      "    Musical       0.13      0.21      0.16        72\n",
      "    Mystery       0.13      0.08      0.10       123\n",
      "    Romance       0.40      0.15      0.22       352\n",
      "     Sci-Fi       0.31      0.23      0.26       126\n",
      "      Short       0.28      0.89      0.42       283\n",
      "      Sport       0.15      0.25      0.19        52\n",
      "   Thriller       0.40      0.16      0.22       307\n",
      "        War       0.12      0.17      0.14        81\n",
      "    Western       0.41      0.75      0.53        73\n",
      "\n",
      "avg / total       0.46      0.31      0.32      4999\n",
      "\n"
     ]
    }
   ],
   "source": [
    "def sgd(X_test, X_train, y_test, y_train, mlb_classes):\n",
    "    param_grid = {\n",
    "        'estimator__alpha': np.logspace(-5, -3, num=30),\n",
    "    }\n",
    "    model = OneVsRestClassifier(SGDClassifier(random_state=761, class_weight='balanced'))\n",
    "    model_tuning = GridSearchCV(\n",
    "        model,\n",
    "        param_grid=param_grid,\n",
    "        scoring=make_scorer(hamming_loss, greater_is_better=False),\n",
    "        n_jobs=-1,\n",
    "        verbose=1,\n",
    "    )\n",
    "    model_tuning.fit(X_train, y_train)\n",
    "    print model_tuning.best_params_\n",
    "    print classification_report(y_train, model_tuning.predict(X_train), target_names=mlb_classes)\n",
    "    print classification_report(y_test, model_tuning.predict(X_test), target_names=mlb_classes)\n",
    "\n",
    "    \n",
    "sgd(X_test, X_train, y_test, y_train, mlb_classes)"
   ]
  },
  {
   "cell_type": "code",
   "execution_count": null,
   "metadata": {
    "collapsed": false
   },
   "outputs": [
    {
     "name": "stdout",
     "output_type": "stream",
     "text": [
      "Fitting 3 folds for each of 12 candidates, totalling 36 fits\n"
     ]
    },
    {
     "name": "stderr",
     "output_type": "stream",
     "text": [
      "[Parallel(n_jobs=-1)]: Done  16 tasks      | elapsed:   56.2s\n"
     ]
    }
   ],
   "source": [
    "def random_forest(X_test, X_train, y_test, y_train, mlb_classes):\n",
    "    param_grid = {\n",
    "        'min_samples_leaf': (1, 2, 50),\n",
    "        'max_features': ('auto', 'sqrt', 'log2', 0.2),\n",
    "    }\n",
    "    model = RandomForestClassifier(n_estimators=50, random_state=761,class_weight='balanced')\n",
    "    model_tuning = GridSearchCV(\n",
    "        model,\n",
    "        param_grid=param_grid,\n",
    "        scoring=make_scorer(hamming_loss, greater_is_better=False),\n",
    "        cv=3,\n",
    "        n_jobs=-1,\n",
    "        verbose=3,\n",
    "    )\n",
    "    model_tuning.fit(X_train, y_train)\n",
    "    print model_tuning.best_params_\n",
    "    print classification_report(y_train, model_tuning.predict(X_train), target_names=mlb_classes)\n",
    "    print classification_report(y_test, model_tuning.predict(X_test), target_names=mlb_classes)\n",
    "\n",
    "    \n",
    "random_forest(X_test, X_train, y_test, y_train, mlb_classes)"
   ]
  }
 ],
 "metadata": {
  "anaconda-cloud": {},
  "kernelspec": {
   "display_name": "Python [default]",
   "language": "python",
   "name": "python2"
  },
  "language_info": {
   "codemirror_mode": {
    "name": "ipython",
    "version": 2
   },
   "file_extension": ".py",
   "mimetype": "text/x-python",
   "name": "python",
   "nbconvert_exporter": "python",
   "pygments_lexer": "ipython2",
   "version": "2.7.12"
  }
 },
 "nbformat": 4,
 "nbformat_minor": 0
}
