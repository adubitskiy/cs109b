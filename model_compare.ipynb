{
 "cells": [
  {
   "cell_type": "code",
   "execution_count": 3,
   "metadata": {
    "collapsed": false
   },
   "outputs": [],
   "source": [
    "import collections\n",
    "import pickle\n",
    "import numpy as np\n",
    "import pandas as pd\n",
    "from functools import partial\n",
    "from sklearn.metrics import classification_report\n",
    "\n",
    "import matplotlib.pyplot as plt\n",
    "%matplotlib inline"
   ]
  },
  {
   "cell_type": "code",
   "execution_count": 4,
   "metadata": {
    "collapsed": true
   },
   "outputs": [],
   "source": [
    "def report_to_df(clfreport):\n",
    "    lines = clfreport.split('\\n')\n",
    "    lines = filter(lambda l: not len(l.strip()) == 0, lines)\n",
    "\n",
    "    header = lines[0]\n",
    "    cls_lines = lines[1:-1]\n",
    "    avg_line = lines[-1]\n",
    "\n",
    "    assert header.split() == ['precision', 'recall', 'f1-score', 'support']\n",
    "    assert avg_line.split()[0] == 'avg'\n",
    "    cls_field_width = len(header) - len(header.lstrip())\n",
    "    \n",
    "    def parse_line(l):\n",
    "        \"\"\"Parse a line of classification_report\"\"\"\n",
    "        cls_name = l[:cls_field_width].strip()\n",
    "        precision, recall, fscore, support = l[cls_field_width:].split()\n",
    "        precision = float(precision)\n",
    "        recall = float(recall)\n",
    "        fscore = float(fscore)\n",
    "        support = int(support)\n",
    "        return [cls_name, precision, recall, fscore, support]\n",
    "\n",
    "    data = collections.OrderedDict()\n",
    "    for l in cls_lines:\n",
    "        ret = parse_line(l)\n",
    "        data[ret[0]] = ret[1:]\n",
    "    data['Total/avg'] = parse_line(avg_line)[1:]\n",
    "    df = pd.DataFrame.from_dict(data, orient = 'index')\n",
    "    df.columns = ['precision', 'recall', 'f1-score', 'support']\n",
    "    return df"
   ]
  },
  {
   "cell_type": "code",
   "execution_count": 5,
   "metadata": {
    "collapsed": true
   },
   "outputs": [],
   "source": [
    "# load SGD model classification report\n",
    "with open('models/sgd_20_report.pickle', 'rb') as handle:\n",
    "    sgd_report = pickle.load(handle)"
   ]
  },
  {
   "cell_type": "code",
   "execution_count": 36,
   "metadata": {
    "collapsed": true
   },
   "outputs": [],
   "source": [
    "# load forest model classification report\n",
    "with open('models/rfor_model.pickle', 'rb') as handle:\n",
    "    forest_report = pickle.load(handle)"
   ]
  },
  {
   "cell_type": "code",
   "execution_count": 37,
   "metadata": {
    "collapsed": false
   },
   "outputs": [
    {
     "name": "stdout",
     "output_type": "stream",
     "text": [
      "SGD model performance: \n"
     ]
    },
    {
     "data": {
      "text/html": [
       "<div>\n",
       "<table border=\"1\" class=\"dataframe\">\n",
       "  <thead>\n",
       "    <tr style=\"text-align: right;\">\n",
       "      <th></th>\n",
       "      <th>precision</th>\n",
       "      <th>recall</th>\n",
       "      <th>f1-score</th>\n",
       "      <th>support</th>\n",
       "    </tr>\n",
       "  </thead>\n",
       "  <tbody>\n",
       "    <tr>\n",
       "      <th>Action</th>\n",
       "      <td>0.574</td>\n",
       "      <td>0.493</td>\n",
       "      <td>0.530</td>\n",
       "      <td>882</td>\n",
       "    </tr>\n",
       "    <tr>\n",
       "      <th>Adventure</th>\n",
       "      <td>0.376</td>\n",
       "      <td>0.325</td>\n",
       "      <td>0.349</td>\n",
       "      <td>471</td>\n",
       "    </tr>\n",
       "    <tr>\n",
       "      <th>Animation</th>\n",
       "      <td>0.926</td>\n",
       "      <td>0.575</td>\n",
       "      <td>0.709</td>\n",
       "      <td>501</td>\n",
       "    </tr>\n",
       "    <tr>\n",
       "      <th>Comedy</th>\n",
       "      <td>0.703</td>\n",
       "      <td>0.387</td>\n",
       "      <td>0.499</td>\n",
       "      <td>1905</td>\n",
       "    </tr>\n",
       "    <tr>\n",
       "      <th>Crime</th>\n",
       "      <td>0.466</td>\n",
       "      <td>0.395</td>\n",
       "      <td>0.428</td>\n",
       "      <td>602</td>\n",
       "    </tr>\n",
       "    <tr>\n",
       "      <th>Documentary</th>\n",
       "      <td>0.625</td>\n",
       "      <td>0.939</td>\n",
       "      <td>0.750</td>\n",
       "      <td>913</td>\n",
       "    </tr>\n",
       "    <tr>\n",
       "      <th>Drama</th>\n",
       "      <td>0.683</td>\n",
       "      <td>0.749</td>\n",
       "      <td>0.715</td>\n",
       "      <td>3068</td>\n",
       "    </tr>\n",
       "    <tr>\n",
       "      <th>Family</th>\n",
       "      <td>0.481</td>\n",
       "      <td>0.431</td>\n",
       "      <td>0.455</td>\n",
       "      <td>473</td>\n",
       "    </tr>\n",
       "    <tr>\n",
       "      <th>Fantasy</th>\n",
       "      <td>0.310</td>\n",
       "      <td>0.296</td>\n",
       "      <td>0.303</td>\n",
       "      <td>307</td>\n",
       "    </tr>\n",
       "    <tr>\n",
       "      <th>Foreign</th>\n",
       "      <td>0.246</td>\n",
       "      <td>0.340</td>\n",
       "      <td>0.286</td>\n",
       "      <td>297</td>\n",
       "    </tr>\n",
       "    <tr>\n",
       "      <th>History</th>\n",
       "      <td>0.249</td>\n",
       "      <td>0.269</td>\n",
       "      <td>0.259</td>\n",
       "      <td>167</td>\n",
       "    </tr>\n",
       "    <tr>\n",
       "      <th>Horror</th>\n",
       "      <td>0.588</td>\n",
       "      <td>0.728</td>\n",
       "      <td>0.651</td>\n",
       "      <td>764</td>\n",
       "    </tr>\n",
       "    <tr>\n",
       "      <th>Music</th>\n",
       "      <td>0.573</td>\n",
       "      <td>0.526</td>\n",
       "      <td>0.549</td>\n",
       "      <td>306</td>\n",
       "    </tr>\n",
       "    <tr>\n",
       "      <th>Mystery</th>\n",
       "      <td>0.359</td>\n",
       "      <td>0.288</td>\n",
       "      <td>0.320</td>\n",
       "      <td>337</td>\n",
       "    </tr>\n",
       "    <tr>\n",
       "      <th>Romance</th>\n",
       "      <td>0.452</td>\n",
       "      <td>0.416</td>\n",
       "      <td>0.433</td>\n",
       "      <td>898</td>\n",
       "    </tr>\n",
       "    <tr>\n",
       "      <th>Science Fiction</th>\n",
       "      <td>0.497</td>\n",
       "      <td>0.436</td>\n",
       "      <td>0.464</td>\n",
       "      <td>360</td>\n",
       "    </tr>\n",
       "    <tr>\n",
       "      <th>TV Movie</th>\n",
       "      <td>0.243</td>\n",
       "      <td>0.343</td>\n",
       "      <td>0.284</td>\n",
       "      <td>169</td>\n",
       "    </tr>\n",
       "    <tr>\n",
       "      <th>Thriller</th>\n",
       "      <td>0.464</td>\n",
       "      <td>0.411</td>\n",
       "      <td>0.436</td>\n",
       "      <td>959</td>\n",
       "    </tr>\n",
       "    <tr>\n",
       "      <th>War</th>\n",
       "      <td>0.420</td>\n",
       "      <td>0.503</td>\n",
       "      <td>0.458</td>\n",
       "      <td>183</td>\n",
       "    </tr>\n",
       "    <tr>\n",
       "      <th>Western</th>\n",
       "      <td>0.731</td>\n",
       "      <td>0.712</td>\n",
       "      <td>0.721</td>\n",
       "      <td>222</td>\n",
       "    </tr>\n",
       "    <tr>\n",
       "      <th>Total/avg</th>\n",
       "      <td>0.575</td>\n",
       "      <td>0.544</td>\n",
       "      <td>0.548</td>\n",
       "      <td>13784</td>\n",
       "    </tr>\n",
       "  </tbody>\n",
       "</table>\n",
       "</div>"
      ],
      "text/plain": [
       "                 precision  recall  f1-score  support\n",
       "Action               0.574   0.493     0.530      882\n",
       "Adventure            0.376   0.325     0.349      471\n",
       "Animation            0.926   0.575     0.709      501\n",
       "Comedy               0.703   0.387     0.499     1905\n",
       "Crime                0.466   0.395     0.428      602\n",
       "Documentary          0.625   0.939     0.750      913\n",
       "Drama                0.683   0.749     0.715     3068\n",
       "Family               0.481   0.431     0.455      473\n",
       "Fantasy              0.310   0.296     0.303      307\n",
       "Foreign              0.246   0.340     0.286      297\n",
       "History              0.249   0.269     0.259      167\n",
       "Horror               0.588   0.728     0.651      764\n",
       "Music                0.573   0.526     0.549      306\n",
       "Mystery              0.359   0.288     0.320      337\n",
       "Romance              0.452   0.416     0.433      898\n",
       "Science Fiction      0.497   0.436     0.464      360\n",
       "TV Movie             0.243   0.343     0.284      169\n",
       "Thriller             0.464   0.411     0.436      959\n",
       "War                  0.420   0.503     0.458      183\n",
       "Western              0.731   0.712     0.721      222\n",
       "Total/avg            0.575   0.544     0.548    13784"
      ]
     },
     "execution_count": 37,
     "metadata": {},
     "output_type": "execute_result"
    }
   ],
   "source": [
    "print 'SGD model performance: '\n",
    "sgd_report_df = report_to_df(sgd_report)\n",
    "sgd_report_df"
   ]
  },
  {
   "cell_type": "code",
   "execution_count": 45,
   "metadata": {
    "collapsed": false
   },
   "outputs": [],
   "source": [
    "forest_model = forest_report['class']"
   ]
  },
  {
   "cell_type": "code",
   "execution_count": 46,
   "metadata": {
    "collapsed": false
   },
   "outputs": [
    {
     "name": "stdout",
     "output_type": "stream",
     "text": [
      "             precision  recall  f1-score  support\n",
      "Action           0.500   0.005     0.010      200\n",
      "Adventure        0.000   0.000     0.000      159\n",
      "Animation        0.885   0.158     0.267      146\n",
      "Comedy           0.849   0.086     0.156      525\n",
      "Crime            0.600   0.050     0.092      181\n",
      "Documentary      0.909   0.264     0.410      227\n",
      "Drama            0.610   0.269     0.373      837\n",
      "Family           0.864   0.128     0.222      149\n",
      "Fantasy          0.000   0.000     0.000      105\n",
      "Horror           0.000   0.000     0.000      178\n",
      "Mystery          0.000   0.000     0.000       93\n",
      "Romance          0.625   0.034     0.064      295\n",
      "Sci-Fi           0.000   0.000     0.000       94\n",
      "Short            0.750   0.150     0.250      200\n",
      "Thriller         0.000   0.000     0.000      264\n",
      "Total/avg        0.537   0.116     0.177     3653\n"
     ]
    }
   ],
   "source": [
    "print forest_model"
   ]
  },
  {
   "cell_type": "code",
   "execution_count": 47,
   "metadata": {
    "collapsed": false
   },
   "outputs": [],
   "source": [
    "# load inseption V3 based model classification report\n",
    "with open('models/cnn_v3_20_report.pickle', 'rb') as handle:\n",
    "    v3_report = pickle.load(handle)"
   ]
  },
  {
   "cell_type": "code",
   "execution_count": 48,
   "metadata": {
    "collapsed": false
   },
   "outputs": [
    {
     "name": "stdout",
     "output_type": "stream",
     "text": [
      "Inception V3 based CNN model performance: \n"
     ]
    },
    {
     "data": {
      "text/html": [
       "<div>\n",
       "<table border=\"1\" class=\"dataframe\">\n",
       "  <thead>\n",
       "    <tr style=\"text-align: right;\">\n",
       "      <th></th>\n",
       "      <th>precision</th>\n",
       "      <th>recall</th>\n",
       "      <th>f1-score</th>\n",
       "      <th>support</th>\n",
       "    </tr>\n",
       "  </thead>\n",
       "  <tbody>\n",
       "    <tr>\n",
       "      <th>Action</th>\n",
       "      <td>0.597</td>\n",
       "      <td>0.536</td>\n",
       "      <td>0.565</td>\n",
       "      <td>640</td>\n",
       "    </tr>\n",
       "    <tr>\n",
       "      <th>Adventure</th>\n",
       "      <td>0.685</td>\n",
       "      <td>0.533</td>\n",
       "      <td>0.599</td>\n",
       "      <td>323</td>\n",
       "    </tr>\n",
       "    <tr>\n",
       "      <th>Animation</th>\n",
       "      <td>0.727</td>\n",
       "      <td>0.745</td>\n",
       "      <td>0.736</td>\n",
       "      <td>400</td>\n",
       "    </tr>\n",
       "    <tr>\n",
       "      <th>Comedy</th>\n",
       "      <td>0.571</td>\n",
       "      <td>0.552</td>\n",
       "      <td>0.561</td>\n",
       "      <td>1470</td>\n",
       "    </tr>\n",
       "    <tr>\n",
       "      <th>Crime</th>\n",
       "      <td>0.568</td>\n",
       "      <td>0.533</td>\n",
       "      <td>0.550</td>\n",
       "      <td>368</td>\n",
       "    </tr>\n",
       "    <tr>\n",
       "      <th>Documentary</th>\n",
       "      <td>0.582</td>\n",
       "      <td>0.618</td>\n",
       "      <td>0.599</td>\n",
       "      <td>829</td>\n",
       "    </tr>\n",
       "    <tr>\n",
       "      <th>Drama</th>\n",
       "      <td>0.613</td>\n",
       "      <td>0.602</td>\n",
       "      <td>0.607</td>\n",
       "      <td>2182</td>\n",
       "    </tr>\n",
       "    <tr>\n",
       "      <th>Family</th>\n",
       "      <td>0.688</td>\n",
       "      <td>0.619</td>\n",
       "      <td>0.652</td>\n",
       "      <td>349</td>\n",
       "    </tr>\n",
       "    <tr>\n",
       "      <th>Fantasy</th>\n",
       "      <td>0.756</td>\n",
       "      <td>0.544</td>\n",
       "      <td>0.633</td>\n",
       "      <td>217</td>\n",
       "    </tr>\n",
       "    <tr>\n",
       "      <th>Foreign</th>\n",
       "      <td>0.721</td>\n",
       "      <td>0.488</td>\n",
       "      <td>0.582</td>\n",
       "      <td>207</td>\n",
       "    </tr>\n",
       "    <tr>\n",
       "      <th>History</th>\n",
       "      <td>0.875</td>\n",
       "      <td>0.500</td>\n",
       "      <td>0.636</td>\n",
       "      <td>154</td>\n",
       "    </tr>\n",
       "    <tr>\n",
       "      <th>Horror</th>\n",
       "      <td>0.596</td>\n",
       "      <td>0.572</td>\n",
       "      <td>0.584</td>\n",
       "      <td>516</td>\n",
       "    </tr>\n",
       "    <tr>\n",
       "      <th>Music</th>\n",
       "      <td>0.641</td>\n",
       "      <td>0.516</td>\n",
       "      <td>0.571</td>\n",
       "      <td>415</td>\n",
       "    </tr>\n",
       "    <tr>\n",
       "      <th>Mystery</th>\n",
       "      <td>0.852</td>\n",
       "      <td>0.488</td>\n",
       "      <td>0.621</td>\n",
       "      <td>213</td>\n",
       "    </tr>\n",
       "    <tr>\n",
       "      <th>Romance</th>\n",
       "      <td>0.577</td>\n",
       "      <td>0.478</td>\n",
       "      <td>0.523</td>\n",
       "      <td>611</td>\n",
       "    </tr>\n",
       "    <tr>\n",
       "      <th>Science Fiction</th>\n",
       "      <td>0.662</td>\n",
       "      <td>0.506</td>\n",
       "      <td>0.573</td>\n",
       "      <td>259</td>\n",
       "    </tr>\n",
       "    <tr>\n",
       "      <th>TV Movie</th>\n",
       "      <td>0.902</td>\n",
       "      <td>0.482</td>\n",
       "      <td>0.629</td>\n",
       "      <td>114</td>\n",
       "    </tr>\n",
       "    <tr>\n",
       "      <th>Thriller</th>\n",
       "      <td>0.559</td>\n",
       "      <td>0.572</td>\n",
       "      <td>0.565</td>\n",
       "      <td>565</td>\n",
       "    </tr>\n",
       "    <tr>\n",
       "      <th>War</th>\n",
       "      <td>0.718</td>\n",
       "      <td>0.500</td>\n",
       "      <td>0.589</td>\n",
       "      <td>112</td>\n",
       "    </tr>\n",
       "    <tr>\n",
       "      <th>Western</th>\n",
       "      <td>0.696</td>\n",
       "      <td>0.606</td>\n",
       "      <td>0.648</td>\n",
       "      <td>132</td>\n",
       "    </tr>\n",
       "    <tr>\n",
       "      <th>Total/avg</th>\n",
       "      <td>0.627</td>\n",
       "      <td>0.566</td>\n",
       "      <td>0.592</td>\n",
       "      <td>10076</td>\n",
       "    </tr>\n",
       "  </tbody>\n",
       "</table>\n",
       "</div>"
      ],
      "text/plain": [
       "                 precision  recall  f1-score  support\n",
       "Action               0.597   0.536     0.565      640\n",
       "Adventure            0.685   0.533     0.599      323\n",
       "Animation            0.727   0.745     0.736      400\n",
       "Comedy               0.571   0.552     0.561     1470\n",
       "Crime                0.568   0.533     0.550      368\n",
       "Documentary          0.582   0.618     0.599      829\n",
       "Drama                0.613   0.602     0.607     2182\n",
       "Family               0.688   0.619     0.652      349\n",
       "Fantasy              0.756   0.544     0.633      217\n",
       "Foreign              0.721   0.488     0.582      207\n",
       "History              0.875   0.500     0.636      154\n",
       "Horror               0.596   0.572     0.584      516\n",
       "Music                0.641   0.516     0.571      415\n",
       "Mystery              0.852   0.488     0.621      213\n",
       "Romance              0.577   0.478     0.523      611\n",
       "Science Fiction      0.662   0.506     0.573      259\n",
       "TV Movie             0.902   0.482     0.629      114\n",
       "Thriller             0.559   0.572     0.565      565\n",
       "War                  0.718   0.500     0.589      112\n",
       "Western              0.696   0.606     0.648      132\n",
       "Total/avg            0.627   0.566     0.592    10076"
      ]
     },
     "execution_count": 48,
     "metadata": {},
     "output_type": "execute_result"
    }
   ],
   "source": [
    "print 'Inception V3 based CNN model performance: '\n",
    "v3_report_df = report_to_df(v3_report)\n",
    "v3_report_df"
   ]
  },
  {
   "cell_type": "code",
   "execution_count": 49,
   "metadata": {
    "collapsed": false
   },
   "outputs": [],
   "source": [
    "# load custom CNN model classification report\n",
    "with open('models/multi_cnn_report.pickle', 'rb') as handle:\n",
    "    cnn_report = pickle.load(handle)"
   ]
  },
  {
   "cell_type": "code",
   "execution_count": 50,
   "metadata": {
    "collapsed": false
   },
   "outputs": [
    {
     "name": "stdout",
     "output_type": "stream",
     "text": [
      "Custom CNN model performance: \n"
     ]
    },
    {
     "data": {
      "text/html": [
       "<div>\n",
       "<table border=\"1\" class=\"dataframe\">\n",
       "  <thead>\n",
       "    <tr style=\"text-align: right;\">\n",
       "      <th></th>\n",
       "      <th>precision</th>\n",
       "      <th>recall</th>\n",
       "      <th>f1-score</th>\n",
       "      <th>support</th>\n",
       "    </tr>\n",
       "  </thead>\n",
       "  <tbody>\n",
       "    <tr>\n",
       "      <th>Action</th>\n",
       "      <td>0.788</td>\n",
       "      <td>0.356</td>\n",
       "      <td>0.490</td>\n",
       "      <td>646</td>\n",
       "    </tr>\n",
       "    <tr>\n",
       "      <th>Adventure</th>\n",
       "      <td>0.942</td>\n",
       "      <td>0.485</td>\n",
       "      <td>0.640</td>\n",
       "      <td>332</td>\n",
       "    </tr>\n",
       "    <tr>\n",
       "      <th>Animation</th>\n",
       "      <td>0.880</td>\n",
       "      <td>0.579</td>\n",
       "      <td>0.698</td>\n",
       "      <td>392</td>\n",
       "    </tr>\n",
       "    <tr>\n",
       "      <th>Comedy</th>\n",
       "      <td>0.654</td>\n",
       "      <td>0.415</td>\n",
       "      <td>0.508</td>\n",
       "      <td>1513</td>\n",
       "    </tr>\n",
       "    <tr>\n",
       "      <th>Crime</th>\n",
       "      <td>0.884</td>\n",
       "      <td>0.437</td>\n",
       "      <td>0.585</td>\n",
       "      <td>403</td>\n",
       "    </tr>\n",
       "    <tr>\n",
       "      <th>Documentary</th>\n",
       "      <td>0.620</td>\n",
       "      <td>0.553</td>\n",
       "      <td>0.584</td>\n",
       "      <td>876</td>\n",
       "    </tr>\n",
       "    <tr>\n",
       "      <th>Drama</th>\n",
       "      <td>0.629</td>\n",
       "      <td>0.432</td>\n",
       "      <td>0.513</td>\n",
       "      <td>2100</td>\n",
       "    </tr>\n",
       "    <tr>\n",
       "      <th>Family</th>\n",
       "      <td>0.906</td>\n",
       "      <td>0.546</td>\n",
       "      <td>0.681</td>\n",
       "      <td>370</td>\n",
       "    </tr>\n",
       "    <tr>\n",
       "      <th>Fantasy</th>\n",
       "      <td>0.991</td>\n",
       "      <td>0.553</td>\n",
       "      <td>0.710</td>\n",
       "      <td>208</td>\n",
       "    </tr>\n",
       "    <tr>\n",
       "      <th>Foreign</th>\n",
       "      <td>0.970</td>\n",
       "      <td>0.497</td>\n",
       "      <td>0.658</td>\n",
       "      <td>195</td>\n",
       "    </tr>\n",
       "    <tr>\n",
       "      <th>History</th>\n",
       "      <td>1.000</td>\n",
       "      <td>0.516</td>\n",
       "      <td>0.681</td>\n",
       "      <td>124</td>\n",
       "    </tr>\n",
       "    <tr>\n",
       "      <th>Horror</th>\n",
       "      <td>0.763</td>\n",
       "      <td>0.463</td>\n",
       "      <td>0.576</td>\n",
       "      <td>501</td>\n",
       "    </tr>\n",
       "    <tr>\n",
       "      <th>Music</th>\n",
       "      <td>0.856</td>\n",
       "      <td>0.562</td>\n",
       "      <td>0.678</td>\n",
       "      <td>411</td>\n",
       "    </tr>\n",
       "    <tr>\n",
       "      <th>Mystery</th>\n",
       "      <td>1.000</td>\n",
       "      <td>0.481</td>\n",
       "      <td>0.649</td>\n",
       "      <td>206</td>\n",
       "    </tr>\n",
       "    <tr>\n",
       "      <th>Romance</th>\n",
       "      <td>0.910</td>\n",
       "      <td>0.400</td>\n",
       "      <td>0.556</td>\n",
       "      <td>630</td>\n",
       "    </tr>\n",
       "    <tr>\n",
       "      <th>Science Fiction</th>\n",
       "      <td>0.979</td>\n",
       "      <td>0.500</td>\n",
       "      <td>0.662</td>\n",
       "      <td>276</td>\n",
       "    </tr>\n",
       "    <tr>\n",
       "      <th>TV Movie</th>\n",
       "      <td>1.000</td>\n",
       "      <td>0.508</td>\n",
       "      <td>0.674</td>\n",
       "      <td>122</td>\n",
       "    </tr>\n",
       "    <tr>\n",
       "      <th>Thriller</th>\n",
       "      <td>0.771</td>\n",
       "      <td>0.423</td>\n",
       "      <td>0.547</td>\n",
       "      <td>588</td>\n",
       "    </tr>\n",
       "    <tr>\n",
       "      <th>War</th>\n",
       "      <td>0.967</td>\n",
       "      <td>0.513</td>\n",
       "      <td>0.671</td>\n",
       "      <td>113</td>\n",
       "    </tr>\n",
       "    <tr>\n",
       "      <th>Western</th>\n",
       "      <td>0.875</td>\n",
       "      <td>0.542</td>\n",
       "      <td>0.670</td>\n",
       "      <td>142</td>\n",
       "    </tr>\n",
       "    <tr>\n",
       "      <th>Total/avg</th>\n",
       "      <td>0.771</td>\n",
       "      <td>0.462</td>\n",
       "      <td>0.573</td>\n",
       "      <td>10148</td>\n",
       "    </tr>\n",
       "  </tbody>\n",
       "</table>\n",
       "</div>"
      ],
      "text/plain": [
       "                 precision  recall  f1-score  support\n",
       "Action               0.788   0.356     0.490      646\n",
       "Adventure            0.942   0.485     0.640      332\n",
       "Animation            0.880   0.579     0.698      392\n",
       "Comedy               0.654   0.415     0.508     1513\n",
       "Crime                0.884   0.437     0.585      403\n",
       "Documentary          0.620   0.553     0.584      876\n",
       "Drama                0.629   0.432     0.513     2100\n",
       "Family               0.906   0.546     0.681      370\n",
       "Fantasy              0.991   0.553     0.710      208\n",
       "Foreign              0.970   0.497     0.658      195\n",
       "History              1.000   0.516     0.681      124\n",
       "Horror               0.763   0.463     0.576      501\n",
       "Music                0.856   0.562     0.678      411\n",
       "Mystery              1.000   0.481     0.649      206\n",
       "Romance              0.910   0.400     0.556      630\n",
       "Science Fiction      0.979   0.500     0.662      276\n",
       "TV Movie             1.000   0.508     0.674      122\n",
       "Thriller             0.771   0.423     0.547      588\n",
       "War                  0.967   0.513     0.671      113\n",
       "Western              0.875   0.542     0.670      142\n",
       "Total/avg            0.771   0.462     0.573    10148"
      ]
     },
     "execution_count": 50,
     "metadata": {},
     "output_type": "execute_result"
    }
   ],
   "source": [
    "print 'Custom CNN model performance: '\n",
    "cnn_report_df = report_to_df(cnn_report)\n",
    "cnn_report_df"
   ]
  },
  {
   "cell_type": "code",
   "execution_count": 51,
   "metadata": {
    "collapsed": false
   },
   "outputs": [],
   "source": [
    "# combine performance data into a single dataframe\n",
    "sgd_report_df['model'] = 'svm'\n",
    "v3_report_df['model'] = 'v3'\n",
    "cnn_report_df['model'] = 'cnn'\n",
    "forest_model['model'] = 'forest'\n",
    "\n",
    "combined_performance_df = result = pd.concat([sgd_report_df, v3_report_df, cnn_report_df, forest_model])\n",
    "combined_performance_df.set_index('model', append=True, inplace=True)"
   ]
  },
  {
   "cell_type": "code",
   "execution_count": 52,
   "metadata": {
    "collapsed": false
   },
   "outputs": [
    {
     "data": {
      "image/png": "[encoded data removed]",
      "text/plain": [
       "<matplotlib.figure.Figure at 0xedc37b8>"
      ]
     },
     "metadata": {},
     "output_type": "display_data"
    }
   ],
   "source": [
    "combined_performance_df.loc['Total/avg', ['f1-score', 'model']].plot(kind=\"bar\", title = 'F1 score by model')\n",
    "plt.legend().set_visible(False)"
   ]
  },
  {
   "cell_type": "code",
   "execution_count": 53,
   "metadata": {
    "collapsed": false
   },
   "outputs": [
    {
     "data": {
      "image/png": "[encoded data removed]",
      "text/plain": [
       "<matplotlib.figure.Figure at 0xe320cc0>"
      ]
     },
     "metadata": {},
     "output_type": "display_data"
    }
   ],
   "source": [
    "combined_performance_df.loc['Total/avg', ['precision', 'model']].plot(kind=\"bar\", title = 'Precision score by model')\n",
    "plt.legend().set_visible(False)"
   ]
  },
  {
   "cell_type": "code",
   "execution_count": 54,
   "metadata": {
    "collapsed": false
   },
   "outputs": [
    {
     "data": {
      "image/png": "[encoded data removed]",
      "text/plain": [
       "<matplotlib.figure.Figure at 0xe0cc358>"
      ]
     },
     "metadata": {},
     "output_type": "display_data"
    }
   ],
   "source": [
    "combined_performance_df.loc['Total/avg', ['recall', 'model']].plot(kind=\"bar\", title = 'Recall score by model')\n",
    "plt.legend().set_visible(False)"
   ]
  },
  {
   "cell_type": "code",
   "execution_count": 55,
   "metadata": {
    "collapsed": false
   },
   "outputs": [
    {
     "data": {
      "text/plain": [
       "<matplotlib.legend.Legend at 0xdeaf2b0>"
      ]
     },
     "execution_count": 55,
     "metadata": {},
     "output_type": "execute_result"
    },
    {
     "data": {
      "image/png": "[encoded data removed]",
      "text/plain": [
       "<matplotlib.figure.Figure at 0xdbffeb8>"
      ]
     },
     "metadata": {},
     "output_type": "display_data"
    }
   ],
   "source": [
    "combined_performance_df['genre'] = combined_performance_df.index.get_level_values(0)\n",
    "combined_performance_df['model'] = combined_performance_df.index.get_level_values(1)\n",
    "by_genre_df = combined_performance_df.pivot(index='genre', columns='model', values='f1-score')\n",
    "by_genre_df.reset_index()\n",
    "by_genre_df.plot.barh(figsize = (6, 12), title = 'F1 score by genre by model')\n",
    "plt.legend(loc=3)"
   ]
  },
  {
   "cell_type": "code",
   "execution_count": null,
   "metadata": {
    "collapsed": true
   },
   "outputs": [],
   "source": []
  }
 ],
 "metadata": {
  "kernelspec": {
   "display_name": "Python 2",
   "language": "python",
   "name": "python2"
  },
  "language_info": {
   "codemirror_mode": {
    "name": "ipython",
    "version": 2
   },
   "file_extension": ".py",
   "mimetype": "text/x-python",
   "name": "python",
   "nbconvert_exporter": "python",
   "pygments_lexer": "ipython2",
   "version": "2.7.13"
  }
 },
 "nbformat": 4,
 "nbformat_minor": 0
}
