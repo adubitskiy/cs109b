{
 "cells": [
  {
   "cell_type": "code",
   "execution_count": 1,
   "metadata": {
    "collapsed": false
   },
   "outputs": [
    {
     "name": "stdout",
     "output_type": "stream",
     "text": [
      "[nltk_data] Downloading package stopwords to C:\\Windows\\ServiceProfile\n",
      "[nltk_data]     s\\LocalService\\AppData\\Roaming\\nltk_data...\n",
      "[nltk_data]   Package stopwords is already up-to-date!\n"
     ]
    },
    {
     "data": {
      "text/plain": [
       "True"
      ]
     },
     "execution_count": 1,
     "metadata": {},
     "output_type": "execute_result"
    }
   ],
   "source": [
    "import os\n",
    "import cPickle\n",
    "import numpy as np\n",
    "import pandas as pd\n",
    "from sklearn.preprocessing import MultiLabelBinarizer\n",
    "from sklearn.feature_extraction.text import CountVectorizer\n",
    "from sklearn.linear_model import SGDClassifier\n",
    "from sklearn.multiclass import OneVsRestClassifier\n",
    "from sklearn.model_selection import StratifiedKFold\n",
    "from sklearn.model_selection import train_test_split\n",
    "from sklearn.model_selection import GridSearchCV\n",
    "from sklearn.metrics import hamming_loss, make_scorer, classification_report\n",
    "import matplotlib.pyplot as plt\n",
    "import nltk.data\n",
    "from nltk.corpus import stopwords\n",
    "\n",
    "%matplotlib inline\n",
    "nltk.download('stopwords')"
   ]
  },
  {
   "cell_type": "code",
   "execution_count": 2,
   "metadata": {
    "collapsed": true
   },
   "outputs": [],
   "source": [
    "def load_part(file_name):\n",
    "    with open(file_name, 'rb') as handle:\n",
    "        return cPickle.load(handle)"
   ]
  },
  {
   "cell_type": "code",
   "execution_count": 3,
   "metadata": {
    "collapsed": true
   },
   "outputs": [],
   "source": [
    "# extract from the IMDB data with only 'genres' and 'plot'\n",
    "imdb_file_name = 'data/cast.pickle'\n",
    "# full TMDB data\n",
    "tmdb_file_name = 'data/tmdb_info.pickle'"
   ]
  },
  {
   "cell_type": "code",
   "execution_count": 4,
   "metadata": {
    "collapsed": true
   },
   "outputs": [],
   "source": [
    "columns = [\n",
    "    'director',\n",
    "    'cast', \n",
    "    'casting director', \n",
    "    'miscellaneous crew', \n",
    "    'original music', \n",
    "    'producer', \n",
    "    'cinematographer',\n",
    "    'costume designer',\n",
    "    'art direction']"
   ]
  },
  {
   "cell_type": "code",
   "execution_count": 5,
   "metadata": {
    "collapsed": false
   },
   "outputs": [],
   "source": [
    "# load the IMDB extract\n",
    "imdb_dict = load_part(imdb_file_name)"
   ]
  },
  {
   "cell_type": "code",
   "execution_count": 6,
   "metadata": {
    "collapsed": true
   },
   "outputs": [],
   "source": [
    "# load TMDB \n",
    "tmdb_dict = load_part(tmdb_file_name)"
   ]
  },
  {
   "cell_type": "markdown",
   "metadata": {},
   "source": [
    "Prepare the labels"
   ]
  },
  {
   "cell_type": "code",
   "execution_count": 16,
   "metadata": {
    "collapsed": false
   },
   "outputs": [],
   "source": [
    "# array of list of genres for every movie\n",
    "labels = np.array([d['genres'] for d in imdb_dict.values() if 'genres' in d])"
   ]
  },
  {
   "cell_type": "code",
   "execution_count": 17,
   "metadata": {
    "collapsed": false
   },
   "outputs": [
    {
     "name": "stdout",
     "output_type": "stream",
     "text": [
      "label matrix shape: (47538L, 28L)\n"
     ]
    }
   ],
   "source": [
    "# create the labels vector\n",
    "mlb = MultiLabelBinarizer()\n",
    "y = mlb.fit_transform(labels)\n",
    "print 'label matrix shape:', y.shape"
   ]
  },
  {
   "cell_type": "code",
   "execution_count": 18,
   "metadata": {
    "collapsed": false
   },
   "outputs": [
    {
     "data": {
      "text/html": [
       "<div>\n",
       "<table border=\"1\" class=\"dataframe\">\n",
       "  <thead>\n",
       "    <tr style=\"text-align: right;\">\n",
       "      <th></th>\n",
       "      <th>cnt</th>\n",
       "    </tr>\n",
       "  </thead>\n",
       "  <tbody>\n",
       "    <tr>\n",
       "      <th>Action</th>\n",
       "      <td>5050</td>\n",
       "    </tr>\n",
       "    <tr>\n",
       "      <th>Adult</th>\n",
       "      <td>310</td>\n",
       "    </tr>\n",
       "    <tr>\n",
       "      <th>Adventure</th>\n",
       "      <td>3261</td>\n",
       "    </tr>\n",
       "    <tr>\n",
       "      <th>Animation</th>\n",
       "      <td>3027</td>\n",
       "    </tr>\n",
       "    <tr>\n",
       "      <th>Biography</th>\n",
       "      <td>1535</td>\n",
       "    </tr>\n",
       "    <tr>\n",
       "      <th>Comedy</th>\n",
       "      <td>13573</td>\n",
       "    </tr>\n",
       "    <tr>\n",
       "      <th>Crime</th>\n",
       "      <td>4331</td>\n",
       "    </tr>\n",
       "    <tr>\n",
       "      <th>Documentary</th>\n",
       "      <td>5883</td>\n",
       "    </tr>\n",
       "    <tr>\n",
       "      <th>Drama</th>\n",
       "      <td>19759</td>\n",
       "    </tr>\n",
       "    <tr>\n",
       "      <th>Family</th>\n",
       "      <td>3274</td>\n",
       "    </tr>\n",
       "    <tr>\n",
       "      <th>Fantasy</th>\n",
       "      <td>2307</td>\n",
       "    </tr>\n",
       "    <tr>\n",
       "      <th>Film-Noir</th>\n",
       "      <td>218</td>\n",
       "    </tr>\n",
       "    <tr>\n",
       "      <th>Game-Show</th>\n",
       "      <td>4</td>\n",
       "    </tr>\n",
       "    <tr>\n",
       "      <th>History</th>\n",
       "      <td>1416</td>\n",
       "    </tr>\n",
       "    <tr>\n",
       "      <th>Horror</th>\n",
       "      <td>4265</td>\n",
       "    </tr>\n",
       "    <tr>\n",
       "      <th>Music</th>\n",
       "      <td>1852</td>\n",
       "    </tr>\n",
       "    <tr>\n",
       "      <th>Musical</th>\n",
       "      <td>1383</td>\n",
       "    </tr>\n",
       "    <tr>\n",
       "      <th>Mystery</th>\n",
       "      <td>2321</td>\n",
       "    </tr>\n",
       "    <tr>\n",
       "      <th>News</th>\n",
       "      <td>178</td>\n",
       "    </tr>\n",
       "    <tr>\n",
       "      <th>Reality-TV</th>\n",
       "      <td>23</td>\n",
       "    </tr>\n",
       "    <tr>\n",
       "      <th>Romance</th>\n",
       "      <td>6202</td>\n",
       "    </tr>\n",
       "    <tr>\n",
       "      <th>Sci-Fi</th>\n",
       "      <td>2303</td>\n",
       "    </tr>\n",
       "    <tr>\n",
       "      <th>Short</th>\n",
       "      <td>5212</td>\n",
       "    </tr>\n",
       "    <tr>\n",
       "      <th>Sport</th>\n",
       "      <td>876</td>\n",
       "    </tr>\n",
       "    <tr>\n",
       "      <th>Talk-Show</th>\n",
       "      <td>16</td>\n",
       "    </tr>\n",
       "    <tr>\n",
       "      <th>Thriller</th>\n",
       "      <td>5818</td>\n",
       "    </tr>\n",
       "    <tr>\n",
       "      <th>War</th>\n",
       "      <td>1444</td>\n",
       "    </tr>\n",
       "    <tr>\n",
       "      <th>Western</th>\n",
       "      <td>1380</td>\n",
       "    </tr>\n",
       "  </tbody>\n",
       "</table>\n",
       "</div>"
      ],
      "text/plain": [
       "               cnt\n",
       "Action        5050\n",
       "Adult          310\n",
       "Adventure     3261\n",
       "Animation     3027\n",
       "Biography     1535\n",
       "Comedy       13573\n",
       "Crime         4331\n",
       "Documentary   5883\n",
       "Drama        19759\n",
       "Family        3274\n",
       "Fantasy       2307\n",
       "Film-Noir      218\n",
       "Game-Show        4\n",
       "History       1416\n",
       "Horror        4265\n",
       "Music         1852\n",
       "Musical       1383\n",
       "Mystery       2321\n",
       "News           178\n",
       "Reality-TV      23\n",
       "Romance       6202\n",
       "Sci-Fi        2303\n",
       "Short         5212\n",
       "Sport          876\n",
       "Talk-Show       16\n",
       "Thriller      5818\n",
       "War           1444\n",
       "Western       1380"
      ]
     },
     "execution_count": 18,
     "metadata": {},
     "output_type": "execute_result"
    }
   ],
   "source": [
    "# number of movies for every genre\n",
    "label_df = pd.DataFrame(mlb.fit_transform(labels))\n",
    "label_df.columns = mlb.classes_\n",
    "label_number_df = pd.DataFrame({'cnt' : label_df.sum(axis = 0)})\n",
    "label_number_df"
   ]
  },
  {
   "cell_type": "markdown",
   "metadata": {},
   "source": [
    "Limit the number of genres."
   ]
  },
  {
   "cell_type": "code",
   "execution_count": 19,
   "metadata": {
    "collapsed": false
   },
   "outputs": [
    {
     "data": {
      "text/plain": [
       "{u'Action',\n",
       " u'Adventure',\n",
       " u'Animation',\n",
       " u'Comedy',\n",
       " u'Crime',\n",
       " u'Documentary',\n",
       " u'Drama',\n",
       " u'Family',\n",
       " u'Fantasy',\n",
       " u'Horror',\n",
       " u'Mystery',\n",
       " u'Romance',\n",
       " u'Sci-Fi',\n",
       " u'Short',\n",
       " u'Thriller'}"
      ]
     },
     "execution_count": 19,
     "metadata": {},
     "output_type": "execute_result"
    }
   ],
   "source": [
    "# only leave generes mentioned in 2000 movies or more\n",
    "cutoff = 2000\n",
    "major_genres = set(label_number_df[label_number_df['cnt']  > cutoff].index)\n",
    "major_genres"
   ]
  },
  {
   "cell_type": "code",
   "execution_count": 20,
   "metadata": {
    "collapsed": false
   },
   "outputs": [],
   "source": [
    "# find labels only for the major genres\n",
    "labels = np.array(\n",
    "    [major_genres.intersection(d['genres']) for d in imdb_dict.values() if 'genres' in d])"
   ]
  },
  {
   "cell_type": "code",
   "execution_count": 21,
   "metadata": {
    "collapsed": false
   },
   "outputs": [
    {
     "name": "stdout",
     "output_type": "stream",
     "text": [
      "label matrix shape: (47538L, 15L)\n"
     ]
    }
   ],
   "source": [
    "# create the labels vector with only major genres\n",
    "mlb = MultiLabelBinarizer()\n",
    "y = mlb.fit_transform(labels)\n",
    "print 'label matrix shape:', y.shape"
   ]
  },
  {
   "cell_type": "markdown",
   "metadata": {},
   "source": [
    "Prepare the features.  \n",
    "Here we also add 'cast' and 'crew' from TMDB movies"
   ]
  },
  {
   "cell_type": "code",
   "execution_count": 24,
   "metadata": {
    "collapsed": false
   },
   "outputs": [
    {
     "name": "stdout",
     "output_type": "stream",
     "text": [
      "Extracted features for  47538  movies\n"
     ]
    }
   ],
   "source": [
    "# combine all names separated by '|'\n",
    "features = []\n",
    "for tmdb_id, imdb_movie in imdb_dict.iteritems():\n",
    "    if 'genres' not in imdb_movie:\n",
    "        continue\n",
    "    l = []\n",
    "    for c in columns:\n",
    "        if(c in imdb_movie):\n",
    "            l = l + [ c['name'].encode('utf-8') for c in imdb_movie[c]]\n",
    "    # add crew and cast from TMDB\n",
    "    if(tmdb_id in tmdb_dict):\n",
    "        tmdb_movie = tmdb_dict[tmdb_id].__dict__\n",
    "        if('crew' in tmdb_movie):\n",
    "            l = l + [c['name'].encode('utf-8') for c in tmdb_movie['crew']]\n",
    "        if('cast' in tmdb_movie):\n",
    "            l = l + [c['name'].encode('utf-8') for c in tmdb_movie['cast']]\n",
    "    # remove duplicates before joiniing\n",
    "    features.append('|'.join(set(l)))\n",
    "print 'Extracted features for ', len(features), ' movies'"
   ]
  },
  {
   "cell_type": "code",
   "execution_count": 25,
   "metadata": {
    "collapsed": false
   },
   "outputs": [],
   "source": [
    "# split into test / train data\n",
    "F_train, F_test, y_train, y_test = train_test_split(features, y, test_size=0.25, random_state = 442)"
   ]
  },
  {
   "cell_type": "markdown",
   "metadata": {},
   "source": [
    "Convert a collection of text documents to a matrix of token counts"
   ]
  },
  {
   "cell_type": "code",
   "execution_count": 26,
   "metadata": {
    "collapsed": false
   },
   "outputs": [],
   "source": [
    "# it is just a trick to use the CountVectorizer to assign npeople to movies\n",
    "vectorizer = CountVectorizer( \n",
    "    max_df = 0.99,\n",
    "    min_df = 0.0001,\n",
    "    stop_words = stopwords.words(\"english\"), \n",
    "    tokenizer = lambda x: x.split('|'),\n",
    "    dtype = np.float32 )\n",
    "X_train = vectorizer.fit_transform(F_train)\n",
    "X_test = vectorizer.transform(F_test)"
   ]
  },
  {
   "cell_type": "markdown",
   "metadata": {},
   "source": [
    "The goal of using tf-idf instead of the raw frequencies of occurrence of a token in a given document is to scale down the impact of tokens that occur very frequently in a given corpus and that are hence empirically less informative than features that occur in a small fraction of the training corpus."
   ]
  },
  {
   "cell_type": "code",
   "execution_count": 27,
   "metadata": {
    "collapsed": false
   },
   "outputs": [
    {
     "name": "stdout",
     "output_type": "stream",
     "text": [
      "Train label matrix shape: (35653L, 15L)\n",
      "Train predictor matrix shape: (35653, 76205)\n",
      "Test label matrix shape: (11885L, 15L)\n",
      "Test predictor matrix shape: (11885, 76205)\n"
     ]
    }
   ],
   "source": [
    "print 'Train label matrix shape:', y_train.shape\n",
    "print 'Train predictor matrix shape:', X_train.shape\n",
    "print 'Test label matrix shape:', y_test.shape\n",
    "print 'Test predictor matrix shape:', X_test.shape"
   ]
  },
  {
   "cell_type": "code",
   "execution_count": 28,
   "metadata": {
    "collapsed": false
   },
   "outputs": [
    {
     "data": {
      "text/plain": [
       "<matplotlib.text.Text at 0x3bd1dffd0>"
      ]
     },
     "execution_count": 28,
     "metadata": {},
     "output_type": "execute_result"
    },
    {
     "data": {
      "image/png": "[encoded data removed]",
      "text/plain": [
       "<matplotlib.figure.Figure at 0x3b21dd7f0>"
      ]
     },
     "metadata": {},
     "output_type": "display_data"
    }
   ],
   "source": [
    "label_df = pd.DataFrame(y_train)\n",
    "label_df.columns = mlb.classes_\n",
    "label_number_df = pd.DataFrame({'cnt' : label_df.sum(axis = 0)})\n",
    "ax = label_number_df.sort_values('cnt')['cnt'].plot(kind=\"barh\", title = 'Movies per genre in the training set')\n",
    "for p in ax.patches:\n",
    "    ax.annotate(\n",
    "        \"%.2f\" % p.get_width(), (p.get_x() + p.get_width(), p.get_y()), xytext=(5, 10), textcoords='offset points')\n",
    "plt.xlabel('Count')\n",
    "plt.ylabel('Genres')"
   ]
  },
  {
   "cell_type": "code",
   "execution_count": 29,
   "metadata": {
    "collapsed": false
   },
   "outputs": [
    {
     "data": {
      "text/plain": [
       "<matplotlib.text.Text at 0x3b5aa71d0>"
      ]
     },
     "execution_count": 29,
     "metadata": {},
     "output_type": "execute_result"
    },
    {
     "data": {
      "image/png": "[encoded data removed]",
      "text/plain": [
       "<matplotlib.figure.Figure at 0x3b15becf8>"
      ]
     },
     "metadata": {},
     "output_type": "display_data"
    }
   ],
   "source": [
    "label_df = pd.DataFrame(y_test)\n",
    "label_df.columns = mlb.classes_\n",
    "label_number_df = pd.DataFrame({'cnt' : label_df.sum(axis = 0)})\n",
    "ax = label_number_df.sort_values('cnt')['cnt'].plot(kind=\"barh\", title = 'Movies per genre in the test set')\n",
    "for p in ax.patches:\n",
    "    ax.annotate(\n",
    "        \"%.2f\" % p.get_width(), (p.get_x() + p.get_width(), p.get_y()), xytext=(5, 10), textcoords='offset points')\n",
    "plt.xlabel('Count')\n",
    "plt.ylabel('Genres')"
   ]
  },
  {
   "cell_type": "markdown",
   "metadata": {},
   "source": [
    "The Hamming loss is the fraction of labels that are incorrectly predicted."
   ]
  },
  {
   "cell_type": "code",
   "execution_count": 30,
   "metadata": {
    "collapsed": false
   },
   "outputs": [
    {
     "name": "stdout",
     "output_type": "stream",
     "text": [
      "Fitting 3 folds for each of 600 candidates, totalling 1800 fits\n"
     ]
    },
    {
     "name": "stderr",
     "output_type": "stream",
     "text": [
      "[Parallel(n_jobs=-1)]: Done   2 tasks      | elapsed:    4.5s\n",
      "[Parallel(n_jobs=-1)]: Done   9 tasks      | elapsed:    6.3s\n",
      "[Parallel(n_jobs=-1)]: Done  16 tasks      | elapsed:   11.5s\n",
      "[Parallel(n_jobs=-1)]: Done  25 tasks      | elapsed:   14.8s\n",
      "[Parallel(n_jobs=-1)]: Done  34 tasks      | elapsed:   20.6s\n",
      "[Parallel(n_jobs=-1)]: Done  45 tasks      | elapsed:   32.9s\n",
      "[Parallel(n_jobs=-1)]: Done  56 tasks      | elapsed:   39.9s\n",
      "[Parallel(n_jobs=-1)]: Done  69 tasks      | elapsed:   51.1s\n",
      "[Parallel(n_jobs=-1)]: Done  82 tasks      | elapsed:  1.0min\n",
      "[Parallel(n_jobs=-1)]: Done  97 tasks      | elapsed:  1.2min\n",
      "[Parallel(n_jobs=-1)]: Done 112 tasks      | elapsed:  1.4min\n",
      "[Parallel(n_jobs=-1)]: Done 129 tasks      | elapsed:  1.6min\n",
      "[Parallel(n_jobs=-1)]: Done 146 tasks      | elapsed:  1.9min\n",
      "[Parallel(n_jobs=-1)]: Done 165 tasks      | elapsed:  2.1min\n",
      "[Parallel(n_jobs=-1)]: Done 184 tasks      | elapsed:  2.3min\n",
      "[Parallel(n_jobs=-1)]: Done 205 tasks      | elapsed:  2.6min\n",
      "[Parallel(n_jobs=-1)]: Done 226 tasks      | elapsed:  2.9min\n",
      "[Parallel(n_jobs=-1)]: Done 249 tasks      | elapsed:  3.2min\n",
      "[Parallel(n_jobs=-1)]: Done 272 tasks      | elapsed:  3.5min\n",
      "[Parallel(n_jobs=-1)]: Done 297 tasks      | elapsed:  3.8min\n",
      "[Parallel(n_jobs=-1)]: Done 322 tasks      | elapsed:  4.2min\n",
      "[Parallel(n_jobs=-1)]: Done 349 tasks      | elapsed:  4.5min\n",
      "[Parallel(n_jobs=-1)]: Done 376 tasks      | elapsed:  4.9min\n",
      "[Parallel(n_jobs=-1)]: Done 405 tasks      | elapsed:  5.2min\n",
      "[Parallel(n_jobs=-1)]: Done 434 tasks      | elapsed:  5.6min\n",
      "[Parallel(n_jobs=-1)]: Done 465 tasks      | elapsed:  6.0min\n",
      "[Parallel(n_jobs=-1)]: Done 496 tasks      | elapsed:  6.4min\n",
      "[Parallel(n_jobs=-1)]: Done 529 tasks      | elapsed:  6.9min\n",
      "[Parallel(n_jobs=-1)]: Done 562 tasks      | elapsed:  7.3min\n",
      "[Parallel(n_jobs=-1)]: Done 597 tasks      | elapsed:  7.8min\n",
      "[Parallel(n_jobs=-1)]: Done 632 tasks      | elapsed:  8.2min\n",
      "[Parallel(n_jobs=-1)]: Done 669 tasks      | elapsed:  8.7min\n",
      "[Parallel(n_jobs=-1)]: Done 706 tasks      | elapsed:  9.2min\n",
      "[Parallel(n_jobs=-1)]: Done 745 tasks      | elapsed:  9.8min\n",
      "[Parallel(n_jobs=-1)]: Done 784 tasks      | elapsed: 10.3min\n",
      "[Parallel(n_jobs=-1)]: Done 825 tasks      | elapsed: 10.8min\n",
      "[Parallel(n_jobs=-1)]: Done 866 tasks      | elapsed: 11.2min\n",
      "[Parallel(n_jobs=-1)]: Done 909 tasks      | elapsed: 11.8min\n",
      "[Parallel(n_jobs=-1)]: Done 952 tasks      | elapsed: 12.4min\n",
      "[Parallel(n_jobs=-1)]: Done 997 tasks      | elapsed: 13.1min\n",
      "[Parallel(n_jobs=-1)]: Done 1042 tasks      | elapsed: 13.6min\n",
      "[Parallel(n_jobs=-1)]: Done 1089 tasks      | elapsed: 14.3min\n",
      "[Parallel(n_jobs=-1)]: Done 1136 tasks      | elapsed: 14.9min\n",
      "[Parallel(n_jobs=-1)]: Done 1185 tasks      | elapsed: 15.6min\n",
      "[Parallel(n_jobs=-1)]: Done 1234 tasks      | elapsed: 16.3min\n",
      "[Parallel(n_jobs=-1)]: Done 1285 tasks      | elapsed: 17.1min\n",
      "[Parallel(n_jobs=-1)]: Done 1336 tasks      | elapsed: 17.7min\n",
      "[Parallel(n_jobs=-1)]: Done 1389 tasks      | elapsed: 18.4min\n",
      "[Parallel(n_jobs=-1)]: Done 1442 tasks      | elapsed: 19.2min\n",
      "[Parallel(n_jobs=-1)]: Done 1497 tasks      | elapsed: 20.0min\n",
      "[Parallel(n_jobs=-1)]: Done 1552 tasks      | elapsed: 20.7min\n",
      "[Parallel(n_jobs=-1)]: Done 1609 tasks      | elapsed: 21.5min\n",
      "[Parallel(n_jobs=-1)]: Done 1666 tasks      | elapsed: 22.3min\n",
      "[Parallel(n_jobs=-1)]: Done 1725 tasks      | elapsed: 23.1min\n",
      "[Parallel(n_jobs=-1)]: Done 1784 tasks      | elapsed: 24.0min\n",
      "[Parallel(n_jobs=-1)]: Done 1800 out of 1800 | elapsed: 24.1min finished\n"
     ]
    },
    {
     "data": {
      "text/plain": [
       "GridSearchCV(cv=None, error_score='raise',\n",
       "       estimator=OneVsRestClassifier(estimator=SGDClassifier(alpha=0.0001, average=False, class_weight=None, epsilon=0.1,\n",
       "       eta0=0.0, fit_intercept=True, l1_ratio=0.15,\n",
       "       learning_rate='optimal', loss='hinge', n_iter=5, n_jobs=1,\n",
       "       penalty='l2', power_t=0.5, random_state=761, shuffle=True,\n",
       "       verbose=0, warm_start=False),\n",
       "          n_jobs=1),\n",
       "       fit_params={}, iid=True, n_jobs=-1,\n",
       "       param_grid={'estimator__alpha': array([  1.00000e-04,   9.79796e-05,   9.59592e-05,   9.39388e-05,\n",
       "         9.19184e-05,   8.98980e-05,   8.78776e-05,   8.58571e-05,\n",
       "         8.38367e-05,   8.18163e-05,   7.97959e-05,   7.77755e-05,\n",
       "         7.57551e-05,   7.37347e-05,   7.17143e-05,   6.96939e-05,\n",
       "...y': ('l1', 'l2', 'elasticnet'), 'estimator__loss': ('hinge', 'log', 'perceptron', 'modified_huber')},\n",
       "       pre_dispatch='2*n_jobs', refit=True, return_train_score=True,\n",
       "       scoring=make_scorer(hamming_loss, greater_is_better=False),\n",
       "       verbose=10)"
      ]
     },
     "execution_count": 30,
     "metadata": {},
     "output_type": "execute_result"
    }
   ],
   "source": [
    "param_grid = {\n",
    "    'estimator__loss': ('hinge', 'log', 'perceptron', 'modified_huber'),\n",
    "    'estimator__alpha' : np.linspace(1e-04, 1e-06, 50),\n",
    "    'estimator__penalty' : ('l1', 'l2', 'elasticnet')}\n",
    "\n",
    "model = OneVsRestClassifier(SGDClassifier(random_state = 761))\n",
    "\n",
    "model_tunning = GridSearchCV(\n",
    "    model, \n",
    "    param_grid = param_grid, \n",
    "    scoring = make_scorer(hamming_loss, greater_is_better = False), \n",
    "    n_jobs = -1, \n",
    "    verbose = 10)\n",
    "\n",
    "model_tunning.fit(X_train, y_train)"
   ]
  },
  {
   "cell_type": "code",
   "execution_count": 31,
   "metadata": {
    "collapsed": false
   },
   "outputs": [
    {
     "data": {
      "text/plain": [
       "{'estimator__alpha': 5.9591836734693881e-05,\n",
       " 'estimator__loss': 'log',\n",
       " 'estimator__penalty': 'l2'}"
      ]
     },
     "execution_count": 31,
     "metadata": {},
     "output_type": "execute_result"
    }
   ],
   "source": [
    "model_tunning.best_params_"
   ]
  },
  {
   "cell_type": "markdown",
   "metadata": {
    "collapsed": true
   },
   "source": [
    "Classification quility on the training set"
   ]
  },
  {
   "cell_type": "code",
   "execution_count": 32,
   "metadata": {
    "collapsed": false
   },
   "outputs": [
    {
     "name": "stdout",
     "output_type": "stream",
     "text": [
      "             precision    recall  f1-score   support\n",
      "\n",
      "     Action       1.00      0.76      0.86      3782\n",
      "  Adventure       1.00      0.68      0.81      2474\n",
      "  Animation       0.99      0.59      0.74      2297\n",
      "     Comedy       1.00      0.80      0.89     10273\n",
      "      Crime       1.00      0.74      0.85      3240\n",
      "Documentary       0.99      0.41      0.57      4393\n",
      "      Drama       1.00      0.85      0.92     14884\n",
      "     Family       0.98      0.67      0.79      2479\n",
      "    Fantasy       1.00      0.56      0.71      1722\n",
      "     Horror       1.00      0.54      0.70      3134\n",
      "    Mystery       1.00      0.64      0.78      1737\n",
      "    Romance       1.00      0.73      0.85      4667\n",
      "     Sci-Fi       1.00      0.61      0.76      1715\n",
      "      Short       0.98      0.37      0.54      3908\n",
      "   Thriller       1.00      0.71      0.83      4316\n",
      "\n",
      "avg / total       1.00      0.70      0.81     65021\n",
      "\n"
     ]
    }
   ],
   "source": [
    "print classification_report(y_train, model_tunning.predict(X_train), target_names = mlb.classes_)"
   ]
  },
  {
   "cell_type": "markdown",
   "metadata": {},
   "source": [
    "Classification quility on the test set"
   ]
  },
  {
   "cell_type": "code",
   "execution_count": 33,
   "metadata": {
    "collapsed": false
   },
   "outputs": [
    {
     "name": "stdout",
     "output_type": "stream",
     "text": [
      "             precision    recall  f1-score   support\n",
      "\n",
      "     Action       0.72      0.22      0.33      1268\n",
      "  Adventure       0.65      0.10      0.17       787\n",
      "  Animation       0.98      0.44      0.61       730\n",
      "     Comedy       0.75      0.37      0.50      3300\n",
      "      Crime       0.54      0.08      0.13      1091\n",
      "Documentary       0.89      0.19      0.31      1490\n",
      "      Drama       0.68      0.47      0.56      4875\n",
      "     Family       0.85      0.24      0.37       795\n",
      "    Fantasy       0.69      0.05      0.09       585\n",
      "     Horror       0.67      0.10      0.17      1131\n",
      "    Mystery       0.54      0.03      0.06       584\n",
      "    Romance       0.47      0.10      0.17      1535\n",
      "     Sci-Fi       0.70      0.07      0.13       588\n",
      "      Short       0.95      0.25      0.40      1304\n",
      "   Thriller       0.60      0.11      0.18      1502\n",
      "\n",
      "avg / total       0.71      0.26      0.36     21565\n",
      "\n"
     ]
    }
   ],
   "source": [
    "print classification_report(y_test, model_tunning.predict(X_test), target_names = mlb.classes_)"
   ]
  },
  {
   "cell_type": "code",
   "execution_count": 34,
   "metadata": {
    "collapsed": false
   },
   "outputs": [],
   "source": [
    "model_dict = {}\n",
    "model_dict['model'] = model_tunning\n",
    "model_dict['labels'] = labels\n",
    "model_dict['features'] = features\n",
    "model_dict['X_train'] = X_train\n",
    "model_dict['y_train'] = y_train\n",
    "model_dict['X_test'] = X_test\n",
    "model_dict['y_test'] = y_test\n",
    "model_dict['label_names'] = mlb.classes_\n",
    "\n",
    "with open('models/cast_model.pickle', 'wb') as handle:\n",
    "    cPickle.dump(model_dict, handle, protocol = cPickle.HIGHEST_PROTOCOL)"
   ]
  },
  {
   "cell_type": "code",
   "execution_count": 35,
   "metadata": {
    "collapsed": true
   },
   "outputs": [],
   "source": [
    "d = load_part('models/cast_model.pickle')"
   ]
  },
  {
   "cell_type": "code",
   "execution_count": 37,
   "metadata": {
    "collapsed": false
   },
   "outputs": [
    {
     "name": "stdout",
     "output_type": "stream",
     "text": [
      "             precision    recall  f1-score   support\n",
      "\n",
      "     Action       0.72      0.22      0.33      1268\n",
      "  Adventure       0.65      0.10      0.17       787\n",
      "  Animation       0.98      0.44      0.61       730\n",
      "     Comedy       0.75      0.37      0.50      3300\n",
      "      Crime       0.54      0.08      0.13      1091\n",
      "Documentary       0.89      0.19      0.31      1490\n",
      "      Drama       0.68      0.47      0.56      4875\n",
      "     Family       0.85      0.24      0.37       795\n",
      "    Fantasy       0.69      0.05      0.09       585\n",
      "     Horror       0.67      0.10      0.17      1131\n",
      "    Mystery       0.54      0.03      0.06       584\n",
      "    Romance       0.47      0.10      0.17      1535\n",
      "     Sci-Fi       0.70      0.07      0.13       588\n",
      "      Short       0.95      0.25      0.40      1304\n",
      "   Thriller       0.60      0.11      0.18      1502\n",
      "\n",
      "avg / total       0.71      0.26      0.36     21565\n",
      "\n"
     ]
    }
   ],
   "source": [
    "print classification_report(d['y_test'], d['model'].predict(d['X_test']), target_names = d['label_names'])"
   ]
  },
  {
   "cell_type": "code",
   "execution_count": null,
   "metadata": {
    "collapsed": true
   },
   "outputs": [],
   "source": []
  }
 ],
 "metadata": {
  "kernelspec": {
   "display_name": "Python [default]",
   "language": "python",
   "name": "python2"
  },
  "language_info": {
   "codemirror_mode": {
    "name": "ipython",
    "version": 2
   },
   "file_extension": ".py",
   "mimetype": "text/x-python",
   "name": "python",
   "nbconvert_exporter": "python",
   "pygments_lexer": "ipython2",
   "version": "2.7.12"
  }
 },
 "nbformat": 4,
 "nbformat_minor": 0
}
