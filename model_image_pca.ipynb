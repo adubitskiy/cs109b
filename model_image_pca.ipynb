{
 "cells": [
  {
   "cell_type": "code",
   "execution_count": 19,
   "metadata": {
    "collapsed": true
   },
   "outputs": [],
   "source": [
    "import sys\n",
    "import time\n",
    "import pickle\n",
    "import numpy as np\n",
    "import pandas as pd\n",
    "\n",
    "from multiprocessing import Pool\n",
    "\n",
    "from skimage import io\n",
    "from sklearn.decomposition import PCA\n",
    "from sklearn.preprocessing import MultiLabelBinarizer\n",
    "from sklearn.model_selection import train_test_split\n",
    "from sklearn.metrics import classification_report\n",
    "\n",
    "import keras \n",
    "from keras import regularizers\n",
    "from keras.models import Sequential, Model, load_model\n",
    "from keras.layers.core import Flatten, Dense, Dropout\n",
    "from keras.layers.convolutional import Conv2D, MaxPooling2D, ZeroPadding2D\n",
    "from keras.layers.normalization import BatchNormalization\n",
    "from keras.optimizers import SGD\n",
    "from keras.callbacks import TensorBoard, EarlyStopping, ReduceLROnPlateau\n",
    "\n",
    "from keras.applications.resnet50 import ResNet50\n",
    "from keras.applications.vgg16 import VGG16\n",
    "\n",
    "from scripts.image import load_image\n",
    "\n",
    "import matplotlib\n",
    "%matplotlib inline\n",
    "import matplotlib.pyplot as plt"
   ]
  },
  {
   "cell_type": "code",
   "execution_count": 2,
   "metadata": {
    "collapsed": true
   },
   "outputs": [],
   "source": [
    "img_rows, img_cols = 224, 224"
   ]
  },
  {
   "cell_type": "code",
   "execution_count": 3,
   "metadata": {
    "collapsed": true
   },
   "outputs": [],
   "source": [
    "images_preloaded = True\n",
    "try:\n",
    "    with open('data/images.pickle', 'rb') as handle:\n",
    "        features, labels =  pickle.load(handle)\n",
    "except:\n",
    "    images_preloaded = False"
   ]
  },
  {
   "cell_type": "code",
   "execution_count": 4,
   "metadata": {},
   "outputs": [
    {
     "name": "stdout",
     "output_type": "stream",
     "text": [
      "Waiting for 24 tasks to complete...\n",
      "Waiting for 24 tasks to complete...\n",
      "Waiting for 23 tasks to complete...\n",
      "Waiting for 19 tasks to complete...\n",
      "Waiting for 15 tasks to complete...\n",
      "Waiting for 11 tasks to complete...\n",
      "Waiting for 8 tasks to complete...\n",
      "Waiting for 5 tasks to complete...\n",
      "Waiting for 2 tasks to complete...\n"
     ]
    }
   ],
   "source": [
    "# load images into memory\n",
    "if(not images_preloaded):\n",
    "    with open('data/tmdb_info.pickle', 'rb') as handle:\n",
    "        tmdb_dict =  pickle.load(handle)\n",
    "    with Pool(6) as p:\n",
    "        rs = p.map_async(load_image, list(tmdb_dict.keys()))\n",
    "        p.close()\n",
    "        while (True):\n",
    "            if (rs.ready()): break\n",
    "            remaining = rs._number_left\n",
    "            print(\"Waiting for\", remaining, \"tasks to complete...\")\n",
    "            time.sleep(10)"
   ]
  },
  {
   "cell_type": "code",
   "execution_count": 5,
   "metadata": {
    "collapsed": true
   },
   "outputs": [],
   "source": [
    "# extract labes for the loaded images\n",
    "if(not images_preloaded):\n",
    "    labels = []\n",
    "    features = []\n",
    "    for r in rs.get():\n",
    "        if(r[1] is not None):\n",
    "            d = tmdb_dict[r[0]].__dict__\n",
    "            labels.append([g['name']  for g in   d['genres']])\n",
    "            features.append(r[1])\n",
    "    features = np.asarray(features)\n",
    "    rs = None\n",
    "    tmdb_dict = None"
   ]
  },
  {
   "cell_type": "code",
   "execution_count": 6,
   "metadata": {},
   "outputs": [
    {
     "name": "stdout",
     "output_type": "stream",
     "text": [
      "label matrix shape: (58827, 20)\n"
     ]
    }
   ],
   "source": [
    "# create the labels vector\n",
    "mlb = MultiLabelBinarizer()\n",
    "y = mlb.fit_transform(labels)\n",
    "print('label matrix shape:', y.shape)"
   ]
  },
  {
   "cell_type": "code",
   "execution_count": 7,
   "metadata": {
    "collapsed": true
   },
   "outputs": [],
   "source": [
    "# split into test / train data\n",
    "X_train, X_test, y_train, y_test = train_test_split(features, y, test_size=0.25, random_state = 442)"
   ]
  },
  {
   "cell_type": "code",
   "execution_count": 8,
   "metadata": {
    "collapsed": true
   },
   "outputs": [],
   "source": [
    "pca = PCA(n_components = 10)\n",
    "y_train_pca = pca.fit_transform(y_train)\n",
    "y_test_pca = pca.transform(y_test)\n",
    "output_size = y_train_pca.shape[1]"
   ]
  },
  {
   "cell_type": "code",
   "execution_count": 9,
   "metadata": {},
   "outputs": [
    {
     "name": "stdout",
     "output_type": "stream",
     "text": [
      "Train label matrix shape: (44120, 10)\n",
      "Train predictor matrix shape: (44120, 224, 224, 3)\n",
      "Test label matrix shape: (14707, 10)\n",
      "Test predictor matrix shape: (14707, 224, 224, 3)\n"
     ]
    }
   ],
   "source": [
    "print('Train label matrix shape:', y_train_pca.shape)\n",
    "print('Train predictor matrix shape:', X_train.shape)\n",
    "print('Test label matrix shape:', y_test_pca.shape)\n",
    "print('Test predictor matrix shape:', X_test.shape)"
   ]
  },
  {
   "cell_type": "markdown",
   "metadata": {
    "collapsed": true
   },
   "source": [
    "Model definition"
   ]
  },
  {
   "cell_type": "code",
   "execution_count": 17,
   "metadata": {
    "collapsed": true
   },
   "outputs": [],
   "source": [
    "def get_model():\n",
    "    model = Sequential()\n",
    "\n",
    "    model.add(Conv2D(16, (3, 3), activation='relu', input_shape=(224,224,3)))\n",
    "    model.add(MaxPooling2D((2,2), strides=(2,2)))\n",
    "\n",
    "    model.add(Conv2D(32, (3, 3), activation='relu'))\n",
    "    model.add(MaxPooling2D((2,2), strides=(2,2)))\n",
    "\n",
    "    model.add(Conv2D(64, (3, 3), activation='relu'))\n",
    "    model.add(MaxPooling2D((2,2), strides=(2,2)))\n",
    "\n",
    "    model.add(Conv2D(128, (3, 3), activation='relu'))\n",
    "    model.add(MaxPooling2D((2,2), strides=(2,2)))\n",
    "\n",
    "    model.add(Conv2D(256, (3, 3), activation='relu'))\n",
    "    model.add(MaxPooling2D((2,2), strides=(2,2)))\n",
    "\n",
    "    model.add(Flatten())\n",
    "    model.add(Dense(512, activation='relu', kernel_regularizer = regularizers.l1(0.01)))\n",
    "    model.add(Dense(output_size, kernel_initializer='glorot_uniform'))\n",
    "    return model"
   ]
  },
  {
   "cell_type": "code",
   "execution_count": 24,
   "metadata": {},
   "outputs": [
    {
     "name": "stdout",
     "output_type": "stream",
     "text": [
      "_________________________________________________________________\n",
      "Layer (type)                 Output Shape              Param #   \n",
      "=================================================================\n",
      "conv2d_21 (Conv2D)           (None, 222, 222, 16)      448       \n",
      "_________________________________________________________________\n",
      "max_pooling2d_21 (MaxPooling (None, 111, 111, 16)      0         \n",
      "_________________________________________________________________\n",
      "conv2d_22 (Conv2D)           (None, 109, 109, 32)      4640      \n",
      "_________________________________________________________________\n",
      "max_pooling2d_22 (MaxPooling (None, 54, 54, 32)        0         \n",
      "_________________________________________________________________\n",
      "conv2d_23 (Conv2D)           (None, 52, 52, 64)        18496     \n",
      "_________________________________________________________________\n",
      "max_pooling2d_23 (MaxPooling (None, 26, 26, 64)        0         \n",
      "_________________________________________________________________\n",
      "conv2d_24 (Conv2D)           (None, 24, 24, 128)       73856     \n",
      "_________________________________________________________________\n",
      "max_pooling2d_24 (MaxPooling (None, 12, 12, 128)       0         \n",
      "_________________________________________________________________\n",
      "conv2d_25 (Conv2D)           (None, 10, 10, 256)       295168    \n",
      "_________________________________________________________________\n",
      "max_pooling2d_25 (MaxPooling (None, 5, 5, 256)         0         \n",
      "_________________________________________________________________\n",
      "flatten_5 (Flatten)          (None, 6400)              0         \n",
      "_________________________________________________________________\n",
      "dense_3 (Dense)              (None, 512)               3277312   \n",
      "_________________________________________________________________\n",
      "dense_4 (Dense)              (None, 10)                5130      \n",
      "=================================================================\n",
      "Total params: 3,675,050.0\n",
      "Trainable params: 3,675,050.0\n",
      "Non-trainable params: 0.0\n",
      "_________________________________________________________________\n"
     ]
    }
   ],
   "source": [
    "model = None\n",
    "model = get_model()\n",
    "model.summary()"
   ]
  },
  {
   "cell_type": "code",
   "execution_count": 25,
   "metadata": {
    "collapsed": true
   },
   "outputs": [],
   "source": [
    "earlyStopping = EarlyStopping(\n",
    "    monitor='val_loss', patience = 5, min_delta = 0.01, verbose = 0, mode = 'auto')\n",
    "tensorboard = TensorBoard(\n",
    "    log_dir='logs/cnn_pca', histogram_freq=1, write_graph=True, write_images=False)\n",
    "sgd = SGD(lr = 0.1, decay = 1e-6, momentum = 0.9)"
   ]
  },
  {
   "cell_type": "code",
   "execution_count": 26,
   "metadata": {
    "collapsed": true
   },
   "outputs": [],
   "source": [
    "model.compile(optimizer = 'nadam', loss = 'mean_squared_error', metrics=['mae'])"
   ]
  },
  {
   "cell_type": "code",
   "execution_count": 27,
   "metadata": {},
   "outputs": [
    {
     "name": "stdout",
     "output_type": "stream",
     "text": [
      "Train on 44120 samples, validate on 14707 samples\n",
      "Epoch 1/50\n",
      "44120/44120 [==============================] - 209s - loss: 48.6701 - mean_absolute_error: 0.2412 - val_loss: 19.8254 - val_mean_absolute_error: 0.2405\n",
      "Epoch 2/50\n",
      "44120/44120 [==============================] - 208s - loss: 18.9517 - mean_absolute_error: 0.2405 - val_loss: 18.0980 - val_mean_absolute_error: 0.2403\n",
      "Epoch 3/50\n",
      "44120/44120 [==============================] - 207s - loss: 18.7322 - mean_absolute_error: 0.2405 - val_loss: 19.3386 - val_mean_absolute_error: 0.2464\n",
      "Epoch 4/50\n",
      "44120/44120 [==============================] - 207s - loss: 18.5484 - mean_absolute_error: 0.2406 - val_loss: 17.7694 - val_mean_absolute_error: 0.2403\n",
      "Epoch 5/50\n",
      "44120/44120 [==============================] - 206s - loss: 18.3477 - mean_absolute_error: 0.2406 - val_loss: 18.9297 - val_mean_absolute_error: 0.2397\n",
      "Epoch 6/50\n",
      "44120/44120 [==============================] - 207s - loss: 18.1686 - mean_absolute_error: 0.2404 - val_loss: 17.4187 - val_mean_absolute_error: 0.2399\n",
      "Epoch 7/50\n",
      "44120/44120 [==============================] - 206s - loss: 17.9881 - mean_absolute_error: 0.2404 - val_loss: 18.5402 - val_mean_absolute_error: 0.2400\n",
      "Epoch 8/50\n",
      "44120/44120 [==============================] - 207s - loss: 17.8158 - mean_absolute_error: 0.2404 - val_loss: 17.0895 - val_mean_absolute_error: 0.2400\n",
      "Epoch 9/50\n",
      "44120/44120 [==============================] - 207s - loss: 17.6422 - mean_absolute_error: 0.2405 - val_loss: 18.1864 - val_mean_absolute_error: 0.2402\n",
      "Epoch 10/50\n",
      "44120/44120 [==============================] - 206s - loss: 17.4752 - mean_absolute_error: 0.2405 - val_loss: 16.7662 - val_mean_absolute_error: 0.2404\n",
      "Epoch 11/50\n",
      "44120/44120 [==============================] - 206s - loss: 17.3067 - mean_absolute_error: 0.2405 - val_loss: 17.8294 - val_mean_absolute_error: 0.2404\n",
      "Epoch 12/50\n",
      "44120/44120 [==============================] - 207s - loss: 17.1452 - mean_absolute_error: 0.2405 - val_loss: 16.4626 - val_mean_absolute_error: 0.2402\n",
      "Epoch 13/50\n",
      "44120/44120 [==============================] - 205s - loss: 16.9819 - mean_absolute_error: 0.2405 - val_loss: 17.5050 - val_mean_absolute_error: 0.2404\n",
      "Epoch 14/50\n",
      "44120/44120 [==============================] - 206s - loss: 16.8256 - mean_absolute_error: 0.2405 - val_loss: 16.1528 - val_mean_absolute_error: 0.2401\n",
      "Epoch 15/50\n",
      "44120/44120 [==============================] - 206s - loss: 16.6670 - mean_absolute_error: 0.2404 - val_loss: 17.1669 - val_mean_absolute_error: 0.2403\n",
      "Epoch 16/50\n",
      "44120/44120 [==============================] - 205s - loss: 16.5151 - mean_absolute_error: 0.2404 - val_loss: 15.8613 - val_mean_absolute_error: 0.2405\n",
      "Epoch 17/50\n",
      "44120/44120 [==============================] - 202s - loss: 16.3614 - mean_absolute_error: 0.2405 - val_loss: 16.8588 - val_mean_absolute_error: 0.2398\n",
      "Epoch 18/50\n",
      "44120/44120 [==============================] - 202s - loss: 16.2142 - mean_absolute_error: 0.2404 - val_loss: 15.5689 - val_mean_absolute_error: 0.2404\n",
      "Epoch 19/50\n",
      "44120/44120 [==============================] - 201s - loss: 16.0647 - mean_absolute_error: 0.2405 - val_loss: 16.5415 - val_mean_absolute_error: 0.2399\n",
      "Epoch 20/50\n",
      "44120/44120 [==============================] - 202s - loss: 15.9217 - mean_absolute_error: 0.2404 - val_loss: 15.2998 - val_mean_absolute_error: 0.2404\n",
      "Epoch 21/50\n",
      "44120/44120 [==============================] - 201s - loss: 15.7767 - mean_absolute_error: 0.2405 - val_loss: 16.2551 - val_mean_absolute_error: 0.2404\n",
      "Epoch 22/50\n",
      "44120/44120 [==============================] - 202s - loss: 15.6381 - mean_absolute_error: 0.2405 - val_loss: 15.0260 - val_mean_absolute_error: 0.2402\n",
      "Epoch 23/50\n",
      "44120/44120 [==============================] - 202s - loss: 15.4972 - mean_absolute_error: 0.2405 - val_loss: 15.9546 - val_mean_absolute_error: 0.2399\n",
      "Epoch 24/50\n",
      "44120/44120 [==============================] - 202s - loss: 15.3624 - mean_absolute_error: 0.2404 - val_loss: 14.7691 - val_mean_absolute_error: 0.2403\n",
      "Epoch 25/50\n",
      "44120/44120 [==============================] - 200s - loss: 15.2256 - mean_absolute_error: 0.2404 - val_loss: 15.6836 - val_mean_absolute_error: 0.2405\n",
      "Epoch 26/50\n",
      "44120/44120 [==============================] - 203s - loss: 15.0949 - mean_absolute_error: 0.2405 - val_loss: 14.5101 - val_mean_absolute_error: 0.2403\n",
      "Epoch 27/50\n",
      "44120/44120 [==============================] - 202s - loss: 14.9620 - mean_absolute_error: 0.2405 - val_loss: 15.3994 - val_mean_absolute_error: 0.2400\n",
      "Epoch 28/50\n",
      "44120/44120 [==============================] - 202s - loss: 14.8349 - mean_absolute_error: 0.2404 - val_loss: 14.2682 - val_mean_absolute_error: 0.2402\n",
      "Epoch 29/50\n",
      "44120/44120 [==============================] - 202s - loss: 14.7058 - mean_absolute_error: 0.2405 - val_loss: 15.1446 - val_mean_absolute_error: 0.2401\n",
      "Epoch 30/50\n",
      "44120/44120 [==============================] - 202s - loss: 14.5827 - mean_absolute_error: 0.2404 - val_loss: 14.0250 - val_mean_absolute_error: 0.2401\n",
      "Epoch 31/50\n",
      "44120/44120 [==============================] - 202s - loss: 14.4571 - mean_absolute_error: 0.2405 - val_loss: 14.8750 - val_mean_absolute_error: 0.2401\n",
      "Epoch 32/50\n",
      "44120/44120 [==============================] - 202s - loss: 14.3372 - mean_absolute_error: 0.2404 - val_loss: 13.7972 - val_mean_absolute_error: 0.2401\n",
      "Epoch 33/50\n",
      "44120/44120 [==============================] - 202s - loss: 14.2155 - mean_absolute_error: 0.2404 - val_loss: 14.6366 - val_mean_absolute_error: 0.2408\n",
      "Epoch 34/50\n",
      "44120/44120 [==============================] - 201s - loss: 14.0994 - mean_absolute_error: 0.2405 - val_loss: 13.5657 - val_mean_absolute_error: 0.2405\n",
      "Epoch 35/50\n",
      "44120/44120 [==============================] - 202s - loss: 13.9810 - mean_absolute_error: 0.2406 - val_loss: 14.3831 - val_mean_absolute_error: 0.2400\n",
      "Epoch 36/50\n",
      "44120/44120 [==============================] - 202s - loss: 13.8680 - mean_absolute_error: 0.2405 - val_loss: 13.3501 - val_mean_absolute_error: 0.2399\n",
      "Epoch 37/50\n",
      "44120/44120 [==============================] - 201s - loss: 13.7531 - mean_absolute_error: 0.2405 - val_loss: 14.1552 - val_mean_absolute_error: 0.2398\n",
      "Epoch 38/50\n",
      "44120/44120 [==============================] - 202s - loss: 13.6435 - mean_absolute_error: 0.2404 - val_loss: 13.1340 - val_mean_absolute_error: 0.2404\n",
      "Epoch 39/50\n",
      "44120/44120 [==============================] - 202s - loss: 13.5318 - mean_absolute_error: 0.2404 - val_loss: 13.9156 - val_mean_absolute_error: 0.2404\n",
      "Epoch 40/50\n",
      "44120/44120 [==============================] - 202s - loss: 13.4252 - mean_absolute_error: 0.2405 - val_loss: 12.9325 - val_mean_absolute_error: 0.2403\n",
      "Epoch 41/50\n",
      "44120/44120 [==============================] - 201s - loss: 13.3167 - mean_absolute_error: 0.2404 - val_loss: 13.7016 - val_mean_absolute_error: 0.2403\n",
      "Epoch 42/50\n",
      "44120/44120 [==============================] - 201s - loss: 13.2134 - mean_absolute_error: 0.2404 - val_loss: 12.7288 - val_mean_absolute_error: 0.2405\n",
      "Epoch 43/50\n",
      "44120/44120 [==============================] - 202s - loss: 13.1079 - mean_absolute_error: 0.2405 - val_loss: 13.4748 - val_mean_absolute_error: 0.2402\n",
      "Epoch 44/50\n",
      "44120/44120 [==============================] - 202s - loss: 13.0074 - mean_absolute_error: 0.2405 - val_loss: 12.5388 - val_mean_absolute_error: 0.2401\n",
      "Epoch 45/50\n",
      "44120/44120 [==============================] - 201s - loss: 12.9049 - mean_absolute_error: 0.2404 - val_loss: 13.2742 - val_mean_absolute_error: 0.2403\n",
      "Epoch 46/50\n",
      "44120/44120 [==============================] - 202s - loss: 12.8075 - mean_absolute_error: 0.2405 - val_loss: 12.3441 - val_mean_absolute_error: 0.2403\n",
      "Epoch 47/50\n",
      "44120/44120 [==============================] - 202s - loss: 12.7080 - mean_absolute_error: 0.2404 - val_loss: 13.0586 - val_mean_absolute_error: 0.2405\n",
      "Epoch 48/50\n",
      "44120/44120 [==============================] - 201s - loss: 12.6131 - mean_absolute_error: 0.2405 - val_loss: 12.1658 - val_mean_absolute_error: 0.2403\n",
      "Epoch 49/50\n",
      "44120/44120 [==============================] - 200s - loss: 12.5165 - mean_absolute_error: 0.2405 - val_loss: 12.8705 - val_mean_absolute_error: 0.2402\n",
      "Epoch 50/50\n",
      "44120/44120 [==============================] - 202s - loss: 12.4245 - mean_absolute_error: 0.2404 - val_loss: 11.9843 - val_mean_absolute_error: 0.2402\n"
     ]
    }
   ],
   "source": [
    "history = model.fit(\n",
    "    X_train, \n",
    "    y_train_pca, \n",
    "    batch_size = 512, \n",
    "    epochs = 50, \n",
    "    verbose = 1,\n",
    "    validation_data = (X_test, y_test_pca),\n",
    "    callbacks = [earlyStopping]\n",
    ")"
   ]
  },
  {
   "cell_type": "code",
   "execution_count": 28,
   "metadata": {
    "collapsed": true
   },
   "outputs": [],
   "source": [
    "y_pred_test_pca = model.predict(X_test)\n",
    "y_pred_test = pca.inverse_transform(y_pred_test_pca)"
   ]
  },
  {
   "cell_type": "code",
   "execution_count": 45,
   "metadata": {
    "collapsed": true
   },
   "outputs": [],
   "source": [
    "y_pred_test_cls = np.zeros(y_pred_test.shape)\n",
    "y_pred_test_cls[y_pred_test > 0.5] = 1"
   ]
  },
  {
   "cell_type": "code",
   "execution_count": 44,
   "metadata": {},
   "outputs": [
    {
     "name": "stdout",
     "output_type": "stream",
     "text": [
      "[0 0 0 1 0 0 0 0 0 0 0 0 0 0 0 0 0 0 0 0]\n",
      "[-0.52270162  0.65574569 -0.06178874 -0.09686353  0.06575172 -0.17593735\n",
      "  0.04067854  0.01139354  0.00482788 -0.04374503]\n",
      "[-0.00163054  0.00169657 -0.00425679  0.00207877 -0.00011466  0.00224551\n",
      "  0.00420723  0.00253882 -0.00304022  0.00472961]\n",
      "[ 1.  1.  1.  1.  1.  1.  1.  1.  1.  1.  1.  1.  1.  1.  1.  1.  1.  1.\n",
      "  1.  1.]\n"
     ]
    }
   ],
   "source": [
    "print(y_test[10])\n",
    "print(y_test_pca[10])\n",
    "print(y_pred_test_pca[10])\n",
    "print(y_pred_test_cls[10])"
   ]
  },
  {
   "cell_type": "code",
   "execution_count": 46,
   "metadata": {},
   "outputs": [
    {
     "name": "stdout",
     "output_type": "stream",
     "text": [
      "                 precision    recall  f1-score   support\n",
      "\n",
      "         Action       0.00      0.00      0.00      1550\n",
      "      Adventure       0.00      0.00      0.00       871\n",
      "      Animation       0.00      0.00      0.00      1014\n",
      "         Comedy       0.25      1.00      0.41      3746\n",
      "          Crime       0.00      0.00      0.00       925\n",
      "    Documentary       0.00      0.00      0.00      2122\n",
      "          Drama       0.36      1.00      0.53      5366\n",
      "         Family       0.00      0.00      0.00       860\n",
      "        Fantasy       0.00      0.00      0.00       547\n",
      "        Foreign       0.00      0.00      0.00       488\n",
      "        History       0.00      0.00      0.00       329\n",
      "         Horror       0.00      0.00      0.00      1275\n",
      "          Music       0.00      0.00      0.00      1116\n",
      "        Mystery       0.00      0.00      0.00       502\n",
      "        Romance       0.00      0.00      0.00      1541\n",
      "Science Fiction       0.00      0.00      0.00       624\n",
      "       TV Movie       0.00      0.00      0.00       293\n",
      "       Thriller       0.00      0.00      0.00      1383\n",
      "            War       0.00      0.00      0.00       307\n",
      "        Western       0.00      0.00      0.00       358\n",
      "\n",
      "    avg / total       0.12      0.36      0.17     25217\n",
      "\n"
     ]
    },
    {
     "name": "stderr",
     "output_type": "stream",
     "text": [
      "C:\\Anaconda\\envs\\py35\\lib\\site-packages\\sklearn\\metrics\\classification.py:1113: UndefinedMetricWarning: Precision and F-score are ill-defined and being set to 0.0 in labels with no predicted samples.\n",
      "  'precision', 'predicted', average, warn_for)\n"
     ]
    }
   ],
   "source": [
    "print(classification_report(y_test, y_pred_test_cls, target_names = mlb.classes_))"
   ]
  },
  {
   "cell_type": "code",
   "execution_count": 50,
   "metadata": {},
   "outputs": [
    {
     "data": {
      "text/plain": [
       "<matplotlib.text.Text at 0x4d4fa6f8d0>"
      ]
     },
     "execution_count": 50,
     "metadata": {},
     "output_type": "execute_result"
    },
    {
     "data": {
      "image/png": "[encoded data removed]",
      "text/plain": [
       "<matplotlib.figure.Figure at 0x4d4fa9f4e0>"
      ]
     },
     "metadata": {},
     "output_type": "display_data"
    }
   ],
   "source": [
    "plt.plot(history.history['mean_absolute_error'])\n",
    "plt.plot(history.history['val_mean_absolute_error'])\n",
    "plt.xlabel(\"epoch\")\n",
    "plt.ylabel(\"accuracy\")"
   ]
  },
  {
   "cell_type": "code",
   "execution_count": 51,
   "metadata": {
    "collapsed": true
   },
   "outputs": [],
   "source": [
    "model.save('models/cnn_pca.h5')"
   ]
  },
  {
   "cell_type": "code",
   "execution_count": null,
   "metadata": {
    "collapsed": true
   },
   "outputs": [],
   "source": []
  }
 ],
 "metadata": {
  "anaconda-cloud": {},
  "kernelspec": {
   "display_name": "Python [conda env:py35]",
   "language": "python",
   "name": "conda-env-py35-py"
  },
  "language_info": {
   "codemirror_mode": {
    "name": "ipython",
    "version": 3
   },
   "file_extension": ".py",
   "mimetype": "text/x-python",
   "name": "python",
   "nbconvert_exporter": "python",
   "pygments_lexer": "ipython3",
   "version": "3.5.2"
  }
 },
 "nbformat": 4,
 "nbformat_minor": 1
}
