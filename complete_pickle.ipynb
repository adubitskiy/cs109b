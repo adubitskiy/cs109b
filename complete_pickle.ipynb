{
 "cells": [
  {
   "cell_type": "code",
   "execution_count": 1,
   "metadata": {
    "collapsed": false
   },
   "outputs": [],
   "source": [
    "import pickle\n",
    "import tmdbsimple as tmdb\n",
    "from imdb import IMDb\n",
    "import re\n",
    "import time"
   ]
  },
  {
   "cell_type": "code",
   "execution_count": 2,
   "metadata": {
    "collapsed": true
   },
   "outputs": [],
   "source": [
    "def load_part(file_name):\n",
    "    with open(file_name, 'rb') as handle:\n",
    "        return pickle.load(handle)"
   ]
  },
  {
   "cell_type": "code",
   "execution_count": 3,
   "metadata": {
    "collapsed": false
   },
   "outputs": [],
   "source": [
    "master_dict = load_part('data/tmdb_info.pickle')"
   ]
  },
  {
   "cell_type": "code",
   "execution_count": 4,
   "metadata": {
    "collapsed": true
   },
   "outputs": [],
   "source": [
    "def append_obj(obj, name ):\n",
    "    with open(name + '.pickle', 'a') as f:\n",
    "        pickle.dump(obj, f, pickle.HIGHEST_PROTOCOL)"
   ]
  },
  {
   "cell_type": "code",
   "execution_count": 5,
   "metadata": {
    "collapsed": true
   },
   "outputs": [],
   "source": [
    "def query_imdb(mov_id):\n",
    "    ia = IMDb()\n",
    "    #query imdb system\n",
    "    cur_mov = ia.get_movie(mov_id)\n",
    "    return cur_mov.__dict__"
   ]
  },
  {
   "cell_type": "code",
   "execution_count": 6,
   "metadata": {
    "collapsed": true
   },
   "outputs": [],
   "source": [
    "def search_imdb(mov_name):\n",
    "    ia = IMDb()\n",
    "    #search imdb system using a name\n",
    "    s_result = ia.search_movie(mov_name)\n",
    "    #goes for first result, if there is one\n",
    "    try:\n",
    "        the_unt = s_result[0]\n",
    "        ia.update(the_unt)\n",
    "        return the_unt.__dict__\n",
    "    except:\n",
    "        return False"
   ]
  },
  {
   "cell_type": "code",
   "execution_count": 7,
   "metadata": {
    "collapsed": true
   },
   "outputs": [],
   "source": [
    "#checks if any of the values we want filled in are 0, empty or just missing in our dictionary\n",
    "def miss_val(miss_dic, check_ls):\n",
    "    for form in check_ls:\n",
    "        #check to see if value is 0, empty or just missing in our dictionary\n",
    "        if miss_dic[form] == 0 or miss_dic[form] == None or not miss_dic[form]:\n",
    "            return True\n",
    "    return False"
   ]
  },
  {
   "cell_type": "code",
   "execution_count": 8,
   "metadata": {
    "collapsed": true
   },
   "outputs": [],
   "source": [
    "def complete_pickle(tmdb_dic, check):\n",
    "    imdb_id = tmdb_dic['imdb_id']\n",
    "    imdb_dic = {}\n",
    "    #check to see if the check values we want are even missing\n",
    "    #also check to make sure were able to get the imdb movie we wanted (some tdmb dics dont have imdb id)\n",
    "    \n",
    "    #to have it only query if we are missing something just uncomment the two miss_val statements in the if statements\n",
    "    if imdb_id:#and miss_val(tmdb_dic, check):\n",
    "        #had to add this in because there were letters added on to some\n",
    "        mov_id = \" \".join(re.findall(r'\\d+', imdb_id))\n",
    "        imdb_dic = query_imdb(mov_id)\n",
    "    #if the tmdb file doesnt have an imdb name we can search with just the movie name\n",
    "    elif not imdb_id:#and miss_val(tmdb_dic, check):\n",
    "        #make sure we are adding the same movie\n",
    "        temp = search_imdb(tmdb_dic['title'])\n",
    "        if temp and temp['data']['title'] == tmdb_dic['title']:# and (temp['data']['year'] == tmdb_dic['data']['year']): Not all movies have year\n",
    "                imdb_dic = temp\n",
    "            \n",
    "    #add the resutlts to my new dictionary\n",
    "    ret_dic = tmdb_dic\n",
    "    ret_dic.update(imdb_dic)\n",
    "    return (ret_dic, tmdb_dic, imdb_dic)"
   ]
  },
  {
   "cell_type": "code",
   "execution_count": 9,
   "metadata": {
    "collapsed": false
   },
   "outputs": [
    {
     "name": "stdout",
     "output_type": "stream",
     "text": [
      "[262150, 8, 262158, 393234, 393235, 393238, 262168, 262169, 262173, 32]\n"
     ]
    }
   ],
   "source": [
    "test_set = master_dict.keys()[0:10]\n",
    "print test_set"
   ]
  },
  {
   "cell_type": "markdown",
   "metadata": {},
   "source": [
    "Just have to fix this part where I load in a previous instance of imdb_info."
   ]
  },
  {
   "cell_type": "code",
   "execution_count": 15,
   "metadata": {
    "collapsed": true
   },
   "outputs": [],
   "source": [
    "#this isn't triggering because I keep getting an error saying no module named character\n",
    "try:\n",
    "    # have to run this after pickle file is created at bottom, this will then make sure you are not repeating\n",
    "    prev_imdb_set = load_part('data/imdb_info.pickle')\n",
    "    prev_imdb_set_keys = prev_imdb_set.keys()\n",
    "except:\n",
    "    prev_imdb_set_keys = []"
   ]
  },
  {
   "cell_type": "code",
   "execution_count": 11,
   "metadata": {
    "collapsed": false
   },
   "outputs": [],
   "source": [
    "full_save = {}\n",
    "imdb_save = {}\n",
    "for movie_num in list(set(test_set) - set(prev_imdb_set_keys)):\n",
    "    rest = 1\n",
    "    #revenue is just a place holder\n",
    "    #saving these to a dictionary using tmdb id to index\n",
    "    full_save[movie_num], tmdb_place, imdb_save[movie_num] = complete_pickle(master_dict[movie_num].__dict__, ['revenue'])\n",
    "    time.sleep(rest)"
   ]
  },
  {
   "cell_type": "code",
   "execution_count": 12,
   "metadata": {
    "collapsed": true
   },
   "outputs": [],
   "source": [
    "append_obj(full_save, 'data/full_info')\n",
    "append_obj(imdb_save, 'data/imdb_info')"
   ]
  },
  {
   "cell_type": "markdown",
   "metadata": {},
   "source": [
    "### Final version Run"
   ]
  },
  {
   "cell_type": "code",
   "execution_count": 13,
   "metadata": {
    "collapsed": false
   },
   "outputs": [
    {
     "data": {
      "text/plain": [
       "\"\\nfull_save = {}\\nimdb_save = {}\\nfor movie_num in list(set(master_dict.keys()) - set(prev_imdb_set_keys)):\\n    rest = 1\\n    #revenue is just a place holder\\n    #saving these to a dictionary using tmdb id to index\\n    full_save[movie_num], tmdb_place, imdb_save[movie_num] = complete_pickle(master_dict[movie_num].__dict__, ['revenue'])\\n    time.sleep(rest)\\nsave_obj(full_save, 'full_info.pickle')\\nsave_obj(imdb_save, 'imdb_info.pickle')\\n\""
      ]
     },
     "execution_count": 13,
     "metadata": {},
     "output_type": "execute_result"
    }
   ],
   "source": [
    "#run this if all else works, runs on full dataset\n",
    "'''\n",
    "full_save = {}\n",
    "imdb_save = {}\n",
    "for movie_num in list(set(master_dict.keys()) - set(prev_imdb_set_keys)):\n",
    "    rest = 1\n",
    "    #revenue is just a place holder\n",
    "    #saving these to a dictionary using tmdb id to index\n",
    "    full_save[movie_num], tmdb_place, imdb_save[movie_num] = complete_pickle(master_dict[movie_num].__dict__, ['revenue'])\n",
    "    time.sleep(rest)\n",
    "save_obj(full_save, 'full_info.pickle')\n",
    "save_obj(imdb_save, 'imdb_info.pickle')\n",
    "'''"
   ]
  }
 ],
 "metadata": {
  "kernelspec": {
   "display_name": "Python 2",
   "language": "python",
   "name": "python2"
  },
  "language_info": {
   "codemirror_mode": {
    "name": "ipython",
    "version": 2
   },
   "file_extension": ".py",
   "mimetype": "text/x-python",
   "name": "python",
   "nbconvert_exporter": "python",
   "pygments_lexer": "ipython2",
   "version": "2.7.13"
  }
 },
 "nbformat": 4,
 "nbformat_minor": 2
}
