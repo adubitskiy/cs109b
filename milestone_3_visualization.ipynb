{
 "cells": [
  {
   "cell_type": "code",
   "execution_count": 46,
   "metadata": {
    "collapsed": true
   },
   "outputs": [],
   "source": [
    "import pickle as pic\n",
    "import cPickle\n",
    "import matplotlib.pyplot as plt\n",
    "from sklearn.metrics import classification_report\n",
    "import pandas as pd\n",
    "import re"
   ]
  },
  {
   "cell_type": "code",
   "execution_count": 6,
   "metadata": {
    "collapsed": true
   },
   "outputs": [],
   "source": [
    "def save_obj(obj, name):\n",
    "    with open(name, 'wb') as f:\n",
    "        pic.dump(obj, f, pic.HIGHEST_PROTOCOL)\n",
    "def load_obj(name ):\n",
    "    with open(name, 'rb') as f:\n",
    "        return pic.load(f)"
   ]
  },
  {
   "cell_type": "code",
   "execution_count": 160,
   "metadata": {
    "collapsed": false
   },
   "outputs": [
    {
     "name": "stdout",
     "output_type": "stream",
     "text": [
      "{'X_test': <9417x31396 sparse matrix of type '<type 'numpy.float64'>'\n",
      "\twith 504926 stored elements in Compressed Sparse Row format>, 'X_train': <28251x31396 sparse matrix of type '<type 'numpy.float64'>'\n",
      "\twith 1514927 stored elements in Compressed Sparse Row format>, 'labels_names': array([u'Action', u'Adventure', u'Animation', u'Comedy', u'Crime',\n",
      "       u'Documentary', u'Drama', u'Family', u'Fantasy', u'Horror',\n",
      "       u'Mystery', u'Romance', u'Sci-Fi', u'Short', u'Thriller'], dtype=object), 'y_train': array([[0, 0, 0, ..., 0, 0, 1],\n",
      "       [0, 0, 0, ..., 0, 0, 1],\n",
      "       [0, 0, 0, ..., 0, 0, 1],\n",
      "       ..., \n",
      "       [0, 0, 0, ..., 0, 0, 0],\n",
      "       [0, 0, 0, ..., 0, 0, 0],\n",
      "       [0, 0, 0, ..., 0, 0, 0]]), 'model': GridSearchCV(cv=None, error_score='raise',\n",
      "       estimator=OneVsRestClassifier(estimator=SGDClassifier(alpha=0.0001, average=False, class_weight=None, epsilon=0.1,\n",
      "       eta0=0.0, fit_intercept=True, l1_ratio=0.15,\n",
      "       learning_rate='optimal', loss='hinge', n_iter=5, n_jobs=1,\n",
      "       penalty='l2', power_t=0.5, random_state=761, shuffle=True,\n",
      "       verbose=0, warm_start=False),\n",
      "          n_jobs=1),\n",
      "       fit_params={}, iid=True, n_jobs=-1,\n",
      "       param_grid={'estimator__alpha': array([  1.00000e-04,   9.90000e-05, ...,   2.00000e-06,   1.00000e-06]), 'estimator__penalty': ('l1', 'l2', 'elasticnet'), 'estimator__loss': ('hinge', 'log', 'perceptron', 'modified_huber')},\n",
      "       pre_dispatch='2*n_jobs', refit=True, return_train_score=True,\n",
      "       scoring=make_scorer(hamming_loss, greater_is_better=False),\n",
      "       verbose=10), 'y_test': array([[0, 0, 0, ..., 0, 0, 0],\n",
      "       [0, 0, 0, ..., 0, 0, 0],\n",
      "       [0, 0, 0, ..., 0, 0, 0],\n",
      "       ..., \n",
      "       [0, 0, 0, ..., 0, 0, 0],\n",
      "       [0, 0, 0, ..., 0, 0, 0],\n",
      "       [0, 0, 0, ..., 0, 0, 0]])}\n",
      "             precision    recall  f1-score   support\n",
      "\n",
      "     Action       0.76      0.26      0.39      1031\n",
      "  Adventure       0.74      0.09      0.17       712\n",
      "  Animation       0.90      0.30      0.45       598\n",
      "     Comedy       0.74      0.48      0.58      2674\n",
      "      Crime       0.70      0.23      0.35       948\n",
      "Documentary       0.88      0.64      0.74      1148\n",
      "      Drama       0.72      0.69      0.71      4149\n",
      "     Family       0.83      0.22      0.35       643\n",
      "    Fantasy       0.88      0.10      0.18       481\n",
      "     Horror       0.85      0.48      0.61       946\n",
      "    Mystery       0.71      0.04      0.08       511\n",
      "    Romance       0.66      0.18      0.29      1357\n",
      "     Sci-Fi       0.82      0.34      0.48       517\n",
      "      Short       0.91      0.25      0.39       960\n",
      "   Thriller       0.61      0.16      0.26      1331\n",
      "\n",
      "avg / total       0.75      0.40      0.49     18006\n",
      "\n"
     ]
    }
   ],
   "source": [
    "sgd = load_obj('models/sgd_text_model.pickle')\n",
    "print sgd\n",
    "report = classification_report(sgd['y_test'], sgd['model'].predict(sgd['X_test']), target_names = sgd['labels_names'])\n",
    "print report"
   ]
  },
  {
   "cell_type": "code",
   "execution_count": 161,
   "metadata": {
    "collapsed": false
   },
   "outputs": [],
   "source": [
    "genres = list(sgd['labels_names'])\n",
    "genres.append('avg')"
   ]
  },
  {
   "cell_type": "code",
   "execution_count": 162,
   "metadata": {
    "collapsed": false
   },
   "outputs": [],
   "source": [
    "def get_values(uni, genres):\n",
    "    ret_dic = {}\n",
    "    for dex, gen in enumerate(genres):\n",
    "        loc = uni.find(gen)\n",
    "        if dex < len(genres)-1:\n",
    "            next_loc = uni.find(genres[dex+1])\n",
    "            nums = re.findall(r'\\d+', uni[loc+len(gen):next_loc])\n",
    "            ap_dic = {'precision':float(nums[1])*.01, 'recall':float(nums[3])*.01, 'f1-score':float(nums[5])*.01, 'support':float(nums[6])}\n",
    "            ret_dic[gen] = ap_dic \n",
    "    return ret_dic"
   ]
  },
  {
   "cell_type": "code",
   "execution_count": 163,
   "metadata": {
    "collapsed": true
   },
   "outputs": [],
   "source": [
    "def to_df(dic):\n",
    "    ret_df = pd.DataFrame(columns = ['title','precision', 'recall', 'f1-score', 'support'])\n",
    "    for k, v in dic.items():\n",
    "        ret_df = ret_df.append({'title':k, 'precision':v['precision'], 'recall':v['recall'], 'f1-score':v['f1-score'], 'support':v['support']}, ignore_index=True)\n",
    "    return ret_df"
   ]
  },
  {
   "cell_type": "code",
   "execution_count": 164,
   "metadata": {
    "collapsed": false
   },
   "outputs": [
    {
     "name": "stdout",
     "output_type": "stream",
     "text": [
      "{u'Mystery': {'recall': 0.04, 'f1-score': 0.08, 'support': 511.0, 'precision': 0.71}, u'Romance': {'recall': 0.18, 'f1-score': 0.29, 'support': 1357.0, 'precision': 0.66}, u'Short': {'recall': 0.25, 'f1-score': 0.39, 'support': 960.0, 'precision': 0.91}, u'Sci-Fi': {'recall': 0.34, 'f1-score': 0.48, 'support': 517.0, 'precision': 0.8200000000000001}, u'Family': {'recall': 0.22, 'f1-score': 0.35000000000000003, 'support': 643.0, 'precision': 0.8300000000000001}, u'Horror': {'recall': 0.48, 'f1-score': 0.61, 'support': 946.0, 'precision': 0.85}, u'Crime': {'recall': 0.23, 'f1-score': 0.35000000000000003, 'support': 948.0, 'precision': 0.7000000000000001}, u'Drama': {'recall': 0.6900000000000001, 'f1-score': 0.71, 'support': 4149.0, 'precision': 0.72}, u'Fantasy': {'recall': 0.1, 'f1-score': 0.18, 'support': 481.0, 'precision': 0.88}, u'Animation': {'recall': 0.3, 'f1-score': 0.45, 'support': 598.0, 'precision': 0.9}, u'Adventure': {'recall': 0.09, 'f1-score': 0.17, 'support': 712.0, 'precision': 0.74}, u'Action': {'recall': 0.26, 'f1-score': 0.39, 'support': 1031.0, 'precision': 0.76}, u'Comedy': {'recall': 0.48, 'f1-score': 0.58, 'support': 2674.0, 'precision': 0.74}, u'Documentary': {'recall': 0.64, 'f1-score': 0.74, 'support': 1148.0, 'precision': 0.88}, u'Thriller': {'recall': 0.16, 'f1-score': 0.26, 'support': 1331.0, 'precision': 0.61}}\n"
     ]
    }
   ],
   "source": [
    "print get_values(report, genres)"
   ]
  },
  {
   "cell_type": "code",
   "execution_count": 166,
   "metadata": {
    "collapsed": false
   },
   "outputs": [],
   "source": [
    "sgd_df = to_df(get_values(report, genres))"
   ]
  },
  {
   "cell_type": "code",
   "execution_count": 167,
   "metadata": {
    "collapsed": false
   },
   "outputs": [
    {
     "name": "stdout",
     "output_type": "stream",
     "text": [
      "{'X_test': array([[ 0.,  0.,  0., ...,  0.,  0.,  0.],\n",
      "       [ 0.,  0.,  0., ...,  0.,  0.,  0.],\n",
      "       [ 0.,  0.,  0., ...,  0.,  0.,  0.],\n",
      "       ..., \n",
      "       [ 0.,  0.,  0., ...,  0.,  0.,  0.],\n",
      "       [ 0.,  0.,  0., ...,  0.,  0.,  0.],\n",
      "       [ 0.,  0.,  0., ...,  0.,  0.,  0.]], dtype=float32), 'X_train': array([[ 0.,  0.,  0., ...,  0.,  0.,  0.],\n",
      "       [ 0.,  0.,  0., ...,  0.,  0.,  0.],\n",
      "       [ 0.,  0.,  0., ...,  0.,  0.,  0.],\n",
      "       ..., \n",
      "       [ 0.,  0.,  0., ...,  0.,  0.,  0.],\n",
      "       [ 0.,  0.,  0., ...,  0.,  0.,  0.],\n",
      "       [ 0.,  0.,  0., ...,  0.,  0.,  0.]], dtype=float32), 'labels_names': ['Action', 'Adventure', 'Animation', 'Comedy', 'Crime', 'Documentary', 'Drama', 'Family', 'Fantasy', 'Foreign', 'History', 'Horror', 'Music', 'Mystery', 'Romance', 'Science Fiction', 'TV Movie', 'Thriller', 'War', 'Western'], 'y_train': array([[0, 0, 0, ..., 0, 0, 0],\n",
      "       [0, 0, 0, ..., 1, 0, 0],\n",
      "       [0, 0, 0, ..., 0, 0, 0],\n",
      "       ..., \n",
      "       [0, 0, 0, ..., 0, 0, 0],\n",
      "       [0, 0, 0, ..., 0, 0, 0],\n",
      "       [1, 0, 0, ..., 0, 0, 0]]), 'model': RandomForestClassifier(bootstrap=True, class_weight=None, criterion='gini',\n",
      "            max_depth=None, max_features='auto', max_leaf_nodes=None,\n",
      "            min_impurity_split=1e-07, min_samples_leaf=1,\n",
      "            min_samples_split=2, min_weight_fraction_leaf=0.0,\n",
      "            n_estimators=10, n_jobs=1, oob_score=False, random_state=None,\n",
      "            verbose=0, warm_start=False), 'y_test': array([[0, 0, 0, ..., 0, 0, 0],\n",
      "       [0, 0, 0, ..., 0, 0, 0],\n",
      "       [0, 0, 0, ..., 0, 0, 0],\n",
      "       ..., \n",
      "       [0, 0, 0, ..., 0, 0, 0],\n",
      "       [0, 0, 1, ..., 0, 0, 0],\n",
      "       [0, 1, 0, ..., 1, 0, 0]])}\n",
      "                 precision    recall  f1-score   support\n",
      "\n",
      "         Action       0.64      0.05      0.09       153\n",
      "      Adventure       0.00      0.00      0.00        85\n",
      "      Animation       1.00      0.02      0.04       103\n",
      "         Comedy       0.56      0.08      0.14       380\n",
      "          Crime       0.43      0.03      0.06        98\n",
      "    Documentary       0.77      0.37      0.50       213\n",
      "          Drama       0.59      0.40      0.47       536\n",
      "         Family       0.00      0.00      0.00        84\n",
      "        Fantasy       0.00      0.00      0.00        55\n",
      "        Foreign       0.00      0.00      0.00        48\n",
      "        History       0.00      0.00      0.00        43\n",
      "         Horror       0.53      0.06      0.11       137\n",
      "          Music       0.78      0.39      0.52       114\n",
      "        Mystery       0.00      0.00      0.00        45\n",
      "        Romance       0.83      0.03      0.06       171\n",
      "Science Fiction       0.75      0.04      0.08        67\n",
      "       TV Movie       0.00      0.00      0.00        30\n",
      "       Thriller       0.25      0.01      0.02       122\n",
      "            War       0.00      0.00      0.00        41\n",
      "        Western       1.00      0.11      0.20        36\n",
      "\n",
      "    avg / total       0.53      0.16      0.21      2561\n",
      "\n"
     ]
    }
   ],
   "source": [
    "forest = load_obj('models/forest_text_model.pickle')\n",
    "print forest\n",
    "report = classification_report(forest['y_test'], forest['model'].predict(forest['X_test']), target_names = forest['labels_names'])\n",
    "print report"
   ]
  },
  {
   "cell_type": "code",
   "execution_count": 168,
   "metadata": {
    "collapsed": true
   },
   "outputs": [],
   "source": [
    "forest_df = to_df(get_values(report, genres))"
   ]
  },
  {
   "cell_type": "code",
   "execution_count": 176,
   "metadata": {
    "collapsed": false
   },
   "outputs": [
    {
     "data": {
      "image/png": "[encoded data removed]",
      "text/plain": [
       "<matplotlib.figure.Figure at 0x13d87198>"
      ]
     },
     "metadata": {},
     "output_type": "display_data"
    }
   ],
   "source": [
    "plt.scatter(forest_df['precision'], sgd_df['precision'])\n",
    "plt.ylabel('SGD Model')\n",
    "plt.xlabel('Random Forest')\n",
    "plt.title('SGD vs Random Forest Precision')\n",
    "plt.show()"
   ]
  },
  {
   "cell_type": "code",
   "execution_count": 177,
   "metadata": {
    "collapsed": false
   },
   "outputs": [
    {
     "data": {
      "image/png": "[encoded data removed]",
      "text/plain": [
       "<matplotlib.figure.Figure at 0x13ec7b00>"
      ]
     },
     "metadata": {},
     "output_type": "display_data"
    }
   ],
   "source": [
    "plt.scatter(forest_df['recall'], sgd_df['recall'])\n",
    "plt.ylabel('SGD Model')\n",
    "plt.xlabel('Random Forest')\n",
    "plt.title('SGD vs Random Forest: Recall')\n",
    "plt.show()"
   ]
  },
  {
   "cell_type": "code",
   "execution_count": 178,
   "metadata": {
    "collapsed": false
   },
   "outputs": [
    {
     "data": {
      "image/png": "[encoded data removed]",
      "text/plain": [
       "<matplotlib.figure.Figure at 0x140e96a0>"
      ]
     },
     "metadata": {},
     "output_type": "display_data"
    }
   ],
   "source": [
    "plt.scatter(forest_df['f1-score'], sgd_df['f1-score'])\n",
    "plt.ylabel('SGD Model')\n",
    "plt.xlabel('Random Forest')\n",
    "plt.title('SGD vs Random Forest: F1-Score')\n",
    "plt.show()"
   ]
  },
  {
   "cell_type": "code",
   "execution_count": null,
   "metadata": {
    "collapsed": true
   },
   "outputs": [],
   "source": [
    ""
   ]
  }
 ],
 "metadata": {
  "kernelspec": {
   "display_name": "Python 2",
   "language": "python",
   "name": "python2"
  },
  "language_info": {
   "codemirror_mode": {
    "name": "ipython",
    "version": 2.0
   },
   "file_extension": ".py",
   "mimetype": "text/x-python",
   "name": "python",
   "nbconvert_exporter": "python",
   "pygments_lexer": "ipython2",
   "version": "2.7.13"
  }
 },
 "nbformat": 4,
 "nbformat_minor": 0
}