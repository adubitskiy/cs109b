{
 "cells": [
  {
   "cell_type": "code",
   "execution_count": 1,
   "metadata": {
    "collapsed": false
   },
   "outputs": [
    {
     "name": "stdout",
     "output_type": "stream",
     "text": [
      "[nltk_data] Downloading package stopwords to C:\\Windows\\ServiceProfile\n",
      "[nltk_data]     s\\LocalService\\AppData\\Roaming\\nltk_data...\n",
      "[nltk_data]   Package stopwords is already up-to-date!\n"
     ]
    },
    {
     "data": {
      "text/plain": [
       "True"
      ]
     },
     "execution_count": 1,
     "metadata": {},
     "output_type": "execute_result"
    }
   ],
   "source": [
    "import ast\n",
    "import operator\n",
    "import numpy as np\n",
    "import pandas as pd\n",
    "import matplotlib\n",
    "import matplotlib.pyplot as plt\n",
    "from sklearn.cross_validation import KFold\n",
    "from sklearn.linear_model import LogisticRegression as LogReg\n",
    "from sklearn.feature_extraction.text import CountVectorizer\n",
    "import nltk.data\n",
    "from nltk.corpus import stopwords\n",
    "%matplotlib inline\n",
    "nltk.download('stopwords')"
   ]
  },
  {
   "cell_type": "markdown",
   "metadata": {},
   "source": [
    "Prints most influential positive and negative terms from the movies overview. Later we could extend this to analyse movies scripts."
   ]
  },
  {
   "cell_type": "code",
   "execution_count": 2,
   "metadata": {
    "collapsed": true
   },
   "outputs": [],
   "source": [
    "TMDB_MOVIES_COLUMN_NAMES = [\n",
    "    'adult', 'backdrop_path', 'belongs_to_collection', 'budget', 'genres', 'homepage', 'id', 'imdb_id',\n",
    "    'original_language', 'original_title', 'overview', 'popularity', 'poster_path', 'production_companies',\n",
    "    'production_countries', 'release_date', 'revenue', 'runtime', 'spoken_languages', 'status', 'tagline', 'title',\n",
    "    'video', 'vote_average', 'vote_count',\n",
    "]\n",
    "\n",
    "def load_tmdb_movies():\n",
    "    df = pd.read_csv('Milestone_1/tmdb_movies_11291.csv', header=None, names=TMDB_MOVIES_COLUMN_NAMES)\n",
    "    for column_name in ['genres', 'spoken_languages']:\n",
    "        df[column_name] = df[column_name].map(lambda d: ast.literal_eval(d))\n",
    "    return df"
   ]
  },
  {
   "cell_type": "code",
   "execution_count": 3,
   "metadata": {
    "collapsed": false
   },
   "outputs": [],
   "source": [
    "def getY(df, genre_name):\n",
    "    def hasGenre(genres, genre_name):\n",
    "        for genre in genres:\n",
    "            if(genre['name'] == genre_name):\n",
    "                return 1.0\n",
    "        return 0.0\n",
    "    return np.array([hasGenre(genre_list, genre_name) for genre_list in df['genres']])\n",
    "\n",
    "def cross_validate(x, y, folds, reg_params):\n",
    "    kf = KFold(x.shape[0], n_folds=folds)\n",
    "    cv_score = np.zeros(reg_params.size)\n",
    "    for i, c in enumerate(reg_params):\n",
    "        reg = LogReg(penalty='l1', C = c)\n",
    "        score_sum = 0.0\n",
    "        for train_index, test_index in kf:\n",
    "            reg.fit(x[train_index], y[train_index])\n",
    "            score_sum += reg.score(x[test_index], y[test_index])\n",
    "        cv_score[i] = score_sum/float(folds)\n",
    "    return cv_score"
   ]
  },
  {
   "cell_type": "code",
   "execution_count": 4,
   "metadata": {
    "collapsed": true
   },
   "outputs": [],
   "source": [
    "def getInfluentialTerms(x, genre_name):\n",
    "    # get labels\n",
    "    y = getY(tmdb_movies_with_overview, genre_name)\n",
    "    # cross-validate for best regularization parameter\n",
    "    all_c = np.power(10., range(-7, 8))\n",
    "    cv_scores = cross_validate(x, y, 10, all_c)\n",
    "    best_c = all_c[np.argmax(cv_scores)]\n",
    "    # fit logistic regression\n",
    "    logReg = LogReg(penalty='l1', C = best_c)\n",
    "    logReg.fit(x, y)\n",
    "    coef = logReg.coef_[0]\n",
    "    # top and bottom percentiles\n",
    "    top_1 = [coef >= np.percentile(coef, 99)]\n",
    "    bottom_1 = [coef <= np.percentile(coef, 1)]\n",
    "    return top_1, bottom_1"
   ]
  },
  {
   "cell_type": "code",
   "execution_count": 5,
   "metadata": {
    "collapsed": false
   },
   "outputs": [],
   "source": [
    "tmdb_movies_df = load_tmdb_movies()\n",
    "has_overview = ~tmdb_movies_df['overview'].isnull()\n",
    "tmdb_movies_with_overview = tmdb_movies_df[has_overview]"
   ]
  },
  {
   "cell_type": "code",
   "execution_count": 6,
   "metadata": {
    "collapsed": false
   },
   "outputs": [
    {
     "name": "stdout",
     "output_type": "stream",
     "text": [
      "predictor matrix shape: (11145L, 8773L)\n"
     ]
    }
   ],
   "source": [
    "vectorizer = CountVectorizer( \n",
    "    stop_words = stopwords.words(\"english\"), \n",
    "    token_pattern = '[a-zA-Z]+[0-9]*',\n",
    "    max_df = 0.9, \n",
    "    min_df = 5, \n",
    "    dtype=np.float32 )\n",
    "x = vectorizer.fit_transform(tmdb_movies_with_overview['overview'].values).toarray()\n",
    "print 'predictor matrix shape:', x.shape"
   ]
  },
  {
   "cell_type": "code",
   "execution_count": 7,
   "metadata": {
    "collapsed": false
   },
   "outputs": [
    {
     "data": {
      "text/plain": [
       "array([u'aaron', u'abandon', u'abandoned', ..., u'zone', u'zoo', u'zooey'], \n",
       "      dtype='<U17')"
      ]
     },
     "execution_count": 7,
     "metadata": {},
     "output_type": "execute_result"
    }
   ],
   "source": [
    "feature_names = np.array(vectorizer.get_feature_names())\n",
    "feature_names"
   ]
  },
  {
   "cell_type": "code",
   "execution_count": 8,
   "metadata": {
    "collapsed": true
   },
   "outputs": [],
   "source": [
    "def printInfluentialTerms(genre_name):\n",
    "    top_1, bottom_1 = getInfluentialTerms(x, genre_name)\n",
    "    print genre_name, 'most influential positive terms:', feature_names[top_1]\n",
    "    print genre_name, 'most influential negative terms:', feature_names[bottom_1]"
   ]
  },
  {
   "cell_type": "code",
   "execution_count": 9,
   "metadata": {
    "collapsed": false
   },
   "outputs": [
    {
     "name": "stdout",
     "output_type": "stream",
     "text": [
      "Drama most influential positive terms: [u'afterlife' u'aged' u'alcoholic' u'allied' u'anger' u'assistance'\n",
      " u'astronaut' u'ballet' u'banned' u'betrothed' u'blizzard' u'boxer'\n",
      " u'brien' u'build' u'capsule' u'chronicle' u'colonies' u'connections'\n",
      " u'constant' u'crushed' u'cycle' u'depression' u'detention' u'difficult'\n",
      " u'disturbed' u'drama' u'dramatic' u'elaborate' u'emotionally' u'enigmatic'\n",
      " u'erin' u'finest' u'forty' u'grief' u'guns' u'halt' u'hardened' u'heat'\n",
      " u'holly' u'holocaust' u'idealistic' u'incriminating' u'industrial'\n",
      " u'interpretation' u'islamic' u'janitor' u'josh' u'laden' u'laundry'\n",
      " u'loan' u'loveless' u'luis' u'luna' u'maid' u'miracle' u'morgan' u'mute'\n",
      " u'orphans' u'painter' u'patrick' u'performs' u'physician' u'poet'\n",
      " u'primary' u'prosecutor' u'pursue' u'raped' u'rehab' u'repercussions'\n",
      " u'roads' u'ruth' u'sail' u'shoes' u'skill' u'smitten' u'spying'\n",
      " u'stockholm' u'tempted' u'tennessee' u'therapist' u'tragedy' u'trevor'\n",
      " u'trucker' u'unorthodox' u'vast' u'vision' u'wales' u'wells']\n",
      "Drama most influential negative terms: [u'access' u'acting' u'active' u'aka' u'angela' u'animated' u'apache'\n",
      " u'arsenal' u'awake' u'barbie' u'beast' u'buffalo' u'bumbling' u'cameron'\n",
      " u'carries' u'chasing' u'chicken' u'childbirth' u'concert' u'controls'\n",
      " u'cookie' u'crazed' u'curse' u'damaged' u'documentary' u'downed' u'edited'\n",
      " u'elude' u'emil' u'entity' u'fifty' u'foil' u'footage' u'furious' u'gates'\n",
      " u'goat' u'gotten' u'halloween' u'hapless' u'happenings' u'horde'\n",
      " u'importance' u'includes' u'inhabitants' u'kai' u'kidnappers' u'latter'\n",
      " u'lifeguard' u'losers' u'maniac' u'mickey' u'mischievous' u'model'\n",
      " u'murphy' u'operates' u'ops' u'pal' u'paranormal' u'paying' u'pirate'\n",
      " u'pirates' u'possessed' u'preserve' u'resorts' u'respective' u'revelation'\n",
      " u'senses' u'ships' u'smugglers' u'snake' u'sometime' u'sophisticated'\n",
      " u'species' u'spoof' u'stalked' u'stormy' u'talents' u'unaware' u'undergo'\n",
      " u'unlucky' u'uproarious' u'vacationing' u'villain' u'villains'\n",
      " u'volunteers' u'wildly' u'witch' u'zombie']\n"
     ]
    }
   ],
   "source": [
    "printInfluentialTerms('Drama')"
   ]
  },
  {
   "cell_type": "code",
   "execution_count": 10,
   "metadata": {
    "collapsed": false
   },
   "outputs": [
    {
     "name": "stdout",
     "output_type": "stream",
     "text": [
      "Comedy most influential positive terms: [u'abandonment' u'allan' u'annoying' u'applies' u'archie' u'asterix'\n",
      " u'attitudes' u'awkward' u'axe' u'brainy' u'bumbling' u'bunch' u'celebrity'\n",
      " u'cheap' u'cheerleader' u'chocolate' u'citizen' u'clinic' u'clouseau'\n",
      " u'clueless' u'comedic' u'comedy' u'comfortable' u'comic' u'confusion'\n",
      " u'cruchot' u'curmudgeonly' u'dating' u'examine' u'fake' u'fist'\n",
      " u'fraternity' u'furious' u'gary' u'grandpa' u'hapless' u'hilariously'\n",
      " u'horny' u'humor' u'hypochondriac' u'inadvertently' u'incompetent'\n",
      " u'intergalactic' u'inventor' u'irreverent' u'jokes' u'laced' u'leopold'\n",
      " u'lifeguard' u'lotus' u'mascot' u'mistakenly' u'mundane' u'nephew'\n",
      " u'patriarch' u'photos' u'positions' u'pretends' u'quirky' u'regina'\n",
      " u'relocated' u'reported' u'resolve' u'resourceful' u'retrieving' u'roy'\n",
      " u'sentenced' u'shallow' u'shrek' u'sixth' u'spend' u'spoof' u'stable'\n",
      " u'stripper' u'sure' u'surprisingly' u'swimming' u'tech' u'temporarily'\n",
      " u'thus' u'underway' u'unfortunate' u'uptight' u'velma' u'wedding'\n",
      " u'werewolves' u'whatever' u'zombie']\n",
      "Comedy most influential negative terms: [u'affect' u'allied' u'anne' u'ash' u'august' u'aunt' u'barbie' u'bell'\n",
      " u'blame' u'brutally' u'carried' u'cattle' u'celebrate' u'china' u'chloe'\n",
      " u'chronicle' u'clara' u'combination' u'deeper' u'defeating' u'designer'\n",
      " u'devastating' u'diagnosed' u'dinosaur' u'drama' u'enemies' u'enforcement'\n",
      " u'equally' u'escaping' u'facility' u'fairies' u'forbidden' u'gotham'\n",
      " u'gradually' u'guido' u'ha' u'hangs' u'hop' u'horrifying' u'humanity'\n",
      " u'hunting' u'injustice' u'inmate' u'justine' u'khan' u'language' u'lion'\n",
      " u'loyalty' u'malevolent' u'marine' u'mechanic' u'milo' u'motel' u'mouse'\n",
      " u'nicknamed' u'nights' u'promise' u'psychological' u'rabbit' u'racial'\n",
      " u'rape' u'reason' u'receives' u'rescued' u'rights' u'rising' u'robert'\n",
      " u'sadistic' u'secluded' u'shared' u'shocking' u'skin' u'sprawling'\n",
      " u'stability' u'stagecoach' u'staying' u'stewart' u'suspicion'\n",
      " u'suspicions' u'thriller' u'tomboy' u'torment' u'towards' u'trafficking'\n",
      " u'tragedy' u'tragic' u'unleashes' u'violence']\n"
     ]
    }
   ],
   "source": [
    "printInfluentialTerms('Comedy')"
   ]
  },
  {
   "cell_type": "code",
   "execution_count": 11,
   "metadata": {
    "collapsed": false
   },
   "outputs": [
    {
     "name": "stdout",
     "output_type": "stream",
     "text": [
      "Thriller most influential positive terms: [u'accident' u'agent' u'alive' u'apartment' u'assassin' u'begins' u'bond'\n",
      " u'car' u'cia' u'computer' u'conspiracy' u'cop' u'crime' u'criminal'\n",
      " u'criminals' u'dangerous' u'dark' u'dead' u'deadly' u'death' u'deep'\n",
      " u'detective' u'discover' u'discovers' u'drug' u'escape' u'events' u'ex'\n",
      " u'fear' u'former' u'goes' u'group' u'horror' u'hospital' u'hostage'\n",
      " u'house' u'identity' u'job' u'john' u'kidnapped' u'kill' u'killer'\n",
      " u'killers' u'killing' u'mark' u'may' u'mind' u'mission' u'mob' u'murder'\n",
      " u'murdered' u'murders' u'mysterious' u'mystery' u'nuclear' u'officer'\n",
      " u'past' u'phone' u'police' u'prey' u'psychiatrist' u'rachel' u'remote'\n",
      " u'revenge' u'run' u'sam' u'secret' u'security' u'seemingly' u'seems'\n",
      " u'serial' u'sinister' u'soldier' u'something' u'soon' u'supernatural'\n",
      " u'survival' u'taken' u'target' u'terror' u'terrorist' u'thriller'\n",
      " u'trapped' u'u' u'uncover' u'underworld' u'unknown' u'violent']\n",
      "Thriller most influential negative terms: [u'accidentally' u'adventure' u'adventures' u'age' u'america' u'amp'\n",
      " u'army' u'back' u'band' u'best' u'boy' u'captain' u'christmas' u'coach'\n",
      " u'college' u'comedy' u'competition' u'country' u'dance' u'day' u'de'\n",
      " u'decides' u'documentary' u'dreams' u'epic' u'even' u'evil' u'family'\n",
      " u'father' u'film' u'first' u'french' u'friend' u'friends' u'friendship'\n",
      " u'get' u'giant' u'good' u'great' u'hero' u'journey' u'king' u'land'\n",
      " u'life' u'little' u'live' u'living' u'long' u'love' u'magic' u'many'\n",
      " u'marriage' u'master' u'meet' u'meets' u'movie' u'music' u'named' u'never'\n",
      " u'new' u'old' u'parents' u'prince' u'princess' u'queen' u'quest'\n",
      " u'relationship' u'romantic' u'school' u'sex' u'show' u'star' u'stars'\n",
      " u'story' u'summer' u'super' u'th' u'three' u'tries' u'two' u'village'\n",
      " u'war' u'wedding' u'well' u'women' u'work' u'world' u'year']\n"
     ]
    }
   ],
   "source": [
    "printInfluentialTerms('Thriller')"
   ]
  },
  {
   "cell_type": "code",
   "execution_count": 12,
   "metadata": {
    "collapsed": false
   },
   "outputs": [
    {
     "name": "stdout",
     "output_type": "stream",
     "text": [
      "Action most influential positive terms: [u'advice' u'airborne' u'apes' u'archaeologist' u'assassin' u'assassins'\n",
      " u'audition' u'avenger' u'batman' u'benevolent' u'bud' u'bumbling' u'cache'\n",
      " u'caine' u'captors' u'celebrities' u'civilization' u'clayton' u'clone'\n",
      " u'commando' u'corporation' u'criminals' u'detailing' u'directly' u'donor'\n",
      " u'emerge' u'enforcement' u'enterprise' u'exceptional' u'exiled' u'fail'\n",
      " u'fearsome' u'fighters' u'firefighter' u'flynn' u'hacker' u'hawk'\n",
      " u'hitman' u'internal' u'islands' u'items' u'jai' u'kgb' u'knife'\n",
      " u'loyalty' u'luc' u'manuscript' u'martial' u'millennium' u'missile'\n",
      " u'musketeers' u'nevada' u'newest' u'ninjas' u'operatives' u'parker'\n",
      " u'paths' u'patrol' u'province' u'robots' u'ruined' u'ruthless' u'safety'\n",
      " u'samurai' u'savage' u'scarce' u'sinbad' u'skilled' u'slaves' u'smuggling'\n",
      " u'sniper' u'speed' u'strategy' u'struck' u'superhero' u'superman'\n",
      " u'superpowers' u'swiftly' u'target' u'terrorists' u'transport' u'trucker'\n",
      " u'uss' u'viciously' u'vigilante' u'warriors' u'wrestler' u'wright']\n",
      "Action most influential negative terms: [u'actual' u'apple' u'aristocratic' u'arms' u'asterix' u'attraction'\n",
      " u'banished' u'buy' u'campbell' u'canine' u'caring' u'catholic' u'changed'\n",
      " u'civilians' u'cold' u'comedic' u'connection' u'consequences' u'current'\n",
      " u'dance' u'danish' u'deserts' u'discoveries' u'documentary' u'dollar'\n",
      " u'doraemon' u'drunk' u'episode' u'erupt' u'exciting' u'feeds' u'festival'\n",
      " u'filmmakers' u'fled' u'fresh' u'friendly' u'fun' u'funny' u'ghosts'\n",
      " u'grandmother' u'hilarious' u'hitchcock' u'investigating' u'irene'\n",
      " u'janitor' u'jennifer' u'launched' u'lawrence' u'legions' u'lisa' u'lose'\n",
      " u'maiden' u'manipulative' u'marco' u'misfit' u'motel' u'n' u'neighbor'\n",
      " u'outrageous' u'pals' u'patient' u'polish' u'prepared' u'probe'\n",
      " u'promotion' u'psychic' u'radical' u'ralph' u'raped' u'rocky' u'rome'\n",
      " u'ruby' u'scooby' u'sight' u'sold' u'spreading' u'spree' u'surrounded'\n",
      " u'television' u'tormented' u'tyler' u'unsuccessful' u'waiting' u'waitress'\n",
      " u'week' u'yard' u'yellow' u'yi']\n"
     ]
    }
   ],
   "source": [
    "printInfluentialTerms('Action')"
   ]
  }
 ],
 "metadata": {
  "kernelspec": {
   "display_name": "Python [default]",
   "language": "python",
   "name": "python2"
  },
  "language_info": {
   "codemirror_mode": {
    "name": "ipython",
    "version": 2
   },
   "file_extension": ".py",
   "mimetype": "text/x-python",
   "name": "python",
   "nbconvert_exporter": "python",
   "pygments_lexer": "ipython2",
   "version": "2.7.12"
  }
 },
 "nbformat": 4,
 "nbformat_minor": 1
}
