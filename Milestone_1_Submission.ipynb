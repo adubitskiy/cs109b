{
 "cells": [
  {
   "cell_type": "markdown",
   "metadata": {
    "deletable": true,
    "editable": true
   },
   "source": [
    "# Final Project - Predicting Movie Genres!\n",
    "\n",
    "![Movie genre header](genre_header.jpg)\n",
    "\n",
    "Welcome to the final project of CS109b. \n",
    "\n",
    "The overall theme of the final project is movie data with a focus on movie genre prediction, because it is an area where we all are more or less application domain experts. First, you will explore your data and the challenges of the problem by exploratory data analysis. Use visualizations to find features that correlate with movie genres. These can be extracted from the movie posters, or meta data, or other data you gather, for example plot summaries or even movie transcripts. You will then compare traditional statistical or machine learning methods like generalized additive models, random forest, Bayesian prediction methods, boosting, and SVM, to deep learning models for movie genre prediction. \n",
    "\n",
    "For this project you will work in teams of 3-4 people and there are weekly milestones to guide you along the way. Even though the milestones are graded, they are mainly in place to make sure you stay in contact with your TF and make progress with the project. Throughout the project you also have room for creativity and to pursue your own ideas. While you need to hand in the milestones at the appropriate due date, there is nothing preventing you from working on a later milestone ahead of time. We suggest that you read through the whole project and all milestones in the beginning to be able to plan ahead. The project is pretty open ended, so you can be creative and let your data science knowledge shine! \n",
    "\n",
    "For each milestone you will submit a notebook, in raw (`.ipynb`) and PDF formats, containing the deliverables of that week and the extra work you did so far. The notebooks need to contain your code, comments, explanations, thoughts, and visualizations. The final deliverables are a two-minute screencast, a report in paper style for a general data science audience, and all your data and code that you developed throughout the project. \n",
    "\n",
    "Below is a description of the data and the milestones with their due dates. All work is due by 11:59PM on the due date unless otherwise specified. We expect you to have the mandatory parts finished by the milestone due dates, and there will be no extensions. However, we strongly encourage you to plan ahead. For example, you need to think about the classification task early on to plan how you want to assemble your training data, and it is beneficial to start the deep learning work as early as possible. There is nothing hindering you to already train a model in the EDA phase to get a better feel for what challenges might lay ahead with the data. You should also see the milestone requirements as a basis for your own creativity, and we expect that most of you will go beyond the mandatory deliverables. For example, if you have a great idea about an interesting question that has to do with movie genre, but cannot be answered with the data from TMDb or IMDb, feel free to gather more data from somewhere else. \n",
    "\n",
    "We provide a data interface in Python, because it is convenient for IMDb, and we will use Python for the deep learning part. Specifically we will use Keras, a deep learning library that provides a high level interface to Google's Tensorflow framework for deep learning. However, if you feel that you prefer to do some of the work, e.g., visualizations or data cleanup, in R then feel free to use it. You can also use Spark to preprocess your data, especially if you collect large amounts of it from other sources. \n",
    "\n",
    "*Important:* Your grade for a milestone will depend on the required deliverables you submit at the due date for that milestone. But every milestone, especially the final project submission, can contain additional cool work you did that goes beyond the deliverables spelled out below. \n"
   ]
  },
  {
   "cell_type": "markdown",
   "metadata": {
    "collapsed": true,
    "deletable": true,
    "editable": true
   },
   "source": [
    "### Logistics \n",
    "\n",
    "Please adhere to the following guidelines for all submissions:\n",
    "- one submission per team\n",
    "- notebooks should be submitted as PDF and as raw (`.ipynb`) version\n",
    "- all notebooks should be executed so they contain relevant visualizations, and other results\n",
    "- try to make it as easy as possible for the TFs to get all relevant information about your work\n",
    "- do not submit big data sets, please provide a readme file with a link instead\n",
    "- the final report should also be submitted as pdf"
   ]
  },
  {
   "cell_type": "markdown",
   "metadata": {
    "deletable": true,
    "editable": true
   },
   "source": [
    "### Movie Data:\n",
    "\n",
    "The project is based on two different sources of movie data: [IMDb](http://www.imdb.com/) and [TMDb](https://www.themoviedb.org/). TMDb is great, because it provides the movie posters in addition to the metadata. This is crucial for the deep learning part, in which you will try to predict movie genres from posters. IMDb has more metadata available and will supplement the TMDb data you have. \n",
    "\n",
    "TMDb provides an easy to use [API](https://www.themoviedb.org/documentation/api) that allows you to download the data selectively. IMDb does not provide an API, but there is a Python interface available to access the metadata. We will use [IMDbPY](http://imdbpy.sourceforge.net/), which is already installed on the AMI and virtual box images for your convenience.\n",
    "\n",
    "*Important*: Please remember to limit your data rate when obtaining the data. Play nicely and do not just spam servers as fast as you can. This will prevent your IP from getting banned. The easiest way to do is is to use the [sleep](http://stackoverflow.com/questions/510348/how-can-i-make-a-time-delay-in-python) function in Python.\n"
   ]
  },
  {
   "cell_type": "markdown",
   "metadata": {
    "deletable": true,
    "editable": true
   },
   "source": [
    "### Milestone 1: Getting to know your data, due Wednesday, April 5, 2017\n",
    "\n",
    "In the beginning you should get acquainted with the data sources and do some EDA. Sign up for the TMDb [API](https://www.themoviedb.org/documentation/api), and try to download the poster of your favorite movie from within your notebook. Compare the genre entries of IMDb and TMDb for this movie and see if they are the same. Think about and write down some questions that you would like to answer in the following weeks. Keep the storytelling aspect of your final report in mind and do some pen and paper sketches about the visualizations you would like to produce. Include photographs of those sketches in your notebook. \n",
    "\n",
    "Most of the time a data scientist spends on a project is spend on cleaning the data. We are lucky that the data we have is already pretty clean. The Python interface to the IMDb ftp files does a lot of the additional work of cleaning as well. However, you will notice that the genre list for each movie from both databases can have different lengths. This needs to be changed in order to train a model to predict the movie genre. It is up to you to think about possible ways to address this problem and to implement one of them. There is no absolute right answer here. It depends on your interests and which questions you have in mind for the project. \n",
    "\n",
    "Optionally, you could also scrape additional data sources, such as Wikipedia, to obtain plot summaries. That data may give you additional useful features for genera classification. \n",
    "\n",
    "To guide your decision process, provide at least one visualization of how often genres are mentioned together in pairs. Your visualization should clearly show if a horror romance is more likely to occur in the data than a drama romance.\n",
    "\n",
    "The notebook to submit for this milestone needs to at least include:\n",
    "\n",
    "- API code to access the genre and movie poster path of your favorite movie\n",
    "- Genre for this movie listed by TMDb and IMDb\n",
    "- A list of the 10 most popular movies of 2016 from TMDb and their genre obtained via the API\n",
    "- Comments on what challenges you see for predicting movie genre based on the data you have, and how to address them \n",
    "- Code to generate the movie genre pairs and a suitable visualization of the result\n",
    "- Additional visualization sketches and EDA with a focus on movie genres\n",
    "- A list of questions you could answer with this and related data. Get creative here!\n",
    "\n",
    "The EDA questions do not necessarily have to tie into the modeling part later on. Think freely about things that might be interesting, like which actors are very specific to a genre? Are action movies more prone to producing sequels than romances? However, as you keep the focus on movie genres, think also about correlations you might discover that can help building features from the metadata for prediction. Is the length of a movie title correlated with genre?\n"
   ]
  },
  {
   "cell_type": "markdown",
   "metadata": {},
   "source": [
    "## Milestone 1 Submission\n",
    "\n",
    "### CS109b Project - Group 37 (Alexander Dubitskiy, Keenan Venuti, Timur Zambalayev)"
   ]
  },
  {
   "cell_type": "markdown",
   "metadata": {},
   "source": [
    "First let's do some initial exploration of the the TMDb and IMDb data."
   ]
  },
  {
   "cell_type": "markdown",
   "metadata": {},
   "source": [
    "### API code to access the genre and movie poster path of your favorite movie"
   ]
  },
  {
   "cell_type": "code",
   "execution_count": 1,
   "metadata": {
    "collapsed": false
   },
   "outputs": [],
   "source": [
    "from IPython.display import Image\n",
    "from IPython.core.display import HTML \n",
    "import tmdbsimple as tmdb\n",
    "from imdb import IMDb"
   ]
  },
  {
   "cell_type": "code",
   "execution_count": 2,
   "metadata": {
    "collapsed": false
   },
   "outputs": [],
   "source": [
    "tmdb.API_KEY = 'a995a7fe53e021d77d82b99428850ff1'"
   ]
  },
  {
   "cell_type": "code",
   "execution_count": 3,
   "metadata": {
    "collapsed": false
   },
   "outputs": [],
   "source": [
    "conf = tmdb.Configuration()\n",
    "c_info = conf.info()"
   ]
  },
  {
   "cell_type": "markdown",
   "metadata": {},
   "source": [
    "Now let's look at the list of the poster sizes from TMDb."
   ]
  },
  {
   "cell_type": "code",
   "execution_count": 4,
   "metadata": {
    "collapsed": false
   },
   "outputs": [
    {
     "data": {
      "text/plain": [
       "[u'w92', u'w154', u'w185', u'w342', u'w500', u'w780', u'original']"
      ]
     },
     "execution_count": 4,
     "metadata": {},
     "output_type": "execute_result"
    }
   ],
   "source": [
    "img_conf = c_info['images']\n",
    "img_conf['poster_sizes']"
   ]
  },
  {
   "cell_type": "markdown",
   "metadata": {},
   "source": [
    "What genres do we have in TMDb? How many?"
   ]
  },
  {
   "cell_type": "code",
   "execution_count": 5,
   "metadata": {
    "collapsed": false
   },
   "outputs": [
    {
     "name": "stdout",
     "output_type": "stream",
     "text": [
      "19\n",
      "[u'Action', u'Adventure', u'Animation', u'Comedy', u'Crime', u'Documentary', u'Drama', u'Family', u'Fantasy', u'History', u'Horror', u'Music', u'Mystery', u'Romance', u'Science Fiction', u'TV Movie', u'Thriller', u'War', u'Western']\n"
     ]
    }
   ],
   "source": [
    "genres = tmdb.Genres().list()\n",
    "tmdb_genres = [g['name'] for g in genres['genres'] ]\n",
    "print(len(tmdb_genres))\n",
    "print(tmdb_genres)"
   ]
  },
  {
   "cell_type": "markdown",
   "metadata": {},
   "source": [
    "Here's the list of the genres from IMDb (copied from the site).\n",
    "So it's 19 genres in TMDb vs 27 for IMDb."
   ]
  },
  {
   "cell_type": "code",
   "execution_count": 8,
   "metadata": {
    "collapsed": false
   },
   "outputs": [
    {
     "name": "stdout",
     "output_type": "stream",
     "text": [
      "27\n",
      "['Action', 'Adventure', 'Animation', 'Biography', 'Comedy', 'Crime', 'Documentary', 'Drama', 'Family', 'Fantasy', 'Game', 'Show', 'History', 'Horror', 'Music', 'Musical', 'Mystery', 'News', 'Reality-TV', 'Romance', 'Sci-Fi', 'Sitcom', 'Sport', 'Talk-Show', 'Thriller', 'War', 'Western']\n"
     ]
    }
   ],
   "source": [
    "imdb_genres = ['Action','Adventure','Animation','Biography','Comedy','Crime','Documentary','Drama','Family','Fantasy','Game','Show','History','Horror','Music','Musical','Mystery','News','Reality-TV','Romance','Sci-Fi','Sitcom','Sport','Talk-Show','Thriller','War','Western']\n",
    "print(len(imdb_genres))\n",
    "print(imdb_genres)"
   ]
  },
  {
   "cell_type": "markdown",
   "metadata": {},
   "source": [
    "Our favorite movie will be \"Ghost in the Shell\".\n",
    "Let's search for it."
   ]
  },
  {
   "cell_type": "code",
   "execution_count": 9,
   "metadata": {
    "collapsed": false
   },
   "outputs": [
    {
     "name": "stdout",
     "output_type": "stream",
     "text": [
      "(u'Ghost in the Shell', 315837, u'2017-03-29', 53.86811)\n",
      "(u'Ghost in the Shell', 9323, u'1995-11-18', 6.135032)\n",
      "(u'Ghost in the Shell 2.0', 14092, u'2008-07-12', 2.703536)\n",
      "(u'Ghost in the Shell 2: Innocence', 12140, u'2004-03-06', 2.601958)\n",
      "(u'Ghost in the Shell Arise - Border 5: Pyrophoric Cult', 381519, u'2015-08-26', 2.262368)\n",
      "(u'Ghost in the Shell: The New Movie', 334376, u'2015-06-20', 2.265999)\n",
      "(u'Ghost in the Shell: Stand Alone Complex - Solid State Society', 18874, u'2007-02-23', 1.960349)\n",
      "(u'Ghost in the Shell: Stand Alone Complex - The Laughing Man', 18839, u'2005-01-01', 1.395512)\n",
      "(u'Ghost In The Shell: The Movie Virtual Reality Diver', 384217, u'2016-02-02', 1.13345)\n",
      "(u'Ghost in the Shell Arise - Border 1: Ghost Pain', 196750, u'2013-06-22', 1.466764)\n",
      "(u'Pandora in the Crimson Shell: Ghost Urn', 377885, u'2015-12-05', 1.024687)\n",
      "(u'Ghost in the Shell Arise - Border 2: Ghost Whispers', 212168, u'2013-11-29', 1.418832)\n",
      "(u'Ghost in the Shell Arise - Border 3: Ghost Tears', 240341, u'2014-06-28', 1.501021)\n",
      "(u'Ghost in the Shell Arise - Border 4: Ghost Stands Alone', 279254, u'2014-09-06', 1.26506)\n",
      "(u'Ghost in the Shell: Stand Alone Complex - Individual Eleven', 111224, u'2006-01-27', 1.264504)\n",
      "(u'K\\xf4kaku kid\\xf4tai Stand Alone Complex - Solid State Society 3D', 446699, u'2011-03-26', 1.003587)\n"
     ]
    }
   ],
   "source": [
    "search = tmdb.Search()\n",
    "response = search.movie(query=\"ghost in the shell\")\n",
    "for s in search.results:\n",
    "    print(s['title'], s['id'], s['release_date'], s['popularity'])                        "
   ]
  },
  {
   "cell_type": "code",
   "execution_count": 10,
   "metadata": {
    "collapsed": false
   },
   "outputs": [
    {
     "data": {
      "text/plain": [
       "u'Ghost in the Shell'"
      ]
     },
     "execution_count": 10,
     "metadata": {},
     "output_type": "execute_result"
    }
   ],
   "source": [
    "tmdb_movie_id = 315837\n",
    "tmdb_movie = tmdb.Movies(tmdb_movie_id)\n",
    "info = tmdb_movie.info()\n",
    "info['title']"
   ]
  },
  {
   "cell_type": "markdown",
   "metadata": {},
   "source": [
    "Its genres from TMDB:"
   ]
  },
  {
   "cell_type": "code",
   "execution_count": 11,
   "metadata": {
    "collapsed": false
   },
   "outputs": [
    {
     "name": "stdout",
     "output_type": "stream",
     "text": [
      "Action\n",
      "Drama\n",
      "Science Fiction\n"
     ]
    }
   ],
   "source": [
    "for tmdb_genre in info['genres']:\n",
    "    print tmdb_genre['name']"
   ]
  },
  {
   "cell_type": "markdown",
   "metadata": {},
   "source": [
    "The movie poster image from TMDB:"
   ]
  },
  {
   "cell_type": "code",
   "execution_count": 15,
   "metadata": {
    "collapsed": false
   },
   "outputs": [
    {
     "data": {
      "text/html": [
       "<img src=\"http://image.tmdb.org/t/p/w154/myRzRzCxdfUWjkJWgpHHZ1oGkJd.jpg\"/>"
      ],
      "text/plain": [
       "<IPython.core.display.Image object>"
      ]
     },
     "execution_count": 15,
     "metadata": {},
     "output_type": "execute_result"
    }
   ],
   "source": [
    "Image(url= img_conf['base_url'] + img_conf['poster_sizes'][1] + tmdb_movie.poster_path)"
   ]
  },
  {
   "cell_type": "markdown",
   "metadata": {},
   "source": [
    "### Genre for this movie listed by TMDb and IMDb"
   ]
  },
  {
   "cell_type": "markdown",
   "metadata": {},
   "source": [
    "So we found TMDb genres (Action, Drama, Science Fiction) and the poster for our favorite movie.\n"
   ]
  },
  {
   "cell_type": "code",
   "execution_count": 16,
   "metadata": {
    "collapsed": false
   },
   "outputs": [],
   "source": [
    "imdb_service = IMDb()\n",
    "imdb_movie_id = info['imdb_id'][2:]\n",
    "imdb_movie = imdb_service.get_movie(imdb_movie_id)"
   ]
  },
  {
   "cell_type": "markdown",
   "metadata": {},
   "source": [
    "The movie genres from IMDB"
   ]
  },
  {
   "cell_type": "code",
   "execution_count": 19,
   "metadata": {
    "collapsed": false
   },
   "outputs": [
    {
     "name": "stdout",
     "output_type": "stream",
     "text": [
      "Action\n",
      "Crime\n",
      "Drama\n",
      "Mystery\n",
      "Sci-Fi\n",
      "Thriller\n"
     ]
    }
   ],
   "source": [
    "for imdb_genres in imdb_movie.data['genres']:\n",
    "    print imdb_genres"
   ]
  },
  {
   "cell_type": "markdown",
   "metadata": {},
   "source": [
    "### A list of the 10 most popular movies of 2016 from TMDb and their genre obtained via the API"
   ]
  },
  {
   "cell_type": "markdown",
   "metadata": {},
   "source": [
    "IMDB has a comprehensive list of genres, we use IMDB as the main source"
   ]
  },
  {
   "cell_type": "code",
   "execution_count": 18,
   "metadata": {
    "collapsed": false
   },
   "outputs": [],
   "source": [
    "def imdbGenres(imdb_movie):\n",
    "    return imdb_movie.data['genres']\n",
    "\n",
    "def tmdbGenres(tmdb_movie):\n",
    "    tmdb_movie_genres = [g['name'] for g in tmdb_movie['genres']]\n",
    "    tmdb_movie_genres = [g.replace('Science Fiction', 'Sci-Fi') for g in tmdb_movie_genres]\n",
    "    return tmdb_movie_genres\n",
    "\n",
    "def combinedGenres(imdb_movie, tmdb_movie):\n",
    "    return list(set(imdbGenres(imdb_movie)) | set(tmdbGenres(tmdb_movie)))"
   ]
  },
  {
   "cell_type": "code",
   "execution_count": 43,
   "metadata": {
    "collapsed": false
   },
   "outputs": [],
   "source": [
    "discover = tmdb.Discover()\n",
    "disc_result_2016 = discover.movie(query = 'primary_release_year=2016&sort_by=popularity.desc')"
   ]
  },
  {
   "cell_type": "markdown",
   "metadata": {},
   "source": [
    "A list of the 10 most popular movies of 2016 from TMDb.\n",
    "\n",
    "We can see differences in IMDB and TMDB genres. If we look at \"Beauty and the Beast\" we would probably agree more with TMDb genres (Fantasy, Music and Romance) than IMDB (Sci-Fi (?), Crime (?))."
   ]
  },
  {
   "cell_type": "code",
   "execution_count": 47,
   "metadata": {
    "collapsed": false
   },
   "outputs": [
    {
     "name": "stdout",
     "output_type": "stream",
     "text": [
      "321612 Beauty and the Beast\n",
      "combined:  [u'Mystery', u'Drama', u'Music', u'Sci-Fi', u'Fantasy', u'Action', u'Romance', u'Thriller', u'Crime']\n",
      "imdb:  [u'Action', u'Crime', u'Drama', u'Mystery', u'Sci-Fi', u'Thriller']\n",
      "tmdb:  [u'Fantasy', u'Music', u'Romance']\n",
      "--------------\n",
      "263115 Logan\n",
      "combined:  [u'Mystery', u'Drama', u'Sci-Fi', u'Action', u'Thriller', u'Crime']\n",
      "imdb:  [u'Action', u'Crime', u'Drama', u'Mystery', u'Sci-Fi', u'Thriller']\n",
      "tmdb:  [u'Action', u'Drama', u'Sci-Fi']\n",
      "--------------\n",
      "335797 Sing\n",
      "combined:  [u'Mystery', u'Sci-Fi', u'Family', u'Crime', u'Drama', u'Animation', u'Music', u'Action', u'Comedy', u'Thriller']\n",
      "imdb:  [u'Action', u'Crime', u'Drama', u'Mystery', u'Sci-Fi', u'Thriller']\n",
      "tmdb:  [u'Animation', u'Comedy', u'Drama', u'Family', u'Music']\n",
      "--------------\n",
      "293167 Kong: Skull Island\n",
      "combined:  [u'Mystery', u'Drama', u'Sci-Fi', u'Fantasy', u'Action', u'Adventure', u'Thriller', u'Crime']\n",
      "imdb:  [u'Action', u'Crime', u'Drama', u'Mystery', u'Sci-Fi', u'Thriller']\n",
      "tmdb:  [u'Sci-Fi', u'Action', u'Adventure', u'Fantasy']\n",
      "--------------\n",
      "135397 Jurassic World\n",
      "combined:  [u'Mystery', u'Drama', u'Sci-Fi', u'Action', u'Adventure', u'Thriller', u'Crime']\n",
      "imdb:  [u'Action', u'Crime', u'Drama', u'Mystery', u'Sci-Fi', u'Thriller']\n",
      "tmdb:  [u'Action', u'Adventure', u'Sci-Fi', u'Thriller']\n",
      "--------------\n",
      "259316 Fantastic Beasts and Where to Find Them\n",
      "combined:  [u'Mystery', u'Drama', u'Sci-Fi', u'Fantasy', u'Action', u'Adventure', u'Thriller', u'Crime']\n",
      "imdb:  [u'Action', u'Crime', u'Drama', u'Mystery', u'Sci-Fi', u'Thriller']\n",
      "tmdb:  [u'Adventure', u'Action', u'Fantasy']\n",
      "--------------\n",
      "127380 Finding Dory\n",
      "combined:  [u'Mystery', u'Drama', u'Animation', u'Sci-Fi', u'Family', u'Action', u'Adventure', u'Comedy', u'Thriller', u'Crime']\n",
      "imdb:  [u'Action', u'Crime', u'Drama', u'Mystery', u'Sci-Fi', u'Thriller']\n",
      "tmdb:  [u'Adventure', u'Animation', u'Comedy', u'Family']\n",
      "--------------\n",
      "157336 Interstellar\n",
      "combined:  [u'Mystery', u'Drama', u'Sci-Fi', u'Action', u'Adventure', u'Thriller', u'Crime']\n",
      "imdb:  [u'Action', u'Crime', u'Drama', u'Mystery', u'Sci-Fi', u'Thriller']\n",
      "tmdb:  [u'Adventure', u'Drama', u'Sci-Fi']\n",
      "--------------\n",
      "395992 Life\n",
      "combined:  [u'Mystery', u'Drama', u'Sci-Fi', u'Action', u'Horror', u'Thriller', u'Crime']\n",
      "imdb:  [u'Action', u'Crime', u'Drama', u'Mystery', u'Sci-Fi', u'Thriller']\n",
      "tmdb:  [u'Horror', u'Sci-Fi', u'Thriller']\n",
      "--------------\n",
      "76341 Mad Max: Fury Road\n",
      "combined:  [u'Mystery', u'Drama', u'Sci-Fi', u'Action', u'Adventure', u'Thriller', u'Crime']\n",
      "imdb:  [u'Action', u'Crime', u'Drama', u'Mystery', u'Sci-Fi', u'Thriller']\n",
      "tmdb:  [u'Action', u'Adventure', u'Sci-Fi', u'Thriller']\n",
      "--------------\n"
     ]
    }
   ],
   "source": [
    "top_movies_2016 = disc_result_2016['results']\n",
    "for top_movie in top_movies_2016[:10]:\n",
    "    tmdb_movie = tmdb.Movies(top_movie['id']).info()\n",
    "    imdb_movie = imdb_service.get_movie(info['imdb_id'][2:])\n",
    "    print top_movie['id'], top_movie['title']\n",
    "    print 'combined: ', combinedGenres(imdb_movie, tmdb_movie)\n",
    "    print 'imdb: ', imdbGenres(imdb_movie)\n",
    "    print 'tmdb: ', tmdbGenres(tmdb_movie)\n",
    "    print '--------------'"
   ]
  },
  {
   "cell_type": "markdown",
   "metadata": {},
   "source": [
    "### Comments on what challenges you see for predicting movie genre based on the data you have, and how to address them\n",
    "\n",
    "One problem that we see with predicting movie genres is that in most cases there are multiple different genres attached to each movie.\n",
    "\n",
    "1) One way to solve this is we can consider one genre at any given moment. For example, we can try to predict for all the movies  in the dataset whether they belong to Action genre (yes or no, 1 or 0). We can apply a Logistic regression (for example) and evaluate the accuracy.\n",
    "\n",
    "2) Another possible approach is to consider all possible genre combinations that we see in the dataset. For example, Action + Fantasy + Adventure. We can treat each unique combination as an indidual separate class. One possible problem with this approach is that we could have a lot of unique genre combinations. A variation of this approach could be considering only pairs or tuples of three of genres."
   ]
  },
  {
   "cell_type": "markdown",
   "metadata": {},
   "source": [
    "### Code to generate the movie genre pairs and a suitable visualization of the result"
   ]
  },
  {
   "cell_type": "markdown",
   "metadata": {},
   "source": [
    "#### Let's look at the number of genres per movie."
   ]
  },
  {
   "cell_type": "code",
   "execution_count": 9,
   "metadata": {
    "collapsed": false
   },
   "outputs": [
    {
     "name": "stdout",
     "output_type": "stream",
     "text": [
      "total number of movies: 11291\n",
      "unique values of number of genres per movie: set([0, 1, 2, 3, 4, 5, 6, 7])\n",
      "mean number of genres per movie: 2.447\n"
     ]
    },
    {
     "data": {
      "image/png": "[encoded data removed]",
      "text/plain": [
       "<matplotlib.figure.Figure at 0x78a3ba8>"
      ]
     },
     "metadata": {},
     "output_type": "display_data"
    }
   ],
   "source": [
    "import ast\n",
    "from collections import Counter\n",
    "\n",
    "import matplotlib.pyplot as plt\n",
    "import numpy as np\n",
    "import operator\n",
    "import pandas as pd\n",
    "import sys\n",
    "\n",
    "\n",
    "TMDB_MOVIES_COLUMN_NAMES = [\n",
    "    'adult', 'backdrop_path', 'belongs_to_collection', 'budget', 'genres', 'homepage', 'id', 'imdb_id',\n",
    "    'original_language', 'original_title', 'overview', 'popularity', 'poster_path', 'production_companies',\n",
    "    'production_countries', 'release_date', 'revenue', 'runtime', 'spoken_languages', 'status', 'tagline', 'title',\n",
    "    'video', 'vote_average', 'vote_count',\n",
    "]\n",
    "\n",
    "\n",
    "def load_tmdb_movies():\n",
    "    df = pd.read_csv('tmdb_movies_11291.csv', header=None, names=TMDB_MOVIES_COLUMN_NAMES, encoding=\"utf-8\")\n",
    "    for column_name in ['genres', 'spoken_languages']:\n",
    "        df[column_name] = df[column_name].map(lambda d: ast.literal_eval(d))\n",
    "    return df\n",
    "\n",
    "\n",
    "def get_fig_size(nrows=1):\n",
    "    return 15, 10 * nrows\n",
    "\n",
    "\n",
    "def explore_num_genres_per_movie(tmdb_movies_df):\n",
    "    print 'total number of movies: %d' % len(tmdb_movies_df)\n",
    "\n",
    "    genres_rows = tmdb_movies_df['genres']\n",
    "\n",
    "    num_genres_per_movie_list = []\n",
    "    for genres in genres_rows:\n",
    "        num_genres = len(genres)\n",
    "        num_genres_per_movie_list.append(num_genres)\n",
    "\n",
    "    unique_num_genres_per_movie = set(num_genres_per_movie_list)\n",
    "    print 'unique values of number of genres per movie: %s' % unique_num_genres_per_movie\n",
    "\n",
    "    num_genres_mean = np.mean(num_genres_per_movie_list)\n",
    "    print 'mean number of genres per movie: %.3f' % num_genres_mean\n",
    "\n",
    "    _, ax = plt.subplots(1, 1, figsize=get_fig_size())\n",
    "    ax.hist(num_genres_per_movie_list, bins=np.arange(-0.5, 11.0, step=1.0), alpha=0.4)\n",
    "    ax.axvline(x=num_genres_mean, linewidth=2, color='k')\n",
    "    plt.text(num_genres_mean + 0.1, 3700, 'num_genres mean = %.2f' % num_genres_mean)\n",
    "    ax.set_xlabel('number of genres per movie')\n",
    "    ax.set_ylabel('count')\n",
    "    ax.set_title('Number of genres per movie')\n",
    "\n",
    "    plt.tight_layout()\n",
    "    plt.show()\n",
    "\n",
    "\n",
    "tmdb_movies_df = load_tmdb_movies()\n",
    "explore_num_genres_per_movie(tmdb_movies_df)"
   ]
  },
  {
   "cell_type": "markdown",
   "metadata": {},
   "source": [
    "Our dataset contains top 11,291 TMDb movies by popularity.\n",
    "\n",
    "We can notice that some movies have zero genres. The mean number of genres per movie is 2.45.\n",
    "The maximum number of genres for one movie is 7."
   ]
  },
  {
   "cell_type": "markdown",
   "metadata": {},
   "source": [
    "#### Let's explore genre counts."
   ]
  },
  {
   "cell_type": "code",
   "execution_count": 11,
   "metadata": {
    "collapsed": false
   },
   "outputs": [
    {
     "name": "stdout",
     "output_type": "stream",
     "text": [
      "number of unique genres: 20\n",
      "Drama: 46.5%\n",
      "Comedy: 31.7%\n",
      "Thriller: 25.9%\n",
      "Action: 23.9%\n",
      "Romance: 16.8%\n",
      "Adventure: 14.8%\n",
      "Crime: 13.1%\n",
      "Horror: 12.1%\n",
      "Science Fiction: 10.9%\n",
      "Family: 10.0%\n",
      "Fantasy: 9.0%\n",
      "Animation: 8.0%\n",
      "Mystery: 7.2%\n",
      "History: 3.9%\n",
      "War: 3.1%\n",
      "Music: 2.7%\n",
      "Western: 2.0%\n",
      "Documentary: 1.7%\n",
      "TV Movie: 1.1%\n",
      "Foreign: 0.5%\n"
     ]
    }
   ],
   "source": [
    "def explore_genre_counts(tmdb_movies_df):\n",
    "    num_movies = len(tmdb_movies_df)\n",
    "\n",
    "    genres_rows = tmdb_movies_df['genres']\n",
    "    genre_list = []\n",
    "    for genres in genres_rows:\n",
    "        for genre in genres:\n",
    "            genre_list.append(genre['name'])\n",
    "\n",
    "    unique_genres = set(genre_list)\n",
    "    print 'number of unique genres: %d' % len(unique_genres)\n",
    "\n",
    "    counter = Counter(genre_list)\n",
    "    counter_dict = {k: float(v) / num_movies for k, v in dict(counter).items()}\n",
    "\n",
    "    sorted_counter_items = sorted(counter_dict.items(), key=operator.itemgetter(1), reverse=True)\n",
    "    for k in sorted_counter_items:\n",
    "        print '%s: %.1f%%' % (k[0], k[1] * 100.0)\n",
    "\n",
    "        \n",
    "explore_genre_counts(tmdb_movies_df)"
   ]
  },
  {
   "cell_type": "markdown",
   "metadata": {},
   "source": [
    "There are 20 unique genres. The most popular is Drama. 46.5% of the movies had Drama as one its genres.\n",
    "The least popular is Foreign (0.5%)."
   ]
  },
  {
   "cell_type": "markdown",
   "metadata": {},
   "source": [
    "#### Now we'll look at genre pairs."
   ]
  },
  {
   "cell_type": "code",
   "execution_count": 3,
   "metadata": {
    "collapsed": false
   },
   "outputs": [
    {
     "name": "stdout",
     "output_type": "stream",
     "text": [
      "55162\n",
      "[(u'Thriller:Drama', 1316), (u'Drama:Thriller', 1316), (u'Drama:Romance', 1277), (u'Romance:Drama', 1277), (u'Comedy:Drama', 1145), (u'Drama:Comedy', 1145), (u'Thriller:Action', 1135), (u'Action:Thriller', 1135), (u'Adventure:Action', 929), (u'Action:Adventure', 929)]\n",
      "[(u'Thriller:Documentary', 1), (u'Science Fiction:History', 1), (u'Family:War', 1), (u'Documentary:Mystery', 1), (u'Science Fiction:Documentary', 1), (u'Foreign:Mystery', 1), (u'TV Movie:Western', 1), (u'Mystery:Foreign', 1), (u'Documentary:Thriller', 1)]\n",
      "366\n"
     ]
    },
    {
     "data": {
      "text/html": [
       "<div>\n",
       "<table border=\"1\" class=\"dataframe\">\n",
       "  <thead>\n",
       "    <tr style=\"text-align: right;\">\n",
       "      <th></th>\n",
       "      <th>Drama</th>\n",
       "      <th>Comedy</th>\n",
       "      <th>Thriller</th>\n",
       "      <th>Action</th>\n",
       "      <th>Romance</th>\n",
       "      <th>Adventure</th>\n",
       "      <th>Crime</th>\n",
       "      <th>Horror</th>\n",
       "      <th>Science Fiction</th>\n",
       "      <th>Family</th>\n",
       "      <th>Fantasy</th>\n",
       "      <th>Animation</th>\n",
       "      <th>Mystery</th>\n",
       "      <th>History</th>\n",
       "      <th>War</th>\n",
       "      <th>Music</th>\n",
       "      <th>Western</th>\n",
       "      <th>Documentary</th>\n",
       "      <th>TV Movie</th>\n",
       "      <th>Foreign</th>\n",
       "    </tr>\n",
       "  </thead>\n",
       "  <tbody>\n",
       "    <tr>\n",
       "      <th>Drama</th>\n",
       "      <td>-1</td>\n",
       "      <td>1145</td>\n",
       "      <td>1316</td>\n",
       "      <td>839</td>\n",
       "      <td>1277</td>\n",
       "      <td>434</td>\n",
       "      <td>854</td>\n",
       "      <td>263</td>\n",
       "      <td>253</td>\n",
       "      <td>221</td>\n",
       "      <td>260</td>\n",
       "      <td>94</td>\n",
       "      <td>411</td>\n",
       "      <td>377</td>\n",
       "      <td>278</td>\n",
       "      <td>161</td>\n",
       "      <td>93</td>\n",
       "      <td>15</td>\n",
       "      <td>42</td>\n",
       "      <td>29</td>\n",
       "    </tr>\n",
       "    <tr>\n",
       "      <th>Comedy</th>\n",
       "      <td>1145</td>\n",
       "      <td>-1</td>\n",
       "      <td>231</td>\n",
       "      <td>590</td>\n",
       "      <td>908</td>\n",
       "      <td>467</td>\n",
       "      <td>331</td>\n",
       "      <td>184</td>\n",
       "      <td>239</td>\n",
       "      <td>553</td>\n",
       "      <td>332</td>\n",
       "      <td>294</td>\n",
       "      <td>77</td>\n",
       "      <td>19</td>\n",
       "      <td>31</td>\n",
       "      <td>132</td>\n",
       "      <td>39</td>\n",
       "      <td>10</td>\n",
       "      <td>31</td>\n",
       "      <td>10</td>\n",
       "    </tr>\n",
       "    <tr>\n",
       "      <th>Thriller</th>\n",
       "      <td>1316</td>\n",
       "      <td>231</td>\n",
       "      <td>-1</td>\n",
       "      <td>1135</td>\n",
       "      <td>150</td>\n",
       "      <td>340</td>\n",
       "      <td>887</td>\n",
       "      <td>717</td>\n",
       "      <td>417</td>\n",
       "      <td>15</td>\n",
       "      <td>137</td>\n",
       "      <td>25</td>\n",
       "      <td>548</td>\n",
       "      <td>47</td>\n",
       "      <td>59</td>\n",
       "      <td>11</td>\n",
       "      <td>24</td>\n",
       "      <td>1</td>\n",
       "      <td>20</td>\n",
       "      <td>14</td>\n",
       "    </tr>\n",
       "    <tr>\n",
       "      <th>Action</th>\n",
       "      <td>839</td>\n",
       "      <td>590</td>\n",
       "      <td>1135</td>\n",
       "      <td>-1</td>\n",
       "      <td>144</td>\n",
       "      <td>929</td>\n",
       "      <td>617</td>\n",
       "      <td>207</td>\n",
       "      <td>619</td>\n",
       "      <td>142</td>\n",
       "      <td>308</td>\n",
       "      <td>193</td>\n",
       "      <td>126</td>\n",
       "      <td>123</td>\n",
       "      <td>129</td>\n",
       "      <td>18</td>\n",
       "      <td>101</td>\n",
       "      <td>5</td>\n",
       "      <td>19</td>\n",
       "      <td>22</td>\n",
       "    </tr>\n",
       "    <tr>\n",
       "      <th>Romance</th>\n",
       "      <td>1277</td>\n",
       "      <td>908</td>\n",
       "      <td>150</td>\n",
       "      <td>144</td>\n",
       "      <td>-1</td>\n",
       "      <td>142</td>\n",
       "      <td>89</td>\n",
       "      <td>31</td>\n",
       "      <td>78</td>\n",
       "      <td>105</td>\n",
       "      <td>148</td>\n",
       "      <td>43</td>\n",
       "      <td>60</td>\n",
       "      <td>63</td>\n",
       "      <td>52</td>\n",
       "      <td>95</td>\n",
       "      <td>29</td>\n",
       "      <td>0</td>\n",
       "      <td>18</td>\n",
       "      <td>8</td>\n",
       "    </tr>\n",
       "    <tr>\n",
       "      <th>Adventure</th>\n",
       "      <td>434</td>\n",
       "      <td>467</td>\n",
       "      <td>340</td>\n",
       "      <td>929</td>\n",
       "      <td>142</td>\n",
       "      <td>-1</td>\n",
       "      <td>111</td>\n",
       "      <td>58</td>\n",
       "      <td>390</td>\n",
       "      <td>453</td>\n",
       "      <td>420</td>\n",
       "      <td>315</td>\n",
       "      <td>58</td>\n",
       "      <td>75</td>\n",
       "      <td>57</td>\n",
       "      <td>17</td>\n",
       "      <td>58</td>\n",
       "      <td>4</td>\n",
       "      <td>21</td>\n",
       "      <td>4</td>\n",
       "    </tr>\n",
       "    <tr>\n",
       "      <th>Crime</th>\n",
       "      <td>854</td>\n",
       "      <td>331</td>\n",
       "      <td>887</td>\n",
       "      <td>617</td>\n",
       "      <td>89</td>\n",
       "      <td>111</td>\n",
       "      <td>-1</td>\n",
       "      <td>79</td>\n",
       "      <td>43</td>\n",
       "      <td>18</td>\n",
       "      <td>24</td>\n",
       "      <td>15</td>\n",
       "      <td>246</td>\n",
       "      <td>15</td>\n",
       "      <td>7</td>\n",
       "      <td>16</td>\n",
       "      <td>14</td>\n",
       "      <td>3</td>\n",
       "      <td>3</td>\n",
       "      <td>2</td>\n",
       "    </tr>\n",
       "    <tr>\n",
       "      <th>Horror</th>\n",
       "      <td>263</td>\n",
       "      <td>184</td>\n",
       "      <td>717</td>\n",
       "      <td>207</td>\n",
       "      <td>31</td>\n",
       "      <td>58</td>\n",
       "      <td>79</td>\n",
       "      <td>-1</td>\n",
       "      <td>268</td>\n",
       "      <td>2</td>\n",
       "      <td>120</td>\n",
       "      <td>18</td>\n",
       "      <td>206</td>\n",
       "      <td>6</td>\n",
       "      <td>7</td>\n",
       "      <td>8</td>\n",
       "      <td>9</td>\n",
       "      <td>4</td>\n",
       "      <td>10</td>\n",
       "      <td>6</td>\n",
       "    </tr>\n",
       "    <tr>\n",
       "      <th>Science Fiction</th>\n",
       "      <td>253</td>\n",
       "      <td>239</td>\n",
       "      <td>417</td>\n",
       "      <td>619</td>\n",
       "      <td>78</td>\n",
       "      <td>390</td>\n",
       "      <td>43</td>\n",
       "      <td>268</td>\n",
       "      <td>-1</td>\n",
       "      <td>128</td>\n",
       "      <td>257</td>\n",
       "      <td>143</td>\n",
       "      <td>85</td>\n",
       "      <td>1</td>\n",
       "      <td>5</td>\n",
       "      <td>8</td>\n",
       "      <td>5</td>\n",
       "      <td>1</td>\n",
       "      <td>15</td>\n",
       "      <td>7</td>\n",
       "    </tr>\n",
       "    <tr>\n",
       "      <th>Family</th>\n",
       "      <td>221</td>\n",
       "      <td>553</td>\n",
       "      <td>15</td>\n",
       "      <td>142</td>\n",
       "      <td>105</td>\n",
       "      <td>453</td>\n",
       "      <td>18</td>\n",
       "      <td>2</td>\n",
       "      <td>128</td>\n",
       "      <td>-1</td>\n",
       "      <td>335</td>\n",
       "      <td>541</td>\n",
       "      <td>19</td>\n",
       "      <td>3</td>\n",
       "      <td>1</td>\n",
       "      <td>56</td>\n",
       "      <td>4</td>\n",
       "      <td>6</td>\n",
       "      <td>35</td>\n",
       "      <td>3</td>\n",
       "    </tr>\n",
       "    <tr>\n",
       "      <th>Fantasy</th>\n",
       "      <td>260</td>\n",
       "      <td>332</td>\n",
       "      <td>137</td>\n",
       "      <td>308</td>\n",
       "      <td>148</td>\n",
       "      <td>420</td>\n",
       "      <td>24</td>\n",
       "      <td>120</td>\n",
       "      <td>257</td>\n",
       "      <td>335</td>\n",
       "      <td>-1</td>\n",
       "      <td>225</td>\n",
       "      <td>51</td>\n",
       "      <td>5</td>\n",
       "      <td>5</td>\n",
       "      <td>30</td>\n",
       "      <td>5</td>\n",
       "      <td>2</td>\n",
       "      <td>19</td>\n",
       "      <td>5</td>\n",
       "    </tr>\n",
       "    <tr>\n",
       "      <th>Animation</th>\n",
       "      <td>94</td>\n",
       "      <td>294</td>\n",
       "      <td>25</td>\n",
       "      <td>193</td>\n",
       "      <td>43</td>\n",
       "      <td>315</td>\n",
       "      <td>15</td>\n",
       "      <td>18</td>\n",
       "      <td>143</td>\n",
       "      <td>541</td>\n",
       "      <td>225</td>\n",
       "      <td>-1</td>\n",
       "      <td>16</td>\n",
       "      <td>5</td>\n",
       "      <td>3</td>\n",
       "      <td>34</td>\n",
       "      <td>2</td>\n",
       "      <td>4</td>\n",
       "      <td>14</td>\n",
       "      <td>3</td>\n",
       "    </tr>\n",
       "    <tr>\n",
       "      <th>Mystery</th>\n",
       "      <td>411</td>\n",
       "      <td>77</td>\n",
       "      <td>548</td>\n",
       "      <td>126</td>\n",
       "      <td>60</td>\n",
       "      <td>58</td>\n",
       "      <td>246</td>\n",
       "      <td>206</td>\n",
       "      <td>85</td>\n",
       "      <td>19</td>\n",
       "      <td>51</td>\n",
       "      <td>16</td>\n",
       "      <td>-1</td>\n",
       "      <td>6</td>\n",
       "      <td>7</td>\n",
       "      <td>6</td>\n",
       "      <td>5</td>\n",
       "      <td>1</td>\n",
       "      <td>16</td>\n",
       "      <td>1</td>\n",
       "    </tr>\n",
       "    <tr>\n",
       "      <th>History</th>\n",
       "      <td>377</td>\n",
       "      <td>19</td>\n",
       "      <td>47</td>\n",
       "      <td>123</td>\n",
       "      <td>63</td>\n",
       "      <td>75</td>\n",
       "      <td>15</td>\n",
       "      <td>6</td>\n",
       "      <td>1</td>\n",
       "      <td>3</td>\n",
       "      <td>5</td>\n",
       "      <td>5</td>\n",
       "      <td>6</td>\n",
       "      <td>-1</td>\n",
       "      <td>122</td>\n",
       "      <td>8</td>\n",
       "      <td>5</td>\n",
       "      <td>11</td>\n",
       "      <td>10</td>\n",
       "      <td>4</td>\n",
       "    </tr>\n",
       "    <tr>\n",
       "      <th>War</th>\n",
       "      <td>278</td>\n",
       "      <td>31</td>\n",
       "      <td>59</td>\n",
       "      <td>129</td>\n",
       "      <td>52</td>\n",
       "      <td>57</td>\n",
       "      <td>7</td>\n",
       "      <td>7</td>\n",
       "      <td>5</td>\n",
       "      <td>1</td>\n",
       "      <td>5</td>\n",
       "      <td>3</td>\n",
       "      <td>7</td>\n",
       "      <td>122</td>\n",
       "      <td>-1</td>\n",
       "      <td>3</td>\n",
       "      <td>8</td>\n",
       "      <td>7</td>\n",
       "      <td>0</td>\n",
       "      <td>0</td>\n",
       "    </tr>\n",
       "    <tr>\n",
       "      <th>Music</th>\n",
       "      <td>161</td>\n",
       "      <td>132</td>\n",
       "      <td>11</td>\n",
       "      <td>18</td>\n",
       "      <td>95</td>\n",
       "      <td>17</td>\n",
       "      <td>16</td>\n",
       "      <td>8</td>\n",
       "      <td>8</td>\n",
       "      <td>56</td>\n",
       "      <td>30</td>\n",
       "      <td>34</td>\n",
       "      <td>6</td>\n",
       "      <td>8</td>\n",
       "      <td>3</td>\n",
       "      <td>-1</td>\n",
       "      <td>6</td>\n",
       "      <td>19</td>\n",
       "      <td>7</td>\n",
       "      <td>0</td>\n",
       "    </tr>\n",
       "    <tr>\n",
       "      <th>Western</th>\n",
       "      <td>93</td>\n",
       "      <td>39</td>\n",
       "      <td>24</td>\n",
       "      <td>101</td>\n",
       "      <td>29</td>\n",
       "      <td>58</td>\n",
       "      <td>14</td>\n",
       "      <td>9</td>\n",
       "      <td>5</td>\n",
       "      <td>4</td>\n",
       "      <td>5</td>\n",
       "      <td>2</td>\n",
       "      <td>5</td>\n",
       "      <td>5</td>\n",
       "      <td>8</td>\n",
       "      <td>6</td>\n",
       "      <td>-1</td>\n",
       "      <td>0</td>\n",
       "      <td>1</td>\n",
       "      <td>1</td>\n",
       "    </tr>\n",
       "    <tr>\n",
       "      <th>Documentary</th>\n",
       "      <td>15</td>\n",
       "      <td>10</td>\n",
       "      <td>1</td>\n",
       "      <td>5</td>\n",
       "      <td>0</td>\n",
       "      <td>4</td>\n",
       "      <td>3</td>\n",
       "      <td>4</td>\n",
       "      <td>1</td>\n",
       "      <td>6</td>\n",
       "      <td>2</td>\n",
       "      <td>4</td>\n",
       "      <td>1</td>\n",
       "      <td>11</td>\n",
       "      <td>7</td>\n",
       "      <td>19</td>\n",
       "      <td>0</td>\n",
       "      <td>-1</td>\n",
       "      <td>1</td>\n",
       "      <td>0</td>\n",
       "    </tr>\n",
       "    <tr>\n",
       "      <th>TV Movie</th>\n",
       "      <td>42</td>\n",
       "      <td>31</td>\n",
       "      <td>20</td>\n",
       "      <td>19</td>\n",
       "      <td>18</td>\n",
       "      <td>21</td>\n",
       "      <td>3</td>\n",
       "      <td>10</td>\n",
       "      <td>15</td>\n",
       "      <td>35</td>\n",
       "      <td>19</td>\n",
       "      <td>14</td>\n",
       "      <td>16</td>\n",
       "      <td>10</td>\n",
       "      <td>0</td>\n",
       "      <td>7</td>\n",
       "      <td>1</td>\n",
       "      <td>1</td>\n",
       "      <td>-1</td>\n",
       "      <td>0</td>\n",
       "    </tr>\n",
       "    <tr>\n",
       "      <th>Foreign</th>\n",
       "      <td>29</td>\n",
       "      <td>10</td>\n",
       "      <td>14</td>\n",
       "      <td>22</td>\n",
       "      <td>8</td>\n",
       "      <td>4</td>\n",
       "      <td>2</td>\n",
       "      <td>6</td>\n",
       "      <td>7</td>\n",
       "      <td>3</td>\n",
       "      <td>5</td>\n",
       "      <td>3</td>\n",
       "      <td>1</td>\n",
       "      <td>4</td>\n",
       "      <td>0</td>\n",
       "      <td>0</td>\n",
       "      <td>1</td>\n",
       "      <td>0</td>\n",
       "      <td>0</td>\n",
       "      <td>-1</td>\n",
       "    </tr>\n",
       "  </tbody>\n",
       "</table>\n",
       "</div>"
      ],
      "text/plain": [
       "                 Drama  Comedy  Thriller  Action  Romance  Adventure  Crime  \\\n",
       "Drama               -1    1145      1316     839     1277        434    854   \n",
       "Comedy            1145      -1       231     590      908        467    331   \n",
       "Thriller          1316     231        -1    1135      150        340    887   \n",
       "Action             839     590      1135      -1      144        929    617   \n",
       "Romance           1277     908       150     144       -1        142     89   \n",
       "Adventure          434     467       340     929      142         -1    111   \n",
       "Crime              854     331       887     617       89        111     -1   \n",
       "Horror             263     184       717     207       31         58     79   \n",
       "Science Fiction    253     239       417     619       78        390     43   \n",
       "Family             221     553        15     142      105        453     18   \n",
       "Fantasy            260     332       137     308      148        420     24   \n",
       "Animation           94     294        25     193       43        315     15   \n",
       "Mystery            411      77       548     126       60         58    246   \n",
       "History            377      19        47     123       63         75     15   \n",
       "War                278      31        59     129       52         57      7   \n",
       "Music              161     132        11      18       95         17     16   \n",
       "Western             93      39        24     101       29         58     14   \n",
       "Documentary         15      10         1       5        0          4      3   \n",
       "TV Movie            42      31        20      19       18         21      3   \n",
       "Foreign             29      10        14      22        8          4      2   \n",
       "\n",
       "                 Horror  Science Fiction  Family  Fantasy  Animation  Mystery  \\\n",
       "Drama               263              253     221      260         94      411   \n",
       "Comedy              184              239     553      332        294       77   \n",
       "Thriller            717              417      15      137         25      548   \n",
       "Action              207              619     142      308        193      126   \n",
       "Romance              31               78     105      148         43       60   \n",
       "Adventure            58              390     453      420        315       58   \n",
       "Crime                79               43      18       24         15      246   \n",
       "Horror               -1              268       2      120         18      206   \n",
       "Science Fiction     268               -1     128      257        143       85   \n",
       "Family                2              128      -1      335        541       19   \n",
       "Fantasy             120              257     335       -1        225       51   \n",
       "Animation            18              143     541      225         -1       16   \n",
       "Mystery             206               85      19       51         16       -1   \n",
       "History               6                1       3        5          5        6   \n",
       "War                   7                5       1        5          3        7   \n",
       "Music                 8                8      56       30         34        6   \n",
       "Western               9                5       4        5          2        5   \n",
       "Documentary           4                1       6        2          4        1   \n",
       "TV Movie             10               15      35       19         14       16   \n",
       "Foreign               6                7       3        5          3        1   \n",
       "\n",
       "                 History  War  Music  Western  Documentary  TV Movie  Foreign  \n",
       "Drama                377  278    161       93           15        42       29  \n",
       "Comedy                19   31    132       39           10        31       10  \n",
       "Thriller              47   59     11       24            1        20       14  \n",
       "Action               123  129     18      101            5        19       22  \n",
       "Romance               63   52     95       29            0        18        8  \n",
       "Adventure             75   57     17       58            4        21        4  \n",
       "Crime                 15    7     16       14            3         3        2  \n",
       "Horror                 6    7      8        9            4        10        6  \n",
       "Science Fiction        1    5      8        5            1        15        7  \n",
       "Family                 3    1     56        4            6        35        3  \n",
       "Fantasy                5    5     30        5            2        19        5  \n",
       "Animation              5    3     34        2            4        14        3  \n",
       "Mystery                6    7      6        5            1        16        1  \n",
       "History               -1  122      8        5           11        10        4  \n",
       "War                  122   -1      3        8            7         0        0  \n",
       "Music                  8    3     -1        6           19         7        0  \n",
       "Western                5    8      6       -1            0         1        1  \n",
       "Documentary           11    7     19        0           -1         1        0  \n",
       "TV Movie              10    0      7        1            1        -1        0  \n",
       "Foreign                4    0      0        1            0         0       -1  "
      ]
     },
     "metadata": {},
     "output_type": "display_data"
    }
   ],
   "source": [
    "from IPython.display import display\n",
    "\n",
    "\n",
    "def explore_genre_pairs(tmdb_movies_df):\n",
    "    genres_rows = tmdb_movies_df['genres']\n",
    "    pair_list = []\n",
    "    genre_list = []\n",
    "    for genres in genres_rows:\n",
    "        for genre in genres:\n",
    "            genre_list.append(genre['name'])\n",
    "        for i1 in xrange(len(genres) - 1):\n",
    "            g1 = genres[i1]['name']\n",
    "            for i2 in xrange(i1 + 1, len(genres)):\n",
    "                g2 = genres[i2]['name']\n",
    "                k1 = g1 + ':' + g2\n",
    "                k2 = g2 + ':' + g1\n",
    "                pair_list.append(k1)\n",
    "                pair_list.append(k2)\n",
    "\n",
    "    genre_counter = Counter(genre_list)\n",
    "\n",
    "    sorted_counter_items = sorted(genre_counter.items(), key=operator.itemgetter(1), reverse=True)\n",
    "    sorted_genres = [i[0] for i in sorted_counter_items]\n",
    "\n",
    "    pair_counter = Counter(pair_list)\n",
    "\n",
    "    print len(pair_list)\n",
    "    print pair_counter.most_common(10)\n",
    "    print pair_counter.most_common()[-10:-1]\n",
    "    print len(pair_counter)\n",
    "\n",
    "    num_genres = len(sorted_genres)\n",
    "    pair_matrix = np.full((num_genres, num_genres), -1, dtype=np.int)\n",
    "\n",
    "    for i in xrange(len(sorted_genres)):\n",
    "        g1 = sorted_genres[i]\n",
    "        for j in xrange(i + 1, len(sorted_genres)):\n",
    "            g2 = sorted_genres[j]\n",
    "            count = pair_counter[g1 + \":\" + g2]\n",
    "            pair_matrix[i, j] = count\n",
    "            pair_matrix[j, i] = count\n",
    "\n",
    "    pair_df = pd.DataFrame(pair_matrix, columns=sorted_genres, index=sorted_genres)\n",
    "\n",
    "    display(pair_df)\n",
    "\n",
    "    \n",
    "explore_genre_pairs(tmdb_movies_df)"
   ]
  },
  {
   "cell_type": "markdown",
   "metadata": {},
   "source": [
    "Thriller and Drama is the most popular combination (1316 occurrences).\n",
    "Some combinations happen only once (e.g. Thriller and Documentary).\n",
    "Some combinations of genres never occurred. There are 366 out of possible 400 pairs.\n",
    "\n",
    "When we look at this matrix of genre pairs, we can see that certain genre pairs are more likely to happen. \n",
    "For example, Thriller and Crime, Family and Adventure. "
   ]
  },
  {
   "cell_type": "code",
   "execution_count": 10,
   "metadata": {
    "collapsed": false
   },
   "outputs": [
    {
     "name": "stdout",
     "output_type": "stream",
     "text": [
      "(27633, 11291)\n"
     ]
    },
    {
     "data": {
      "text/plain": [
       "array([u'Action', u'Adventure', u'Animation', u'Comedy', u'Crime',\n",
       "       u'Documentary', u'Drama', u'Family', u'Fantasy', u'Foreign',\n",
       "       u'History', u'Horror', u'Music', u'Mystery', u'Romance',\n",
       "       u'Science Fiction', u'TV Movie', u'Thriller', u'War', u'Western'], \n",
       "      dtype='<U15')"
      ]
     },
     "execution_count": 10,
     "metadata": {},
     "output_type": "execute_result"
    }
   ],
   "source": [
    "genres = [genre['name'] for genres in tmdb_movies_df['genres'] for genre in genres]\n",
    "print(len(genres), len(tmdb_movies_df))\n",
    "np.unique(genres)"
   ]
  },
  {
   "cell_type": "markdown",
   "metadata": {
    "collapsed": true
   },
   "source": [
    "### Additional visualization sketches and EDA with a focus on movie genres"
   ]
  },
  {
   "cell_type": "code",
   "execution_count": null,
   "metadata": {
    "collapsed": true
   },
   "outputs": [],
   "source": []
  },
  {
   "cell_type": "markdown",
   "metadata": {},
   "source": [
    "### A list of questions you could answer with this and related data. Get creative here!"
   ]
  },
  {
   "cell_type": "code",
   "execution_count": null,
   "metadata": {
    "collapsed": true
   },
   "outputs": [],
   "source": []
  }
 ],
 "metadata": {
  "anaconda-cloud": {},
  "kernelspec": {
   "display_name": "Python 2",
   "language": "python",
   "name": "python2"
  },
  "language_info": {
   "codemirror_mode": {
    "name": "ipython",
    "version": 2
   },
   "file_extension": ".py",
   "mimetype": "text/x-python",
   "name": "python",
   "nbconvert_exporter": "python",
   "pygments_lexer": "ipython2",
   "version": "2.7.12"
  }
 },
 "nbformat": 4,
 "nbformat_minor": 0
}
