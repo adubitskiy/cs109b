{
 "cells": [
  {
   "cell_type": "code",
   "execution_count": 1,
   "metadata": {},
   "outputs": [
    {
     "name": "stderr",
     "output_type": "stream",
     "text": [
      "Using TensorFlow backend.\n"
     ]
    }
   ],
   "source": [
    "import sys\n",
    "import time\n",
    "import pickle\n",
    "import numpy as np\n",
    "import pandas as pd\n",
    "from functools import partial, update_wrapper\n",
    "\n",
    "from multiprocessing import Pool\n",
    "\n",
    "from skimage import io\n",
    "from sklearn.preprocessing import MultiLabelBinarizer\n",
    "from sklearn.model_selection import train_test_split\n",
    "from sklearn.metrics import classification_report\n",
    "\n",
    "import keras \n",
    "from keras import objectives\n",
    "from keras import backend as K\n",
    "from keras.models import Sequential, Model, load_model\n",
    "from keras.layers.core import Flatten, Dense, Dropout\n",
    "from keras.layers.convolutional import Conv2D, MaxPooling2D, ZeroPadding2D\n",
    "from keras.layers.normalization import BatchNormalization\n",
    "from keras.optimizers import SGD\n",
    "from keras.callbacks import TensorBoard, EarlyStopping, ReduceLROnPlateau\n",
    "\n",
    "from scripts.image import load_image\n",
    "\n",
    "import matplotlib\n",
    "%matplotlib inline\n",
    "import matplotlib.pyplot as plt"
   ]
  },
  {
   "cell_type": "code",
   "execution_count": 2,
   "metadata": {
    "collapsed": true
   },
   "outputs": [],
   "source": [
    "def wrapped_partial(func, *args, **kwargs):\n",
    "    partial_func = partial(func, *args, **kwargs)\n",
    "    update_wrapper(partial_func, func)\n",
    "    return partial_func"
   ]
  },
  {
   "cell_type": "code",
   "execution_count": 3,
   "metadata": {
    "collapsed": true
   },
   "outputs": [],
   "source": [
    "# cross entropy that takes into account class weight\n",
    "def weighted_crossentropy(y_true, y_pred, weight):\n",
    "    y_pred = K.clip(y_pred, K.epsilon(), 1.0 - K.epsilon())\n",
    "    out = -(y_true * K.log(y_pred) + (1.0 - y_true) * K.log(1.0 - y_pred))\n",
    "    return K.dot(out, K.transpose(weight))"
   ]
  },
  {
   "cell_type": "code",
   "execution_count": 4,
   "metadata": {
    "collapsed": true
   },
   "outputs": [],
   "source": [
    "y_true = np.array([\n",
    "    [1, 0, 0, 0, 0, 1],\n",
    "    [1, 0, 0, 0, 0, 0]]\n",
    ")\n",
    "y_pred = np.array([\n",
    "    [0.9, 0, 0, 0.3, 0, 0.2],\n",
    "    [0.9, 0, 0, 0.3, 0, 0.2]]\n",
    ")"
   ]
  },
  {
   "cell_type": "code",
   "execution_count": 5,
   "metadata": {},
   "outputs": [
    {
     "data": {
      "text/plain": [
       "array([[ 2.07147384],\n",
       "       [ 0.68517941]], dtype=float32)"
      ]
     },
     "execution_count": 5,
     "metadata": {},
     "output_type": "execute_result"
    }
   ],
   "source": [
    "# second example does better prediction and has lower loss\n",
    "test_weight = np.array([[1., 1., 1., 1., 1., 1.]])\n",
    "K.eval(weighted_crossentropy(K.variable(y_true), K.variable(y_pred), K.variable(test_weight)))"
   ]
  },
  {
   "cell_type": "code",
   "execution_count": 6,
   "metadata": {},
   "outputs": [
    {
     "data": {
      "text/plain": [
       "array([[ 0.62297964],\n",
       "       [ 0.4843502 ]], dtype=float32)"
      ]
     },
     "execution_count": 6,
     "metadata": {},
     "output_type": "execute_result"
    }
   ],
   "source": [
    "# we don't care about last class, set small weith and the results are not that different any more\n",
    "test_weight = np.array([[1., 1., 1., 1., 1., .1]])\n",
    "K.eval(weighted_crossentropy(K.variable(y_true), K.variable(y_pred), K.variable(test_weight)))"
   ]
  },
  {
   "cell_type": "code",
   "execution_count": 7,
   "metadata": {},
   "outputs": [
    {
     "data": {
      "text/plain": [
       "array([[ 0.62297964],\n",
       "       [ 0.4843502 ]], dtype=float32)"
      ]
     },
     "execution_count": 7,
     "metadata": {},
     "output_type": "execute_result"
    }
   ],
   "source": [
    "# create loss function with weights embedded\n",
    "test_loss = wrapped_partial(weighted_crossentropy, weight = K.variable(test_weight))\n",
    "K.eval(test_loss(K.variable(y_true), K.variable(y_pred)))"
   ]
  },
  {
   "cell_type": "code",
   "execution_count": 8,
   "metadata": {
    "collapsed": true
   },
   "outputs": [],
   "source": [
    "img_rows, img_cols = 224, 224"
   ]
  },
  {
   "cell_type": "code",
   "execution_count": 9,
   "metadata": {
    "collapsed": true
   },
   "outputs": [],
   "source": [
    "images_preloaded = True\n",
    "try:\n",
    "    with open('data/images.pickle', 'rb') as handle:\n",
    "        features, labels =  pickle.load(handle)\n",
    "except:\n",
    "    images_preloaded = False"
   ]
  },
  {
   "cell_type": "code",
   "execution_count": 10,
   "metadata": {},
   "outputs": [
    {
     "name": "stdout",
     "output_type": "stream",
     "text": [
      "Waiting for 24 tasks to complete...\n",
      "Waiting for 24 tasks to complete...\n",
      "Waiting for 22 tasks to complete...\n",
      "Waiting for 18 tasks to complete...\n",
      "Waiting for 14 tasks to complete...\n",
      "Waiting for 10 tasks to complete...\n",
      "Waiting for 6 tasks to complete...\n",
      "Waiting for 1 tasks to complete...\n"
     ]
    }
   ],
   "source": [
    "# load images into memory\n",
    "if(not images_preloaded):\n",
    "    with open('data/tmdb_info.pickle', 'rb') as handle:\n",
    "        tmdb_dict =  pickle.load(handle)\n",
    "    with Pool(6) as p:\n",
    "        rs = p.map_async(load_image, list(tmdb_dict.keys()))\n",
    "        p.close()\n",
    "        while (True):\n",
    "            if (rs.ready()): break\n",
    "            remaining = rs._number_left\n",
    "            print(\"Waiting for\", remaining, \"tasks to complete...\")\n",
    "            time.sleep(10)"
   ]
  },
  {
   "cell_type": "code",
   "execution_count": 11,
   "metadata": {
    "collapsed": true
   },
   "outputs": [],
   "source": [
    "# extract labes for the loaded images\n",
    "if(not images_preloaded):\n",
    "    labels = []\n",
    "    features = []\n",
    "    for r in rs.get():\n",
    "        if(r[1] is not None):\n",
    "            movie_genres = tmdb_dict[r[0]].__dict__['genres']\n",
    "            if(movie_genres is None or len(movie_genres) == 0):\n",
    "                continue\n",
    "            labels.append([g['name'] for g in movie_genres])\n",
    "            features.append(r[1])\n",
    "    features = np.asarray(features)\n",
    "    rs = None\n",
    "    tmdb_dict = None"
   ]
  },
  {
   "cell_type": "code",
   "execution_count": 12,
   "metadata": {},
   "outputs": [
    {
     "name": "stdout",
     "output_type": "stream",
     "text": [
      "label matrix shape: (58825, 20)\n"
     ]
    }
   ],
   "source": [
    "# create the labels vector\n",
    "mlb = MultiLabelBinarizer()\n",
    "y = mlb.fit_transform(labels)\n",
    "output_size = y.shape[1]\n",
    "print('label matrix shape:', y.shape)"
   ]
  },
  {
   "cell_type": "code",
   "execution_count": 13,
   "metadata": {},
   "outputs": [
    {
     "data": {
      "text/plain": [
       "array([  3.43354177,   6.49136102,   5.27593003,   1.43937357,\n",
       "         5.53645295,   2.52923113,   1.        ,   6.09940188,\n",
       "         9.90518039,  11.02161606,  15.28551035,   4.28043174,\n",
       "         4.82645932,  10.5805336 ,   3.52046687,   8.64903069,\n",
       "        18.21003401,   3.73083624,  17.24235105,  15.88649852])"
      ]
     },
     "execution_count": 13,
     "metadata": {},
     "output_type": "execute_result"
    }
   ],
   "source": [
    "class_freq = y.sum(axis = 0)\n",
    "class_weight = class_freq.max()/class_freq\n",
    "class_weight"
   ]
  },
  {
   "cell_type": "code",
   "execution_count": 14,
   "metadata": {
    "collapsed": true
   },
   "outputs": [],
   "source": [
    "# split into test / train data\n",
    "X_train, X_test, y_train, y_test = train_test_split(features, y, test_size=0.25, random_state = 109, stratify = y)"
   ]
  },
  {
   "cell_type": "code",
   "execution_count": 15,
   "metadata": {},
   "outputs": [
    {
     "name": "stdout",
     "output_type": "stream",
     "text": [
      "Train label matrix shape: (44118, 20)\n",
      "Train predictor matrix shape: (44118, 224, 224, 3)\n",
      "Test label matrix shape: (14707, 20)\n",
      "Test predictor matrix shape: (14707, 224, 224, 3)\n"
     ]
    }
   ],
   "source": [
    "print('Train label matrix shape:', y_train.shape)\n",
    "print('Train predictor matrix shape:', X_train.shape)\n",
    "print('Test label matrix shape:', y_test.shape)\n",
    "print('Test predictor matrix shape:', X_test.shape)"
   ]
  },
  {
   "cell_type": "code",
   "execution_count": 16,
   "metadata": {},
   "outputs": [
    {
     "data": {
      "text/plain": [
       "<matplotlib.text.Text at 0xd28de41470>"
      ]
     },
     "execution_count": 16,
     "metadata": {},
     "output_type": "execute_result"
    },
    {
     "data": {
      "image/png": "[encoded data removed]",
      "text/plain": [
       "<matplotlib.figure.Figure at 0xd28de4a400>"
      ]
     },
     "metadata": {},
     "output_type": "display_data"
    }
   ],
   "source": [
    "label_df = pd.DataFrame(y_train)\n",
    "label_df.columns = mlb.classes_\n",
    "label_number_df = pd.DataFrame({'cnt' : label_df.sum(axis = 0)})\n",
    "ax = label_number_df.sort_values('cnt')['cnt'].plot(kind=\"barh\", title = 'Movies per genre in the training set')\n",
    "for p in ax.patches:\n",
    "    ax.annotate(\n",
    "        \"%.2f\" % p.get_width(), (p.get_x() + p.get_width(), p.get_y()), xytext=(5, 10), textcoords='offset points')\n",
    "plt.xlabel('Count')\n",
    "plt.ylabel('Genres')"
   ]
  },
  {
   "cell_type": "code",
   "execution_count": 17,
   "metadata": {},
   "outputs": [
    {
     "data": {
      "text/plain": [
       "<matplotlib.text.Text at 0xd28dd575c0>"
      ]
     },
     "execution_count": 17,
     "metadata": {},
     "output_type": "execute_result"
    },
    {
     "data": {
      "image/png": "[encoded data removed]",
      "text/plain": [
       "<matplotlib.figure.Figure at 0xd2075fd748>"
      ]
     },
     "metadata": {},
     "output_type": "display_data"
    }
   ],
   "source": [
    "label_df = pd.DataFrame(y_test)\n",
    "label_df.columns = mlb.classes_\n",
    "label_number_df = pd.DataFrame({'cnt' : label_df.sum(axis = 0)})\n",
    "ax = label_number_df.sort_values('cnt')['cnt'].plot(kind=\"barh\", title = 'Movies per genre in the test set')\n",
    "for p in ax.patches:\n",
    "    ax.annotate(\n",
    "        \"%.2f\" % p.get_width(), (p.get_x() + p.get_width(), p.get_y()), xytext=(5, 10), textcoords='offset points')\n",
    "plt.xlabel('Count')\n",
    "plt.ylabel('Genres')"
   ]
  },
  {
   "cell_type": "markdown",
   "metadata": {
    "collapsed": true
   },
   "source": [
    "Model definition"
   ]
  },
  {
   "cell_type": "code",
   "execution_count": 41,
   "metadata": {
    "collapsed": true
   },
   "outputs": [],
   "source": [
    "earlyStopping = EarlyStopping(\n",
    "    monitor='val_loss', patience = 5, min_delta = 0.01, verbose = 0, mode = 'min')"
   ]
  },
  {
   "cell_type": "code",
   "execution_count": 43,
   "metadata": {},
   "outputs": [],
   "source": [
    "loss = wrapped_partial(weighted_crossentropy, weight = K.variable(np.array([class_weight])))"
   ]
  },
  {
   "cell_type": "code",
   "execution_count": 66,
   "metadata": {
    "collapsed": true
   },
   "outputs": [],
   "source": [
    "def get_model():\n",
    "    model = Sequential()\n",
    "\n",
    "    model.add(Conv2D(16, (3, 3), activation='relu', input_shape=(224,224,3)))\n",
    "    model.add(MaxPooling2D((2, 2), strides=(2,2)))\n",
    "\n",
    "    model.add(Conv2D(32, (3, 3), activation='relu'))\n",
    "    model.add(MaxPooling2D((2, 2), strides=(2,2)))\n",
    "\n",
    "    model.add(Conv2D(64, (3, 3), activation='relu'))\n",
    "    model.add(MaxPooling2D((2, 2), strides=(2,2)))\n",
    "\n",
    "    model.add(Conv2D(128, (3, 3), activation='relu'))\n",
    "    model.add(MaxPooling2D((2, 2), strides=(2,2)))\n",
    "   \n",
    "    model.add(Flatten())\n",
    "    model.add(Dense(1024, activation='relu'))\n",
    "    model.add(Dropout(0.5))\n",
    "    model.add(Dense(1024, activation='relu'))\n",
    "    model.add(Dropout(0.5))\n",
    "    model.add(Dense(output_size, activation = 'sigmoid'))\n",
    "    return model"
   ]
  },
  {
   "cell_type": "code",
   "execution_count": 67,
   "metadata": {},
   "outputs": [
    {
     "name": "stdout",
     "output_type": "stream",
     "text": [
      "_________________________________________________________________\n",
      "Layer (type)                 Output Shape              Param #   \n",
      "=================================================================\n",
      "conv2d_51 (Conv2D)           (None, 222, 222, 16)      448       \n",
      "_________________________________________________________________\n",
      "max_pooling2d_51 (MaxPooling (None, 111, 111, 16)      0         \n",
      "_________________________________________________________________\n",
      "conv2d_52 (Conv2D)           (None, 109, 109, 32)      4640      \n",
      "_________________________________________________________________\n",
      "max_pooling2d_52 (MaxPooling (None, 54, 54, 32)        0         \n",
      "_________________________________________________________________\n",
      "conv2d_53 (Conv2D)           (None, 52, 52, 64)        18496     \n",
      "_________________________________________________________________\n",
      "max_pooling2d_53 (MaxPooling (None, 26, 26, 64)        0         \n",
      "_________________________________________________________________\n",
      "conv2d_54 (Conv2D)           (None, 24, 24, 128)       73856     \n",
      "_________________________________________________________________\n",
      "max_pooling2d_54 (MaxPooling (None, 12, 12, 128)       0         \n",
      "_________________________________________________________________\n",
      "flatten_13 (Flatten)         (None, 18432)             0         \n",
      "_________________________________________________________________\n",
      "dense_40 (Dense)             (None, 1024)              18875392  \n",
      "_________________________________________________________________\n",
      "dropout_28 (Dropout)         (None, 1024)              0         \n",
      "_________________________________________________________________\n",
      "dense_41 (Dense)             (None, 1024)              1049600   \n",
      "_________________________________________________________________\n",
      "dropout_29 (Dropout)         (None, 1024)              0         \n",
      "_________________________________________________________________\n",
      "dense_42 (Dense)             (None, 20)                20500     \n",
      "=================================================================\n",
      "Total params: 20,042,932.0\n",
      "Trainable params: 20,042,932.0\n",
      "Non-trainable params: 0.0\n",
      "_________________________________________________________________\n"
     ]
    }
   ],
   "source": [
    "model = get_model()\n",
    "model.summary()"
   ]
  },
  {
   "cell_type": "code",
   "execution_count": 68,
   "metadata": {},
   "outputs": [],
   "source": [
    "model.compile(optimizer = 'nadam', loss = loss, metrics=['accuracy'])"
   ]
  },
  {
   "cell_type": "code",
   "execution_count": 70,
   "metadata": {},
   "outputs": [
    {
     "name": "stdout",
     "output_type": "stream",
     "text": [
      "Train on 44118 samples, validate on 14707 samples\n",
      "Epoch 1/50\n",
      "44118/44118 [==============================] - 225s - loss: 28.8971 - acc: 0.2426 - val_loss: 26.8566 - val_acc: 0.2400\n",
      "Epoch 2/50\n",
      "44118/44118 [==============================] - 222s - loss: 26.9977 - acc: 0.2648 - val_loss: 26.3956 - val_acc: 0.2621\n",
      "Epoch 3/50\n",
      "44118/44118 [==============================] - 220s - loss: 26.5583 - acc: 0.2706 - val_loss: 26.3653 - val_acc: 0.2533\n",
      "Epoch 4/50\n",
      "44118/44118 [==============================] - 224s - loss: 26.0064 - acc: 0.2803 - val_loss: 25.5904 - val_acc: 0.2911\n",
      "Epoch 5/50\n",
      "44118/44118 [==============================] - 222s - loss: 25.1119 - acc: 0.2877 - val_loss: 24.7844 - val_acc: 0.2943\n",
      "Epoch 6/50\n",
      "44118/44118 [==============================] - 221s - loss: 22.9693 - acc: 0.2954 - val_loss: 23.2425 - val_acc: 0.3140\n",
      "Epoch 7/50\n",
      "44118/44118 [==============================] - 223s - loss: 19.8985 - acc: 0.3139 - val_loss: 21.8382 - val_acc: 0.3142\n",
      "Epoch 8/50\n",
      "44118/44118 [==============================] - 220s - loss: 17.1266 - acc: 0.3298 - val_loss: 21.1691 - val_acc: 0.3294\n",
      "Epoch 9/50\n",
      "44118/44118 [==============================] - 224s - loss: 15.1645 - acc: 0.3505 - val_loss: 20.8920 - val_acc: 0.3426\n",
      "Epoch 10/50\n",
      "44118/44118 [==============================] - 220s - loss: 13.7659 - acc: 0.3674 - val_loss: 20.9563 - val_acc: 0.3561\n",
      "Epoch 11/50\n",
      "44118/44118 [==============================] - 223s - loss: 12.6205 - acc: 0.3900 - val_loss: 20.9131 - val_acc: 0.3667\n",
      "Epoch 12/50\n",
      "44118/44118 [==============================] - 221s - loss: 11.8599 - acc: 0.4057 - val_loss: 21.0519 - val_acc: 0.3808\n",
      "Epoch 13/50\n",
      "44118/44118 [==============================] - 223s - loss: 11.0265 - acc: 0.4191 - val_loss: 21.9277 - val_acc: 0.3782\n",
      "Epoch 14/50\n",
      "44118/44118 [==============================] - 220s - loss: 10.3538 - acc: 0.4366 - val_loss: 21.1190 - val_acc: 0.3886\n",
      "Epoch 15/50\n",
      "44118/44118 [==============================] - 223s - loss: 9.8581 - acc: 0.4457 - val_loss: 21.5555 - val_acc: 0.3876\n"
     ]
    }
   ],
   "source": [
    "history = model.fit(\n",
    "    X_train, \n",
    "    y_train, \n",
    "    batch_size = 128, \n",
    "    epochs = 50, \n",
    "    verbose = 1,\n",
    "    validation_data = (X_test, y_test),\n",
    "    callbacks = [earlyStopping]\n",
    ")"
   ]
  },
  {
   "cell_type": "code",
   "execution_count": 77,
   "metadata": {
    "collapsed": true
   },
   "outputs": [],
   "source": [
    "model.save('models/cnn_custom.h5')"
   ]
  },
  {
   "cell_type": "code",
   "execution_count": 72,
   "metadata": {
    "collapsed": true
   },
   "outputs": [],
   "source": [
    "model.compile(\n",
    "    optimizer=SGD(lr = 0.0001, momentum=0.9), \n",
    "    loss=loss, \n",
    "    metrics=['accuracy'])"
   ]
  },
  {
   "cell_type": "code",
   "execution_count": 73,
   "metadata": {},
   "outputs": [
    {
     "name": "stdout",
     "output_type": "stream",
     "text": [
      "Train on 44118 samples, validate on 14707 samples\n",
      "Epoch 1/50\n",
      "44118/44118 [==============================] - 217s - loss: 9.1071 - acc: 0.4619 - val_loss: 21.5998 - val_acc: 0.3874\n",
      "Epoch 2/50\n",
      "44118/44118 [==============================] - 210s - loss: 8.9797 - acc: 0.4633 - val_loss: 21.4923 - val_acc: 0.3975\n",
      "Epoch 3/50\n",
      "44118/44118 [==============================] - 214s - loss: 8.8423 - acc: 0.4681 - val_loss: 21.3896 - val_acc: 0.3965\n",
      "Epoch 4/50\n",
      "44118/44118 [==============================] - 210s - loss: 8.8238 - acc: 0.4682 - val_loss: 21.5442 - val_acc: 0.3953\n",
      "Epoch 5/50\n",
      "44118/44118 [==============================] - 214s - loss: 8.8789 - acc: 0.4677 - val_loss: 21.4123 - val_acc: 0.3940\n",
      "Epoch 6/50\n",
      "44118/44118 [==============================] - 213s - loss: 8.7950 - acc: 0.4677 - val_loss: 21.8975 - val_acc: 0.3980\n",
      "Epoch 7/50\n",
      "44118/44118 [==============================] - 212s - loss: 8.6883 - acc: 0.4673 - val_loss: 21.8384 - val_acc: 0.3965\n",
      "Epoch 8/50\n",
      "44118/44118 [==============================] - 214s - loss: 8.7920 - acc: 0.4686 - val_loss: 21.3871 - val_acc: 0.3999\n",
      "Epoch 9/50\n",
      "44118/44118 [==============================] - 213s - loss: 8.7423 - acc: 0.4660 - val_loss: 21.7866 - val_acc: 0.3975\n"
     ]
    }
   ],
   "source": [
    "history = model.fit(\n",
    "    X_train, \n",
    "    y_train, \n",
    "    class_weight = class_weight,\n",
    "    batch_size = 128,\n",
    "    epochs = 50, \n",
    "    verbose = 1,\n",
    "    validation_data = (X_test, y_test),\n",
    "    callbacks = [earlyStopping]\n",
    ")"
   ]
  },
  {
   "cell_type": "code",
   "execution_count": 74,
   "metadata": {
    "collapsed": true
   },
   "outputs": [],
   "source": [
    "y_pred_proba = model.predict(X_test)\n",
    "y_pred_test = np.zeros(y_pred_proba.shape)\n",
    "y_pred_test[y_pred_proba > 0.5] = 1"
   ]
  },
  {
   "cell_type": "code",
   "execution_count": 75,
   "metadata": {},
   "outputs": [
    {
     "name": "stdout",
     "output_type": "stream",
     "text": [
      "                 precision    recall  f1-score   support\n",
      "\n",
      "         Action       0.76      0.21      0.34      1592\n",
      "      Adventure       0.95      0.40      0.57       868\n",
      "      Animation       0.88      0.53      0.66      1026\n",
      "         Comedy       0.60      0.29      0.39      3663\n",
      "          Crime       0.84      0.41      0.55       959\n",
      "    Documentary       0.61      0.41      0.49      2132\n",
      "          Drama       0.60      0.27      0.37      5326\n",
      "         Family       0.88      0.53      0.66       852\n",
      "        Fantasy       0.99      0.51      0.67       530\n",
      "        Foreign       0.98      0.44      0.61       479\n",
      "        History       1.00      0.51      0.67       369\n",
      "         Horror       0.74      0.40      0.52      1259\n",
      "          Music       0.84      0.45      0.58      1096\n",
      "        Mystery       0.96      0.53      0.68       477\n",
      "        Romance       0.85      0.24      0.37      1517\n",
      "Science Fiction       0.97      0.46      0.63       606\n",
      "       TV Movie       1.00      0.54      0.70       295\n",
      "       Thriller       0.73      0.34      0.46      1436\n",
      "            War       0.99      0.51      0.68       294\n",
      "        Western       0.96      0.54      0.69       337\n",
      "\n",
      "    avg / total       0.74      0.36      0.48     25113\n",
      "\n"
     ]
    }
   ],
   "source": [
    "print(classification_report(y_test, y_pred_test, target_names = mlb.classes_))"
   ]
  },
  {
   "cell_type": "code",
   "execution_count": 76,
   "metadata": {},
   "outputs": [
    {
     "data": {
      "text/plain": [
       "<matplotlib.text.Text at 0xd28596d1d0>"
      ]
     },
     "execution_count": 76,
     "metadata": {},
     "output_type": "execute_result"
    },
    {
     "data": {
      "image/png": "[encoded data removed]",
      "text/plain": [
       "<matplotlib.figure.Figure at 0xd28597a518>"
      ]
     },
     "metadata": {},
     "output_type": "display_data"
    }
   ],
   "source": [
    "plt.plot(history.history['acc'])\n",
    "plt.plot(history.history['val_acc'])\n",
    "plt.xlabel(\"epoch\")\n",
    "plt.ylabel(\"accuracy\")"
   ]
  },
  {
   "cell_type": "code",
   "execution_count": null,
   "metadata": {
    "collapsed": true
   },
   "outputs": [],
   "source": []
  }
 ],
 "metadata": {
  "anaconda-cloud": {},
  "kernelspec": {
   "display_name": "Python [conda env:py35]",
   "language": "python",
   "name": "conda-env-py35-py"
  },
  "language_info": {
   "codemirror_mode": {
    "name": "ipython",
    "version": 3
   },
   "file_extension": ".py",
   "mimetype": "text/x-python",
   "name": "python",
   "nbconvert_exporter": "python",
   "pygments_lexer": "ipython3",
   "version": "3.5.2"
  }
 },
 "nbformat": 4,
 "nbformat_minor": 1
}
