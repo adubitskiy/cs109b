{
 "cells": [
  {
   "cell_type": "code",
   "execution_count": 1,
   "metadata": {
    "collapsed": false
   },
   "outputs": [
    {
     "name": "stdout",
     "output_type": "stream",
     "text": [
      "[nltk_data] Downloading package stopwords to C:\\Windows\\ServiceProfile\n",
      "[nltk_data]     s\\LocalService\\AppData\\Roaming\\nltk_data...\n",
      "[nltk_data]   Package stopwords is already up-to-date!\n"
     ]
    },
    {
     "data": {
      "text/plain": [
       "True"
      ]
     },
     "execution_count": 1,
     "metadata": {},
     "output_type": "execute_result"
    }
   ],
   "source": [
    "import os\n",
    "import cPickle\n",
    "import numpy as np\n",
    "import pandas as pd\n",
    "from sklearn import preprocessing\n",
    "from sklearn.pipeline import Pipeline\n",
    "from sklearn.preprocessing import MultiLabelBinarizer\n",
    "from sklearn.feature_extraction.text import CountVectorizer\n",
    "from sklearn.feature_extraction.text import TfidfTransformer\n",
    "from sklearn.linear_model import SGDClassifier\n",
    "from sklearn.multiclass import OneVsRestClassifier\n",
    "from sklearn.model_selection import train_test_split\n",
    "from sklearn.model_selection import GridSearchCV\n",
    "from sklearn.metrics import hamming_loss, make_scorer, classification_report\n",
    "from sklearn.svm import SVC\n",
    "import matplotlib.pyplot as plt\n",
    "import nltk.data\n",
    "from nltk.corpus import stopwords\n",
    "\n",
    "%matplotlib inline\n",
    "nltk.download('stopwords')"
   ]
  },
  {
   "cell_type": "code",
   "execution_count": 2,
   "metadata": {
    "collapsed": true
   },
   "outputs": [],
   "source": [
    "# extract from the IMDB data with only genres and plot\n",
    "imdb_file_name = 'data/plot.pickle'\n",
    "# full TMDB data\n",
    "tmdb_file_name = 'data/tmdb_info.pickle'"
   ]
  },
  {
   "cell_type": "code",
   "execution_count": 3,
   "metadata": {
    "collapsed": true
   },
   "outputs": [],
   "source": [
    "def load_part(file_name):\n",
    "    with open(file_name, 'rb') as handle:\n",
    "        return cPickle.load(handle)"
   ]
  },
  {
   "cell_type": "code",
   "execution_count": 4,
   "metadata": {
    "collapsed": false
   },
   "outputs": [],
   "source": [
    "# load the IMDB extract\n",
    "imdb_dict = load_part(imdb_file_name)"
   ]
  },
  {
   "cell_type": "code",
   "execution_count": 5,
   "metadata": {
    "collapsed": true
   },
   "outputs": [],
   "source": [
    "# load TMDB \n",
    "tmdb_dict = load_part(tmdb_file_name)"
   ]
  },
  {
   "cell_type": "code",
   "execution_count": 6,
   "metadata": {
    "collapsed": false
   },
   "outputs": [],
   "source": [
    "# add 'overview' from TMDB to 'plot' from IMDB (it is a list)\n",
    "for tmdb_id, imdb_movie in imdb_dict.iteritems():\n",
    "    if(\n",
    "        'plot' in imdb_movie and \n",
    "        tmdb_id in tmdb_dict and \n",
    "        'overview' in tmdb_dict[tmdb_id].__dict__ and\n",
    "        tmdb_dict[tmdb_id].__dict__['overview'] is not None):\n",
    "            imdb_movie['plot'].append(tmdb_dict[tmdb_id].__dict__['overview'])"
   ]
  },
  {
   "cell_type": "markdown",
   "metadata": {},
   "source": [
    "Prepare the labels"
   ]
  },
  {
   "cell_type": "code",
   "execution_count": 7,
   "metadata": {
    "collapsed": false
   },
   "outputs": [],
   "source": [
    "# array of list of genres for every movie\n",
    "labels = np.array([d['genres'] for d in imdb_dict.values() if 'genres' in d and 'plot' in d ])"
   ]
  },
  {
   "cell_type": "code",
   "execution_count": 8,
   "metadata": {
    "collapsed": false
   },
   "outputs": [
    {
     "name": "stdout",
     "output_type": "stream",
     "text": [
      "label matrix shape: (37668L, 28L)\n"
     ]
    }
   ],
   "source": [
    "# create the labels vector\n",
    "mlb = MultiLabelBinarizer()\n",
    "y = mlb.fit_transform(labels)\n",
    "print 'label matrix shape:', y.shape"
   ]
  },
  {
   "cell_type": "code",
   "execution_count": 9,
   "metadata": {
    "collapsed": false
   },
   "outputs": [
    {
     "data": {
      "text/html": [
       "<div>\n",
       "<table border=\"1\" class=\"dataframe\">\n",
       "  <thead>\n",
       "    <tr style=\"text-align: right;\">\n",
       "      <th></th>\n",
       "      <th>cnt</th>\n",
       "    </tr>\n",
       "  </thead>\n",
       "  <tbody>\n",
       "    <tr>\n",
       "      <th>Action</th>\n",
       "      <td>4318</td>\n",
       "    </tr>\n",
       "    <tr>\n",
       "      <th>Adult</th>\n",
       "      <td>158</td>\n",
       "    </tr>\n",
       "    <tr>\n",
       "      <th>Adventure</th>\n",
       "      <td>2854</td>\n",
       "    </tr>\n",
       "    <tr>\n",
       "      <th>Animation</th>\n",
       "      <td>2420</td>\n",
       "    </tr>\n",
       "    <tr>\n",
       "      <th>Biography</th>\n",
       "      <td>1404</td>\n",
       "    </tr>\n",
       "    <tr>\n",
       "      <th>Comedy</th>\n",
       "      <td>10693</td>\n",
       "    </tr>\n",
       "    <tr>\n",
       "      <th>Crime</th>\n",
       "      <td>3766</td>\n",
       "    </tr>\n",
       "    <tr>\n",
       "      <th>Documentary</th>\n",
       "      <td>4480</td>\n",
       "    </tr>\n",
       "    <tr>\n",
       "      <th>Drama</th>\n",
       "      <td>16567</td>\n",
       "    </tr>\n",
       "    <tr>\n",
       "      <th>Family</th>\n",
       "      <td>2738</td>\n",
       "    </tr>\n",
       "    <tr>\n",
       "      <th>Fantasy</th>\n",
       "      <td>2025</td>\n",
       "    </tr>\n",
       "    <tr>\n",
       "      <th>Film-Noir</th>\n",
       "      <td>218</td>\n",
       "    </tr>\n",
       "    <tr>\n",
       "      <th>Game-Show</th>\n",
       "      <td>2</td>\n",
       "    </tr>\n",
       "    <tr>\n",
       "      <th>History</th>\n",
       "      <td>1261</td>\n",
       "    </tr>\n",
       "    <tr>\n",
       "      <th>Horror</th>\n",
       "      <td>3835</td>\n",
       "    </tr>\n",
       "    <tr>\n",
       "      <th>Music</th>\n",
       "      <td>1388</td>\n",
       "    </tr>\n",
       "    <tr>\n",
       "      <th>Musical</th>\n",
       "      <td>1079</td>\n",
       "    </tr>\n",
       "    <tr>\n",
       "      <th>Mystery</th>\n",
       "      <td>2123</td>\n",
       "    </tr>\n",
       "    <tr>\n",
       "      <th>News</th>\n",
       "      <td>176</td>\n",
       "    </tr>\n",
       "    <tr>\n",
       "      <th>Reality-TV</th>\n",
       "      <td>18</td>\n",
       "    </tr>\n",
       "    <tr>\n",
       "      <th>Romance</th>\n",
       "      <td>5368</td>\n",
       "    </tr>\n",
       "    <tr>\n",
       "      <th>Sci-Fi</th>\n",
       "      <td>2125</td>\n",
       "    </tr>\n",
       "    <tr>\n",
       "      <th>Short</th>\n",
       "      <td>3936</td>\n",
       "    </tr>\n",
       "    <tr>\n",
       "      <th>Sport</th>\n",
       "      <td>748</td>\n",
       "    </tr>\n",
       "    <tr>\n",
       "      <th>Talk-Show</th>\n",
       "      <td>9</td>\n",
       "    </tr>\n",
       "    <tr>\n",
       "      <th>Thriller</th>\n",
       "      <td>5383</td>\n",
       "    </tr>\n",
       "    <tr>\n",
       "      <th>War</th>\n",
       "      <td>1247</td>\n",
       "    </tr>\n",
       "    <tr>\n",
       "      <th>Western</th>\n",
       "      <td>1265</td>\n",
       "    </tr>\n",
       "  </tbody>\n",
       "</table>\n",
       "</div>"
      ],
      "text/plain": [
       "               cnt\n",
       "Action        4318\n",
       "Adult          158\n",
       "Adventure     2854\n",
       "Animation     2420\n",
       "Biography     1404\n",
       "Comedy       10693\n",
       "Crime         3766\n",
       "Documentary   4480\n",
       "Drama        16567\n",
       "Family        2738\n",
       "Fantasy       2025\n",
       "Film-Noir      218\n",
       "Game-Show        2\n",
       "History       1261\n",
       "Horror        3835\n",
       "Music         1388\n",
       "Musical       1079\n",
       "Mystery       2123\n",
       "News           176\n",
       "Reality-TV      18\n",
       "Romance       5368\n",
       "Sci-Fi        2125\n",
       "Short         3936\n",
       "Sport          748\n",
       "Talk-Show        9\n",
       "Thriller      5383\n",
       "War           1247\n",
       "Western       1265"
      ]
     },
     "execution_count": 9,
     "metadata": {},
     "output_type": "execute_result"
    }
   ],
   "source": [
    "# number of movies for every genre\n",
    "label_df = pd.DataFrame(mlb.fit_transform(labels))\n",
    "label_df.columns = mlb.classes_\n",
    "label_number_df = pd.DataFrame({'cnt' : label_df.sum(axis = 0)})\n",
    "label_number_df"
   ]
  },
  {
   "cell_type": "markdown",
   "metadata": {},
   "source": [
    "Limit the number of genres for performance reasons. OneVsRestClassifier fits as many models as labels."
   ]
  },
  {
   "cell_type": "code",
   "execution_count": 10,
   "metadata": {
    "collapsed": false
   },
   "outputs": [
    {
     "data": {
      "text/plain": [
       "{u'Action',\n",
       " u'Adventure',\n",
       " u'Animation',\n",
       " u'Comedy',\n",
       " u'Crime',\n",
       " u'Documentary',\n",
       " u'Drama',\n",
       " u'Family',\n",
       " u'Fantasy',\n",
       " u'Horror',\n",
       " u'Mystery',\n",
       " u'Romance',\n",
       " u'Sci-Fi',\n",
       " u'Short',\n",
       " u'Thriller'}"
      ]
     },
     "execution_count": 10,
     "metadata": {},
     "output_type": "execute_result"
    }
   ],
   "source": [
    "# only leave generes mentioned in 2000 movies or more\n",
    "cutoff = 2000\n",
    "major_genres = set(label_number_df[label_number_df['cnt']  > cutoff].index)\n",
    "major_genres"
   ]
  },
  {
   "cell_type": "code",
   "execution_count": 11,
   "metadata": {
    "collapsed": false
   },
   "outputs": [],
   "source": [
    "# find labels only for the major genres\n",
    "labels = np.array(\n",
    "    [major_genres.intersection(d['genres']) for d in imdb_dict.values() if 'genres' in d and 'plot' in d ])"
   ]
  },
  {
   "cell_type": "code",
   "execution_count": 12,
   "metadata": {
    "collapsed": false
   },
   "outputs": [
    {
     "name": "stdout",
     "output_type": "stream",
     "text": [
      "label matrix shape: (37668L, 15L)\n"
     ]
    }
   ],
   "source": [
    "# create the labels vector with only major genres\n",
    "mlb = MultiLabelBinarizer()\n",
    "y = mlb.fit_transform(labels)\n",
    "print 'label matrix shape:', y.shape"
   ]
  },
  {
   "cell_type": "markdown",
   "metadata": {},
   "source": [
    "Prepare the features"
   ]
  },
  {
   "cell_type": "code",
   "execution_count": 13,
   "metadata": {
    "collapsed": false
   },
   "outputs": [],
   "source": [
    "# sometimes the plot consists of a few parts, join them together\n",
    "features = np.array([ ''.join(d['plot']) for d in imdb_dict.values() if 'genres' in d and 'plot' in d ])"
   ]
  },
  {
   "cell_type": "markdown",
   "metadata": {},
   "source": [
    "Convert a collection of text documents to a matrix of token counts"
   ]
  },
  {
   "cell_type": "code",
   "execution_count": 14,
   "metadata": {
    "collapsed": false
   },
   "outputs": [
    {
     "name": "stdout",
     "output_type": "stream",
     "text": [
      "predictor matrix shape: (37668, 26581)\n"
     ]
    }
   ],
   "source": [
    "# convert into bag of words\n",
    "vectorizer = CountVectorizer( \n",
    "    stop_words = stopwords.words(\"english\"), \n",
    "    token_pattern = '[a-zA-Z]+[0-9]*',\n",
    "    max_df = 0.9, \n",
    "    min_df = 5, \n",
    "    dtype=np.float32 )\n",
    "X = vectorizer.fit_transform(features)\n",
    "print 'predictor matrix shape:', X.shape"
   ]
  },
  {
   "cell_type": "markdown",
   "metadata": {},
   "source": [
    "The goal of using tf-idf instead of the raw frequencies of occurrence of a token in a given document is to scale down the impact of tokens that occur very frequently in a given corpus and that are hence empirically less informative than features that occur in a small fraction of the training corpus."
   ]
  },
  {
   "cell_type": "code",
   "execution_count": 15,
   "metadata": {
    "collapsed": false
   },
   "outputs": [
    {
     "name": "stdout",
     "output_type": "stream",
     "text": [
      "predictor matrix shape: (37668, 26581)\n"
     ]
    }
   ],
   "source": [
    "tt = TfidfTransformer()\n",
    "X = tt.fit_transform(X)\n",
    "print 'predictor matrix shape:', X.shape"
   ]
  },
  {
   "cell_type": "code",
   "execution_count": 16,
   "metadata": {
    "collapsed": false
   },
   "outputs": [
    {
     "name": "stdout",
     "output_type": "stream",
     "text": [
      "Train label matrix shape: (5650L, 15L)\n",
      "Train predictor matrix shape: (5650, 26581)\n",
      "Test label matrix shape: (1884L, 15L)\n",
      "Test predictor matrix shape: (1884, 26581)\n"
     ]
    }
   ],
   "source": [
    "# get 10% of the observations in the test set, that is our working set\n",
    "X_train, X_test, y_train, y_test = train_test_split(X, y, test_size=0.2, random_state=42)\n",
    "# use the working set to create test / train data\n",
    "X_train, X_test, y_train, y_test = train_test_split(X_test, y_test, test_size=0.25, random_state=42)\n",
    "\n",
    "print 'Train label matrix shape:', y_train.shape\n",
    "print 'Train predictor matrix shape:', X_train.shape\n",
    "print 'Test label matrix shape:', y_test.shape\n",
    "print 'Test predictor matrix shape:', X_test.shape"
   ]
  },
  {
   "cell_type": "code",
   "execution_count": 17,
   "metadata": {
    "collapsed": false
   },
   "outputs": [
    {
     "data": {
      "text/plain": [
       "<matplotlib.text.Text at 0x826619e8>"
      ]
     },
     "execution_count": 17,
     "metadata": {},
     "output_type": "execute_result"
    },
    {
     "data": {
      "image/png": "[encoded data removed]",
      "text/plain": [
       "<matplotlib.figure.Figure at 0x81cffd68>"
      ]
     },
     "metadata": {},
     "output_type": "display_data"
    }
   ],
   "source": [
    "label_df = pd.DataFrame(y_train)\n",
    "label_df.columns = mlb.classes_\n",
    "label_number_df = pd.DataFrame({'cnt' : label_df.sum(axis = 0)})\n",
    "ax = label_number_df.sort_values('cnt')['cnt'].plot(kind=\"barh\", title = 'Movies per genre in the training set')\n",
    "for p in ax.patches:\n",
    "    ax.annotate(\n",
    "        \"%.2f\" % p.get_width(), (p.get_x() + p.get_width(), p.get_y()), xytext=(5, 10), textcoords='offset points')\n",
    "plt.xlabel('Count')\n",
    "plt.ylabel('Genres')"
   ]
  },
  {
   "cell_type": "code",
   "execution_count": 18,
   "metadata": {
    "collapsed": false
   },
   "outputs": [
    {
     "data": {
      "text/plain": [
       "<matplotlib.text.Text at 0x81c4e550>"
      ]
     },
     "execution_count": 18,
     "metadata": {},
     "output_type": "execute_result"
    },
    {
     "data": {
      "image/png": "[encoded data removed]",
      "text/plain": [
       "<matplotlib.figure.Figure at 0x81cff438>"
      ]
     },
     "metadata": {},
     "output_type": "display_data"
    }
   ],
   "source": [
    "label_df = pd.DataFrame(y_test)\n",
    "label_df.columns = mlb.classes_\n",
    "label_number_df = pd.DataFrame({'cnt' : label_df.sum(axis = 0)})\n",
    "ax = label_number_df.sort_values('cnt')['cnt'].plot(kind=\"barh\", title = 'Movies per genre in the test set')\n",
    "for p in ax.patches:\n",
    "    ax.annotate(\n",
    "        \"%.2f\" % p.get_width(), (p.get_x() + p.get_width(), p.get_y()), xytext=(5, 10), textcoords='offset points')\n",
    "plt.xlabel('Count')\n",
    "plt.ylabel('Genres')"
   ]
  },
  {
   "cell_type": "markdown",
   "metadata": {},
   "source": [
    "The Hamming loss is the fraction of labels that are incorrectly predicted."
   ]
  },
  {
   "cell_type": "code",
   "execution_count": 19,
   "metadata": {
    "collapsed": false
   },
   "outputs": [
    {
     "name": "stdout",
     "output_type": "stream",
     "text": [
      "Fitting 3 folds for each of 27 candidates, totalling 81 fits\n"
     ]
    },
    {
     "name": "stderr",
     "output_type": "stream",
     "text": [
      "[Parallel(n_jobs=7)]: Done   4 tasks      | elapsed:   13.3s\n",
      "[Parallel(n_jobs=7)]: Done  11 tasks      | elapsed:   26.9s\n",
      "[Parallel(n_jobs=7)]: Done  18 tasks      | elapsed:   40.1s\n",
      "[Parallel(n_jobs=7)]: Done  27 tasks      | elapsed:   55.7s\n",
      "[Parallel(n_jobs=7)]: Done  36 tasks      | elapsed:  1.2min\n",
      "[Parallel(n_jobs=7)]: Done  47 tasks      | elapsed:  1.4min\n",
      "[Parallel(n_jobs=7)]: Done  58 tasks      | elapsed:  1.7min\n",
      "[Parallel(n_jobs=7)]: Done  77 out of  81 | elapsed:  2.3min remaining:    6.9s\n",
      "[Parallel(n_jobs=7)]: Done  81 out of  81 | elapsed:  2.3min finished\n"
     ]
    },
    {
     "data": {
      "text/plain": [
       "GridSearchCV(cv=None, error_score='raise',\n",
       "       estimator=OneVsRestClassifier(estimator=SGDClassifier(alpha=1e-05, average=False, class_weight=None, epsilon=0.1,\n",
       "       eta0=0.0, fit_intercept=True, l1_ratio=0.15,\n",
       "       learning_rate='optimal', loss='hinge', n_iter=5, n_jobs=1,\n",
       "       penalty='elasticnet', power_t=0.5, random_state=322, shuffle=True,\n",
       "       verbose=0, warm_start=False),\n",
       "          n_jobs=1),\n",
       "       fit_params={}, iid=True, n_jobs=7,\n",
       "       param_grid={'estimator__alpha': (0.1, 0.01, 0.0001), 'estimator__penalty': ('l1', 'l2', 'elasticnet'), 'estimator__loss': ('hinge', 'log', 'perceptron')},\n",
       "       pre_dispatch='2*n_jobs', refit=True, return_train_score=True,\n",
       "       scoring=make_scorer(hamming_loss, greater_is_better=False),\n",
       "       verbose=10)"
      ]
     },
     "execution_count": 19,
     "metadata": {},
     "output_type": "execute_result"
    }
   ],
   "source": [
    "param_grid = {\n",
    "    'estimator__loss': ('hinge', 'log', 'perceptron'),\n",
    "    'estimator__alpha' : (0.1, 0.01, 0.0001),\n",
    "    'estimator__penalty' : ('l1', 'l2', 'elasticnet')}\n",
    "\n",
    "model = OneVsRestClassifier(SGDClassifier(\n",
    "        random_state = 322,\n",
    "        loss = 'hinge',\n",
    "        alpha = 0.00001,\n",
    "        penalty = 'elasticnet'\n",
    "    ))\n",
    "\n",
    "model_tunning = GridSearchCV(\n",
    "    model, \n",
    "    param_grid = param_grid, \n",
    "    scoring = make_scorer(hamming_loss, greater_is_better = False), \n",
    "    n_jobs = 7, \n",
    "    verbose = 10)\n",
    "\n",
    "model_tunning.fit(X, y)"
   ]
  },
  {
   "cell_type": "markdown",
   "metadata": {
    "collapsed": true
   },
   "source": [
    "Classification quility on the training set"
   ]
  },
  {
   "cell_type": "code",
   "execution_count": 20,
   "metadata": {
    "collapsed": false
   },
   "outputs": [
    {
     "name": "stdout",
     "output_type": "stream",
     "text": [
      "             precision    recall  f1-score   support\n",
      "\n",
      "          0       0.94      0.19      0.32       606\n",
      "          1       1.00      0.02      0.04       431\n",
      "          2       0.97      0.25      0.39       350\n",
      "          3       0.92      0.41      0.57      1578\n",
      "          4       0.93      0.19      0.32       582\n",
      "          5       0.94      0.66      0.78       672\n",
      "          6       0.80      0.76      0.78      2495\n",
      "          7       0.95      0.16      0.28       383\n",
      "          8       1.00      0.03      0.06       294\n",
      "          9       0.96      0.41      0.57       569\n",
      "         10       1.00      0.01      0.03       311\n",
      "         11       0.89      0.09      0.16       791\n",
      "         12       0.94      0.30      0.46       308\n",
      "         13       0.96      0.16      0.27       582\n",
      "         14       0.95      0.08      0.15       800\n",
      "\n",
      "avg / total       0.91      0.37      0.46     10752\n",
      "\n"
     ]
    }
   ],
   "source": [
    "print classification_report(y_train, model_tunning.predict(X_train))"
   ]
  },
  {
   "cell_type": "markdown",
   "metadata": {},
   "source": [
    "Classification quility on the test set"
   ]
  },
  {
   "cell_type": "code",
   "execution_count": 21,
   "metadata": {
    "collapsed": false
   },
   "outputs": [
    {
     "name": "stdout",
     "output_type": "stream",
     "text": [
      "             precision    recall  f1-score   support\n",
      "\n",
      "          0       0.96      0.12      0.21       222\n",
      "          1       0.88      0.05      0.09       154\n",
      "          2       0.97      0.28      0.43       122\n",
      "          3       0.93      0.42      0.58       523\n",
      "          4       0.81      0.18      0.29       164\n",
      "          5       0.94      0.63      0.75       241\n",
      "          6       0.81      0.75      0.78       829\n",
      "          7       1.00      0.15      0.25       131\n",
      "          8       1.00      0.05      0.10        91\n",
      "          9       0.92      0.48      0.63       190\n",
      "         10       0.00      0.00      0.00        94\n",
      "         11       0.87      0.10      0.18       277\n",
      "         12       0.95      0.34      0.50       113\n",
      "         13       0.97      0.20      0.33       194\n",
      "         14       0.63      0.07      0.12       260\n",
      "\n",
      "avg / total       0.85      0.37      0.46      3605\n",
      "\n"
     ]
    },
    {
     "name": "stderr",
     "output_type": "stream",
     "text": [
      "C:\\Anaconda\\lib\\site-packages\\sklearn\\metrics\\classification.py:1113: UndefinedMetricWarning: Precision and F-score are ill-defined and being set to 0.0 in labels with no predicted samples.\n",
      "  'precision', 'predicted', average, warn_for)\n"
     ]
    }
   ],
   "source": [
    "print classification_report(y_test, model_tunning.predict(X_test))"
   ]
  },
  {
   "cell_type": "code",
   "execution_count": null,
   "metadata": {
    "collapsed": true
   },
   "outputs": [],
   "source": []
  }
 ],
 "metadata": {
  "kernelspec": {
   "display_name": "Python [default]",
   "language": "python",
   "name": "python2"
  },
  "language_info": {
   "codemirror_mode": {
    "name": "ipython",
    "version": 2
   },
   "file_extension": ".py",
   "mimetype": "text/x-python",
   "name": "python",
   "nbconvert_exporter": "python",
   "pygments_lexer": "ipython2",
   "version": "2.7.12"
  }
 },
 "nbformat": 4,
 "nbformat_minor": 0
}
