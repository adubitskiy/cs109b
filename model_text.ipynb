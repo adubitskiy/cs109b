{
 "cells": [
  {
   "cell_type": "code",
   "execution_count": 1,
   "metadata": {
    "collapsed": false
   },
   "outputs": [
    {
     "name": "stdout",
     "output_type": "stream",
     "text": [
      "[nltk_data] Downloading package stopwords to C:\\Windows\\ServiceProfile\n",
      "[nltk_data]     s\\LocalService\\AppData\\Roaming\\nltk_data...\n",
      "[nltk_data]   Package stopwords is already up-to-date!\n"
     ]
    },
    {
     "data": {
      "text/plain": [
       "True"
      ]
     },
     "execution_count": 1,
     "metadata": {},
     "output_type": "execute_result"
    }
   ],
   "source": [
    "import os\n",
    "import cPickle\n",
    "import numpy as np\n",
    "import pandas as pd\n",
    "from sklearn.preprocessing import MultiLabelBinarizer\n",
    "from sklearn.feature_extraction.text import TfidfVectorizer\n",
    "from sklearn.linear_model import SGDClassifier\n",
    "from sklearn.multiclass import OneVsRestClassifier\n",
    "from sklearn.model_selection import StratifiedKFold\n",
    "from sklearn.model_selection import train_test_split\n",
    "from sklearn.model_selection import GridSearchCV\n",
    "from sklearn.metrics import hamming_loss, make_scorer, classification_report\n",
    "import matplotlib.pyplot as plt\n",
    "import nltk.data\n",
    "from nltk.corpus import stopwords\n",
    "\n",
    "%matplotlib inline\n",
    "nltk.download('stopwords')"
   ]
  },
  {
   "cell_type": "code",
   "execution_count": 2,
   "metadata": {
    "collapsed": true
   },
   "outputs": [],
   "source": [
    "# extract from the IMDB data with only 'genres' and 'plot'\n",
    "imdb_file_name = 'data/plot.pickle'\n",
    "# full TMDB data\n",
    "tmdb_file_name = 'data/tmdb_info.pickle'"
   ]
  },
  {
   "cell_type": "code",
   "execution_count": 3,
   "metadata": {
    "collapsed": true
   },
   "outputs": [],
   "source": [
    "def load_part(file_name):\n",
    "    with open(file_name, 'rb') as handle:\n",
    "        return cPickle.load(handle)"
   ]
  },
  {
   "cell_type": "code",
   "execution_count": 4,
   "metadata": {
    "collapsed": false
   },
   "outputs": [],
   "source": [
    "# load the IMDB extract\n",
    "imdb_dict = load_part(imdb_file_name)"
   ]
  },
  {
   "cell_type": "code",
   "execution_count": 5,
   "metadata": {
    "collapsed": true
   },
   "outputs": [],
   "source": [
    "# load TMDB \n",
    "tmdb_dict = load_part(tmdb_file_name)"
   ]
  },
  {
   "cell_type": "code",
   "execution_count": 6,
   "metadata": {
    "collapsed": false
   },
   "outputs": [],
   "source": [
    "# add 'overview' from TMDB to 'plot' from IMDB (it is a list)\n",
    "for tmdb_id, imdb_movie in imdb_dict.iteritems():\n",
    "    if(\n",
    "        'plot' in imdb_movie and \n",
    "        tmdb_id in tmdb_dict and \n",
    "        'overview' in tmdb_dict[tmdb_id].__dict__ and\n",
    "        tmdb_dict[tmdb_id].__dict__['overview'] is not None):\n",
    "            imdb_movie['plot'].append(tmdb_dict[tmdb_id].__dict__['overview'])"
   ]
  },
  {
   "cell_type": "markdown",
   "metadata": {},
   "source": [
    "Prepare the labels"
   ]
  },
  {
   "cell_type": "code",
   "execution_count": 7,
   "metadata": {
    "collapsed": false
   },
   "outputs": [],
   "source": [
    "# array of list of genres for every movie\n",
    "labels = np.array([d['genres'] for d in imdb_dict.values() if 'genres' in d and 'plot' in d ])"
   ]
  },
  {
   "cell_type": "code",
   "execution_count": 8,
   "metadata": {
    "collapsed": false
   },
   "outputs": [
    {
     "name": "stdout",
     "output_type": "stream",
     "text": [
      "label matrix shape: (37668L, 28L)\n"
     ]
    }
   ],
   "source": [
    "# create the labels vector\n",
    "mlb = MultiLabelBinarizer()\n",
    "y = mlb.fit_transform(labels)\n",
    "print 'label matrix shape:', y.shape"
   ]
  },
  {
   "cell_type": "code",
   "execution_count": 9,
   "metadata": {
    "collapsed": false
   },
   "outputs": [
    {
     "data": {
      "text/html": [
       "<div>\n",
       "<table border=\"1\" class=\"dataframe\">\n",
       "  <thead>\n",
       "    <tr style=\"text-align: right;\">\n",
       "      <th></th>\n",
       "      <th>cnt</th>\n",
       "    </tr>\n",
       "  </thead>\n",
       "  <tbody>\n",
       "    <tr>\n",
       "      <th>Action</th>\n",
       "      <td>4318</td>\n",
       "    </tr>\n",
       "    <tr>\n",
       "      <th>Adult</th>\n",
       "      <td>158</td>\n",
       "    </tr>\n",
       "    <tr>\n",
       "      <th>Adventure</th>\n",
       "      <td>2854</td>\n",
       "    </tr>\n",
       "    <tr>\n",
       "      <th>Animation</th>\n",
       "      <td>2420</td>\n",
       "    </tr>\n",
       "    <tr>\n",
       "      <th>Biography</th>\n",
       "      <td>1404</td>\n",
       "    </tr>\n",
       "    <tr>\n",
       "      <th>Comedy</th>\n",
       "      <td>10693</td>\n",
       "    </tr>\n",
       "    <tr>\n",
       "      <th>Crime</th>\n",
       "      <td>3766</td>\n",
       "    </tr>\n",
       "    <tr>\n",
       "      <th>Documentary</th>\n",
       "      <td>4480</td>\n",
       "    </tr>\n",
       "    <tr>\n",
       "      <th>Drama</th>\n",
       "      <td>16567</td>\n",
       "    </tr>\n",
       "    <tr>\n",
       "      <th>Family</th>\n",
       "      <td>2738</td>\n",
       "    </tr>\n",
       "    <tr>\n",
       "      <th>Fantasy</th>\n",
       "      <td>2025</td>\n",
       "    </tr>\n",
       "    <tr>\n",
       "      <th>Film-Noir</th>\n",
       "      <td>218</td>\n",
       "    </tr>\n",
       "    <tr>\n",
       "      <th>Game-Show</th>\n",
       "      <td>2</td>\n",
       "    </tr>\n",
       "    <tr>\n",
       "      <th>History</th>\n",
       "      <td>1261</td>\n",
       "    </tr>\n",
       "    <tr>\n",
       "      <th>Horror</th>\n",
       "      <td>3835</td>\n",
       "    </tr>\n",
       "    <tr>\n",
       "      <th>Music</th>\n",
       "      <td>1388</td>\n",
       "    </tr>\n",
       "    <tr>\n",
       "      <th>Musical</th>\n",
       "      <td>1079</td>\n",
       "    </tr>\n",
       "    <tr>\n",
       "      <th>Mystery</th>\n",
       "      <td>2123</td>\n",
       "    </tr>\n",
       "    <tr>\n",
       "      <th>News</th>\n",
       "      <td>176</td>\n",
       "    </tr>\n",
       "    <tr>\n",
       "      <th>Reality-TV</th>\n",
       "      <td>18</td>\n",
       "    </tr>\n",
       "    <tr>\n",
       "      <th>Romance</th>\n",
       "      <td>5368</td>\n",
       "    </tr>\n",
       "    <tr>\n",
       "      <th>Sci-Fi</th>\n",
       "      <td>2125</td>\n",
       "    </tr>\n",
       "    <tr>\n",
       "      <th>Short</th>\n",
       "      <td>3936</td>\n",
       "    </tr>\n",
       "    <tr>\n",
       "      <th>Sport</th>\n",
       "      <td>748</td>\n",
       "    </tr>\n",
       "    <tr>\n",
       "      <th>Talk-Show</th>\n",
       "      <td>9</td>\n",
       "    </tr>\n",
       "    <tr>\n",
       "      <th>Thriller</th>\n",
       "      <td>5383</td>\n",
       "    </tr>\n",
       "    <tr>\n",
       "      <th>War</th>\n",
       "      <td>1247</td>\n",
       "    </tr>\n",
       "    <tr>\n",
       "      <th>Western</th>\n",
       "      <td>1265</td>\n",
       "    </tr>\n",
       "  </tbody>\n",
       "</table>\n",
       "</div>"
      ],
      "text/plain": [
       "               cnt\n",
       "Action        4318\n",
       "Adult          158\n",
       "Adventure     2854\n",
       "Animation     2420\n",
       "Biography     1404\n",
       "Comedy       10693\n",
       "Crime         3766\n",
       "Documentary   4480\n",
       "Drama        16567\n",
       "Family        2738\n",
       "Fantasy       2025\n",
       "Film-Noir      218\n",
       "Game-Show        2\n",
       "History       1261\n",
       "Horror        3835\n",
       "Music         1388\n",
       "Musical       1079\n",
       "Mystery       2123\n",
       "News           176\n",
       "Reality-TV      18\n",
       "Romance       5368\n",
       "Sci-Fi        2125\n",
       "Short         3936\n",
       "Sport          748\n",
       "Talk-Show        9\n",
       "Thriller      5383\n",
       "War           1247\n",
       "Western       1265"
      ]
     },
     "execution_count": 9,
     "metadata": {},
     "output_type": "execute_result"
    }
   ],
   "source": [
    "# number of movies for every genre\n",
    "label_df = pd.DataFrame(mlb.fit_transform(labels))\n",
    "label_df.columns = mlb.classes_\n",
    "label_number_df = pd.DataFrame({'cnt' : label_df.sum(axis = 0)})\n",
    "label_number_df"
   ]
  },
  {
   "cell_type": "markdown",
   "metadata": {},
   "source": [
    "Limit the number of genres for performance reasons. OneVsRestClassifier fits as many models as labels."
   ]
  },
  {
   "cell_type": "code",
   "execution_count": 10,
   "metadata": {
    "collapsed": false
   },
   "outputs": [
    {
     "data": {
      "text/plain": [
       "{u'Action',\n",
       " u'Adventure',\n",
       " u'Animation',\n",
       " u'Comedy',\n",
       " u'Crime',\n",
       " u'Documentary',\n",
       " u'Drama',\n",
       " u'Family',\n",
       " u'Fantasy',\n",
       " u'Horror',\n",
       " u'Mystery',\n",
       " u'Romance',\n",
       " u'Sci-Fi',\n",
       " u'Short',\n",
       " u'Thriller'}"
      ]
     },
     "execution_count": 10,
     "metadata": {},
     "output_type": "execute_result"
    }
   ],
   "source": [
    "# only leave generes mentioned in 2000 movies or more\n",
    "cutoff = 2000\n",
    "major_genres = set(label_number_df[label_number_df['cnt']  > cutoff].index)\n",
    "major_genres"
   ]
  },
  {
   "cell_type": "code",
   "execution_count": 11,
   "metadata": {
    "collapsed": false
   },
   "outputs": [],
   "source": [
    "# find labels only for the major genres\n",
    "labels = np.array(\n",
    "    [major_genres.intersection(d['genres']) for d in imdb_dict.values() if 'genres' in d and 'plot' in d ])"
   ]
  },
  {
   "cell_type": "code",
   "execution_count": 12,
   "metadata": {
    "collapsed": false
   },
   "outputs": [
    {
     "name": "stdout",
     "output_type": "stream",
     "text": [
      "label matrix shape: (37668L, 15L)\n"
     ]
    }
   ],
   "source": [
    "# create the labels vector with only major genres\n",
    "mlb = MultiLabelBinarizer()\n",
    "y = mlb.fit_transform(labels)\n",
    "print 'label matrix shape:', y.shape"
   ]
  },
  {
   "cell_type": "markdown",
   "metadata": {},
   "source": [
    "Prepare the features"
   ]
  },
  {
   "cell_type": "code",
   "execution_count": 13,
   "metadata": {
    "collapsed": false
   },
   "outputs": [],
   "source": [
    "# the plot consists of a few parts, join them together\n",
    "features = np.array([ ''.join(d['plot']) for d in imdb_dict.values() if 'genres' in d and 'plot' in d ])"
   ]
  },
  {
   "cell_type": "code",
   "execution_count": 14,
   "metadata": {
    "collapsed": false
   },
   "outputs": [],
   "source": [
    "# split into test / train data\n",
    "F_train, F_test, y_train, y_test = train_test_split(features, y, test_size=0.25, random_state=42)"
   ]
  },
  {
   "cell_type": "markdown",
   "metadata": {},
   "source": [
    "Convert a collection of text documents to a matrix of token counts"
   ]
  },
  {
   "cell_type": "code",
   "execution_count": 15,
   "metadata": {
    "collapsed": false
   },
   "outputs": [],
   "source": [
    "# convert into bag of words\n",
    "vectorizer = TfidfVectorizer( \n",
    "    stop_words = stopwords.words(\"english\"), \n",
    "    token_pattern = '[a-zA-Z]+[0-9]*',\n",
    "    max_df = 0.9, \n",
    "    min_df = 0.0001, \n",
    "    dtype = np.float32 )\n",
    "X_train = vectorizer.fit_transform(F_train)\n",
    "X_test = vectorizer.transform(F_test)"
   ]
  },
  {
   "cell_type": "markdown",
   "metadata": {},
   "source": [
    "The goal of using tf-idf instead of the raw frequencies of occurrence of a token in a given document is to scale down the impact of tokens that occur very frequently in a given corpus and that are hence empirically less informative than features that occur in a small fraction of the training corpus."
   ]
  },
  {
   "cell_type": "code",
   "execution_count": 16,
   "metadata": {
    "collapsed": false
   },
   "outputs": [
    {
     "name": "stdout",
     "output_type": "stream",
     "text": [
      "Train label matrix shape: (28251L, 15L)\n",
      "Train predictor matrix shape: (28251, 31396)\n",
      "Test label matrix shape: (9417L, 15L)\n",
      "Test predictor matrix shape: (9417, 31396)\n"
     ]
    }
   ],
   "source": [
    "print 'Train label matrix shape:', y_train.shape\n",
    "print 'Train predictor matrix shape:', X_train.shape\n",
    "print 'Test label matrix shape:', y_test.shape\n",
    "print 'Test predictor matrix shape:', X_test.shape"
   ]
  },
  {
   "cell_type": "code",
   "execution_count": 17,
   "metadata": {
    "collapsed": false
   },
   "outputs": [
    {
     "data": {
      "text/plain": [
       "<matplotlib.text.Text at 0xbe646b38>"
      ]
     },
     "execution_count": 17,
     "metadata": {},
     "output_type": "execute_result"
    },
    {
     "data": {
      "image/png": "[encoded data removed]",
      "text/plain": [
       "<matplotlib.figure.Figure at 0x80bc12b0>"
      ]
     },
     "metadata": {},
     "output_type": "display_data"
    }
   ],
   "source": [
    "label_df = pd.DataFrame(y_train)\n",
    "label_df.columns = mlb.classes_\n",
    "label_number_df = pd.DataFrame({'cnt' : label_df.sum(axis = 0)})\n",
    "ax = label_number_df.sort_values('cnt')['cnt'].plot(kind=\"barh\", title = 'Movies per genre in the training set')\n",
    "for p in ax.patches:\n",
    "    ax.annotate(\n",
    "        \"%.2f\" % p.get_width(), (p.get_x() + p.get_width(), p.get_y()), xytext=(5, 10), textcoords='offset points')\n",
    "plt.xlabel('Count')\n",
    "plt.ylabel('Genres')"
   ]
  },
  {
   "cell_type": "code",
   "execution_count": 18,
   "metadata": {
    "collapsed": false
   },
   "outputs": [
    {
     "data": {
      "text/plain": [
       "<matplotlib.text.Text at 0x82e31f98>"
      ]
     },
     "execution_count": 18,
     "metadata": {},
     "output_type": "execute_result"
    },
    {
     "data": {
      "image/png": "[encoded data removed]",
      "text/plain": [
       "<matplotlib.figure.Figure at 0xbe59bba8>"
      ]
     },
     "metadata": {},
     "output_type": "display_data"
    }
   ],
   "source": [
    "label_df = pd.DataFrame(y_test)\n",
    "label_df.columns = mlb.classes_\n",
    "label_number_df = pd.DataFrame({'cnt' : label_df.sum(axis = 0)})\n",
    "ax = label_number_df.sort_values('cnt')['cnt'].plot(kind=\"barh\", title = 'Movies per genre in the test set')\n",
    "for p in ax.patches:\n",
    "    ax.annotate(\n",
    "        \"%.2f\" % p.get_width(), (p.get_x() + p.get_width(), p.get_y()), xytext=(5, 10), textcoords='offset points')\n",
    "plt.xlabel('Count')\n",
    "plt.ylabel('Genres')"
   ]
  },
  {
   "cell_type": "markdown",
   "metadata": {},
   "source": [
    "The Hamming loss is the fraction of labels that are incorrectly predicted."
   ]
  },
  {
   "cell_type": "code",
   "execution_count": 19,
   "metadata": {
    "collapsed": false
   },
   "outputs": [
    {
     "name": "stdout",
     "output_type": "stream",
     "text": [
      "Fitting 3 folds for each of 1200 candidates, totalling 3600 fits\n"
     ]
    },
    {
     "name": "stderr",
     "output_type": "stream",
     "text": [
      "[Parallel(n_jobs=-1)]: Done   2 tasks      | elapsed:   10.1s\n",
      "[Parallel(n_jobs=-1)]: Done   9 tasks      | elapsed:   21.3s\n",
      "[Parallel(n_jobs=-1)]: Done  16 tasks      | elapsed:   36.0s\n",
      "[Parallel(n_jobs=-1)]: Done  25 tasks      | elapsed:   52.5s\n",
      "[Parallel(n_jobs=-1)]: Done  34 tasks      | elapsed:  1.1min\n",
      "[Parallel(n_jobs=-1)]: Done  45 tasks      | elapsed:  1.4min\n",
      "[Parallel(n_jobs=-1)]: Done  56 tasks      | elapsed:  1.8min\n",
      "[Parallel(n_jobs=-1)]: Done  69 tasks      | elapsed:  2.2min\n",
      "[Parallel(n_jobs=-1)]: Done  82 tasks      | elapsed:  2.5min\n",
      "[Parallel(n_jobs=-1)]: Done  97 tasks      | elapsed:  2.9min\n",
      "[Parallel(n_jobs=-1)]: Done 112 tasks      | elapsed:  3.3min\n",
      "[Parallel(n_jobs=-1)]: Done 129 tasks      | elapsed:  3.8min\n",
      "[Parallel(n_jobs=-1)]: Done 146 tasks      | elapsed:  4.3min\n",
      "[Parallel(n_jobs=-1)]: Done 165 tasks      | elapsed:  4.8min\n",
      "[Parallel(n_jobs=-1)]: Done 184 tasks      | elapsed:  5.4min\n",
      "[Parallel(n_jobs=-1)]: Done 205 tasks      | elapsed:  6.0min\n",
      "[Parallel(n_jobs=-1)]: Done 226 tasks      | elapsed:  6.6min\n",
      "[Parallel(n_jobs=-1)]: Done 249 tasks      | elapsed:  7.2min\n",
      "[Parallel(n_jobs=-1)]: Done 272 tasks      | elapsed:  7.9min\n",
      "[Parallel(n_jobs=-1)]: Done 297 tasks      | elapsed:  8.6min\n",
      "[Parallel(n_jobs=-1)]: Done 322 tasks      | elapsed:  9.3min\n",
      "[Parallel(n_jobs=-1)]: Done 349 tasks      | elapsed: 10.0min\n",
      "[Parallel(n_jobs=-1)]: Done 376 tasks      | elapsed: 10.9min\n",
      "[Parallel(n_jobs=-1)]: Done 405 tasks      | elapsed: 11.7min\n",
      "[Parallel(n_jobs=-1)]: Done 434 tasks      | elapsed: 12.4min\n",
      "[Parallel(n_jobs=-1)]: Done 465 tasks      | elapsed: 13.3min\n",
      "[Parallel(n_jobs=-1)]: Done 496 tasks      | elapsed: 14.2min\n",
      "[Parallel(n_jobs=-1)]: Done 529 tasks      | elapsed: 15.1min\n",
      "[Parallel(n_jobs=-1)]: Done 562 tasks      | elapsed: 16.0min\n",
      "[Parallel(n_jobs=-1)]: Done 597 tasks      | elapsed: 16.7min\n",
      "[Parallel(n_jobs=-1)]: Done 632 tasks      | elapsed: 17.6min\n",
      "[Parallel(n_jobs=-1)]: Done 669 tasks      | elapsed: 18.4min\n",
      "[Parallel(n_jobs=-1)]: Done 706 tasks      | elapsed: 19.2min\n",
      "[Parallel(n_jobs=-1)]: Done 745 tasks      | elapsed: 20.1min\n",
      "[Parallel(n_jobs=-1)]: Done 784 tasks      | elapsed: 21.0min\n",
      "[Parallel(n_jobs=-1)]: Done 825 tasks      | elapsed: 21.9min\n",
      "[Parallel(n_jobs=-1)]: Done 866 tasks      | elapsed: 22.9min\n",
      "[Parallel(n_jobs=-1)]: Done 909 tasks      | elapsed: 23.9min\n",
      "[Parallel(n_jobs=-1)]: Done 952 tasks      | elapsed: 25.0min\n",
      "[Parallel(n_jobs=-1)]: Done 997 tasks      | elapsed: 26.0min\n",
      "[Parallel(n_jobs=-1)]: Done 1042 tasks      | elapsed: 27.1min\n",
      "[Parallel(n_jobs=-1)]: Done 1089 tasks      | elapsed: 28.1min\n",
      "[Parallel(n_jobs=-1)]: Done 1136 tasks      | elapsed: 29.2min\n",
      "[Parallel(n_jobs=-1)]: Done 1185 tasks      | elapsed: 30.3min\n",
      "[Parallel(n_jobs=-1)]: Done 1234 tasks      | elapsed: 31.5min\n",
      "[Parallel(n_jobs=-1)]: Done 1285 tasks      | elapsed: 32.6min\n",
      "[Parallel(n_jobs=-1)]: Done 1336 tasks      | elapsed: 33.8min\n",
      "[Parallel(n_jobs=-1)]: Done 1389 tasks      | elapsed: 35.0min\n",
      "[Parallel(n_jobs=-1)]: Done 1442 tasks      | elapsed: 36.2min\n",
      "[Parallel(n_jobs=-1)]: Done 1497 tasks      | elapsed: 37.5min\n",
      "[Parallel(n_jobs=-1)]: Done 1552 tasks      | elapsed: 38.9min\n",
      "[Parallel(n_jobs=-1)]: Done 1609 tasks      | elapsed: 40.3min\n",
      "[Parallel(n_jobs=-1)]: Done 1666 tasks      | elapsed: 41.6min\n",
      "[Parallel(n_jobs=-1)]: Done 1725 tasks      | elapsed: 43.0min\n",
      "[Parallel(n_jobs=-1)]: Done 1784 tasks      | elapsed: 44.3min\n",
      "[Parallel(n_jobs=-1)]: Done 1845 tasks      | elapsed: 45.8min\n",
      "[Parallel(n_jobs=-1)]: Done 1906 tasks      | elapsed: 47.2min\n",
      "[Parallel(n_jobs=-1)]: Done 1969 tasks      | elapsed: 48.7min\n",
      "[Parallel(n_jobs=-1)]: Done 2032 tasks      | elapsed: 50.2min\n",
      "[Parallel(n_jobs=-1)]: Done 2097 tasks      | elapsed: 51.7min\n",
      "[Parallel(n_jobs=-1)]: Done 2162 tasks      | elapsed: 53.6min\n",
      "[Parallel(n_jobs=-1)]: Done 2229 tasks      | elapsed: 55.6min\n",
      "[Parallel(n_jobs=-1)]: Done 2296 tasks      | elapsed: 57.6min\n",
      "[Parallel(n_jobs=-1)]: Done 2365 tasks      | elapsed: 59.6min\n",
      "[Parallel(n_jobs=-1)]: Done 2434 tasks      | elapsed: 61.5min\n",
      "[Parallel(n_jobs=-1)]: Done 2505 tasks      | elapsed: 63.6min\n",
      "[Parallel(n_jobs=-1)]: Done 2576 tasks      | elapsed: 65.7min\n",
      "[Parallel(n_jobs=-1)]: Done 2649 tasks      | elapsed: 68.0min\n",
      "[Parallel(n_jobs=-1)]: Done 2722 tasks      | elapsed: 70.1min\n",
      "[Parallel(n_jobs=-1)]: Done 2797 tasks      | elapsed: 71.9min\n",
      "[Parallel(n_jobs=-1)]: Done 2872 tasks      | elapsed: 73.7min\n",
      "[Parallel(n_jobs=-1)]: Done 2949 tasks      | elapsed: 75.5min\n",
      "[Parallel(n_jobs=-1)]: Done 3026 tasks      | elapsed: 77.4min\n",
      "[Parallel(n_jobs=-1)]: Done 3105 tasks      | elapsed: 79.5min\n",
      "[Parallel(n_jobs=-1)]: Done 3184 tasks      | elapsed: 81.8min\n",
      "[Parallel(n_jobs=-1)]: Done 3265 tasks      | elapsed: 83.8min\n",
      "[Parallel(n_jobs=-1)]: Done 3346 tasks      | elapsed: 85.7min\n",
      "[Parallel(n_jobs=-1)]: Done 3429 tasks      | elapsed: 87.8min\n",
      "[Parallel(n_jobs=-1)]: Done 3512 tasks      | elapsed: 89.8min\n",
      "[Parallel(n_jobs=-1)]: Done 3600 out of 3600 | elapsed: 91.9min finished\n"
     ]
    },
    {
     "data": {
      "text/plain": [
       "GridSearchCV(cv=None, error_score='raise',\n",
       "       estimator=OneVsRestClassifier(estimator=SGDClassifier(alpha=0.0001, average=False, class_weight=None, epsilon=0.1,\n",
       "       eta0=0.0, fit_intercept=True, l1_ratio=0.15,\n",
       "       learning_rate='optimal', loss='hinge', n_iter=5, n_jobs=1,\n",
       "       penalty='l2', power_t=0.5, random_state=761, shuffle=True,\n",
       "       verbose=0, warm_start=False),\n",
       "          n_jobs=1),\n",
       "       fit_params={}, iid=True, n_jobs=-1,\n",
       "       param_grid={'estimator__alpha': array([  1.00000e-04,   9.90000e-05, ...,   2.00000e-06,   1.00000e-06]), 'estimator__penalty': ('l1', 'l2', 'elasticnet'), 'estimator__loss': ('hinge', 'log', 'perceptron', 'modified_huber')},\n",
       "       pre_dispatch='2*n_jobs', refit=True, return_train_score=True,\n",
       "       scoring=make_scorer(hamming_loss, greater_is_better=False),\n",
       "       verbose=10)"
      ]
     },
     "execution_count": 19,
     "metadata": {},
     "output_type": "execute_result"
    }
   ],
   "source": [
    "param_grid = {\n",
    "    'estimator__loss': ('hinge', 'log', 'perceptron', 'modified_huber'),\n",
    "    'estimator__alpha' : np.linspace(1e-04, 1e-06, 100),\n",
    "    'estimator__penalty' : ('l1', 'l2', 'elasticnet')}\n",
    "\n",
    "model = OneVsRestClassifier(SGDClassifier(random_state = 761))\n",
    "\n",
    "model_tunning = GridSearchCV(\n",
    "    model, \n",
    "    param_grid = param_grid, \n",
    "    scoring = make_scorer(hamming_loss, greater_is_better = False), \n",
    "    n_jobs = -1, \n",
    "    verbose = 10)\n",
    "\n",
    "model_tunning.fit(X_train, y_train)"
   ]
  },
  {
   "cell_type": "code",
   "execution_count": 20,
   "metadata": {
    "collapsed": false
   },
   "outputs": [
    {
     "data": {
      "text/plain": [
       "{'estimator__alpha': 4.9999999999999996e-05,\n",
       " 'estimator__loss': 'hinge',\n",
       " 'estimator__penalty': 'l2'}"
      ]
     },
     "execution_count": 20,
     "metadata": {},
     "output_type": "execute_result"
    }
   ],
   "source": [
    "model_tunning.best_params_"
   ]
  },
  {
   "cell_type": "markdown",
   "metadata": {
    "collapsed": true
   },
   "source": [
    "Classification quility on the training set"
   ]
  },
  {
   "cell_type": "code",
   "execution_count": 21,
   "metadata": {
    "collapsed": false
   },
   "outputs": [
    {
     "name": "stdout",
     "output_type": "stream",
     "text": [
      "             precision    recall  f1-score   support\n",
      "\n",
      "     Action       0.95      0.43      0.59      3287\n",
      "  Adventure       0.98      0.24      0.38      2142\n",
      "  Animation       0.98      0.50      0.66      1822\n",
      "     Comedy       0.91      0.66      0.77      8019\n",
      "      Crime       0.91      0.43      0.58      2818\n",
      "Documentary       0.96      0.80      0.87      3332\n",
      "      Drama       0.84      0.82      0.83     12418\n",
      "     Family       0.97      0.37      0.54      2095\n",
      "    Fantasy       0.97      0.22      0.36      1544\n",
      "     Horror       0.94      0.65      0.77      2889\n",
      "    Mystery       0.99      0.14      0.25      1612\n",
      "    Romance       0.92      0.36      0.51      4011\n",
      "     Sci-Fi       0.95      0.54      0.68      1608\n",
      "      Short       0.98      0.42      0.59      2976\n",
      "   Thriller       0.91      0.37      0.52      4052\n",
      "\n",
      "avg / total       0.92      0.56      0.66     54625\n",
      "\n"
     ]
    }
   ],
   "source": [
    "print classification_report(y_train, model_tunning.predict(X_train), target_names = mlb.classes_)"
   ]
  },
  {
   "cell_type": "markdown",
   "metadata": {},
   "source": [
    "Classification quility on the test set"
   ]
  },
  {
   "cell_type": "code",
   "execution_count": 22,
   "metadata": {
    "collapsed": false
   },
   "outputs": [
    {
     "name": "stdout",
     "output_type": "stream",
     "text": [
      "             precision    recall  f1-score   support\n",
      "\n",
      "     Action       0.76      0.26      0.39      1031\n",
      "  Adventure       0.74      0.09      0.17       712\n",
      "  Animation       0.90      0.30      0.45       598\n",
      "     Comedy       0.74      0.48      0.58      2674\n",
      "      Crime       0.70      0.23      0.35       948\n",
      "Documentary       0.88      0.64      0.74      1148\n",
      "      Drama       0.72      0.69      0.71      4149\n",
      "     Family       0.83      0.22      0.35       643\n",
      "    Fantasy       0.88      0.10      0.18       481\n",
      "     Horror       0.85      0.48      0.61       946\n",
      "    Mystery       0.71      0.04      0.08       511\n",
      "    Romance       0.66      0.18      0.29      1357\n",
      "     Sci-Fi       0.82      0.34      0.48       517\n",
      "      Short       0.91      0.25      0.39       960\n",
      "   Thriller       0.61      0.16      0.26      1331\n",
      "\n",
      "avg / total       0.75      0.40      0.49     18006\n",
      "\n"
     ]
    }
   ],
   "source": [
    "print classification_report(y_test, model_tunning.predict(X_test), target_names = mlb.classes_)"
   ]
  },
  {
   "cell_type": "code",
   "execution_count": 24,
   "metadata": {
    "collapsed": false
   },
   "outputs": [],
   "source": [
    "model_dict = {}\n",
    "model_dict['model'] = model_tunning\n",
    "model_dict['X_train'] = X_train\n",
    "model_dict['y_train'] = y_train\n",
    "model_dict['X_test'] = X_test\n",
    "model_dict['y_test'] = y_test\n",
    "model_dict['labels_names'] = mlb.classes_\n",
    "\n",
    "with open('models/sgd_text_model.pickle', 'wb') as handle:\n",
    "    cPickle.dump(model_dict, handle, protocol = cPickle.HIGHEST_PROTOCOL)"
   ]
  },
  {
   "cell_type": "code",
   "execution_count": 27,
   "metadata": {
    "collapsed": true
   },
   "outputs": [],
   "source": [
    "d = load_part('models/sgd_text_model.pickle')"
   ]
  },
  {
   "cell_type": "code",
   "execution_count": 29,
   "metadata": {
    "collapsed": false
   },
   "outputs": [
    {
     "name": "stdout",
     "output_type": "stream",
     "text": [
      "             precision    recall  f1-score   support\n",
      "\n",
      "     Action       0.76      0.26      0.39      1031\n",
      "  Adventure       0.74      0.09      0.17       712\n",
      "  Animation       0.90      0.30      0.45       598\n",
      "     Comedy       0.74      0.48      0.58      2674\n",
      "      Crime       0.70      0.23      0.35       948\n",
      "Documentary       0.88      0.64      0.74      1148\n",
      "      Drama       0.72      0.69      0.71      4149\n",
      "     Family       0.83      0.22      0.35       643\n",
      "    Fantasy       0.88      0.10      0.18       481\n",
      "     Horror       0.85      0.48      0.61       946\n",
      "    Mystery       0.71      0.04      0.08       511\n",
      "    Romance       0.66      0.18      0.29      1357\n",
      "     Sci-Fi       0.82      0.34      0.48       517\n",
      "      Short       0.91      0.25      0.39       960\n",
      "   Thriller       0.61      0.16      0.26      1331\n",
      "\n",
      "avg / total       0.75      0.40      0.49     18006\n",
      "\n"
     ]
    }
   ],
   "source": [
    "print classification_report(d['y_test'], d['model'].predict(d['X_test']), target_names = d['labels_names'])"
   ]
  },
  {
   "cell_type": "code",
   "execution_count": null,
   "metadata": {
    "collapsed": true
   },
   "outputs": [],
   "source": []
  }
 ],
 "metadata": {
  "kernelspec": {
   "display_name": "Python [default]",
   "language": "python",
   "name": "python2"
  },
  "language_info": {
   "codemirror_mode": {
    "name": "ipython",
    "version": 2
   },
   "file_extension": ".py",
   "mimetype": "text/x-python",
   "name": "python",
   "nbconvert_exporter": "python",
   "pygments_lexer": "ipython2",
   "version": "2.7.12"
  }
 },
 "nbformat": 4,
 "nbformat_minor": 0
}
