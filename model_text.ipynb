{
 "cells": [
  {
   "cell_type": "code",
   "execution_count": 1,
   "metadata": {
    "collapsed": false
   },
   "outputs": [
    {
     "name": "stdout",
     "output_type": "stream",
     "text": [
      "[nltk_data] Downloading package stopwords to C:\\Windows\\ServiceProfile\n",
      "[nltk_data]     s\\LocalService\\AppData\\Roaming\\nltk_data...\n",
      "[nltk_data]   Package stopwords is already up-to-date!\n"
     ]
    },
    {
     "data": {
      "text/plain": [
       "True"
      ]
     },
     "execution_count": 1,
     "metadata": {},
     "output_type": "execute_result"
    }
   ],
   "source": [
    "import os\n",
    "import cPickle\n",
    "import numpy as np\n",
    "import pandas as pd\n",
    "from sklearn import preprocessing\n",
    "from sklearn.pipeline import Pipeline\n",
    "from sklearn.preprocessing import MultiLabelBinarizer\n",
    "from sklearn.feature_extraction.text import TfidfVectorizer\n",
    "from sklearn.linear_model import SGDClassifier\n",
    "from sklearn.multiclass import OneVsRestClassifier\n",
    "from sklearn.model_selection import train_test_split\n",
    "from sklearn.model_selection import GridSearchCV\n",
    "from sklearn.metrics import hamming_loss, make_scorer, classification_report\n",
    "import matplotlib.pyplot as plt\n",
    "import nltk.data\n",
    "from nltk.corpus import stopwords\n",
    "\n",
    "%matplotlib inline\n",
    "nltk.download('stopwords')"
   ]
  },
  {
   "cell_type": "code",
   "execution_count": 2,
   "metadata": {
    "collapsed": true
   },
   "outputs": [],
   "source": [
    "# extract from the IMDB data with only genres and plot\n",
    "imdb_file_name = 'data/plot.pickle'\n",
    "# full TMDB data\n",
    "tmdb_file_name = 'data/tmdb_info.pickle'"
   ]
  },
  {
   "cell_type": "code",
   "execution_count": 3,
   "metadata": {
    "collapsed": true
   },
   "outputs": [],
   "source": [
    "def load_part(file_name):\n",
    "    with open(file_name, 'rb') as handle:\n",
    "        return cPickle.load(handle)"
   ]
  },
  {
   "cell_type": "code",
   "execution_count": 4,
   "metadata": {
    "collapsed": false
   },
   "outputs": [],
   "source": [
    "# load the IMDB extract\n",
    "imdb_dict = load_part(imdb_file_name)"
   ]
  },
  {
   "cell_type": "code",
   "execution_count": 5,
   "metadata": {
    "collapsed": true
   },
   "outputs": [],
   "source": [
    "# load TMDB \n",
    "tmdb_dict = load_part(tmdb_file_name)"
   ]
  },
  {
   "cell_type": "code",
   "execution_count": 6,
   "metadata": {
    "collapsed": false
   },
   "outputs": [],
   "source": [
    "# add 'overview' from TMDB to 'plot' from IMDB (it is a list)\n",
    "for tmdb_id, imdb_movie in imdb_dict.iteritems():\n",
    "    if(\n",
    "        'plot' in imdb_movie and \n",
    "        tmdb_id in tmdb_dict and \n",
    "        'overview' in tmdb_dict[tmdb_id].__dict__ and\n",
    "        tmdb_dict[tmdb_id].__dict__['overview'] is not None):\n",
    "            imdb_movie['plot'].append(tmdb_dict[tmdb_id].__dict__['overview'])"
   ]
  },
  {
   "cell_type": "markdown",
   "metadata": {},
   "source": [
    "Prepare the labels"
   ]
  },
  {
   "cell_type": "code",
   "execution_count": 7,
   "metadata": {
    "collapsed": false
   },
   "outputs": [],
   "source": [
    "# array of list of genres for every movie\n",
    "labels = np.array([d['genres'] for d in imdb_dict.values() if 'genres' in d and 'plot' in d ])"
   ]
  },
  {
   "cell_type": "code",
   "execution_count": 8,
   "metadata": {
    "collapsed": false
   },
   "outputs": [
    {
     "name": "stdout",
     "output_type": "stream",
     "text": [
      "label matrix shape: (37668L, 28L)\n"
     ]
    }
   ],
   "source": [
    "# create the labels vector\n",
    "mlb = MultiLabelBinarizer()\n",
    "y = mlb.fit_transform(labels)\n",
    "print 'label matrix shape:', y.shape"
   ]
  },
  {
   "cell_type": "code",
   "execution_count": 9,
   "metadata": {
    "collapsed": false
   },
   "outputs": [
    {
     "data": {
      "text/html": [
       "<div>\n",
       "<table border=\"1\" class=\"dataframe\">\n",
       "  <thead>\n",
       "    <tr style=\"text-align: right;\">\n",
       "      <th></th>\n",
       "      <th>cnt</th>\n",
       "    </tr>\n",
       "  </thead>\n",
       "  <tbody>\n",
       "    <tr>\n",
       "      <th>Action</th>\n",
       "      <td>4318</td>\n",
       "    </tr>\n",
       "    <tr>\n",
       "      <th>Adult</th>\n",
       "      <td>158</td>\n",
       "    </tr>\n",
       "    <tr>\n",
       "      <th>Adventure</th>\n",
       "      <td>2854</td>\n",
       "    </tr>\n",
       "    <tr>\n",
       "      <th>Animation</th>\n",
       "      <td>2420</td>\n",
       "    </tr>\n",
       "    <tr>\n",
       "      <th>Biography</th>\n",
       "      <td>1404</td>\n",
       "    </tr>\n",
       "    <tr>\n",
       "      <th>Comedy</th>\n",
       "      <td>10693</td>\n",
       "    </tr>\n",
       "    <tr>\n",
       "      <th>Crime</th>\n",
       "      <td>3766</td>\n",
       "    </tr>\n",
       "    <tr>\n",
       "      <th>Documentary</th>\n",
       "      <td>4480</td>\n",
       "    </tr>\n",
       "    <tr>\n",
       "      <th>Drama</th>\n",
       "      <td>16567</td>\n",
       "    </tr>\n",
       "    <tr>\n",
       "      <th>Family</th>\n",
       "      <td>2738</td>\n",
       "    </tr>\n",
       "    <tr>\n",
       "      <th>Fantasy</th>\n",
       "      <td>2025</td>\n",
       "    </tr>\n",
       "    <tr>\n",
       "      <th>Film-Noir</th>\n",
       "      <td>218</td>\n",
       "    </tr>\n",
       "    <tr>\n",
       "      <th>Game-Show</th>\n",
       "      <td>2</td>\n",
       "    </tr>\n",
       "    <tr>\n",
       "      <th>History</th>\n",
       "      <td>1261</td>\n",
       "    </tr>\n",
       "    <tr>\n",
       "      <th>Horror</th>\n",
       "      <td>3835</td>\n",
       "    </tr>\n",
       "    <tr>\n",
       "      <th>Music</th>\n",
       "      <td>1388</td>\n",
       "    </tr>\n",
       "    <tr>\n",
       "      <th>Musical</th>\n",
       "      <td>1079</td>\n",
       "    </tr>\n",
       "    <tr>\n",
       "      <th>Mystery</th>\n",
       "      <td>2123</td>\n",
       "    </tr>\n",
       "    <tr>\n",
       "      <th>News</th>\n",
       "      <td>176</td>\n",
       "    </tr>\n",
       "    <tr>\n",
       "      <th>Reality-TV</th>\n",
       "      <td>18</td>\n",
       "    </tr>\n",
       "    <tr>\n",
       "      <th>Romance</th>\n",
       "      <td>5368</td>\n",
       "    </tr>\n",
       "    <tr>\n",
       "      <th>Sci-Fi</th>\n",
       "      <td>2125</td>\n",
       "    </tr>\n",
       "    <tr>\n",
       "      <th>Short</th>\n",
       "      <td>3936</td>\n",
       "    </tr>\n",
       "    <tr>\n",
       "      <th>Sport</th>\n",
       "      <td>748</td>\n",
       "    </tr>\n",
       "    <tr>\n",
       "      <th>Talk-Show</th>\n",
       "      <td>9</td>\n",
       "    </tr>\n",
       "    <tr>\n",
       "      <th>Thriller</th>\n",
       "      <td>5383</td>\n",
       "    </tr>\n",
       "    <tr>\n",
       "      <th>War</th>\n",
       "      <td>1247</td>\n",
       "    </tr>\n",
       "    <tr>\n",
       "      <th>Western</th>\n",
       "      <td>1265</td>\n",
       "    </tr>\n",
       "  </tbody>\n",
       "</table>\n",
       "</div>"
      ],
      "text/plain": [
       "               cnt\n",
       "Action        4318\n",
       "Adult          158\n",
       "Adventure     2854\n",
       "Animation     2420\n",
       "Biography     1404\n",
       "Comedy       10693\n",
       "Crime         3766\n",
       "Documentary   4480\n",
       "Drama        16567\n",
       "Family        2738\n",
       "Fantasy       2025\n",
       "Film-Noir      218\n",
       "Game-Show        2\n",
       "History       1261\n",
       "Horror        3835\n",
       "Music         1388\n",
       "Musical       1079\n",
       "Mystery       2123\n",
       "News           176\n",
       "Reality-TV      18\n",
       "Romance       5368\n",
       "Sci-Fi        2125\n",
       "Short         3936\n",
       "Sport          748\n",
       "Talk-Show        9\n",
       "Thriller      5383\n",
       "War           1247\n",
       "Western       1265"
      ]
     },
     "execution_count": 9,
     "metadata": {},
     "output_type": "execute_result"
    }
   ],
   "source": [
    "# number of movies for every genre\n",
    "label_df = pd.DataFrame(mlb.fit_transform(labels))\n",
    "label_df.columns = mlb.classes_\n",
    "label_number_df = pd.DataFrame({'cnt' : label_df.sum(axis = 0)})\n",
    "label_number_df"
   ]
  },
  {
   "cell_type": "markdown",
   "metadata": {},
   "source": [
    "Limit the number of genres for performance reasons. OneVsRestClassifier fits as many models as labels."
   ]
  },
  {
   "cell_type": "code",
   "execution_count": 10,
   "metadata": {
    "collapsed": false
   },
   "outputs": [
    {
     "data": {
      "text/plain": [
       "{u'Action',\n",
       " u'Adventure',\n",
       " u'Animation',\n",
       " u'Comedy',\n",
       " u'Crime',\n",
       " u'Documentary',\n",
       " u'Drama',\n",
       " u'Family',\n",
       " u'Fantasy',\n",
       " u'Horror',\n",
       " u'Mystery',\n",
       " u'Romance',\n",
       " u'Sci-Fi',\n",
       " u'Short',\n",
       " u'Thriller'}"
      ]
     },
     "execution_count": 10,
     "metadata": {},
     "output_type": "execute_result"
    }
   ],
   "source": [
    "# only leave generes mentioned in 2000 movies or more\n",
    "cutoff = 2000\n",
    "major_genres = set(label_number_df[label_number_df['cnt']  > cutoff].index)\n",
    "major_genres"
   ]
  },
  {
   "cell_type": "code",
   "execution_count": 11,
   "metadata": {
    "collapsed": false
   },
   "outputs": [],
   "source": [
    "# find labels only for the major genres\n",
    "labels = np.array(\n",
    "    [major_genres.intersection(d['genres']) for d in imdb_dict.values() if 'genres' in d and 'plot' in d ])"
   ]
  },
  {
   "cell_type": "code",
   "execution_count": 12,
   "metadata": {
    "collapsed": false
   },
   "outputs": [
    {
     "name": "stdout",
     "output_type": "stream",
     "text": [
      "label matrix shape: (37668L, 15L)\n"
     ]
    }
   ],
   "source": [
    "# create the labels vector with only major genres\n",
    "mlb = MultiLabelBinarizer()\n",
    "y = mlb.fit_transform(labels)\n",
    "print 'label matrix shape:', y.shape"
   ]
  },
  {
   "cell_type": "markdown",
   "metadata": {},
   "source": [
    "Prepare the features"
   ]
  },
  {
   "cell_type": "code",
   "execution_count": 13,
   "metadata": {
    "collapsed": false
   },
   "outputs": [],
   "source": [
    "# the plot consists of a few parts, join them together\n",
    "features = np.array([ ''.join(d['plot']) for d in imdb_dict.values() if 'genres' in d and 'plot' in d ])"
   ]
  },
  {
   "cell_type": "code",
   "execution_count": 14,
   "metadata": {
    "collapsed": false
   },
   "outputs": [],
   "source": [
    "# get 10% of the observations in the test set, that is our working set\n",
    "F_train, F_test, y_train, y_test = train_test_split(features, y, test_size=0.5, random_state=42)\n",
    "# use the working set to create test / train data\n",
    "F_train, F_test, y_train, y_test = train_test_split(F_test, y_test, test_size=0.25, random_state=42)"
   ]
  },
  {
   "cell_type": "markdown",
   "metadata": {},
   "source": [
    "Convert a collection of text documents to a matrix of token counts"
   ]
  },
  {
   "cell_type": "code",
   "execution_count": 15,
   "metadata": {
    "collapsed": false
   },
   "outputs": [],
   "source": [
    "# convert into bag of words\n",
    "vectorizer = TfidfVectorizer( \n",
    "    stop_words = stopwords.words(\"english\"), \n",
    "    token_pattern = '[a-zA-Z]+[0-9]*',\n",
    "    max_df = 0.9, \n",
    "    min_df = 0.0001, \n",
    "    dtype = np.float32 )\n",
    "X_train = vectorizer.fit_transform(F_train)\n",
    "X_test = vectorizer.transform(F_test)"
   ]
  },
  {
   "cell_type": "markdown",
   "metadata": {},
   "source": [
    "The goal of using tf-idf instead of the raw frequencies of occurrence of a token in a given document is to scale down the impact of tokens that occur very frequently in a given corpus and that are hence empirically less informative than features that occur in a small fraction of the training corpus."
   ]
  },
  {
   "cell_type": "code",
   "execution_count": 16,
   "metadata": {
    "collapsed": false
   },
   "outputs": [
    {
     "name": "stdout",
     "output_type": "stream",
     "text": [
      "Train label matrix shape: (14125L, 15L)\n",
      "Train predictor matrix shape: (14125, 29648)\n",
      "Test label matrix shape: (4709L, 15L)\n",
      "Test predictor matrix shape: (4709, 29648)\n"
     ]
    }
   ],
   "source": [
    "print 'Train label matrix shape:', y_train.shape\n",
    "print 'Train predictor matrix shape:', X_train.shape\n",
    "print 'Test label matrix shape:', y_test.shape\n",
    "print 'Test predictor matrix shape:', X_test.shape"
   ]
  },
  {
   "cell_type": "code",
   "execution_count": 17,
   "metadata": {
    "collapsed": false
   },
   "outputs": [
    {
     "data": {
      "text/plain": [
       "<matplotlib.text.Text at 0x825634e0>"
      ]
     },
     "execution_count": 17,
     "metadata": {},
     "output_type": "execute_result"
    },
    {
     "data": {
      "image/png": "[encoded data removed]",
      "text/plain": [
       "<matplotlib.figure.Figure at 0xbe6cfc18>"
      ]
     },
     "metadata": {},
     "output_type": "display_data"
    }
   ],
   "source": [
    "label_df = pd.DataFrame(y_train)\n",
    "label_df.columns = mlb.classes_\n",
    "label_number_df = pd.DataFrame({'cnt' : label_df.sum(axis = 0)})\n",
    "ax = label_number_df.sort_values('cnt')['cnt'].plot(kind=\"barh\", title = 'Movies per genre in the training set')\n",
    "for p in ax.patches:\n",
    "    ax.annotate(\n",
    "        \"%.2f\" % p.get_width(), (p.get_x() + p.get_width(), p.get_y()), xytext=(5, 10), textcoords='offset points')\n",
    "plt.xlabel('Count')\n",
    "plt.ylabel('Genres')"
   ]
  },
  {
   "cell_type": "code",
   "execution_count": 18,
   "metadata": {
    "collapsed": false
   },
   "outputs": [
    {
     "data": {
      "text/plain": [
       "<matplotlib.text.Text at 0x8278f940>"
      ]
     },
     "execution_count": 18,
     "metadata": {},
     "output_type": "execute_result"
    },
    {
     "data": {
      "image/png": "[encoded data removed]",
      "text/plain": [
       "<matplotlib.figure.Figure at 0xbe69fcc0>"
      ]
     },
     "metadata": {},
     "output_type": "display_data"
    }
   ],
   "source": [
    "label_df = pd.DataFrame(y_test)\n",
    "label_df.columns = mlb.classes_\n",
    "label_number_df = pd.DataFrame({'cnt' : label_df.sum(axis = 0)})\n",
    "ax = label_number_df.sort_values('cnt')['cnt'].plot(kind=\"barh\", title = 'Movies per genre in the test set')\n",
    "for p in ax.patches:\n",
    "    ax.annotate(\n",
    "        \"%.2f\" % p.get_width(), (p.get_x() + p.get_width(), p.get_y()), xytext=(5, 10), textcoords='offset points')\n",
    "plt.xlabel('Count')\n",
    "plt.ylabel('Genres')"
   ]
  },
  {
   "cell_type": "markdown",
   "metadata": {},
   "source": [
    "The Hamming loss is the fraction of labels that are incorrectly predicted."
   ]
  },
  {
   "cell_type": "code",
   "execution_count": 21,
   "metadata": {
    "collapsed": false
   },
   "outputs": [
    {
     "name": "stdout",
     "output_type": "stream",
     "text": [
      "Fitting 3 folds for each of 27 candidates, totalling 81 fits\n"
     ]
    },
    {
     "name": "stderr",
     "output_type": "stream",
     "text": [
      "[Parallel(n_jobs=7)]: Done   4 tasks      | elapsed:   10.3s\n",
      "[Parallel(n_jobs=7)]: Done  11 tasks      | elapsed:   18.2s\n",
      "[Parallel(n_jobs=7)]: Done  18 tasks      | elapsed:   24.4s\n",
      "[Parallel(n_jobs=7)]: Done  27 tasks      | elapsed:   36.1s\n",
      "[Parallel(n_jobs=7)]: Done  36 tasks      | elapsed:   44.3s\n",
      "[Parallel(n_jobs=7)]: Done  47 tasks      | elapsed:   60.0s\n",
      "[Parallel(n_jobs=7)]: Done  58 tasks      | elapsed:  1.2min\n",
      "[Parallel(n_jobs=7)]: Done  77 out of  81 | elapsed:  1.6min remaining:    4.8s\n",
      "[Parallel(n_jobs=7)]: Done  81 out of  81 | elapsed:  1.6min finished\n"
     ]
    },
    {
     "data": {
      "text/plain": [
       "GridSearchCV(cv=None, error_score='raise',\n",
       "       estimator=OneVsRestClassifier(estimator=SGDClassifier(alpha=1e-05, average=False, class_weight=None, epsilon=0.1,\n",
       "       eta0=0.0, fit_intercept=True, l1_ratio=0.15,\n",
       "       learning_rate='optimal', loss='hinge', n_iter=5, n_jobs=1,\n",
       "       penalty='elasticnet', power_t=0.5, random_state=322, shuffle=True,\n",
       "       verbose=0, warm_start=False),\n",
       "          n_jobs=1),\n",
       "       fit_params={}, iid=True, n_jobs=7,\n",
       "       param_grid={'estimator__alpha': (0.1, 0.01, 0.0001), 'estimator__penalty': ('l1', 'l2', 'elasticnet'), 'estimator__loss': ('hinge', 'log', 'perceptron')},\n",
       "       pre_dispatch='2*n_jobs', refit=True, return_train_score=True,\n",
       "       scoring=make_scorer(hamming_loss, greater_is_better=False),\n",
       "       verbose=10)"
      ]
     },
     "execution_count": 21,
     "metadata": {},
     "output_type": "execute_result"
    }
   ],
   "source": [
    "param_grid = {\n",
    "    'estimator__loss': ('hinge', 'log', 'perceptron'),\n",
    "    'estimator__alpha' : (0.1, 0.01, 0.0001),\n",
    "    'estimator__penalty' : ('l1', 'l2', 'elasticnet')}\n",
    "\n",
    "model = OneVsRestClassifier(SGDClassifier(\n",
    "        random_state = 322,\n",
    "        loss = 'hinge',\n",
    "        alpha = 0.00001,\n",
    "        penalty = 'elasticnet'\n",
    "    ))\n",
    "\n",
    "model_tunning = GridSearchCV(\n",
    "    model, \n",
    "    param_grid = param_grid, \n",
    "    scoring = make_scorer(hamming_loss, greater_is_better = False), \n",
    "    n_jobs = 7, \n",
    "    verbose = 10)\n",
    "\n",
    "model_tunning.fit(X_train, y_train)"
   ]
  },
  {
   "cell_type": "markdown",
   "metadata": {
    "collapsed": true
   },
   "source": [
    "Classification quility on the training set"
   ]
  },
  {
   "cell_type": "code",
   "execution_count": 22,
   "metadata": {
    "collapsed": false
   },
   "outputs": [
    {
     "name": "stdout",
     "output_type": "stream",
     "text": [
      "             precision    recall  f1-score   support\n",
      "\n",
      "          0       0.98      0.42      0.59      1596\n",
      "          1       0.99      0.18      0.31      1085\n",
      "          2       0.99      0.47      0.63       941\n",
      "          3       0.96      0.64      0.77      4103\n",
      "          4       0.96      0.39      0.56      1390\n",
      "          5       0.97      0.82      0.89      1650\n",
      "          6       0.88      0.84      0.86      6154\n",
      "          7       0.98      0.36      0.52      1023\n",
      "          8       0.97      0.16      0.27       784\n",
      "          9       0.97      0.66      0.79      1466\n",
      "         10       0.99      0.12      0.21       800\n",
      "         11       0.96      0.34      0.50      2034\n",
      "         12       0.98      0.47      0.64       821\n",
      "         13       0.99      0.31      0.48      1477\n",
      "         14       0.96      0.34      0.50      2024\n",
      "\n",
      "avg / total       0.95      0.54      0.65     27348\n",
      "\n"
     ]
    }
   ],
   "source": [
    "print classification_report(y_train, model_tunning.predict(X_train))"
   ]
  },
  {
   "cell_type": "markdown",
   "metadata": {},
   "source": [
    "Classification quility on the test set"
   ]
  },
  {
   "cell_type": "code",
   "execution_count": 23,
   "metadata": {
    "collapsed": false
   },
   "outputs": [
    {
     "name": "stdout",
     "output_type": "stream",
     "text": [
      "             precision    recall  f1-score   support\n",
      "\n",
      "          0       0.79      0.21      0.33       518\n",
      "          1       0.68      0.04      0.08       370\n",
      "          2       0.87      0.26      0.40       296\n",
      "          3       0.73      0.38      0.50      1245\n",
      "          4       0.68      0.19      0.29       474\n",
      "          5       0.91      0.59      0.71       615\n",
      "          6       0.70      0.66      0.68      2051\n",
      "          7       0.87      0.19      0.31       316\n",
      "          8       0.88      0.06      0.12       226\n",
      "          9       0.81      0.40      0.54       455\n",
      "         10       1.00      0.03      0.06       250\n",
      "         11       0.63      0.13      0.22       679\n",
      "         12       0.83      0.28      0.42       258\n",
      "         13       0.91      0.16      0.27       468\n",
      "         14       0.68      0.13      0.22       706\n",
      "\n",
      "avg / total       0.76      0.34      0.43      8927\n",
      "\n"
     ]
    }
   ],
   "source": [
    "print classification_report(y_test, model_tunning.predict(X_test))"
   ]
  },
  {
   "cell_type": "code",
   "execution_count": null,
   "metadata": {
    "collapsed": true
   },
   "outputs": [],
   "source": []
  }
 ],
 "metadata": {
  "kernelspec": {
   "display_name": "Python [default]",
   "language": "python",
   "name": "python2"
  },
  "language_info": {
   "codemirror_mode": {
    "name": "ipython",
    "version": 2
   },
   "file_extension": ".py",
   "mimetype": "text/x-python",
   "name": "python",
   "nbconvert_exporter": "python",
   "pygments_lexer": "ipython2",
   "version": "2.7.12"
  }
 },
 "nbformat": 4,
 "nbformat_minor": 0
}
