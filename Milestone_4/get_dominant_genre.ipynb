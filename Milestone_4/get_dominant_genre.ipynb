{
 "cells": [
  {
   "cell_type": "code",
   "execution_count": 1,
   "metadata": {
    "collapsed": false
   },
   "outputs": [
    {
     "name": "stdout",
     "output_type": "stream",
     "text": [
      "load: 3.0 secs\n",
      "58829\n"
     ]
    }
   ],
   "source": [
    "import pickle\n",
    "import time\n",
    "\n",
    "import numpy as np\n",
    "import pandas as pd\n",
    "from collections import Counter\n",
    "\n",
    "\n",
    "def load_movie_dict():\n",
    "    start = time.time()\n",
    "    with open(r\"../data/tmdb_info.pickle\", \"rb\") as input_file:\n",
    "        movie_dict = pickle.load(input_file)\n",
    "    elapsed = time.time() - start\n",
    "    print(\"load: %.1f secs\" % elapsed)\n",
    "    return movie_dict\n",
    "\n",
    "\n",
    "movie_dict = load_movie_dict()\n",
    "print(len(movie_dict))"
   ]
  },
  {
   "cell_type": "code",
   "execution_count": 5,
   "metadata": {
    "collapsed": false
   },
   "outputs": [
    {
     "name": "stdout",
     "output_type": "stream",
     "text": [
      "multiple genres:\n",
      "Counter({'Drama': 21416, 'Comedy': 14878, 'Documentary': 8467, 'Action': 6237, 'Romance': 6083, 'Thriller': 5740, 'Horror': 5003, 'Music': 4438, 'Animation': 4059, 'Crime': 3868, 'Family': 3511, 'Adventure': 3299, 'Science Fiction': 2476, 'Fantasy': 2162, 'Mystery': 2024, 'Foreign': 1943, 'History': 1401, 'Western': 1348, 'War': 1242, 'TV Movie': 1176})\n",
      "58827\n",
      "one genre per movie (most dominant):\n",
      "Counter({'Drama': 21416, 'Comedy': 11572, 'Documentary': 8002, 'Action': 3289, 'Animation': 2653, 'Music': 2611, 'Horror': 2348, 'Thriller': 2273, 'Family': 935, 'Romance': 876, 'Western': 753, 'Crime': 596, 'Adventure': 453, 'Science Fiction': 347, 'Mystery': 191, 'Fantasy': 188, 'History': 118, 'War': 103, 'TV Movie': 54, 'Foreign': 49})\n"
     ]
    }
   ],
   "source": [
    "def get_genre_df(movie_dict):\n",
    "    all_genre_list = []\n",
    "    for tmdb_id, movie in movie_dict.items():\n",
    "        all_genre_list.extend(genre['name'] for genre in movie.genres)\n",
    "\n",
    "    genre_counter = Counter(all_genre_list)\n",
    "    print('multiple genres:')\n",
    "    print(genre_counter)\n",
    "\n",
    "    sorted_genre_name_list = [genre_name for genre_name, _ in genre_counter.most_common()]\n",
    "    genre_to_index_dict = {genre_name: i for i, genre_name in enumerate(sorted_genre_name_list)}\n",
    "\n",
    "    tmdb_id_column = []\n",
    "    genre_column = []\n",
    "    for tmdb_id, movie in movie_dict.items():\n",
    "        genre_list = [genre['name'] for genre in movie.genres]\n",
    "        if genre_list:\n",
    "            min_index = np.min([genre_to_index_dict[genre_name] for genre_name in genre_list])\n",
    "            dominant_genre_name = sorted_genre_name_list[min_index]\n",
    "            tmdb_id_column.append(tmdb_id)\n",
    "            genre_column.append(dominant_genre_name)\n",
    "\n",
    "    print(len(tmdb_id_column))\n",
    "    print('one genre per movie (most dominant):')\n",
    "    print(Counter(genre_column))\n",
    "\n",
    "    return pd.DataFrame({'tmdb_id': tmdb_id_column, 'genre': genre_column})\n",
    "\n",
    "\n",
    "genre_df = get_genre_df(movie_dict)\n",
    "\n",
    "genre_df.to_csv('genre_df.csv', index=False, columns=['tmdb_id', 'genre'])"
   ]
  },
  {
   "cell_type": "code",
   "execution_count": null,
   "metadata": {
    "collapsed": true
   },
   "outputs": [],
   "source": [
    ""
   ]
  }
 ],
 "metadata": {
  "anaconda-cloud": {},
  "kernelspec": {
   "display_name": "Python [default]",
   "language": "python",
   "name": "python3"
  },
  "language_info": {
   "codemirror_mode": {
    "name": "ipython",
    "version": 3.0
   },
   "file_extension": ".py",
   "mimetype": "text/x-python",
   "name": "python",
   "nbconvert_exporter": "python",
   "pygments_lexer": "ipython3",
   "version": "3.5.2"
  }
 },
 "nbformat": 4,
 "nbformat_minor": 0
}