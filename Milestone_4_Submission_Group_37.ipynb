{
 "cells": [
  {
   "cell_type": "markdown",
   "metadata": {},
   "source": [
    "### Milestone 4: Deep learning, due Wednesday, April 26, 2017\n",
    "\n",
    "For this milestone you will (finally) use deep learning to predict movie genres. You will train one small network from scratch on the posters only, and compare this one to a pre-trained network that you finetune. [Here](https://keras.io/getting-started/faq/#how-can-i-use-pre-trained-models-in-keras) is a description of how to use pretrained models in Keras.\n",
    "\n",
    "You can try different architectures, initializations, parameter settings, optimization methods, etc. Be adventurous and explore deep learning! It can be fun to combine the features learned by the deep learning model with a SVM, or incorporate meta data into your deep learning model. \n",
    "\n",
    "**Note:** Be mindful of the longer training times for deep models. Not only for training time, but also for the parameter tuning efforts. You need time to develop a feel for the different parameters and which settings work, which normalization you want to use, which model architecture you choose, etc. \n",
    "\n",
    "It is great that we have GPU's via AWS to speed up the actual computation time, but you need to be mindful of your AWS credits. The GPU instances are not cheap and can accumulate costs rather quickly. Think about your model first and do some quick dry runs with a larger learning rate or large batch size on your local machine. \n",
    "\n",
    "The notebook to submit this week should at least include:\n",
    "\n",
    "- Complete description of the deep network you trained from scratch, including parameter settings, performance, features learned, etc. \n",
    "- Complete description of the pre-trained network that you fine tuned, including parameter settings, performance, features learned, etc. \n",
    "- Discussion of the results, how much improvement you gained with fine tuning, etc. \n",
    "- Discussion of at least one additional exploratory idea you pursued"
   ]
  },
  {
   "cell_type": "markdown",
   "metadata": {},
   "source": [
    "# Milestone 4 submission\n",
    "## Team 37 (Alexander Dubitskiy, Keenan Venuti, Timur Zambalayev)\n",
    "\n",
    "Github repo link: https://github.com/adubitskiy/cs109b"
   ]
  },
  {
   "cell_type": "markdown",
   "metadata": {},
   "source": [
    "##  Complete description of the deep network you trained from scratch, including parameter settings, performance, features learned, etc. "
   ]
  },
  {
   "cell_type": "markdown",
   "metadata": {
    "collapsed": true
   },
   "source": [
    "Here is the link for the notebook: https://github.com/adubitskiy/cs109b/blob/master/model_custom_loss.ipynb\n",
    "\n",
    "The data consisted of 58,825 movies. We reserved 10% for the test dataset (5,883 samples). The train set had 52,942 movies. \n",
    "During the fit we set aside 20% for validation (10,589 samples), so we trained on 42,353 samples.\n",
    "The image sizes: 224x224x3 (rgb).\n",
    "\n",
    "We used 4 convolution layers and 2 fully conected layers regularized by the dropouts.\n",
    "The loss function was weighted crossentropy. Batch size was 128.\n",
    "\n",
    "First we did rough tuning using Nesterov Adam optimizer (optimizer = 'nadam'). We used early stopping (stop when vaidation loss is not going down for 5 epochs). The rough tuning lasted for 17 epochs (each epoch taking around 200 seconds).\n",
    "The train loss went from 29.2 to 8.9. The validation loss - from 26.9 to 21.6.\n",
    "\n",
    "After that it was more precise tuning with a small step size (optimizer=SGD(lr = 0.0001, momentum=0.9)).\n",
    "That took 7 additional epochs.\n",
    "\n",
    "The classification report for the test set:\n",
    "\n",
    "```\n",
    "                 precision    recall  f1-score   support\n",
    "\n",
    "         Action       0.82      0.25      0.38       646\n",
    "      Adventure       0.95      0.44      0.60       332\n",
    "      Animation       0.87      0.53      0.66       392\n",
    "         Comedy       0.62      0.33      0.43      1513\n",
    "          Crime       0.84      0.36      0.51       403\n",
    "    Documentary       0.65      0.42      0.51       876\n",
    "          Drama       0.59      0.36      0.44      2100\n",
    "         Family       0.91      0.51      0.65       370\n",
    "        Fantasy       0.98      0.56      0.71       208\n",
    "        Foreign       0.98      0.50      0.66       195\n",
    "        History       1.00      0.52      0.69       124\n",
    "         Horror       0.79      0.39      0.52       501\n",
    "          Music       0.85      0.53      0.65       411\n",
    "        Mystery       0.97      0.46      0.63       206\n",
    "        Romance       0.82      0.27      0.41       630\n",
    "Science Fiction       0.95      0.48      0.64       276\n",
    "       TV Movie       1.00      0.51      0.67       122\n",
    "       Thriller       0.79      0.38      0.51       588\n",
    "            War       0.98      0.50      0.67       113\n",
    "        Western       0.90      0.56      0.69       142\n",
    "\n",
    "    avg / total       0.76      0.39      0.51     10148\n",
    "```\n",
    "\n",
    "The result the average f1-score = 0.51. It's better than 0.37 we had in Milestone 3 (SGD classifier on text overview/cast/crew data) for the same movie set (59k samples)."
   ]
  },
  {
   "cell_type": "markdown",
   "metadata": {},
   "source": [
    "## Complete description of the pre-trained network that you fine tuned, including parameter settings, performance, features learned, etc. "
   ]
  },
  {
   "cell_type": "markdown",
   "metadata": {
    "collapsed": true
   },
   "source": []
  },
  {
   "cell_type": "markdown",
   "metadata": {},
   "source": [
    "## Discussion of the results, how much improvement you gained with fine tuning, etc. "
   ]
  },
  {
   "cell_type": "markdown",
   "metadata": {
    "collapsed": true
   },
   "source": []
  },
  {
   "cell_type": "markdown",
   "metadata": {},
   "source": [
    "##  Discussion of at least one additional exploratory idea you pursued"
   ]
  },
  {
   "cell_type": "markdown",
   "metadata": {
    "collapsed": true
   },
   "source": []
  }
 ],
 "metadata": {
  "anaconda-cloud": {},
  "kernelspec": {
   "display_name": "Python [default]",
   "language": "python",
   "name": "python3"
  },
  "language_info": {
   "codemirror_mode": {
    "name": "ipython",
    "version": 3
   },
   "file_extension": ".py",
   "mimetype": "text/x-python",
   "name": "python",
   "nbconvert_exporter": "python",
   "pygments_lexer": "ipython3",
   "version": "3.5.2"
  }
 },
 "nbformat": 4,
 "nbformat_minor": 0
}
