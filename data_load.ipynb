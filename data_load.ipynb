{
 "cells": [
  {
   "cell_type": "code",
   "execution_count": 1,
   "metadata": {
    "collapsed": false
   },
   "outputs": [],
   "source": [
    "import time\n",
    "import random\n",
    "import pickle\n",
    "import urllib\n",
    "import logging\n",
    "from IPython.display import Image\n",
    "from IPython.core.display import HTML \n",
    "from requests import HTTPError\n",
    "import tmdbsimple as tmdb"
   ]
  },
  {
   "cell_type": "code",
   "execution_count": 2,
   "metadata": {
    "collapsed": false
   },
   "outputs": [],
   "source": [
    "tmdb.API_KEY = '0a6964b42f986ab0794414f5df403d7e'\n",
    "pickle_file_name = 'data/tmdb_info.pickle3'"
   ]
  },
  {
   "cell_type": "code",
   "execution_count": 3,
   "metadata": {
    "collapsed": true
   },
   "outputs": [],
   "source": [
    "logger = logging.getLogger('tmdb')\n",
    "log_file = logging.FileHandler('data/tmdb.log')\n",
    "formatter = logging.Formatter('%(asctime)s %(levelname)s %(message)s')\n",
    "log_file.setFormatter(formatter)\n",
    "logger.addHandler(log_file) \n",
    "logger.setLevel(logging.WARNING)"
   ]
  },
  {
   "cell_type": "code",
   "execution_count": 4,
   "metadata": {
    "collapsed": false
   },
   "outputs": [
    {
     "name": "stdout",
     "output_type": "stream",
     "text": [
      "Initital master size:12244\n"
     ]
    }
   ],
   "source": [
    "# initialize master list\n",
    "try:\n",
    "    with open(pickle_file_name, 'rb') as handle:\n",
    "        master_dict = pickle.load(handle)\n",
    "except IOError:\n",
    "        master_dict = {}\n",
    "initial_master_size = len(master_dict)\n",
    "print 'Initital master size:' + str(initial_master_size)"
   ]
  },
  {
   "cell_type": "code",
   "execution_count": 5,
   "metadata": {
    "collapsed": false
   },
   "outputs": [],
   "source": [
    "conf = tmdb.Configuration()\n",
    "c_info = conf.info()\n",
    "img_conf = c_info['images']"
   ]
  },
  {
   "cell_type": "code",
   "execution_count": 6,
   "metadata": {
    "collapsed": false
   },
   "outputs": [],
   "source": [
    "# latest movie id, out upper bound for random movie id\n",
    "latest_movie = tmdb.Movies().latest()\n",
    "latest_id = latest_movie['id']\n",
    "start_id = 1\n",
    "end_id = latest_id"
   ]
  },
  {
   "cell_type": "code",
   "execution_count": 7,
   "metadata": {
    "collapsed": false,
    "scrolled": true
   },
   "outputs": [],
   "source": [
    "# load batch\n",
    "batch_size = 4000\n",
    "loaded_count = 0\n",
    "while(loaded_count < batch_size):\n",
    "    # try to get movie so many times\n",
    "    limit = 100\n",
    "    attempts = 0\n",
    "    while(attempts < limit):\n",
    "        # generate random movie id\n",
    "        random_id = random.randrange(start_id, end_id)\n",
    "        attempts += 1\n",
    "        if(random_id in master_dict):\n",
    "            continue # already have this movie\n",
    "        random_movie = tmdb.Movies(random_id)\n",
    "        try:\n",
    "            time.sleep(1)\n",
    "            info = random_movie.info()\n",
    "            if(len(random_movie.genres) == 0):\n",
    "                continue # no genres, skip\n",
    "            if(random_movie.poster_path is None):\n",
    "                continue # no poster, skip\n",
    "            # save poster to a file\n",
    "            image_url = img_conf['base_url'] + 'w500' + random_movie.poster_path\n",
    "            urllib.urlretrieve(image_url, 'posters/' + str(random_id) + '.jpg')\n",
    "            # poster saved, get credits\n",
    "            time.sleep(1)\n",
    "            credits = random_movie.credits()\n",
    "            break\n",
    "        except HTTPError as e:\n",
    "            if e.response.status_code != 404:\n",
    "                logger.error('Failed to get movie for id: ' + str(random_movie) + ', ' + repr(e))\n",
    "            time.sleep(1)\n",
    "        except IOError as e:\n",
    "            logger.error('Failed to get movie for id: ' + str(random_movie) + ', ' + repr(e))\n",
    "            time.sleep(1)\n",
    "    # we failed to get movie\n",
    "    if(attempts == limit):\n",
    "        logger.error('Attempted: ' + str(attempts) + ' times, exiting...')\n",
    "        break\n",
    "    # add info to the master list\n",
    "    loaded_count += 1\n",
    "    master_dict[random_id] = random_movie"
   ]
  },
  {
   "cell_type": "code",
   "execution_count": 8,
   "metadata": {
    "collapsed": true
   },
   "outputs": [],
   "source": [
    "log_file.close()"
   ]
  },
  {
   "cell_type": "code",
   "execution_count": 9,
   "metadata": {
    "collapsed": false
   },
   "outputs": [
    {
     "name": "stdout",
     "output_type": "stream",
     "text": [
      "Saved 16244 movies.\n"
     ]
    }
   ],
   "source": [
    "if(len(master_dict) > initial_master_size):\n",
    "    print('Saved ' + str(len(master_dict)) + ' movies.')\n",
    "    with open(pickle_file_name, 'wb') as handle:\n",
    "        pickle.dump(master_dict, handle, protocol=pickle.HIGHEST_PROTOCOL)"
   ]
  }
 ],
 "metadata": {
  "kernelspec": {
   "display_name": "Python [default]",
   "language": "python",
   "name": "python2"
  },
  "language_info": {
   "codemirror_mode": {
    "name": "ipython",
    "version": 2
   },
   "file_extension": ".py",
   "mimetype": "text/x-python",
   "name": "python",
   "nbconvert_exporter": "python",
   "pygments_lexer": "ipython2",
   "version": "2.7.12"
  }
 },
 "nbformat": 4,
 "nbformat_minor": 0
}
