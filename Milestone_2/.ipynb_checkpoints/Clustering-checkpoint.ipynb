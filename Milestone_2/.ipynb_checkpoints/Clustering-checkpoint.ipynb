{
 "cells": [
  {
   "cell_type": "code",
   "execution_count": 4,
   "metadata": {
    "collapsed": false
   },
   "outputs": [
    {
     "name": "stdout",
     "output_type": "stream",
     "text": [
      "load: 4.8 secs\n",
      "31486\n"
     ]
    }
   ],
   "source": [
    "import cPickle\n",
    "import time\n",
    "from collections import defaultdict, Counter\n",
    "\n",
    "import matplotlib.pyplot as plt\n",
    "import numpy as np\n",
    "import pandas as pd\n",
    "from sklearn import preprocessing\n",
    "from sklearn.decomposition import PCA\n",
    "\n",
    "\n",
    "def load_movie_dict():\n",
    "    start = time.time()\n",
    "    with open(r\"tmdb_info.pickle\", \"rb\") as input_file:\n",
    "        movie_dict = cPickle.load(input_file)\n",
    "    elapsed = time.time() - start\n",
    "    print \"load: %.1f secs\" % elapsed\n",
    "    return movie_dict\n",
    "\n",
    "    \n",
    "movie_dict = load_movie_dict()\n",
    "print len(movie_dict)"
   ]
  },
  {
   "cell_type": "code",
   "execution_count": 5,
   "metadata": {
    "collapsed": false
   },
   "outputs": [
    {
     "name": "stdout",
     "output_type": "stream",
     "text": [
      "load: 4.3 secs\n",
      "31486\n",
      "(31486, 9397)\n",
      "explained variance ratio:\n",
      "[ 0.00207144  0.00193806]\n"
     ]
    },
    {
     "data": {
      "image/png": "[encoded data removed]",
      "text/plain": [
       "<matplotlib.figure.Figure at 0x1c029128>"
      ]
     },
     "metadata": {},
     "output_type": "display_data"
    }
   ],
   "source": [
    "def get_movie_attribute_name_list(movie_dict):\n",
    "    attr_set = set()\n",
    "    for movie in movie_dict.itervalues():\n",
    "        attr_set |= set(movie.__dict__.keys())\n",
    "    return list(attr_set)\n",
    "\n",
    "\n",
    "def get_movie_df(movie_dict):\n",
    "    all_movie_attribute_name_list = [\n",
    "        # 'poster_path', 'backdrop_path', 'base_uri', 'id', 'imdb_id',\n",
    "        # 'genres',\n",
    "\n",
    "        'production_countries', 'overview', 'video',\n",
    "        'title', 'tagline', 'crew', 'homepage',\n",
    "        'belongs_to_collection', 'original_language', 'status', 'spoken_languages',\n",
    "        'adult', 'production_companies',\n",
    "        'original_title',\n",
    "\n",
    "        'revenue', 'vote_count', 'release_date', 'popularity', 'budget', 'vote_average', 'runtime', 'cast',\n",
    "    ]\n",
    "    movie_attribute_name_list = [\n",
    "        'revenue',\n",
    "        'vote_count',\n",
    "        'popularity',\n",
    "        'budget',\n",
    "        'vote_average',\n",
    "        'cast',\n",
    "        # 'release_date',\n",
    "        # 'runtime',\n",
    "    ]\n",
    "\n",
    "    movie_attribute_dict = defaultdict(list)\n",
    "    for movie in movie_dict.itervalues():\n",
    "        for movie_attribute_name in movie_attribute_name_list:\n",
    "            attr_list = movie_attribute_dict[movie_attribute_name]\n",
    "            attr_list.append(getattr(movie, movie_attribute_name))\n",
    "\n",
    "    return pd.DataFrame(movie_attribute_dict)\n",
    "\n",
    "\n",
    "def explore_pca(movie_df):\n",
    "    # print movie_df.describe()\n",
    "\n",
    "    scaled_movies = preprocessing.scale(movie_df)\n",
    "\n",
    "    pca = PCA(n_components=2)\n",
    "    pca_X = pca.fit_transform(scaled_movies)\n",
    "\n",
    "    print \"explained variance ratio:\"\n",
    "    print pca.explained_variance_ratio_\n",
    "\n",
    "    plt.figure(figsize=(10, 8))\n",
    "    plt.scatter(pca_X[:, 0], pca_X[:, 1])\n",
    "    plt.show()\n",
    "\n",
    "\n",
    "def prepare_cast(movie_df):\n",
    "    cast_list = [cast_member['name'] for movie_cast_list in movie_df['cast'] for cast_member in movie_cast_list]\n",
    "    cast_counter = Counter(cast_list)\n",
    "\n",
    "    included_cast_list = [cast_name for cast_name, num_movies in cast_counter.iteritems() if num_movies >= 5]\n",
    "    included_cast_set = set(included_cast_list)\n",
    "\n",
    "    num_movies = len(movie_df)\n",
    "    print num_movies\n",
    "    movie_attribute_dict = defaultdict(lambda: np.zeros((num_movies,), dtype=np.uint8))\n",
    "\n",
    "    for i, movie_cast_list in enumerate(movie_df['cast']):\n",
    "        for cast_member in movie_cast_list:\n",
    "            cast_name = cast_member['name']\n",
    "            if cast_name in included_cast_set:\n",
    "                movie_attribute_dict['cast_' + cast_name][i] = 1\n",
    "\n",
    "    new_movie_df = movie_df.drop(\"cast\", axis=1)\n",
    "\n",
    "    for key, column in movie_attribute_dict.iteritems():\n",
    "        new_movie_df[key] = column\n",
    "\n",
    "    print new_movie_df.shape\n",
    "    return new_movie_df\n",
    "\n",
    "\n",
    "def prepare_columns(movie_df):\n",
    "    return prepare_cast(movie_df)\n",
    "\n",
    "\n",
    "movie_dict = load_movie_dict()\n",
    "movie_df = get_movie_df(movie_dict)\n",
    "\n",
    "movie_df = prepare_columns(movie_df)\n",
    "\n",
    "explore_pca(movie_df)"
   ]
  },
  {
   "cell_type": "code",
   "execution_count": null,
   "metadata": {
    "collapsed": true
   },
   "outputs": [],
   "source": [
    ""
   ]
  }
 ],
 "metadata": {
  "anaconda-cloud": {},
  "kernelspec": {
   "display_name": "Python 2",
   "language": "python",
   "name": "python2"
  },
  "language_info": {
   "codemirror_mode": {
    "name": "ipython",
    "version": 2.0
   },
   "file_extension": ".py",
   "mimetype": "text/x-python",
   "name": "python",
   "nbconvert_exporter": "python",
   "pygments_lexer": "ipython2",
   "version": "2.7.12"
  }
 },
 "nbformat": 4,
 "nbformat_minor": 0
}